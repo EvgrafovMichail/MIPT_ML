{
 "cells": [
  {
   "cell_type": "markdown",
   "metadata": {
    "id": "Qjl6x6og3uXH"
   },
   "source": [
    "# HW 2 - Разложение матриц градиентным методом"
   ]
  },
  {
   "cell_type": "markdown",
   "metadata": {
    "id": "Sv79QFb_-oNZ"
   },
   "source": [
    "Цель задания: В ходе реализации [разложения Таккера](https://proceedings.neurips.cc/paper/2018/file/45a766fa266ea2ebeb6680fa139d2a3d-Paper.pdf) градиентным методом освоить pyTorch и реализовать подходы оптимизации параметров модели (в отсутствии готовых решений)."
   ]
  },
  {
   "cell_type": "markdown",
   "metadata": {
    "id": "1HUSrylpBwYn"
   },
   "source": [
    "[Более-менее внятное описание алгоритма канонического разложения](https://www.alexejgossmann.com/tensor_decomposition_tucker/)"
   ]
  },
  {
   "cell_type": "code",
   "execution_count": 1,
   "metadata": {
    "colab": {
     "base_uri": "https://localhost:8080/"
    },
    "id": "gwUK9XWEBaWf",
    "outputId": "4f95a5c2-453c-47ff-e6d1-ad8614e9182e",
    "scrolled": true
   },
   "outputs": [
    {
     "name": "stdout",
     "output_type": "stream",
     "text": [
      "Requirement already satisfied: tensorly in c:\\users\\michail\\miniconda3\\lib\\site-packages (0.7.0)\n",
      "Requirement already satisfied: numpy in c:\\users\\michail\\miniconda3\\lib\\site-packages (from tensorly) (1.23.1)\n",
      "Requirement already satisfied: scipy in c:\\users\\michail\\miniconda3\\lib\\site-packages (from tensorly) (1.8.1)\n",
      "Requirement already satisfied: nose in c:\\users\\michail\\miniconda3\\lib\\site-packages (from tensorly) (1.3.7)\n"
     ]
    }
   ],
   "source": [
    "!pip install tensorly"
   ]
  },
  {
   "cell_type": "code",
   "execution_count": 11,
   "metadata": {
    "id": "chH5NGkOBaWg"
   },
   "outputs": [],
   "source": [
    "from torch.optim.optimizer import Optimizer\n",
    "from tensorly.decomposition import tucker\n",
    "import matplotlib.pyplot as plt\n",
    "from torch.nn import MSELoss\n",
    "from torch.optim import SGD\n",
    "from tqdm import tqdm\n",
    "import numpy as np\n",
    "import tensorly\n",
    "import torch\n",
    "import time"
   ]
  },
  {
   "cell_type": "markdown",
   "metadata": {
    "id": "XVnEqyV-j_Br"
   },
   "source": [
    "## 0. Перепишем функции fold() и unfold() из tensorly под torch."
   ]
  },
  {
   "cell_type": "code",
   "execution_count": 12,
   "metadata": {
    "id": "ZLD5QaATkPGQ"
   },
   "outputs": [],
   "source": [
    "def reorder(indices, mode):\n",
    "  \n",
    "    indices = list(indices)\n",
    "    element = indices.pop(mode)\n",
    "    return ([element] + indices[::-1])"
   ]
  },
  {
   "cell_type": "code",
   "execution_count": 13,
   "metadata": {
    "id": "SRsQbX7rkWPH"
   },
   "outputs": [],
   "source": [
    "def unfold(tensor, mode=0):\n",
    "\n",
    "    return tensor.permute(reorder(range(tensor.ndim), mode)).reshape((tensor.shape[mode], -1))"
   ]
  },
  {
   "cell_type": "code",
   "execution_count": 14,
   "metadata": {
    "id": "11ehM7yfkWvO"
   },
   "outputs": [],
   "source": [
    "def fold(unfolded, mode, shape):\n",
    "\n",
    "    unfolded_indices = reorder(range(len(shape)), mode)\n",
    "    original_shape = [shape[i] for i in unfolded_indices]\n",
    "    unfolded = unfolded.reshape(original_shape)\n",
    "\n",
    "    folded_indices = list(range(len(shape)-1, 0, -1))\n",
    "    folded_indices.insert(mode, 0)\n",
    "    return unfolded.permute(folded_indices)"
   ]
  },
  {
   "cell_type": "markdown",
   "metadata": {
    "id": "Gru3DPqEBaWg"
   },
   "source": [
    "## 1. Метод для восстановления тензора по разложению."
   ]
  },
  {
   "cell_type": "code",
   "execution_count": 15,
   "metadata": {
    "id": "37a0ZT5kBaWh"
   },
   "outputs": [],
   "source": [
    "def repair_tensor(core, factors):\n",
    "\n",
    "    core_unfold = unfold(core, 0)\n",
    "    kron_prod = factors[1]\n",
    "    \n",
    "    for factor in factors[2:]:\n",
    "        kron_prod = torch.kron(factor, kron_prod)    \n",
    "    \n",
    "    data_shape = [factor.shape[0] for factor in factors]\n",
    "    auxiliary = torch.matmul(core_unfold, torch.t(kron_prod))\n",
    "    data_unfold = torch.matmul(factors[0], auxiliary)\n",
    "    \n",
    "    return fold(data_unfold, 0, data_shape)"
   ]
  },
  {
   "cell_type": "markdown",
   "metadata": {
    "id": "rlb-DuGQBaWh"
   },
   "source": [
    "## 2. Создание трёхмерного мерного тензора."
   ]
  },
  {
   "cell_type": "code",
   "execution_count": 16,
   "metadata": {
    "id": "5SzHzteOROQQ"
   },
   "outputs": [],
   "source": [
    "def get_tensor(size=(100,200,150), r=10):\n",
    "    \n",
    "    if type(r) == int:\n",
    "        r = (r for i in len(size))\n",
    "    \n",
    "    elif type(r) == tuple or type(r) == list:\n",
    "        pass\n",
    "    \n",
    "    else:\n",
    "        raise RuntimeError(f\"unexpected core's rang type: {type(r)};\")\n",
    "        \n",
    "    core = torch.randint(low=0, high=10, size=r, dtype=torch.double)\n",
    "    \n",
    "    factors = []\n",
    "    \n",
    "    for i in range(len(size)):\n",
    "        \n",
    "        size_factor = (size[i], r[i])\n",
    "        factor = torch.randint(low=0, high=2, size=size_factor, \n",
    "                               dtype=torch.double)\n",
    "        \n",
    "        factors.append(factor)\n",
    "        \n",
    "    factors = np.array(factors)\n",
    "    data = repair_tensor(core, factors)\n",
    "  \n",
    "    return data, factors, core"
   ]
  },
  {
   "cell_type": "markdown",
   "metadata": {
    "id": "EFuFlp2n78Tz"
   },
   "source": [
    "Сгенерируйте тензор и добавьте к нему случайный шум с размерностью *1e-2*"
   ]
  },
  {
   "cell_type": "code",
   "execution_count": 17,
   "metadata": {
    "colab": {
     "base_uri": "https://localhost:8080/"
    },
    "id": "FnUbbsYSdrsw",
    "outputId": "4d252686-3d86-427a-a0a0-2e9bd60b736f"
   },
   "outputs": [
    {
     "name": "stderr",
     "output_type": "stream",
     "text": [
      "C:\\Users\\Michail\\AppData\\Local\\Temp\\ipykernel_17996\\3928706542.py:24: FutureWarning: The input object of type 'Tensor' is an array-like implementing one of the corresponding protocols (`__array__`, `__array_interface__` or `__array_struct__`); but not a sequence (or 0-D). In the future, this object will be coerced as if it was first converted using `np.array(obj)`. To retain the old behaviour, you have to either modify the type 'Tensor', or assign to an empty array created with `np.empty(correct_shape, dtype=object)`.\n",
      "  factors = np.array(factors)\n",
      "C:\\Users\\Michail\\AppData\\Local\\Temp\\ipykernel_17996\\3928706542.py:24: VisibleDeprecationWarning: Creating an ndarray from ragged nested sequences (which is a list-or-tuple of lists-or-tuples-or ndarrays with different lengths or shapes) is deprecated. If you meant to do this, you must specify 'dtype=object' when creating the ndarray.\n",
      "  factors = np.array(factors)\n"
     ]
    },
    {
     "data": {
      "text/plain": [
       "(torch.Size([100, 200, 150]),\n",
       " [torch.Size([100, 10]), torch.Size([200, 20]), torch.Size([150, 30])],\n",
       " torch.Size([10, 20, 30]))"
      ]
     },
     "execution_count": 17,
     "metadata": {},
     "output_type": "execute_result"
    }
   ],
   "source": [
    "data, U, G = get_tensor(r=(10, 20, 30))\n",
    "data.shape, [u.shape for u in U], G.shape"
   ]
  },
  {
   "cell_type": "markdown",
   "metadata": {
    "id": "MKqzxtaE-F16"
   },
   "source": [
    "## 3. Разложение библиотечным методом."
   ]
  },
  {
   "cell_type": "code",
   "execution_count": null,
   "metadata": {
    "id": "Hlp4Jh3--fKh"
   },
   "outputs": [],
   "source": [
    "core, factors = tucker(data.numpy(), (10, 20, 30))"
   ]
  },
  {
   "cell_type": "code",
   "execution_count": null,
   "metadata": {
    "colab": {
     "base_uri": "https://localhost:8080/"
    },
    "id": "X-CvZB3lCFRn",
    "outputId": "a12193d2-9c3d-40f6-ed5e-fe9704e83c71"
   },
   "outputs": [],
   "source": [
    "print(f'MSE for core: {np.mean((core - G.numpy()) ** 2)};')"
   ]
  },
  {
   "cell_type": "code",
   "execution_count": null,
   "metadata": {
    "colab": {
     "base_uri": "https://localhost:8080/"
    },
    "id": "jgWj2U1rD21d",
    "outputId": "e64d2634-13b6-465a-e5ac-3bf2693009b1"
   },
   "outputs": [],
   "source": [
    "mse_fact = np.array([np.mean((factors[i] - U[i].numpy()) ** 2) for i in range(len(factors))])\n",
    "\n",
    "print(f'MSE for factors: {mse_fact}')"
   ]
  },
  {
   "cell_type": "markdown",
   "metadata": {
    "id": "aBst6XncSchR"
   },
   "source": [
    "## 4. Разложение градиентным методом. "
   ]
  },
  {
   "cell_type": "code",
   "execution_count": 18,
   "metadata": {
    "id": "CTskEUwFq3tU"
   },
   "outputs": [],
   "source": [
    "class DummieOptimizer(Optimizer):\n",
    "\n",
    "    def __init__(self, params, lr=1e-5):\n",
    "        \n",
    "        defaults = dict(lr=lr)\n",
    "        super(DummieOptimizer, self).__init__(params, defaults)\n",
    "\n",
    "    def step(self, closure=None):\n",
    "        \n",
    "        for group in self.param_groups:\n",
    "            for param in group['params']:\n",
    "                \n",
    "                if param.grad is None:\n",
    "                    continue\n",
    "                \n",
    "                param.data -= group['lr'] * param.grad.data"
   ]
  },
  {
   "cell_type": "code",
   "execution_count": 19,
   "metadata": {
    "id": "UTVn9QWuVg-e"
   },
   "outputs": [],
   "source": [
    "def perform_gradient_decomposition(data, core_size, data_size, optimizer='sgd'):\n",
    "\n",
    "    device = 'cuda' if torch.cuda.is_available() else 'cpu'\n",
    "\n",
    "    core = torch.randint(low=0, high=2, size=core_size, dtype=torch.double,\n",
    "                         requires_grad=True, device=device)\n",
    "\n",
    "    factors = [torch.randint(low=0, high=2, size=(data_size[i], core_size[i]), \n",
    "                             dtype=torch.double, requires_grad=True, device=device)\n",
    "               for i in range(len(data_size))]\n",
    "  \n",
    "    iter_amount, criterion = int(1e3), 1e-4\n",
    "    losses, mse_loss = [], MSELoss()\n",
    "\n",
    "    opt = SGD([core] + factors, lr=1e-5)\n",
    "\n",
    "    if optimizer == 'dummie':\n",
    "        opt = DummieOptimizer([core] + factors, lr=1e-5)\n",
    "\n",
    "    for i in tqdm(range(iter_amount)):\n",
    "\n",
    "        opt.zero_grad()\n",
    "\n",
    "        loss = mse_loss(repair_tensor(core, factors), data)\n",
    "        losses.append(loss.item())\n",
    "\n",
    "        if losses[-1] < criterion:\n",
    "            break\n",
    "\n",
    "        loss.backward()\n",
    "        opt.step()\n",
    "\n",
    "    return core, factors, losses"
   ]
  },
  {
   "cell_type": "code",
   "execution_count": 20,
   "metadata": {
    "colab": {
     "base_uri": "https://localhost:8080/"
    },
    "id": "Qk6p-O--qDoq",
    "outputId": "200d54a6-e385-4159-dde6-c470aac20178"
   },
   "outputs": [
    {
     "name": "stderr",
     "output_type": "stream",
     "text": [
      " 60%|███████████████████████████████████████████████                                | 596/1000 [02:37<01:46,  3.79it/s]\n"
     ]
    },
    {
     "ename": "KeyboardInterrupt",
     "evalue": "",
     "output_type": "error",
     "traceback": [
      "\u001b[1;31m---------------------------------------------------------------------------\u001b[0m",
      "\u001b[1;31mKeyboardInterrupt\u001b[0m                         Traceback (most recent call last)",
      "Input \u001b[1;32mIn [20]\u001b[0m, in \u001b[0;36m<cell line: 8>\u001b[1;34m()\u001b[0m\n\u001b[0;32m      4\u001b[0m device \u001b[38;5;241m=\u001b[39m \u001b[38;5;124m'\u001b[39m\u001b[38;5;124mcuda\u001b[39m\u001b[38;5;124m'\u001b[39m \u001b[38;5;28;01mif\u001b[39;00m torch\u001b[38;5;241m.\u001b[39mcuda\u001b[38;5;241m.\u001b[39mis_available() \u001b[38;5;28;01melse\u001b[39;00m \u001b[38;5;124m'\u001b[39m\u001b[38;5;124mcpu\u001b[39m\u001b[38;5;124m'\u001b[39m\n\u001b[0;32m      5\u001b[0m data \u001b[38;5;241m=\u001b[39m torch\u001b[38;5;241m.\u001b[39mrandint(low\u001b[38;5;241m=\u001b[39m\u001b[38;5;241m0\u001b[39m, high\u001b[38;5;241m=\u001b[39m\u001b[38;5;241m10\u001b[39m, size\u001b[38;5;241m=\u001b[39mdata_size, dtype\u001b[38;5;241m=\u001b[39mtorch\u001b[38;5;241m.\u001b[39mdouble,\n\u001b[0;32m      6\u001b[0m                      device\u001b[38;5;241m=\u001b[39mdevice)\n\u001b[1;32m----> 8\u001b[0m core_sgd, factors_sgd, loss_sgd \u001b[38;5;241m=\u001b[39m \u001b[43mperform_gradient_decomposition\u001b[49m\u001b[43m(\u001b[49m\u001b[43mdata\u001b[49m\u001b[43m,\u001b[49m\u001b[43m \u001b[49m\u001b[43mcore_size\u001b[49m\u001b[43m,\u001b[49m\u001b[43m \u001b[49m\n\u001b[0;32m      9\u001b[0m \u001b[43m                                                                 \u001b[49m\u001b[43mdata_size\u001b[49m\u001b[43m,\u001b[49m\u001b[43m \u001b[49m\u001b[38;5;124;43m'\u001b[39;49m\u001b[38;5;124;43msgd\u001b[39;49m\u001b[38;5;124;43m'\u001b[39;49m\u001b[43m)\u001b[49m\n\u001b[0;32m     10\u001b[0m core_dum, factors_dum, loss_dum \u001b[38;5;241m=\u001b[39m perform_gradient_decomposition(data, core_size, \n\u001b[0;32m     11\u001b[0m                                                                  data_size, \u001b[38;5;124m'\u001b[39m\u001b[38;5;124mdummie\u001b[39m\u001b[38;5;124m'\u001b[39m)\n",
      "Input \u001b[1;32mIn [19]\u001b[0m, in \u001b[0;36mperform_gradient_decomposition\u001b[1;34m(data, core_size, data_size, optimizer)\u001b[0m\n\u001b[0;32m     27\u001b[0m     \u001b[38;5;28;01mif\u001b[39;00m losses[\u001b[38;5;241m-\u001b[39m\u001b[38;5;241m1\u001b[39m] \u001b[38;5;241m<\u001b[39m criterion:\n\u001b[0;32m     28\u001b[0m         \u001b[38;5;28;01mbreak\u001b[39;00m\n\u001b[1;32m---> 30\u001b[0m     \u001b[43mloss\u001b[49m\u001b[38;5;241;43m.\u001b[39;49m\u001b[43mbackward\u001b[49m\u001b[43m(\u001b[49m\u001b[43m)\u001b[49m\n\u001b[0;32m     31\u001b[0m     opt\u001b[38;5;241m.\u001b[39mstep()\n\u001b[0;32m     33\u001b[0m \u001b[38;5;28;01mreturn\u001b[39;00m core, factors, losses\n",
      "File \u001b[1;32m~\\miniconda3\\lib\\site-packages\\torch\\_tensor.py:396\u001b[0m, in \u001b[0;36mTensor.backward\u001b[1;34m(self, gradient, retain_graph, create_graph, inputs)\u001b[0m\n\u001b[0;32m    387\u001b[0m \u001b[38;5;28;01mif\u001b[39;00m has_torch_function_unary(\u001b[38;5;28mself\u001b[39m):\n\u001b[0;32m    388\u001b[0m     \u001b[38;5;28;01mreturn\u001b[39;00m handle_torch_function(\n\u001b[0;32m    389\u001b[0m         Tensor\u001b[38;5;241m.\u001b[39mbackward,\n\u001b[0;32m    390\u001b[0m         (\u001b[38;5;28mself\u001b[39m,),\n\u001b[1;32m   (...)\u001b[0m\n\u001b[0;32m    394\u001b[0m         create_graph\u001b[38;5;241m=\u001b[39mcreate_graph,\n\u001b[0;32m    395\u001b[0m         inputs\u001b[38;5;241m=\u001b[39minputs)\n\u001b[1;32m--> 396\u001b[0m \u001b[43mtorch\u001b[49m\u001b[38;5;241;43m.\u001b[39;49m\u001b[43mautograd\u001b[49m\u001b[38;5;241;43m.\u001b[39;49m\u001b[43mbackward\u001b[49m\u001b[43m(\u001b[49m\u001b[38;5;28;43mself\u001b[39;49m\u001b[43m,\u001b[49m\u001b[43m \u001b[49m\u001b[43mgradient\u001b[49m\u001b[43m,\u001b[49m\u001b[43m \u001b[49m\u001b[43mretain_graph\u001b[49m\u001b[43m,\u001b[49m\u001b[43m \u001b[49m\u001b[43mcreate_graph\u001b[49m\u001b[43m,\u001b[49m\u001b[43m \u001b[49m\u001b[43minputs\u001b[49m\u001b[38;5;241;43m=\u001b[39;49m\u001b[43minputs\u001b[49m\u001b[43m)\u001b[49m\n",
      "File \u001b[1;32m~\\miniconda3\\lib\\site-packages\\torch\\autograd\\__init__.py:173\u001b[0m, in \u001b[0;36mbackward\u001b[1;34m(tensors, grad_tensors, retain_graph, create_graph, grad_variables, inputs)\u001b[0m\n\u001b[0;32m    168\u001b[0m     retain_graph \u001b[38;5;241m=\u001b[39m create_graph\n\u001b[0;32m    170\u001b[0m \u001b[38;5;66;03m# The reason we repeat same the comment below is that\u001b[39;00m\n\u001b[0;32m    171\u001b[0m \u001b[38;5;66;03m# some Python versions print out the first line of a multi-line function\u001b[39;00m\n\u001b[0;32m    172\u001b[0m \u001b[38;5;66;03m# calls in the traceback and some print out the last line\u001b[39;00m\n\u001b[1;32m--> 173\u001b[0m \u001b[43mVariable\u001b[49m\u001b[38;5;241;43m.\u001b[39;49m\u001b[43m_execution_engine\u001b[49m\u001b[38;5;241;43m.\u001b[39;49m\u001b[43mrun_backward\u001b[49m\u001b[43m(\u001b[49m\u001b[43m  \u001b[49m\u001b[38;5;66;43;03m# Calls into the C++ engine to run the backward pass\u001b[39;49;00m\n\u001b[0;32m    174\u001b[0m \u001b[43m    \u001b[49m\u001b[43mtensors\u001b[49m\u001b[43m,\u001b[49m\u001b[43m \u001b[49m\u001b[43mgrad_tensors_\u001b[49m\u001b[43m,\u001b[49m\u001b[43m \u001b[49m\u001b[43mretain_graph\u001b[49m\u001b[43m,\u001b[49m\u001b[43m \u001b[49m\u001b[43mcreate_graph\u001b[49m\u001b[43m,\u001b[49m\u001b[43m \u001b[49m\u001b[43minputs\u001b[49m\u001b[43m,\u001b[49m\n\u001b[0;32m    175\u001b[0m \u001b[43m    \u001b[49m\u001b[43mallow_unreachable\u001b[49m\u001b[38;5;241;43m=\u001b[39;49m\u001b[38;5;28;43;01mTrue\u001b[39;49;00m\u001b[43m,\u001b[49m\u001b[43m \u001b[49m\u001b[43maccumulate_grad\u001b[49m\u001b[38;5;241;43m=\u001b[39;49m\u001b[38;5;28;43;01mTrue\u001b[39;49;00m\u001b[43m)\u001b[49m\n",
      "\u001b[1;31mKeyboardInterrupt\u001b[0m: "
     ]
    }
   ],
   "source": [
    "core_size = (10, 20, 30)\n",
    "data_size = (100, 200, 150)\n",
    "\n",
    "device = 'cuda' if torch.cuda.is_available() else 'cpu'\n",
    "data = torch.randint(low=0, high=10, size=data_size, dtype=torch.double,\n",
    "                     device=device)\n",
    "\n",
    "core_sgd, factors_sgd, loss_sgd = perform_gradient_decomposition(data, core_size, \n",
    "                                                                 data_size, 'sgd')\n",
    "core_dum, factors_dum, loss_dum = perform_gradient_decomposition(data, core_size, \n",
    "                                                                 data_size, 'dummie')"
   ]
  },
  {
   "cell_type": "code",
   "execution_count": 106,
   "metadata": {
    "colab": {
     "base_uri": "https://localhost:8080/",
     "height": 281
    },
    "id": "gKwbMrIxtQRj",
    "outputId": "dc8b901c-7ff4-4e03-b96c-00513195ac38"
   },
   "outputs": [
    {
     "data": {
      "image/png": "[encoded data removed]",
      "text/plain": [
       "<Figure size 864x288 with 2 Axes>"
      ]
     },
     "metadata": {
      "needs_background": "light"
     },
     "output_type": "display_data"
    }
   ],
   "source": [
    "fig, (ax1, ax2) = plt.subplots(1, 2, figsize=(12, 4))\n",
    "\n",
    "ax1.set_title('SGD optimizer')\n",
    "ax2.set_title('Dummie Optimizer')\n",
    "\n",
    "ax1.plot(loss_sgd, c='b')\n",
    "ax2.plot(loss_dum, c='b')\n",
    "\n",
    "ax1.grid()\n",
    "ax2.grid()\n",
    "\n",
    "plt.show()"
   ]
  },
  {
   "cell_type": "markdown",
   "metadata": {
    "id": "fxacXS2QxdtZ"
   },
   "source": [
    "## 5. Сравнения."
   ]
  },
  {
   "cell_type": "code",
   "execution_count": 107,
   "metadata": {
    "colab": {
     "base_uri": "https://localhost:8080/"
    },
    "id": "9-6UdtQDtw2D",
    "outputId": "3eb59006-3803-4dc9-bd7d-6227162fc6ad"
   },
   "outputs": [
    {
     "name": "stdout",
     "output_type": "stream",
     "text": [
      "SGD loss: 60.535413239643496;\n",
      "Dummie loss: 61.96952379542741;\n"
     ]
    }
   ],
   "source": [
    "print(f'SGD loss: {loss_sgd[-1]};', \n",
    "      f'Dummie loss: {loss_dum[-1]};',\n",
    "      sep='\\n')"
   ]
  },
  {
   "cell_type": "code",
   "execution_count": 108,
   "metadata": {
    "colab": {
     "base_uri": "https://localhost:8080/"
    },
    "id": "cVorS9FAunCr",
    "outputId": "664000e4-8b86-4f0d-e143-36450b721474"
   },
   "outputs": [
    {
     "name": "stdout",
     "output_type": "stream",
     "text": [
      "SGD error: 60.52988532259447;\n",
      "Dummie error: 61.96295862729082;\n"
     ]
    }
   ],
   "source": [
    "data_sgd = repair_tensor(core_sgd, factors_sgd)\n",
    "data_dum = repair_tensor(core_dum, factors_dum)\n",
    "\n",
    "print(f'SGD error: {torch.mean((data - data_sgd) ** 2)};')\n",
    "print(f'Dummie error: {torch.mean((data - data_dum) ** 2)};')"
   ]
  },
  {
   "cell_type": "code",
   "execution_count": null,
   "metadata": {
    "colab": {
     "base_uri": "https://localhost:8080/"
    },
    "id": "KoyYhqi5wwru",
    "outputId": "bbd6359c-8591-49f2-beea-b55c0c311cb4"
   },
   "outputs": [
    {
     "name": "stderr",
     "output_type": "stream",
     "text": [
      "100%|██████████| 1000/1000 [00:32<00:00, 30.84it/s]\n",
      "100%|██████████| 1000/1000 [00:32<00:00, 30.54it/s]\n",
      "100%|██████████| 1000/1000 [00:32<00:00, 30.93it/s]\n",
      "100%|██████████| 1000/1000 [00:32<00:00, 30.86it/s]\n",
      " 21%|██        | 208/1000 [00:06<00:25, 30.84it/s]"
     ]
    }
   ],
   "source": [
    "time_sgd = []\n",
    "time_dum = []\n",
    "\n",
    "for i in range(10):\n",
    "\n",
    "    core_size = (10, 20, 30)\n",
    "    data_size = (100, 200, 150)\n",
    "\n",
    "    device = 'cuda' if torch.cuda.is_available() else 'cpu'\n",
    "    data = torch.randint(low=0, high=10, size=data_size, dtype=torch.double,\n",
    "                         device=device)\n",
    "\n",
    "    t = time.time()\n",
    "    _, _, loss_sgd = perform_gradient_decomposition(data, core_size, \n",
    "                                                    data_size, 'sgd')\n",
    "    time_sgd.append(time.time() - t)\n",
    "\n",
    "    t = time.time()\n",
    "    _, _, loss_dum = perform_gradient_decomposition(data, core_size, \n",
    "                                                    data_size, 'dummie')\n",
    "    time_dum.append(time.time() - t)\n",
    "    \n",
    "print(f'Time SGD: {sum(time_sgd) / len(time_sgd)}')\n",
    "print(f'Time SGD: {sum(time_dum) / len(time_dum)}')"
   ]
  },
  {
   "cell_type": "code",
   "execution_count": null,
   "metadata": {
    "id": "j9T_O0AAyO9C"
   },
   "outputs": [],
   "source": []
  }
 ],
 "metadata": {
  "accelerator": "GPU",
  "colab": {
   "collapsed_sections": [],
   "provenance": []
  },
  "kernelspec": {
   "display_name": "Python 3 (ipykernel)",
   "language": "python",
   "name": "python3"
  },
  "language_info": {
   "codemirror_mode": {
    "name": "ipython",
    "version": 3
   },
   "file_extension": ".py",
   "mimetype": "text/x-python",
   "name": "python",
   "nbconvert_exporter": "python",
   "pygments_lexer": "ipython3",
   "version": "3.9.12"
  }
 },
 "nbformat": 4,
 "nbformat_minor": 1
}
