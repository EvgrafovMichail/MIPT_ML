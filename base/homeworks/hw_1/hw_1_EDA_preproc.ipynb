{
  "cells": [
    {
      "cell_type": "markdown",
      "metadata": {
        "id": "AGf_xvZiT0Ww"
      },
      "source": [
        "# Домашнее задание № 1\n",
        "\n",
        "Вам необходимо провести анализ и подготовить данные."
      ]
    },
    {
      "cell_type": "markdown",
      "metadata": {
        "_cell_guid": "d2034be1-8579-d4b9-9b18-b7bf2c6fc651",
        "id": "rWc3WRD0TtVq"
      },
      "source": [
        "# Исходные данные\n",
        "\n",
        "Ознакомьтесь с данными в [источнике](https://www.kaggle.com/uciml/student-alcohol-consumption?select=student-por.csv):\n",
        "\n",
        "Если вкратце, то у вас есть 29 параметров и одна целевая переменная G3."
      ]
    },
    {
      "cell_type": "code",
      "execution_count": null,
      "metadata": {
        "_cell_guid": "87372d85-e9ac-b3b3-c25d-33dfb357ccd8",
        "id": "pQ5OrqpATtVl"
      },
      "outputs": [],
      "source": [
        "import pandas as pd"
      ]
    },
    {
      "cell_type": "code",
      "execution_count": null,
      "metadata": {
        "id": "cE9FdACVcBHd"
      },
      "outputs": [],
      "source": [
        "# Читаем данные\n",
        "\n",
        "X_train = pd.read_csv('train_features_with_answers.csv')"
      ]
    },
    {
      "cell_type": "code",
      "execution_count": null,
      "metadata": {
        "id": "i1j9Yn9Jhz-S"
      },
      "outputs": [],
      "source": [
        "# Про характеристики прочитайте в источнике\n",
        "\n",
        "X_train.head(5)"
      ]
    },
    {
      "cell_type": "markdown",
      "metadata": {
        "_cell_guid": "daf6f291-b7aa-d184-39f8-6278cc04f0ee",
        "id": "fxkflheLTtVv"
      },
      "source": [
        "# Часть 1. Визуальный анализ данных (Exploratory Data Analysis)\n",
        "\n",
        "Перед тем, как приступать к построению алгоритмов, необходимо понять данные, с которыми требуется работать. Для этого в подходах к построению алгоритмов машинного обучения выделят специальный этап - Разведочный анализ данных или Exploratory Data Analysis (EDA). EDA в себя включает все те, что касается описания данных: визуализацию, интерпретацию и анализ. \n",
        "\n",
        "Прежде всего сделаем визуализацию данных для того, чтобы оценить диапазоны значений и виды их распределений.\n",
        "\n",
        "Постройте для приведенных ниже характеристик следующие виды графиков:\n",
        "- Гистограммы;\n",
        "- Круговые диаграмм;\n",
        "- Графики;\n",
        "- Таблицы;\n",
        "- 3D диаграммы.\n",
        "\n",
        "Выберите наиболее подходящий тип графика для каждой характеристки. \n",
        "\n",
        "__Основной критерий оценивания__ - читаемость и интерпретируемость данных."
      ]
    },
    {
      "cell_type": "markdown",
      "metadata": {
        "id": "FA0btFcmmpAG"
      },
      "source": [
        "## Характеристика: \"Sex\""
      ]
    },
    {
      "cell_type": "code",
      "execution_count": null,
      "metadata": {
        "_cell_guid": "74f8d40e-415f-9e29-03ca-aa1e75714c11",
        "id": "QElGbkh1TtVw"
      },
      "outputs": [],
      "source": []
    },
    {
      "cell_type": "markdown",
      "metadata": {
        "_cell_guid": "fe453992-94f6-ae3b-b1fd-63027e71729f",
        "id": "eOkuFjVRTtVy"
      },
      "source": [
        "## Характеристика: \"Age\""
      ]
    },
    {
      "cell_type": "code",
      "execution_count": null,
      "metadata": {
        "_cell_guid": "1051bfb6-f29e-0c40-1666-c97827578ad3",
        "id": "i9a_yujdTtVy"
      },
      "outputs": [],
      "source": []
    },
    {
      "cell_type": "markdown",
      "metadata": {
        "_cell_guid": "7febeef3-e6b0-a18a-5705-7ee3876c1965",
        "id": "vgfL_e8lTtV0"
      },
      "source": [
        "## Характеристика: \"Weekly study time\""
      ]
    },
    {
      "cell_type": "code",
      "execution_count": null,
      "metadata": {
        "_cell_guid": "12f1d266-9efa-4bd9-a3c1-48ea880080be",
        "id": "e3UTlpoMTtV1"
      },
      "outputs": [],
      "source": []
    },
    {
      "cell_type": "markdown",
      "metadata": {
        "_cell_guid": "a0732dfe-165e-3c44-319c-bb7bf890fe9b",
        "id": "QmcAzPipTtV3"
      },
      "source": [
        "## Характеристика: \"Romantic Relationship\""
      ]
    },
    {
      "cell_type": "code",
      "execution_count": null,
      "metadata": {
        "_cell_guid": "048c1de0-e55c-6e2f-09db-1263e9fbac76",
        "id": "yICND3ynTtV3"
      },
      "outputs": [],
      "source": []
    },
    {
      "cell_type": "markdown",
      "metadata": {
        "_cell_guid": "21ae96ef-7925-4a81-1f1d-54d4ed018ec3",
        "id": "cJTillXMTtV5"
      },
      "source": [
        "## Характеристика: \"Alcohol Consumption\""
      ]
    },
    {
      "cell_type": "code",
      "execution_count": null,
      "metadata": {
        "id": "e4KynL-GnIrc"
      },
      "outputs": [],
      "source": []
    },
    {
      "cell_type": "markdown",
      "metadata": {
        "_cell_guid": "21ae96ef-7925-4a81-1f1d-54d4ed018ec3",
        "id": "JL7MDeVBnDBw"
      },
      "source": [
        "## Целевая зависимость: \"G3\" (Final Grade)"
      ]
    },
    {
      "cell_type": "code",
      "execution_count": null,
      "metadata": {
        "id": "Fshy5JYdTgyr"
      },
      "outputs": [],
      "source": []
    },
    {
      "cell_type": "markdown",
      "metadata": {
        "id": "HyR-ETD6Tgys"
      },
      "source": [
        "## Прочие характеристики\n",
        "\n",
        "Прочитайте описание данных на [сайте](https://www.kaggle.com/uciml/student-alcohol-consumption) и подумайте, какие еще характеристики было бы полезно проанализировать. Постройте соответсвующие графики для выбранных характеристик.\n",
        "\n",
        "Постройте графики еще для минимум 4 характеристик: числовая (2) и категориальная (2), применив хотя бы один раз:\n",
        "- pieplot\n",
        "- boxplot\n",
        "- violinplot"
      ]
    },
    {
      "cell_type": "code",
      "execution_count": null,
      "metadata": {
        "id": "zYBWdQKjnDB1"
      },
      "outputs": [],
      "source": []
    },
    {
      "cell_type": "markdown",
      "metadata": {
        "_cell_guid": "21ae96ef-7925-4a81-1f1d-54d4ed018ec3",
        "id": "dDiTs21MnRYu"
      },
      "source": [
        "## Корреляция признаков\n",
        "\n",
        "Для того, чтобы быстро получить оценку о взаимосвязи признаков целесообразно построить матрицу их корреляции. Постройте матрицу корреляции."
      ]
    },
    {
      "cell_type": "code",
      "execution_count": null,
      "metadata": {
        "id": "KagTTs4mnRYv"
      },
      "outputs": [],
      "source": []
    },
    {
      "cell_type": "markdown",
      "metadata": {
        "id": "Uamr3aOOSVo4"
      },
      "source": [
        "## Посчитайте корреляцию Спирмана и нарисуйте ее в виде тепловой карты"
      ]
    },
    {
      "cell_type": "code",
      "execution_count": null,
      "metadata": {
        "id": "OA7BA80QSVo5"
      },
      "outputs": [],
      "source": []
    },
    {
      "cell_type": "markdown",
      "metadata": {
        "_cell_guid": "21ae96ef-7925-4a81-1f1d-54d4ed018ec3",
        "id": "HU8fL_6GtGWV"
      },
      "source": [
        "## Диапазон значений характеристик\n",
        "\n",
        "Посчитайте число уникальных значений для каждого признака и сравните их между собой."
      ]
    },
    {
      "cell_type": "code",
      "execution_count": null,
      "metadata": {
        "id": "MnBcttm5tGWW"
      },
      "outputs": [],
      "source": []
    },
    {
      "cell_type": "code",
      "execution_count": null,
      "metadata": {
        "id": "UbcS5K4kUI7L"
      },
      "outputs": [],
      "source": []
    },
    {
      "cell_type": "markdown",
      "metadata": {
        "id": "p_mf61fgSVo5"
      },
      "source": [
        "## Найдите соотношение мужского и женского пола для самых выскоих оценок (G3) из датасета, у которых время на дорогу больше, чем 30 минут. Нарисуйте это соотношение на круговой диаграмме"
      ]
    },
    {
      "cell_type": "code",
      "execution_count": null,
      "metadata": {
        "id": "Q_GM66scSVo5"
      },
      "outputs": [],
      "source": []
    },
    {
      "cell_type": "markdown",
      "metadata": {
        "id": "hw0rZvP0SVo5"
      },
      "source": [
        "## Построить boxplot для оценок по возрасту.  "
      ]
    },
    {
      "cell_type": "code",
      "execution_count": null,
      "metadata": {
        "id": "2auancXdSVo5"
      },
      "outputs": [],
      "source": []
    },
    {
      "cell_type": "markdown",
      "metadata": {
        "id": "wCL9MGy8SVo5"
      },
      "source": [
        "## Найти id топ-5 самых юных отличников. "
      ]
    },
    {
      "cell_type": "code",
      "execution_count": null,
      "metadata": {
        "id": "TkhnGJ1iSVo5"
      },
      "outputs": [],
      "source": []
    },
    {
      "cell_type": "markdown",
      "metadata": {
        "id": "9UPBcWBUSVo6"
      },
      "source": [
        "## Для каждого возраста найдите максимальную и минимальную оценку (G3)"
      ]
    },
    {
      "cell_type": "code",
      "execution_count": null,
      "metadata": {
        "id": "FIJ5B35ySVo6"
      },
      "outputs": [],
      "source": []
    },
    {
      "cell_type": "markdown",
      "metadata": {
        "_cell_guid": "0e9fb698-c819-074d-26ee-7a6afe00ad62",
        "id": "ZnrLrANOTtWC"
      },
      "source": [
        "# Часть 2. Предобработка данных\n",
        "\n",
        "Теперь перейдем к подготовке данных для моделей машинного обучения. Не все из описанного ниже нужно делать. Подумайте."
      ]
    },
    {
      "cell_type": "code",
      "execution_count": null,
      "metadata": {
        "id": "q6-p0CoXeYeH"
      },
      "outputs": [],
      "source": []
    },
    {
      "cell_type": "markdown",
      "metadata": {
        "_cell_guid": "21ae96ef-7925-4a81-1f1d-54d4ed018ec3",
        "id": "lY0qoZnQ90NO"
      },
      "source": [
        "## Найдите и исправьте ошибки в данных"
      ]
    },
    {
      "cell_type": "code",
      "execution_count": null,
      "metadata": {
        "id": "Xt4J1g5l90NP"
      },
      "outputs": [],
      "source": []
    },
    {
      "cell_type": "markdown",
      "metadata": {
        "_cell_guid": "21ae96ef-7925-4a81-1f1d-54d4ed018ec3",
        "id": "JCVXK7Wsnuf0"
      },
      "source": [
        "## Удалите скоррелированные данные"
      ]
    },
    {
      "cell_type": "code",
      "execution_count": null,
      "metadata": {
        "id": "KJAfBn9znuf1"
      },
      "outputs": [],
      "source": []
    },
    {
      "cell_type": "markdown",
      "metadata": {
        "id": "qF81qsInnuf4"
      },
      "source": [
        "## Заполните пропуски в данных\n",
        "\n",
        "Заполнить пропуски в данных можно одним из следующи способов или разными для разных признаков:\n",
        "- Заполнить нулями\n",
        "- Выбросить данные с нулями (не рекомендуется)\n",
        "- Заполнить средним для данного параметра\n",
        "- Заполнить наиболее соответствующим данному прецеденту (рекомендуется)"
      ]
    },
    {
      "cell_type": "code",
      "execution_count": null,
      "metadata": {
        "id": "yaCEkU9anuf4"
      },
      "outputs": [],
      "source": []
    },
    {
      "cell_type": "markdown",
      "metadata": {
        "_cell_guid": "21ae96ef-7925-4a81-1f1d-54d4ed018ec3",
        "id": "_p3_0Is6nuf6"
      },
      "source": [
        "## Закодируйте категориальные признаки"
      ]
    },
    {
      "cell_type": "code",
      "execution_count": null,
      "metadata": {
        "id": "TTzs_qcqnuf6"
      },
      "outputs": [],
      "source": []
    },
    {
      "cell_type": "markdown",
      "metadata": {
        "_cell_guid": "21ae96ef-7925-4a81-1f1d-54d4ed018ec3",
        "id": "TQGQtLdynuf8"
      },
      "source": [
        "## Придумайте сложные признаки\n",
        "\n",
        "Сложные признаки - это комбинации существующих (линейных или нелинейных).\n",
        "Это нужно для того, чтобы самостоятельно добавить нелинейность в алгоритм.\n",
        "\n",
        "Приведите не менее двух признаков."
      ]
    },
    {
      "cell_type": "code",
      "execution_count": null,
      "metadata": {
        "id": "JttEVehTeYeI"
      },
      "outputs": [],
      "source": []
    }
  ],
  "metadata": {
    "_change_revision": 0,
    "_is_fork": false,
    "colab": {
      "provenance": [],
      "toc_visible": true
    },
    "kernelspec": {
      "display_name": "Python 3 (ipykernel)",
      "language": "python",
      "name": "python3"
    },
    "language_info": {
      "codemirror_mode": {
        "name": "ipython",
        "version": 3
      },
      "file_extension": ".py",
      "mimetype": "text/x-python",
      "name": "python",
      "nbconvert_exporter": "python",
      "pygments_lexer": "ipython3",
      "version": "3.7.11"
    }
  },
  "nbformat": 4,
  "nbformat_minor": 0
}