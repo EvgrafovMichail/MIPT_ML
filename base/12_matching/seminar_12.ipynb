{
 "cells": [
  {
   "cell_type": "markdown",
   "id": "2b8978a6-8494-42a0-84df-36569f26a074",
   "metadata": {
    "tags": []
   },
   "source": [
    "# Семинар 12 - Ранжирование"
   ]
  },
  {
   "cell_type": "code",
   "execution_count": null,
   "id": "d254fb0b-17d4-47ab-9fc4-4a97c77bda75",
   "metadata": {},
   "outputs": [],
   "source": [
    "import numpy as np\n",
    "import pandas as pd\n",
    "\n",
    "seed = 42\n",
    "np.random.seed(seed)"
   ]
  },
  {
   "cell_type": "markdown",
   "id": "29e599fa-fb41-4e7d-8745-2fc9cb3ff7e1",
   "metadata": {
    "id": "IyKW4l6ZGsGO",
    "tags": []
   },
   "source": [
    "# Pointwise - TF-IDF\n",
    "\n",
    "## The Movies Dataset\n",
    "[Исходники данных](https://www.kaggle.com/rounakbanik/the-movies-dataset) для работы на семинаре."
   ]
  },
  {
   "cell_type": "code",
   "execution_count": null,
   "id": "2e1b620c-9817-40ba-8cf5-9c5f2c16f1da",
   "metadata": {
    "colab": {
     "base_uri": "https://localhost:8080/",
     "height": 666
    },
    "executionInfo": {
     "elapsed": 1169,
     "status": "ok",
     "timestamp": 1637675666500,
     "user": {
      "displayName": "Даниил Русланович Махоткин",
      "photoUrl": "https://lh3.googleusercontent.com/a/default-user=s64",
      "userId": "18336248573599285046"
     },
     "user_tz": -180
    },
    "id": "D0ep8BwjKiur",
    "outputId": "6e374f3e-8977-462a-e648-43567d0d8113"
   },
   "outputs": [],
   "source": [
    "# загрузим данные о фильмах (набор документов)\n",
    "\n",
    "metadata = pd.read_csv('data/movies/movies_metadata.csv', low_memory=False)\n",
    "metadata.head(2)"
   ]
  },
  {
   "cell_type": "code",
   "execution_count": null,
   "id": "254aeeb5-d313-4579-9351-608f07d7240d",
   "metadata": {
    "colab": {
     "base_uri": "https://localhost:8080/",
     "height": 204
    },
    "executionInfo": {
     "elapsed": 254,
     "status": "ok",
     "timestamp": 1637681955698,
     "user": {
      "displayName": "Даниил Русланович Махоткин",
      "photoUrl": "https://lh3.googleusercontent.com/a/default-user=s64",
      "userId": "18336248573599285046"
     },
     "user_tz": -180
    },
    "id": "FwrtU7LmKixj",
    "outputId": "90d0eeb3-cb0e-45dc-c3d8-0bdadaad3773"
   },
   "outputs": [],
   "source": [
    "# загрузим данные о фильмах (оценки релевантности)\n",
    "rating = pd.read_csv('data/movies/ratings_small.csv', low_memory=False)\n",
    "\n",
    "rating.head(2)"
   ]
  },
  {
   "cell_type": "markdown",
   "id": "5417412c-2b16-435c-a428-6fecb38aba9c",
   "metadata": {
    "id": "OyM2nL_ZaGJb"
   },
   "source": [
    "### Неперсонализированная рекомендация\n",
    "\n",
    "Сделаем свой аналог [IMDb rating](https://www.imdb.com/chart/top?ref_=nb_mv_3_chttp) через [взвешенный рейтинг](https://www.quora.com/How-does-IMDbs-rating-system-work):\n",
    "$$WeightedRating=(\\frac{v}{v+m}⋅R)+(\\frac{m}{v+m}⋅C)$$\n",
    "\n",
    "где:\n",
    "- v (votes) число оценок фильма;\n",
    "- m (minimum) минимальное число оценок для попадания в топ;\n",
    "- R (rating) средний рейтинг фильма;\n",
    "- C (across) средний рейтинг по всем фильмам."
   ]
  },
  {
   "cell_type": "code",
   "execution_count": null,
   "id": "7a116199-184e-408f-8f53-1454d0d7d588",
   "metadata": {
    "colab": {
     "base_uri": "https://localhost:8080/"
    },
    "executionInfo": {
     "elapsed": 280,
     "status": "ok",
     "timestamp": 1637661458640,
     "user": {
      "displayName": "Даниил Русланович Махоткин",
      "photoUrl": "https://lh3.googleusercontent.com/a/default-user=s64",
      "userId": "18336248573599285046"
     },
     "user_tz": -180
    },
    "id": "NpR_W5XraNuB",
    "outputId": "387576ae-39ba-4b6e-e019-12c4f28a8958"
   },
   "outputs": [],
   "source": [
    "C = metadata['vote_average'].mean()\n",
    "print(C)\n",
    "\n",
    "m = metadata['vote_count'].quantile(0.90)\n",
    "print(m)\n",
    "\n",
    "q_movies = metadata.copy().loc[metadata['vote_count'] >= m]\n",
    "print(q_movies.shape)"
   ]
  },
  {
   "cell_type": "code",
   "execution_count": null,
   "id": "9d9782c7-45cd-45f8-88f5-38443d3bdf7a",
   "metadata": {
    "id": "w3TYs-0naN4Y"
   },
   "outputs": [],
   "source": [
    "def weighted_rating(x, m=m, C=C):\n",
    "    v = x['vote_count']\n",
    "    R = x['vote_average']\n",
    "    \n",
    "    return (v/(v+m) * R) + (m/(m+v) * C)"
   ]
  },
  {
   "cell_type": "code",
   "execution_count": null,
   "id": "8618de2a-0f77-4176-a0bf-fd9f9540fc9e",
   "metadata": {
    "id": "2xVmmV5xdMBE"
   },
   "outputs": [],
   "source": [
    "q_movies['score'] = q_movies.apply(weighted_rating, axis=1)"
   ]
  },
  {
   "cell_type": "code",
   "execution_count": null,
   "id": "192b22f5-2ae0-41fc-8505-625eaaa4dae5",
   "metadata": {
    "colab": {
     "base_uri": "https://localhost:8080/",
     "height": 669
    },
    "executionInfo": {
     "elapsed": 551,
     "status": "ok",
     "timestamp": 1637665567366,
     "user": {
      "displayName": "Даниил Русланович Махоткин",
      "photoUrl": "https://lh3.googleusercontent.com/a/default-user=s64",
      "userId": "18336248573599285046"
     },
     "user_tz": -180
    },
    "id": "YXq-v4f9dMEX",
    "outputId": "e495c4c0-fc8a-4e5e-9c94-084b7d621b8b"
   },
   "outputs": [],
   "source": [
    "# Фильмы, основанные на баллах, рассчитанных выше\n",
    "q_movies = q_movies.sort_values('score', ascending=False)\n",
    "\n",
    "q_movies[['title', 'vote_count', 'vote_average', 'score']].head(10)"
   ]
  },
  {
   "cell_type": "markdown",
   "id": "b3c2b0b4-0ccd-4c73-b0cc-7a47e14f0a20",
   "metadata": {
    "id": "adwAcWcCepay"
   },
   "source": [
    "Получилось достаточно близко к оригинальному топу.\n",
    "\n",
    "\n",
    "О чем это говорит?"
   ]
  },
  {
   "cell_type": "markdown",
   "id": "0c5fa7e8-b520-41c8-9fa9-5417a3d6853e",
   "metadata": {
    "id": "bRm_qTeZaQ9g"
   },
   "source": [
    "## Content-based рекомендация\n",
    "\n",
    "Попробуем сделаем рекомендательную систему на основе описания фильмов."
   ]
  },
  {
   "cell_type": "code",
   "execution_count": null,
   "id": "6da9386e-04db-48c3-bbdb-ecab3c2c20e8",
   "metadata": {
    "colab": {
     "base_uri": "https://localhost:8080/"
    },
    "executionInfo": {
     "elapsed": 271,
     "status": "ok",
     "timestamp": 1637675729538,
     "user": {
      "displayName": "Даниил Русланович Махоткин",
      "photoUrl": "https://lh3.googleusercontent.com/a/default-user=s64",
      "userId": "18336248573599285046"
     },
     "user_tz": -180
    },
    "id": "71O2_hNfaYxs",
    "outputId": "6e27d928-b039-4427-a5af-b164cdd64531"
   },
   "outputs": [],
   "source": [
    "metadata['overview'].head()"
   ]
  },
  {
   "cell_type": "code",
   "execution_count": null,
   "id": "b684182c-f01d-43d8-abd6-4140404c49fa",
   "metadata": {
    "executionInfo": {
     "elapsed": 2,
     "status": "ok",
     "timestamp": 1637675729948,
     "user": {
      "displayName": "Даниил Русланович Махоткин",
      "photoUrl": "https://lh3.googleusercontent.com/a/default-user=s64",
      "userId": "18336248573599285046"
     },
     "user_tz": -180
    },
    "id": "5_sT3J7s8vsU"
   },
   "outputs": [],
   "source": [
    "first_n =  metadata.copy()[:30000]"
   ]
  },
  {
   "cell_type": "markdown",
   "id": "254d355d-f010-4faf-ac41-f70e079468c7",
   "metadata": {
    "id": "BbqIl1JRh1wx"
   },
   "source": [
    "### Найдем векторное представление данных - TF-IDF"
   ]
  },
  {
   "cell_type": "markdown",
   "id": "959a83e1-ae7d-4629-8c46-b660e807f298",
   "metadata": {
    "id": "2ad2gTGTf9sa"
   },
   "source": [
    "Рассмотрим частотное представление слов через TF-IDF.\n",
    "\n",
    "TF-IDF (сокращение от term frequency — inverse document frequency) – это статистическая мера для оценки важности слова в документе, который является частью коллекции или корпуса.\n",
    "\n",
    "Скоринг по TF-IDF растет пропорционально частоте появления слова в документе, но это компенсируется количеством документов, содержащих это слово.\n",
    "\n",
    "Формула скоринга для слова X в документе Y:\n",
    "![](http://3.bp.blogspot.com/-u928a3xbrsw/UukmRVX_JzI/AAAAAAAAAKE/wIhuNmdQb7E/s1600/td-idf-graphic.png)\n",
    "\n",
    "TF (term frequency — частота слова) – отношение числа вхождений слова к общему числу слов документа.\n",
    "\n",
    "![](https://habrastorage.org/r/w1560/webt/ai/p0/wk/aip0wkqcynj8q1cxwxlufspqqds.png)\n",
    "\n",
    "IDF (inverse document frequency — обратная частота документа) — инверсия частоты, с которой некоторое слово встречается в документах коллекции.\n",
    "\n",
    "![](https://habrastorage.org/r/w1560/webt/6j/xd/32/6jxd32ydlpkmixkjw6hdgmp6f6m.png)\n",
    "\n",
    "В итоге, вычислить TF-IDF для слова term можно так:\n",
    "\n",
    "![](https://habrastorage.org/r/w1560/webt/hl/tp/n0/hltpn0vg_gdo8bn1pfimbvu60no.png)"
   ]
  },
  {
   "cell_type": "code",
   "execution_count": null,
   "id": "8f6f1190-58ed-4f8e-812a-b29704e15de5",
   "metadata": {},
   "outputs": [],
   "source": [
    "from sklearn.feature_extraction.text import TfidfVectorizer"
   ]
  },
  {
   "cell_type": "code",
   "execution_count": null,
   "id": "ec2eda81-9075-42ba-a960-f07273a780e2",
   "metadata": {
    "executionInfo": {
     "elapsed": 663,
     "status": "ok",
     "timestamp": 1637675733586,
     "user": {
      "displayName": "Даниил Русланович Махоткин",
      "photoUrl": "https://lh3.googleusercontent.com/a/default-user=s64",
      "userId": "18336248573599285046"
     },
     "user_tz": -180
    },
    "id": "sQ6ZEED8aY0j"
   },
   "outputs": [],
   "source": [
    "# ограничим размер словаря до 5000 элементов\n",
    "tfidf = TfidfVectorizer(stop_words='english', max_features=5000)"
   ]
  },
  {
   "cell_type": "code",
   "execution_count": null,
   "id": "e4fa9023-dcd1-428e-951a-08ddc08369b6",
   "metadata": {
    "executionInfo": {
     "elapsed": 4,
     "status": "ok",
     "timestamp": 1637675734512,
     "user": {
      "displayName": "Даниил Русланович Махоткин",
      "photoUrl": "https://lh3.googleusercontent.com/a/default-user=s64",
      "userId": "18336248573599285046"
     },
     "user_tz": -180
    },
    "id": "hfAuB8s7aY3R"
   },
   "outputs": [],
   "source": [
    "first_n['overview'] = first_n['overview'].fillna('')"
   ]
  },
  {
   "cell_type": "code",
   "execution_count": null,
   "id": "567b06e0-9078-4a26-81a5-e49443bc4c48",
   "metadata": {
    "colab": {
     "base_uri": "https://localhost:8080/"
    },
    "executionInfo": {
     "elapsed": 1989,
     "status": "ok",
     "timestamp": 1637675736498,
     "user": {
      "displayName": "Даниил Русланович Махоткин",
      "photoUrl": "https://lh3.googleusercontent.com/a/default-user=s64",
      "userId": "18336248573599285046"
     },
     "user_tz": -180
    },
    "id": "t4TZR_3TaY6B",
    "outputId": "39385d1f-20a7-4e9e-96d9-cb9eaadc300c"
   },
   "outputs": [],
   "source": [
    "tfidf_matrix = tfidf.fit_transform(first_n['overview'])\n",
    "\n",
    "#Output the shape of tfidf_matrix\n",
    "tfidf_matrix.shape"
   ]
  },
  {
   "cell_type": "code",
   "execution_count": null,
   "id": "e00e610f-d4e2-4d80-afd0-13534ac1f327",
   "metadata": {
    "colab": {
     "base_uri": "https://localhost:8080/"
    },
    "executionInfo": {
     "elapsed": 9,
     "status": "ok",
     "timestamp": 1637675736498,
     "user": {
      "displayName": "Даниил Русланович Махоткин",
      "photoUrl": "https://lh3.googleusercontent.com/a/default-user=s64",
      "userId": "18336248573599285046"
     },
     "user_tz": -180
    },
    "id": "NsrTyaVRp0pX",
    "outputId": "88b3c3a6-b73e-482d-a950-3f9202fac548"
   },
   "outputs": [],
   "source": [
    "tfidf.get_feature_names()[500:510]"
   ]
  },
  {
   "cell_type": "markdown",
   "id": "220fd0af-9004-48dc-b0ed-bf2385d728b8",
   "metadata": {
    "id": "efAikRaJh7xn"
   },
   "source": [
    "### Оценим схожесть полученных векторов"
   ]
  },
  {
   "cell_type": "markdown",
   "id": "1e1a64e5-9616-461f-8277-b4fbeebf61ab",
   "metadata": {
    "id": "nVi08d_VrRYv"
   },
   "source": [
    "Схожесть будем измерять по косинусной метрике"
   ]
  },
  {
   "cell_type": "code",
   "execution_count": null,
   "id": "c66c4af4-00c4-4626-a12a-f8574baa753b",
   "metadata": {
    "executionInfo": {
     "elapsed": 12295,
     "status": "ok",
     "timestamp": 1637675761690,
     "user": {
      "displayName": "Даниил Русланович Махоткин",
      "photoUrl": "https://lh3.googleusercontent.com/a/default-user=s64",
      "userId": "18336248573599285046"
     },
     "user_tz": -180
    },
    "id": "nXAEc5bJED3w"
   },
   "outputs": [],
   "source": [
    "cosine_sim = tfidf_matrix.dot(tfidf_matrix.T).toarray()"
   ]
  },
  {
   "cell_type": "code",
   "execution_count": null,
   "id": "12711be7-58c6-4375-a15d-87bc5035059e",
   "metadata": {
    "colab": {
     "base_uri": "https://localhost:8080/"
    },
    "executionInfo": {
     "elapsed": 14,
     "status": "ok",
     "timestamp": 1637675762662,
     "user": {
      "displayName": "Даниил Русланович Махоткин",
      "photoUrl": "https://lh3.googleusercontent.com/a/default-user=s64",
      "userId": "18336248573599285046"
     },
     "user_tz": -180
    },
    "id": "hTpEusdap0u8",
    "outputId": "7b7bebc2-0933-4f5a-fcc6-9d6858f378ab"
   },
   "outputs": [],
   "source": [
    "cosine_sim.shape"
   ]
  },
  {
   "cell_type": "code",
   "execution_count": null,
   "id": "5ea1b5d5-6e0f-4c94-94b1-0589f688416a",
   "metadata": {
    "colab": {
     "base_uri": "https://localhost:8080/"
    },
    "executionInfo": {
     "elapsed": 11,
     "status": "ok",
     "timestamp": 1637675762663,
     "user": {
      "displayName": "Даниил Русланович Махоткин",
      "photoUrl": "https://lh3.googleusercontent.com/a/default-user=s64",
      "userId": "18336248573599285046"
     },
     "user_tz": -180
    },
    "id": "wnAxXu2ksAgL",
    "outputId": "3c7d9c32-8b8d-473b-f683-12a6ca85e158"
   },
   "outputs": [],
   "source": [
    "print(cosine_sim[0])"
   ]
  },
  {
   "cell_type": "code",
   "execution_count": null,
   "id": "0ffc7402-803e-491a-a490-fe9cd5c96dbf",
   "metadata": {
    "executionInfo": {
     "elapsed": 356,
     "status": "ok",
     "timestamp": 1637675770474,
     "user": {
      "displayName": "Даниил Русланович Махоткин",
      "photoUrl": "https://lh3.googleusercontent.com/a/default-user=s64",
      "userId": "18336248573599285046"
     },
     "user_tz": -180
    },
    "id": "zjDda49WsAiw"
   },
   "outputs": [],
   "source": [
    "indices = pd.Series(firast_n.index, index=firast_n['title']).drop_duplicates()"
   ]
  },
  {
   "cell_type": "code",
   "execution_count": null,
   "id": "49d4258d-0fdb-400c-86b0-f212a74ebc2b",
   "metadata": {
    "colab": {
     "base_uri": "https://localhost:8080/"
    },
    "executionInfo": {
     "elapsed": 3,
     "status": "ok",
     "timestamp": 1637675770868,
     "user": {
      "displayName": "Даниил Русланович Махоткин",
      "photoUrl": "https://lh3.googleusercontent.com/a/default-user=s64",
      "userId": "18336248573599285046"
     },
     "user_tz": -180
    },
    "id": "7PbOJNNEzs-s",
    "outputId": "08f00b7b-1583-4bfc-a515-a8bfad98f3be"
   },
   "outputs": [],
   "source": [
    "indices"
   ]
  },
  {
   "cell_type": "code",
   "execution_count": null,
   "id": "55887217-a63b-45e6-8c79-bebc69ff6cd4",
   "metadata": {
    "executionInfo": {
     "elapsed": 261,
     "status": "ok",
     "timestamp": 1637683140424,
     "user": {
      "displayName": "Даниил Русланович Махоткин",
      "photoUrl": "https://lh3.googleusercontent.com/a/default-user=s64",
      "userId": "18336248573599285046"
     },
     "user_tz": -180
    },
    "id": "FObrL2HvsAoK"
   },
   "outputs": [],
   "source": [
    "def get_recommendations(title, cosine_sim=cosine_sim):\n",
    "    # Получить индекс фильма, соответствующий названию\n",
    "    idx = indices[title]\n",
    "\n",
    "    # Взять парные оценки сходства всех фильмов с этим фильмом\n",
    "    sim_scores = list(enumerate(cosine_sim[idx]))\n",
    "\n",
    "    # Сортировать фильмы по сходству\n",
    "    sim_scores = sorted(sim_scores, key=lambda x: x[1], reverse=True)\n",
    "\n",
    "    # Взять оценки 10 самых похожих фильмов\n",
    "    sim_scores = sim_scores[1:11]\n",
    "\n",
    "    # Получить индексы фильма\n",
    "    movie_indices = [i[0] for i in sim_scores]\n",
    "\n",
    "    # Вернуть 10 самых похожих фильмов\n",
    "    return metadata['title'].iloc[movie_indices]"
   ]
  },
  {
   "cell_type": "code",
   "execution_count": null,
   "id": "1f128699-9b25-4082-af2c-f8e0b7d302ec",
   "metadata": {
    "colab": {
     "base_uri": "https://localhost:8080/"
    },
    "executionInfo": {
     "elapsed": 4,
     "status": "ok",
     "timestamp": 1637675771202,
     "user": {
      "displayName": "Даниил Русланович Махоткин",
      "photoUrl": "https://lh3.googleusercontent.com/a/default-user=s64",
      "userId": "18336248573599285046"
     },
     "user_tz": -180
    },
    "id": "2P3Hf8CPsAqw",
    "outputId": "dfd0f512-e79f-4d52-c567-cd8aa10c2e45"
   },
   "outputs": [],
   "source": [
    "get_recommendations('The Dark Knight Rises')"
   ]
  },
  {
   "cell_type": "markdown",
   "id": "351ea317-06b7-471f-9cd1-7b50703e89ca",
   "metadata": {
    "id": "dfOJHakwdOV5"
   },
   "source": [
    "### Сделеаем рекомендацию для пользователя"
   ]
  },
  {
   "cell_type": "code",
   "execution_count": null,
   "id": "bb997e2c-f29f-4158-9b2d-31d7091511b0",
   "metadata": {
    "colab": {
     "base_uri": "https://localhost:8080/",
     "height": 419
    },
    "executionInfo": {
     "elapsed": 267,
     "status": "ok",
     "timestamp": 1637682466675,
     "user": {
      "displayName": "Даниил Русланович Махоткин",
      "photoUrl": "https://lh3.googleusercontent.com/a/default-user=s64",
      "userId": "18336248573599285046"
     },
     "user_tz": -180
    },
    "id": "ZH4TYQUddPJc",
    "outputId": "e93c56c7-d483-416f-f19f-b41d0f1aa110"
   },
   "outputs": [],
   "source": [
    "rating = rating.drop(['timestamp'], axis=1)\n",
    "rating"
   ]
  },
  {
   "cell_type": "code",
   "execution_count": null,
   "id": "a3cae4bf-ed2a-4ae0-9132-087785cd92b6",
   "metadata": {
    "colab": {
     "base_uri": "https://localhost:8080/",
     "height": 669
    },
    "executionInfo": {
     "elapsed": 271,
     "status": "ok",
     "timestamp": 1637682678587,
     "user": {
      "displayName": "Даниил Русланович Махоткин",
      "photoUrl": "https://lh3.googleusercontent.com/a/default-user=s64",
      "userId": "18336248573599285046"
     },
     "user_tz": -180
    },
    "id": "25pGvb_ddaD8",
    "outputId": "7efb6504-3f2c-4900-9673-e26b06a11575"
   },
   "outputs": [],
   "source": [
    "# возьмем одного пользователя\n",
    "user_id = 1\n",
    "\n",
    "user_rating = rating[rating['userId'] == user_id].drop(['userId'], axis=1).sort_values(by=['rating'], ascending=False)\n",
    "user_rating"
   ]
  },
  {
   "cell_type": "code",
   "execution_count": null,
   "id": "59fa2714-ca81-448a-9760-0e20204e7a90",
   "metadata": {
    "colab": {
     "base_uri": "https://localhost:8080/"
    },
    "executionInfo": {
     "elapsed": 247,
     "status": "ok",
     "timestamp": 1637683024311,
     "user": {
      "displayName": "Даниил Русланович Махоткин",
      "photoUrl": "https://lh3.googleusercontent.com/a/default-user=s64",
      "userId": "18336248573599285046"
     },
     "user_tz": -180
    },
    "id": "v5hQO0MSgw29",
    "outputId": "9aeff406-641b-4e8c-a7e0-15366ffa50d6"
   },
   "outputs": [],
   "source": [
    "user_rating[\"movieId\"].values[0]"
   ]
  },
  {
   "cell_type": "code",
   "execution_count": null,
   "id": "ea34c3ee-42ad-48bd-b8c4-753a70b85bf4",
   "metadata": {
    "colab": {
     "base_uri": "https://localhost:8080/",
     "height": 35
    },
    "executionInfo": {
     "elapsed": 264,
     "status": "ok",
     "timestamp": 1637683087708,
     "user": {
      "displayName": "Даниил Русланович Махоткин",
      "photoUrl": "https://lh3.googleusercontent.com/a/default-user=s64",
      "userId": "18336248573599285046"
     },
     "user_tz": -180
    },
    "id": "hwu3HgbchGh4",
    "outputId": "c2acfef3-3b00-4acf-bd59-f964f2415b22"
   },
   "outputs": [],
   "source": [
    "firast_n[\"title\"].values[1172]"
   ]
  },
  {
   "cell_type": "code",
   "execution_count": null,
   "id": "2218a7ac-27c3-4966-a047-6b73a106e6e2",
   "metadata": {
    "colab": {
     "base_uri": "https://localhost:8080/"
    },
    "executionInfo": {
     "elapsed": 264,
     "status": "ok",
     "timestamp": 1637683110296,
     "user": {
      "displayName": "Даниил Русланович Махоткин",
      "photoUrl": "https://lh3.googleusercontent.com/a/default-user=s64",
      "userId": "18336248573599285046"
     },
     "user_tz": -180
    },
    "id": "FE4aq4vShNYN",
    "outputId": "ff3d5a3f-466d-4d8a-fd75-79666d033657"
   },
   "outputs": [],
   "source": [
    "indices[\"Army of Darkness\"]"
   ]
  },
  {
   "cell_type": "code",
   "execution_count": null,
   "id": "bf2375e9-fb22-442d-98db-79b96d61afbc",
   "metadata": {
    "colab": {
     "base_uri": "https://localhost:8080/"
    },
    "executionInfo": {
     "elapsed": 260,
     "status": "ok",
     "timestamp": 1637683121819,
     "user": {
      "displayName": "Даниил Русланович Махоткин",
      "photoUrl": "https://lh3.googleusercontent.com/a/default-user=s64",
      "userId": "18336248573599285046"
     },
     "user_tz": -180
    },
    "id": "T6D0qT9Tc0Ho",
    "outputId": "a5b5886a-3070-46b0-b8b5-73b11c661789"
   },
   "outputs": [],
   "source": [
    "get_recommendations(\"Army of Darkness\")"
   ]
  },
  {
   "cell_type": "code",
   "execution_count": null,
   "id": "4696dcf7-5cc7-4515-8d45-52f04cec4934",
   "metadata": {},
   "outputs": [],
   "source": [
    "firast_n[\"title\"].values[user_rating[\"movieId\"].values]"
   ]
  },
  {
   "cell_type": "markdown",
   "id": "89194a72-8fa3-4427-8bcd-f1ba52ced492",
   "metadata": {},
   "source": [
    "# Pairwise - RankNet\n",
    "\n",
    "Функция ошибки по паре объектов (в пару к запросу).\n",
    "\n",
    "$\\displaystyle \\sum_q \\sum_{i, j:\\ r^q_i \\gt r^q_j} l(f({x}^q_i) - f({x}^q_j)) \\to \\min$\n",
    "\n",
    "В качестве функции для оптимизации мы берём классическую функцию потерь: кросс-энтропию $C$:\n",
    "$C_{ij}=C(o_{ij})=-\\bar{P_{ij}}log(P_{ij})-(1-\\bar{P_{ij}})log(1-P_{ij})$\n",
    "\n",
    "$o_i$ — предсказание нашего алгоритма для одного объекта (*логит* или *скор*):\n",
    "\n",
    "$o_i \\equiv f(x_i)$,\n",
    "\n",
    "$o_{ij}=f(x_i)-f(x_j)$\n",
    "\n",
    "Для превращения этого в вероятность, т.е. нормирования в интервал $[0, 1]$, мы можем воспользоваться обычной логистической функцией. Разность логитов будем использовать как степень для числа $e$:\n",
    "\n",
    "$\\displaystyle P_{ij} \\equiv \\frac {e^{o_{ij}}} {1 + e^{o_{ij}}}$ — функция отображения предсказания (логита) в вероятность.\n",
    "\n",
    "\n",
    "Тогда функцию потерь, или функцию стоимости (cost function) можно переписать следующим образом:\n",
    "\n",
    "$C_{ij} = -\\overline P_{ij} o_{ij} + \\log(1 + e^{o_{ij}})$"
   ]
  },
  {
   "cell_type": "code",
   "execution_count": null,
   "id": "98e7447d-23df-42c6-83f9-ffb03b57a955",
   "metadata": {},
   "outputs": [],
   "source": [
    "import torch"
   ]
  },
  {
   "cell_type": "code",
   "execution_count": null,
   "id": "13c2b249-00ff-46e8-9510-1368743cb8e1",
   "metadata": {},
   "outputs": [],
   "source": [
    "class RankNet(torch.nn.Module):\n",
    "    def __init__(self, num_input_features, hidden_dim=10):\n",
    "        super().__init__()\n",
    "        self.hidden_dim = hidden_dim\n",
    "        self.model = torch.nn.Sequential(\n",
    "            torch.nn.Linear(num_input_features, self.hidden_dim),\n",
    "            torch.nn.ReLU(),\n",
    "            torch.nn.Linear(self.hidden_dim, 1),\n",
    "        )\n",
    "        \n",
    "        self.out_activation = torch.nn.Sigmoid()\n",
    "\n",
    "    def forward(self, input_1, input_2):\n",
    "        logits_1 = self.predict(input_1)\n",
    "        logits_2 = self.predict(input_2)\n",
    "        \n",
    "        logits_diff = logits_1 - logits_2\n",
    "        out = self.out_activation(logits_diff)\n",
    "\n",
    "        return out\n",
    "    \n",
    "    def predict(self, inp):\n",
    "        logits = self.model(inp)\n",
    "        return logits"
   ]
  },
  {
   "cell_type": "code",
   "execution_count": null,
   "id": "1cec2e79-000f-4313-bee4-5c1443077cf9",
   "metadata": {},
   "outputs": [],
   "source": [
    "ranknet_model = RankNet(num_input_features=10)"
   ]
  },
  {
   "cell_type": "code",
   "execution_count": null,
   "id": "5195d543-fae4-48df-aecf-46f700578371",
   "metadata": {},
   "outputs": [],
   "source": [
    "inp_1, inp_2 = torch.rand(4, 10), torch.rand(4, 10)\n",
    "# batch_size x input_dim\n",
    "inp_2"
   ]
  },
  {
   "cell_type": "code",
   "execution_count": null,
   "id": "6bbf2d4a-dfcb-419a-ba7e-9223bdd2e316",
   "metadata": {},
   "outputs": [],
   "source": [
    "preds = ranknet_model(inp_1, inp_2)\n",
    "preds"
   ]
  },
  {
   "cell_type": "code",
   "execution_count": null,
   "id": "ac78dc6d-6da3-4bdc-b8e5-22db963c4a17",
   "metadata": {},
   "outputs": [],
   "source": [
    "first_linear_layer = ranknet_model.model[0]"
   ]
  },
  {
   "cell_type": "code",
   "execution_count": null,
   "id": "33a3d930-c445-4f66-845b-032c0b230148",
   "metadata": {},
   "outputs": [],
   "source": [
    "first_linear_layer.weight.grad"
   ]
  },
  {
   "cell_type": "code",
   "execution_count": null,
   "id": "f3f17983-580c-49f0-8636-11ddd007d885",
   "metadata": {},
   "outputs": [],
   "source": [
    "criterion = torch.nn.BCELoss()\n",
    "loss = criterion(preds, torch.ones_like(preds))\n",
    "loss.backward()"
   ]
  },
  {
   "cell_type": "code",
   "execution_count": null,
   "id": "fc49422c-6133-417f-b509-ca9ed6f600fa",
   "metadata": {},
   "outputs": [],
   "source": [
    "first_linear_layer.weight.grad"
   ]
  },
  {
   "cell_type": "code",
   "execution_count": null,
   "id": "46646f20-db3c-455b-b8da-849156ba741e",
   "metadata": {},
   "outputs": [],
   "source": []
  },
  {
   "cell_type": "code",
   "execution_count": null,
   "id": "294bacaa-9efb-4a85-8a53-f8773faf4fed",
   "metadata": {},
   "outputs": [],
   "source": []
  },
  {
   "cell_type": "code",
   "execution_count": null,
   "id": "22180db7",
   "metadata": {},
   "outputs": [],
   "source": [
    "first_linear_layer = ranknet_model.model[0]"
   ]
  },
  {
   "cell_type": "code",
   "execution_count": null,
   "id": "8f53d22a",
   "metadata": {},
   "outputs": [],
   "source": [
    "first_linear_layer.weight.grad"
   ]
  },
  {
   "cell_type": "code",
   "execution_count": null,
   "id": "13be0283",
   "metadata": {},
   "outputs": [],
   "source": [
    "criterion = torch.nn.BCELoss()\n",
    "loss = criterion(preds, torch.ones_like(preds))\n",
    "loss.backward()"
   ]
  },
  {
   "cell_type": "code",
   "execution_count": null,
   "id": "3ee0fa1e",
   "metadata": {},
   "outputs": [],
   "source": [
    "first_linear_layer.weight.grad"
   ]
  },
  {
   "cell_type": "code",
   "execution_count": null,
   "id": "5214a965",
   "metadata": {},
   "outputs": [],
   "source": [
    "ranknet_model.zero_grad()"
   ]
  },
  {
   "cell_type": "markdown",
   "id": "350c7d49-d18d-4604-a5e4-879b98127b59",
   "metadata": {
    "tags": []
   },
   "source": [
    "# Listwise - ListNet\n",
    "\n",
    "В listwise, как следует из названия, мы должны использовать функцию потерь, которая рассчитывается на всём множестве релевантных запросу документов.\n",
    "\n",
    "Можем говорить, что представлено полное множество перестановок $\\Omega_n$, указывая размер множества объектов, на которых рассчитываются перестановки $n$.\n",
    "\n",
    "Каждая перестановка $\\pi$  характеризуется полным указанием, какой объект стоит на первой, на второй и так далее до позиции $n$.\n",
    "\n",
    "$\\pi = \\langle \\pi(1), \\pi(2), ..., \\pi(n) \\rangle$\n",
    "\n",
    "Каждое $\\pi_i$ указывает на конкретный объект в перестановке.\n",
    "\n",
    "$\\displaystyle P_s (\\pi) = \\prod^n_{j = 1} \\frac {\\phi(s_{\\pi(j)})} {\\sum^n_{k = j} \\phi(s_{\\pi(k)})}$ — вероятность возникновения такой перестановки\n",
    "\n",
    "И в числителе, и в знаменателе к скору, или к логиту, $j$-го объекта конкретной перестановки $\\pi_i$ применяется функция преобразования скоров.\n",
    "\n",
    "К этой функции указываются следующие требования:\n",
    "\n",
    "- Возрастающая;\n",
    "- Строго положительная.\n",
    "\n",
    "То есть, чем больше логит, тем выше значение этой функции, при этом ни при каких обстоятельствах она не может стать отрицательной (*иначе бы мы могли получать отрицательные вероятности, чего быть не может*).\n",
    "\n",
    "Под эти требования подходит много функций, но самая распространенная — экспонента, то есть возведение e в степень логита с индексом $\\pi_j$.\n",
    "\n",
    "Рассмотрим знаменатель: здесь сумма от $j$-го до $n$-го (последнего) объекта, суммируем мы в точности те же значения, что и в числителе — некоего рода нормализация.\n",
    "\n",
    "Смотрим, какую долю от суммы всех скоров составляет наш текущий $j$-й объект.\n",
    "\n",
    "Выводы для метода:\n",
    "\n",
    "- Наибольшая вероятность у перестановки, в которой объекты отсортированы в порядке убывания.\n",
    "- Наименьшая вероятность у перестановки, в которой объекты отсортированы в порядке возрастания.\n",
    "- Количество перестановок равно $n!$ (много)."
   ]
  },
  {
   "cell_type": "markdown",
   "id": "c7507035-03f8-4578-b990-bce444f3697f",
   "metadata": {},
   "source": [
    "Благодаря SoftMax не нужно считать все перестановки — можно получить скоры и преобразовать их в TopOneProbability.\n",
    "\n",
    "Для обучения нашего алгоритма, для расчёта градиентов и градиентного спуска по весам, можно использовать любую функцию потерь, которая оптимизирует расстояние между двумя распределениями вероятностей.\n",
    "\n",
    "Это может быть классическая кросс-энтропия:\n",
    "\n",
    "$\\displaystyle L(y^{(i)}, z^{(i)}) = -\\sum^n_{j = 1} P_{y^{(i)}}(j) \\log(P_{z^{(i)}}(j))$,"
   ]
  },
  {
   "cell_type": "code",
   "execution_count": null,
   "id": "88092400-3fcf-41a8-bb39-bffeec24bba3",
   "metadata": {},
   "outputs": [],
   "source": [
    "from itertools import combinations\n",
    "\n",
    "from utils import ndcg, num_swapped_pairs"
   ]
  },
  {
   "cell_type": "code",
   "execution_count": null,
   "id": "a32856fa-3a39-4bd6-bb51-afca275698f7",
   "metadata": {},
   "outputs": [],
   "source": [
    "class ListNet(torch.nn.Module):\n",
    "    def __init__(self, num_input_features, hidden_dim=10):\n",
    "        super().__init__()\n",
    "        self.hidden_dim = hidden_dim\n",
    "        self.model = torch.nn.Sequential(\n",
    "            torch.nn.Linear(num_input_features, self.hidden_dim),\n",
    "            torch.nn.ReLU(),\n",
    "            torch.nn.Linear(self.hidden_dim, 1),\n",
    "        )\n",
    "\n",
    "\n",
    "    def forward(self, input_1):\n",
    "        logits = self.model(input_1)\n",
    "        return logits\n"
   ]
  },
  {
   "cell_type": "code",
   "execution_count": null,
   "id": "874906e2-40b0-4aa7-930d-66929ccada62",
   "metadata": {},
   "outputs": [],
   "source": [
    "def listnet_ce_loss(y_i, z_i):\n",
    "    \"\"\"\n",
    "    y_i: (n_i, 1) GT\n",
    "    z_i: (n_i, 1) preds\n",
    "    \"\"\"\n",
    "\n",
    "    P_y_i = torch.softmax(y_i, dim=0)\n",
    "    P_z_i = torch.softmax(z_i, dim=0)\n",
    "    return -torch.sum(P_y_i * torch.log(P_z_i))\n",
    "\n",
    "def listnet_kl_loss(y_i, z_i):\n",
    "    \"\"\"\n",
    "    y_i: (n_i, 1) GT\n",
    "    z_i: (n_i, 1) preds\n",
    "    \"\"\"\n",
    "    P_y_i = torch.softmax(y_i, dim=0)\n",
    "    P_z_i = torch.softmax(z_i, dim=0)\n",
    "    return -torch.sum(P_y_i * torch.log(P_z_i/P_y_i))\n",
    "\n",
    "\n",
    "def make_dataset(N_train, N_valid, vector_dim):\n",
    "    fake_weights = torch.randn(vector_dim, 1)\n",
    "\n",
    "    X_train = torch.randn(N_train, vector_dim)\n",
    "    X_valid = torch.randn(N_valid, vector_dim)\n",
    "\n",
    "    ys_train_score = torch.mm(X_train, fake_weights)\n",
    "    ys_train_score += torch.randn_like(ys_train_score)\n",
    "\n",
    "    ys_valid_score = torch.mm(X_valid, fake_weights)\n",
    "    ys_valid_score += torch.randn_like(ys_valid_score)\n",
    "\n",
    "#     bins = [-1, 1]  # 3 relevances\n",
    "    bins = [-1, 0, 1, 2]  # 5 relevances\n",
    "    ys_train_rel = torch.Tensor(\n",
    "        np.digitize(ys_train_score.clone().detach().numpy(), bins=bins)\n",
    "    )\n",
    "    ys_valid_rel = torch.Tensor(\n",
    "        np.digitize(ys_valid_score.clone().detach().numpy(), bins=bins)\n",
    "    )\n",
    "\n",
    "    return X_train, X_valid, ys_train_rel, ys_valid_rel"
   ]
  },
  {
   "cell_type": "code",
   "execution_count": null,
   "id": "9370ccb4-f0bc-460e-ac18-e237a623c986",
   "metadata": {},
   "outputs": [],
   "source": []
  },
  {
   "cell_type": "code",
   "execution_count": null,
   "id": "45412498-4b6f-4143-aab3-168530f8d8e5",
   "metadata": {},
   "outputs": [],
   "source": [
    "N_train = 1000\n",
    "N_valid = 500\n",
    "\n",
    "vector_dim = 100\n",
    "epochs = 2\n",
    "\n",
    "batch_size = 16\n",
    "\n",
    "X_train, X_valid, ys_train, ys_valid = make_dataset(N_train, N_valid, vector_dim)\n",
    "\n",
    "net = ListNet(num_input_features=vector_dim)\n",
    "opt = torch.optim.Adam(net.parameters())"
   ]
  },
  {
   "cell_type": "code",
   "execution_count": null,
   "id": "89262071-9916-4290-844c-7a06ed279274",
   "metadata": {},
   "outputs": [],
   "source": [
    "torch.unique(ys_train)"
   ]
  },
  {
   "cell_type": "code",
   "execution_count": null,
   "id": "7c2a5885-b653-40b6-8fc7-3936e15cd0a6",
   "metadata": {},
   "outputs": [],
   "source": [
    "for epoch in range(epochs):\n",
    "    idx = torch.randperm(N_train)\n",
    "\n",
    "    X_train = X_train[idx]\n",
    "    ys_train = ys_train[idx]\n",
    "\n",
    "    cur_batch = 0\n",
    "    for it in range(N_train // batch_size):\n",
    "        batch_X = X_train[cur_batch: cur_batch + batch_size]\n",
    "        batch_ys = ys_train[cur_batch: cur_batch + batch_size]\n",
    "        cur_batch += batch_size\n",
    "\n",
    "        opt.zero_grad()\n",
    "        if len(batch_X) > 0:\n",
    "            batch_pred = net(batch_X)\n",
    "            batch_loss = listnet_kl_loss(batch_ys, batch_pred)\n",
    "#             batch_loss = listnet_ce_loss(batch_ys, batch_pred)\n",
    "            batch_loss.backward(retain_graph=True)\n",
    "            opt.step()\n",
    "\n",
    "        if it % 10 == 0:\n",
    "            with torch.no_grad():\n",
    "                valid_pred = net(X_valid)\n",
    "                valid_swapped_pairs = num_swapped_pairs(ys_valid, valid_pred)\n",
    "                ndcg_score = ndcg(ys_valid, valid_pred)\n",
    "            print(f\"epoch: {epoch + 1}.\\tNumber of swapped pairs: \" \n",
    "                  f\"{valid_swapped_pairs}/{N_valid * (N_valid - 1) // 2}\\t\"\n",
    "                  f\"nDCG: {ndcg_score:.4f}\")"
   ]
  },
  {
   "cell_type": "code",
   "execution_count": null,
   "id": "01bb8640-8cee-4ce3-b2c2-9bdce4308e32",
   "metadata": {},
   "outputs": [],
   "source": []
  },
  {
   "cell_type": "code",
   "execution_count": null,
   "id": "61e39cad-0636-4ca8-bb7f-9f41fcd10390",
   "metadata": {},
   "outputs": [],
   "source": []
  }
 ],
 "metadata": {
  "kernelspec": {
   "display_name": "Python 3 (ipykernel)",
   "language": "python",
   "name": "python3"
  },
  "language_info": {
   "codemirror_mode": {
    "name": "ipython",
    "version": 3
   },
   "file_extension": ".py",
   "mimetype": "text/x-python",
   "name": "python",
   "nbconvert_exporter": "python",
   "pygments_lexer": "ipython3",
   "version": "3.8.10"
  }
 },
 "nbformat": 4,
 "nbformat_minor": 5
}
