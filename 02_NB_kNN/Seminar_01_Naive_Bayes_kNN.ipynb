{
 "cells": [
  {
   "cell_type": "markdown",
   "metadata": {
    "id": "Hfi_y3t3TXHw"
   },
   "source": [
    "# Семинар № 1 - kNN, Bayes\n",
    "---\n",
    "Урок основан на открытых материалах [Evgeny Sokolov](https://github.com/esokolov) и [YSDA](https://github.com/yandexdataschool)."
   ]
  },
  {
   "cell_type": "markdown",
   "metadata": {
    "id": "pUmzcExmHpUN"
   },
   "source": [
    "# Загрузка данных"
   ]
  },
  {
   "cell_type": "code",
   "execution_count": 5,
   "metadata": {
    "ExecuteTime": {
     "end_time": "2020-02-11T07:08:51.904850Z",
     "start_time": "2020-02-11T07:08:50.413258Z"
    },
    "executionInfo": {
     "elapsed": 972,
     "status": "ok",
     "timestamp": 1631624356789,
     "user": {
      "displayName": "Даниил Русланович Махоткин",
      "photoUrl": "https://lh3.googleusercontent.com/a/default-user=s64",
      "userId": "18336248573599285046"
     },
     "user_tz": -180
    },
    "id": "FjOE8YGIHpUO"
   },
   "outputs": [
    {
     "name": "stdout",
     "output_type": "stream",
     "text": [
      "The autoreload extension is already loaded. To reload it, use:\n",
      "  %reload_ext autoreload\n"
     ]
    }
   ],
   "source": [
    "# базовый набор для обработки даннных\n",
    "import numpy as np\n",
    "import pandas as pd\n",
    "\n",
    "# отображение данных\n",
    "import matplotlib\n",
    "import matplotlib.pyplot as plt\n",
    "import seaborn as sns\n",
    "\n",
    "# данные и алгоритмы ML\n",
    "from sklearn import datasets\n",
    "\n",
    "%matplotlib inline\n",
    "%load_ext autoreload\n",
    "%autoreload 2\n",
    "\n",
    "matplotlib.rcParams['font.size'] = 11\n",
    "matplotlib.style = 'seaborn'"
   ]
  },
  {
   "cell_type": "markdown",
   "metadata": {
    "id": "6pm2w2NVHpUQ"
   },
   "source": [
    "Сначала для загрузки набора данных мы будем использовать пакет [`sklearn`](https://scikit-learn.org/stable/), который будем активно использовать на протяжении всего курса.\n",
    "\n",
    "sklearn реализует большинство классических и часто используемых алгоритмов машинного обучения. Также он предоставляет [Руководство пользователя] (https://scikit-learn.org/stable/user_guide.html), описывающее принципы каждой группы реализованных алгоритмов.\n",
    "\n",
    "В качестве отправной точки для основных концепций sklearn мы рекомендуем [руководство по началу работы] (https://scikit-learn.org/stable/getting_started.html) (проверьте сами). [Дополнительные руководства] (https://scikit-learn.org/stable/tutorial/index.html) также могут быть полезны для развития ваших навыков."
   ]
  },
  {
   "cell_type": "markdown",
   "metadata": {
    "id": "HnlLAnDYHpUQ"
   },
   "source": [
    "Первая функциональность, которую мы используем, — удобная загрузка [общих наборов данных] (https://scikit-learn.org/stable/modules/classes.html#module-sklearn.datasets). Все, что нам нужно сделать, это всего лишь один вызов функции.\n",
    "\n",
    "Объект, сгенерированный [`load_iris`](https://scikit-learn.org/stable/modules/generated/sklearn.datasets.load_iris.html), описывается как:\n",
    "\n",
    "> Объект, похожий на словарь, интересные атрибуты:\n",
    ">\n",
    "> «данные», данные для изучения,\n",
    ">\n",
    "> «цель», классификационные метки,\n",
    ">\n",
    ">‘target_names’, значение меток,\n",
    ">\n",
    ">‘feature_names’, значение функций,\n",
    ">\n",
    "> «DESCR», полное описание набора данных,\n",
    ">\n",
    "> «имя файла», физическое расположение набора данных CSV радужной оболочки (добавлено в версии 0.20)\n",
    "\n",
    "Посмотрим, что у нас есть"
   ]
  },
  {
   "cell_type": "code",
   "execution_count": 6,
   "metadata": {
    "ExecuteTime": {
     "end_time": "2020-02-11T07:08:51.918857Z",
     "start_time": "2020-02-11T07:08:51.910566Z"
    },
    "colab": {
     "base_uri": "https://localhost:8080/"
    },
    "executionInfo": {
     "elapsed": 5,
     "status": "ok",
     "timestamp": 1631624360053,
     "user": {
      "displayName": "Даниил Русланович Махоткин",
      "photoUrl": "https://lh3.googleusercontent.com/a/default-user=s64",
      "userId": "18336248573599285046"
     },
     "user_tz": -180
    },
    "id": "WMsQpZwgHpUS",
    "outputId": "992c7708-8232-4c21-d7bf-d935e567b0e3"
   },
   "outputs": [
    {
     "name": "stdout",
     "output_type": "stream",
     "text": [
      ".. _iris_dataset:\n",
      "\n",
      "Iris plants dataset\n",
      "--------------------\n",
      "\n",
      "**Data Set Characteristics:**\n",
      "\n",
      "    :Number of Instances: 150 (50 in each of three classes)\n",
      "    :Number of Attributes: 4 numeric, predictive attributes and the class\n",
      "    :Attribute Information:\n",
      "        - sepal length in cm\n",
      "        - sepal width in cm\n",
      "        - petal length in cm\n",
      "        - petal width in cm\n",
      "        - class:\n",
      "                - Iris-Setosa\n",
      "                - Iris-Versicolour\n",
      "                - Iris-Virginica\n",
      "                \n",
      "    :Summary Statistics:\n",
      "\n",
      "    ============== ==== ==== ======= ===== ====================\n",
      "                    Min  Max   Mean    SD   Class Correlation\n",
      "    ============== ==== ==== ======= ===== ====================\n",
      "    sepal length:   4.3  7.9   5.84   0.83    0.7826\n",
      "    sepal width:    2.0  4.4   3.05   0.43   -0.4194\n",
      "    petal length:   1.0  6.9   3.76   1.76    0.9490  (high!)\n",
      "    petal width:    0.1  2.5   1.20   0.76    0.9565  (high!)\n",
      "    ============== ==== ==== ======= ===== ====================\n",
      "\n",
      "    :Missing Attribute Values: None\n",
      "    :Class Distribution: 33.3% for each of 3 classes.\n",
      "    :Creator: R.A. Fisher\n",
      "    :Donor: Michael Marshall (MARSHALL%PLU@io.arc.nasa.gov)\n",
      "    :Date: July, 1988\n",
      "\n",
      "The famous Iris database, first used by Sir R.A. Fisher. The dataset is taken\n",
      "from Fisher's paper. Note that it's the same as in R, but not as in the UCI\n",
      "Machine Learning Repository, which has two wrong data points.\n",
      "\n",
      "This is perhaps the best known database to be found in the\n",
      "pattern recognition literature.  Fisher's paper is a classic in the field and\n",
      "is referenced frequently to this day.  (See Duda & Hart, for example.)  The\n",
      "data set contains 3 classes of 50 instances each, where each class refers to a\n",
      "type of iris plant.  One class is linearly separable from the other 2; the\n",
      "latter are NOT linearly separable from each other.\n",
      "\n",
      ".. topic:: References\n",
      "\n",
      "   - Fisher, R.A. \"The use of multiple measurements in taxonomic problems\"\n",
      "     Annual Eugenics, 7, Part II, 179-188 (1936); also in \"Contributions to\n",
      "     Mathematical Statistics\" (John Wiley, NY, 1950).\n",
      "   - Duda, R.O., & Hart, P.E. (1973) Pattern Classification and Scene Analysis.\n",
      "     (Q327.D83) John Wiley & Sons.  ISBN 0-471-22361-1.  See page 218.\n",
      "   - Dasarathy, B.V. (1980) \"Nosing Around the Neighborhood: A New System\n",
      "     Structure and Classification Rule for Recognition in Partially Exposed\n",
      "     Environments\".  IEEE Transactions on Pattern Analysis and Machine\n",
      "     Intelligence, Vol. PAMI-2, No. 1, 67-71.\n",
      "   - Gates, G.W. (1972) \"The Reduced Nearest Neighbor Rule\".  IEEE Transactions\n",
      "     on Information Theory, May 1972, 431-433.\n",
      "   - See also: 1988 MLC Proceedings, 54-64.  Cheeseman et al\"s AUTOCLASS II\n",
      "     conceptual clustering system finds 3 classes in the data.\n",
      "   - Many, many more ...\n"
     ]
    }
   ],
   "source": [
    "dataset = datasets.load_iris()\n",
    "\n",
    "print(dataset.DESCR)"
   ]
  },
  {
   "cell_type": "markdown",
   "metadata": {
    "id": "BDR3ke4jHpUT"
   },
   "source": [
    "Если вы не знакомы с набором данных Iris - найдите минутку, чтобы прочитать описание выше =) (как всегда [подробнее об этом в Википедии](https://en.wikipedia.org/wiki/Iris_flower_data_set))\n",
    "\n",
    "__TL;DR__ 150 объектов, равномерно распределенных по 3 классам, каждый из которых описан 4 непрерывными функциями."
   ]
  },
  {
   "cell_type": "code",
   "execution_count": 7,
   "metadata": {
    "ExecuteTime": {
     "end_time": "2020-02-11T07:08:51.940271Z",
     "start_time": "2020-02-11T07:08:51.921326Z"
    },
    "colab": {
     "base_uri": "https://localhost:8080/",
     "height": 419
    },
    "executionInfo": {
     "elapsed": 350,
     "status": "ok",
     "timestamp": 1631624370924,
     "user": {
      "displayName": "Даниил Русланович Махоткин",
      "photoUrl": "https://lh3.googleusercontent.com/a/default-user=s64",
      "userId": "18336248573599285046"
     },
     "user_tz": -180
    },
    "id": "IbveXVELHpUU",
    "outputId": "f0878e77-f46f-4be9-cd32-6e2c7d187496"
   },
   "outputs": [
    {
     "data": {
      "text/html": [
       "<div>\n",
       "<style scoped>\n",
       "    .dataframe tbody tr th:only-of-type {\n",
       "        vertical-align: middle;\n",
       "    }\n",
       "\n",
       "    .dataframe tbody tr th {\n",
       "        vertical-align: top;\n",
       "    }\n",
       "\n",
       "    .dataframe thead th {\n",
       "        text-align: right;\n",
       "    }\n",
       "</style>\n",
       "<table border=\"1\" class=\"dataframe\">\n",
       "  <thead>\n",
       "    <tr style=\"text-align: right;\">\n",
       "      <th></th>\n",
       "      <th>sepal length (cm)</th>\n",
       "      <th>sepal width (cm)</th>\n",
       "      <th>petal length (cm)</th>\n",
       "      <th>petal width (cm)</th>\n",
       "      <th>target label</th>\n",
       "      <th>target name</th>\n",
       "    </tr>\n",
       "  </thead>\n",
       "  <tbody>\n",
       "    <tr>\n",
       "      <th>0</th>\n",
       "      <td>5.1</td>\n",
       "      <td>3.5</td>\n",
       "      <td>1.4</td>\n",
       "      <td>0.2</td>\n",
       "      <td>0</td>\n",
       "      <td>setosa</td>\n",
       "    </tr>\n",
       "    <tr>\n",
       "      <th>1</th>\n",
       "      <td>4.9</td>\n",
       "      <td>3.0</td>\n",
       "      <td>1.4</td>\n",
       "      <td>0.2</td>\n",
       "      <td>0</td>\n",
       "      <td>setosa</td>\n",
       "    </tr>\n",
       "    <tr>\n",
       "      <th>2</th>\n",
       "      <td>4.7</td>\n",
       "      <td>3.2</td>\n",
       "      <td>1.3</td>\n",
       "      <td>0.2</td>\n",
       "      <td>0</td>\n",
       "      <td>setosa</td>\n",
       "    </tr>\n",
       "    <tr>\n",
       "      <th>3</th>\n",
       "      <td>4.6</td>\n",
       "      <td>3.1</td>\n",
       "      <td>1.5</td>\n",
       "      <td>0.2</td>\n",
       "      <td>0</td>\n",
       "      <td>setosa</td>\n",
       "    </tr>\n",
       "    <tr>\n",
       "      <th>4</th>\n",
       "      <td>5.0</td>\n",
       "      <td>3.6</td>\n",
       "      <td>1.4</td>\n",
       "      <td>0.2</td>\n",
       "      <td>0</td>\n",
       "      <td>setosa</td>\n",
       "    </tr>\n",
       "    <tr>\n",
       "      <th>...</th>\n",
       "      <td>...</td>\n",
       "      <td>...</td>\n",
       "      <td>...</td>\n",
       "      <td>...</td>\n",
       "      <td>...</td>\n",
       "      <td>...</td>\n",
       "    </tr>\n",
       "    <tr>\n",
       "      <th>145</th>\n",
       "      <td>6.7</td>\n",
       "      <td>3.0</td>\n",
       "      <td>5.2</td>\n",
       "      <td>2.3</td>\n",
       "      <td>2</td>\n",
       "      <td>virginica</td>\n",
       "    </tr>\n",
       "    <tr>\n",
       "      <th>146</th>\n",
       "      <td>6.3</td>\n",
       "      <td>2.5</td>\n",
       "      <td>5.0</td>\n",
       "      <td>1.9</td>\n",
       "      <td>2</td>\n",
       "      <td>virginica</td>\n",
       "    </tr>\n",
       "    <tr>\n",
       "      <th>147</th>\n",
       "      <td>6.5</td>\n",
       "      <td>3.0</td>\n",
       "      <td>5.2</td>\n",
       "      <td>2.0</td>\n",
       "      <td>2</td>\n",
       "      <td>virginica</td>\n",
       "    </tr>\n",
       "    <tr>\n",
       "      <th>148</th>\n",
       "      <td>6.2</td>\n",
       "      <td>3.4</td>\n",
       "      <td>5.4</td>\n",
       "      <td>2.3</td>\n",
       "      <td>2</td>\n",
       "      <td>virginica</td>\n",
       "    </tr>\n",
       "    <tr>\n",
       "      <th>149</th>\n",
       "      <td>5.9</td>\n",
       "      <td>3.0</td>\n",
       "      <td>5.1</td>\n",
       "      <td>1.8</td>\n",
       "      <td>2</td>\n",
       "      <td>virginica</td>\n",
       "    </tr>\n",
       "  </tbody>\n",
       "</table>\n",
       "<p>150 rows × 6 columns</p>\n",
       "</div>"
      ],
      "text/plain": [
       "    sepal length (cm) sepal width (cm) petal length (cm) petal width (cm)  \\\n",
       "0                 5.1              3.5               1.4              0.2   \n",
       "1                 4.9              3.0               1.4              0.2   \n",
       "2                 4.7              3.2               1.3              0.2   \n",
       "3                 4.6              3.1               1.5              0.2   \n",
       "4                 5.0              3.6               1.4              0.2   \n",
       "..                ...              ...               ...              ...   \n",
       "145               6.7              3.0               5.2              2.3   \n",
       "146               6.3              2.5               5.0              1.9   \n",
       "147               6.5              3.0               5.2              2.0   \n",
       "148               6.2              3.4               5.4              2.3   \n",
       "149               5.9              3.0               5.1              1.8   \n",
       "\n",
       "    target label target name  \n",
       "0              0      setosa  \n",
       "1              0      setosa  \n",
       "2              0      setosa  \n",
       "3              0      setosa  \n",
       "4              0      setosa  \n",
       "..           ...         ...  \n",
       "145            2   virginica  \n",
       "146            2   virginica  \n",
       "147            2   virginica  \n",
       "148            2   virginica  \n",
       "149            2   virginica  \n",
       "\n",
       "[150 rows x 6 columns]"
      ]
     },
     "execution_count": 7,
     "metadata": {},
     "output_type": "execute_result"
    }
   ],
   "source": [
    "# пока не нужно разбираться, что происходит в этом коде - просто посмотрите на таблицу\n",
    "\n",
    "ext_target = dataset.target[:, None]\n",
    "pd.DataFrame(\n",
    "    np.concatenate((dataset.data, ext_target, dataset.target_names[ext_target]), axis=1),\n",
    "    columns=dataset.feature_names + ['target label', 'target name'],\n",
    ")"
   ]
  },
  {
   "cell_type": "markdown",
   "metadata": {
    "id": "4BfFzHh7HpUV"
   },
   "source": [
    "Теперь дайте разные имена данным, которые мы будем использовать."
   ]
  },
  {
   "cell_type": "code",
   "execution_count": 8,
   "metadata": {
    "ExecuteTime": {
     "end_time": "2020-02-11T07:08:52.604007Z",
     "start_time": "2020-02-11T07:08:52.599704Z"
    },
    "colab": {
     "base_uri": "https://localhost:8080/"
    },
    "executionInfo": {
     "elapsed": 324,
     "status": "ok",
     "timestamp": 1631625757450,
     "user": {
      "displayName": "Даниил Русланович Махоткин",
      "photoUrl": "https://lh3.googleusercontent.com/a/default-user=s64",
      "userId": "18336248573599285046"
     },
     "user_tz": -180
    },
    "id": "q1t7IXluHpUV",
    "outputId": "a762773e-4847-4f5c-9384-51fbbbd301ac"
   },
   "outputs": [
    {
     "data": {
      "text/plain": [
       "((150, 4), (150,))"
      ]
     },
     "execution_count": 8,
     "metadata": {},
     "output_type": "execute_result"
    }
   ],
   "source": [
    "features = dataset.data\n",
    "target = dataset.target\n",
    "\n",
    "features.shape, target.shape"
   ]
  },
  {
   "cell_type": "markdown",
   "metadata": {
    "id": "hPWlUPO0HpUV"
   },
   "source": [
    "__Пожалуйста, помните!!!__\n",
    "\n",
    "В любом месте нашего курса у нас есть соглашение формировать матрицу дизайна (названную «функциями» в приведенном выше коде) как\n",
    "\n",
    "`(#number_of_items, #number_of_features) - (#кол-во данных, #кол-во характеристик)`"
   ]
  },
  {
   "cell_type": "markdown",
   "metadata": {
    "id": "gQ8wbkbsHpUW"
   },
   "source": [
    "## Визуализация данных\n",
    "\n",
    "Наш набор данных имеет 4 измерения, однако люди чаще используют трехмерные или даже двухмерные данные, поэтому давайте нанесем первые 3 функции, окрашенные значениями меток."
   ]
  },
  {
   "cell_type": "code",
   "execution_count": 9,
   "metadata": {
    "ExecuteTime": {
     "end_time": "2020-02-11T07:09:01.519543Z",
     "start_time": "2020-02-11T07:09:01.508622Z"
    },
    "executionInfo": {
     "elapsed": 523,
     "status": "ok",
     "timestamp": 1631624383946,
     "user": {
      "displayName": "Даниил Русланович Махоткин",
      "photoUrl": "https://lh3.googleusercontent.com/a/default-user=s64",
      "userId": "18336248573599285046"
     },
     "user_tz": -180
    },
    "id": "1a9SQV2rHpUW"
   },
   "outputs": [],
   "source": [
    "from mpl_toolkits.mplot3d import Axes3D"
   ]
  },
  {
   "cell_type": "code",
   "execution_count": 10,
   "metadata": {
    "ExecuteTime": {
     "end_time": "2020-02-11T07:09:02.191167Z",
     "start_time": "2020-02-11T07:09:01.870454Z"
    },
    "colab": {
     "base_uri": "https://localhost:8080/",
     "height": 607
    },
    "executionInfo": {
     "elapsed": 4,
     "status": "ok",
     "timestamp": 1631624385390,
     "user": {
      "displayName": "Даниил Русланович Махоткин",
      "photoUrl": "https://lh3.googleusercontent.com/a/default-user=s64",
      "userId": "18336248573599285046"
     },
     "user_tz": -180
    },
    "id": "jYIfPnymHpUY",
    "outputId": "c25b10e6-f4c1-4654-fe9f-5f70b3c13a6c"
   },
   "outputs": [
    {
     "name": "stderr",
     "output_type": "stream",
     "text": [
      "C:\\Users\\Michail\\AppData\\Local\\Temp\\ipykernel_2308\\332545979.py:3: MatplotlibDeprecationWarning: Axes3D(fig) adding itself to the figure is deprecated since 3.4. Pass the keyword argument auto_add_to_figure=False and use fig.add_axes(ax) to suppress this warning. The default value of auto_add_to_figure will change to False in mpl3.5 and True values will no longer work in 3.6.  This is consistent with other Axes classes.\n",
      "  ax = Axes3D(fig)\n"
     ]
    },
    {
     "data": {
      "image/png": "[encoded data removed]",
      "text/plain": [
       "<Figure size 576x576 with 1 Axes>"
      ]
     },
     "metadata": {
      "needs_background": "light"
     },
     "output_type": "display_data"
    }
   ],
   "source": [
    "fig = plt.figure(figsize=(8, 8))\n",
    "\n",
    "ax = Axes3D(fig)\n",
    "\n",
    "ax.scatter(features[:, 0], features[:, 1], features[:, 3], c=target, marker='o')\n",
    "ax.set_xlabel(dataset.feature_names[0])\n",
    "ax.set_ylabel(dataset.feature_names[1])\n",
    "ax.set_zlabel(dataset.feature_names[2])\n",
    "\n",
    "plt.show()"
   ]
  },
  {
   "cell_type": "code",
   "execution_count": 11,
   "metadata": {
    "colab": {
     "base_uri": "https://localhost:8080/",
     "height": 204
    },
    "executionInfo": {
     "elapsed": 337,
     "status": "ok",
     "timestamp": 1631624779846,
     "user": {
      "displayName": "Даниил Русланович Махоткин",
      "photoUrl": "https://lh3.googleusercontent.com/a/default-user=s64",
      "userId": "18336248573599285046"
     },
     "user_tz": -180
    },
    "id": "ZjKoI2yDTXJm",
    "outputId": "121b4e53-8029-4917-c777-77ed76232eb6"
   },
   "outputs": [
    {
     "data": {
      "text/html": [
       "<div>\n",
       "<style scoped>\n",
       "    .dataframe tbody tr th:only-of-type {\n",
       "        vertical-align: middle;\n",
       "    }\n",
       "\n",
       "    .dataframe tbody tr th {\n",
       "        vertical-align: top;\n",
       "    }\n",
       "\n",
       "    .dataframe thead th {\n",
       "        text-align: right;\n",
       "    }\n",
       "</style>\n",
       "<table border=\"1\" class=\"dataframe\">\n",
       "  <thead>\n",
       "    <tr style=\"text-align: right;\">\n",
       "      <th></th>\n",
       "      <th>sepal length (cm)</th>\n",
       "      <th>sepal width (cm)</th>\n",
       "      <th>petal length (cm)</th>\n",
       "      <th>petal width (cm)</th>\n",
       "    </tr>\n",
       "  </thead>\n",
       "  <tbody>\n",
       "    <tr>\n",
       "      <th>0</th>\n",
       "      <td>5.1</td>\n",
       "      <td>3.5</td>\n",
       "      <td>1.4</td>\n",
       "      <td>0.2</td>\n",
       "    </tr>\n",
       "    <tr>\n",
       "      <th>1</th>\n",
       "      <td>4.9</td>\n",
       "      <td>3.0</td>\n",
       "      <td>1.4</td>\n",
       "      <td>0.2</td>\n",
       "    </tr>\n",
       "    <tr>\n",
       "      <th>2</th>\n",
       "      <td>4.7</td>\n",
       "      <td>3.2</td>\n",
       "      <td>1.3</td>\n",
       "      <td>0.2</td>\n",
       "    </tr>\n",
       "    <tr>\n",
       "      <th>3</th>\n",
       "      <td>4.6</td>\n",
       "      <td>3.1</td>\n",
       "      <td>1.5</td>\n",
       "      <td>0.2</td>\n",
       "    </tr>\n",
       "    <tr>\n",
       "      <th>4</th>\n",
       "      <td>5.0</td>\n",
       "      <td>3.6</td>\n",
       "      <td>1.4</td>\n",
       "      <td>0.2</td>\n",
       "    </tr>\n",
       "  </tbody>\n",
       "</table>\n",
       "</div>"
      ],
      "text/plain": [
       "   sepal length (cm)  sepal width (cm)  petal length (cm)  petal width (cm)\n",
       "0                5.1               3.5                1.4               0.2\n",
       "1                4.9               3.0                1.4               0.2\n",
       "2                4.7               3.2                1.3               0.2\n",
       "3                4.6               3.1                1.5               0.2\n",
       "4                5.0               3.6                1.4               0.2"
      ]
     },
     "execution_count": 11,
     "metadata": {},
     "output_type": "execute_result"
    }
   ],
   "source": [
    "# сформируем датасет\n",
    "X = pd.DataFrame(features, columns=dataset['feature_names'])\n",
    "\n",
    "X.head()"
   ]
  },
  {
   "cell_type": "code",
   "execution_count": 12,
   "metadata": {
    "colab": {
     "base_uri": "https://localhost:8080/"
    },
    "executionInfo": {
     "elapsed": 323,
     "status": "ok",
     "timestamp": 1631624858363,
     "user": {
      "displayName": "Даниил Русланович Махоткин",
      "photoUrl": "https://lh3.googleusercontent.com/a/default-user=s64",
      "userId": "18336248573599285046"
     },
     "user_tz": -180
    },
    "id": "rfwAaj0rTXJo",
    "outputId": "a21d8431-5bfa-4b02-c98d-ac78e072660c"
   },
   "outputs": [
    {
     "name": "stdout",
     "output_type": "stream",
     "text": [
      "['setosa' 'versicolor' 'virginica']\n"
     ]
    },
    {
     "data": {
      "text/plain": [
       "array([0, 0, 0, 0, 0, 0, 0, 0, 0, 0, 0, 0, 0, 0, 0, 0, 0, 0, 0, 0, 0, 0,\n",
       "       0, 0, 0, 0, 0, 0, 0, 0, 0, 0, 0, 0, 0, 0, 0, 0, 0, 0, 0, 0, 0, 0,\n",
       "       0, 0, 0, 0, 0, 0, 1, 1, 1, 1, 1, 1, 1, 1, 1, 1, 1, 1, 1, 1, 1, 1,\n",
       "       1, 1, 1, 1, 1, 1, 1, 1, 1, 1, 1, 1, 1, 1, 1, 1, 1, 1, 1, 1, 1, 1,\n",
       "       1, 1, 1, 1, 1, 1, 1, 1, 1, 1, 1, 1, 2, 2, 2, 2, 2, 2, 2, 2, 2, 2,\n",
       "       2, 2, 2, 2, 2, 2, 2, 2, 2, 2, 2, 2, 2, 2, 2, 2, 2, 2, 2, 2, 2, 2,\n",
       "       2, 2, 2, 2, 2, 2, 2, 2, 2, 2, 2, 2, 2, 2, 2, 2, 2, 2])"
      ]
     },
     "execution_count": 12,
     "metadata": {},
     "output_type": "execute_result"
    }
   ],
   "source": [
    "print(dataset['target_names'])\n",
    "y = target\n",
    "y"
   ]
  },
  {
   "cell_type": "code",
   "execution_count": 13,
   "metadata": {},
   "outputs": [],
   "source": [
    "df = X.copy()\n",
    "df['target'] = y"
   ]
  },
  {
   "cell_type": "code",
   "execution_count": 14,
   "metadata": {},
   "outputs": [
    {
     "data": {
      "image/png": "[encoded data removed]",
      "text/plain": [
       "<Figure size 432x288 with 1 Axes>"
      ]
     },
     "metadata": {
      "needs_background": "light"
     },
     "output_type": "display_data"
    }
   ],
   "source": [
    "# нарисуем распределение меток\n",
    "\n",
    "sns.histplot(x='target', data=df, bins=50, kde=True)\n",
    "plt.xlabel('target')\n",
    "plt.grid()\n",
    "plt.show()"
   ]
  },
  {
   "cell_type": "code",
   "execution_count": 15,
   "metadata": {},
   "outputs": [
    {
     "data": {
      "image/png": "[encoded data removed]",
      "text/plain": [
       "<Figure size 432x288 with 1 Axes>"
      ]
     },
     "metadata": {
      "needs_background": "light"
     },
     "output_type": "display_data"
    }
   ],
   "source": [
    "sns.scatterplot(x='sepal length (cm)', y='petal length (cm)', hue='target', data=df)\n",
    "plt.grid()\n",
    "plt.show()"
   ]
  },
  {
   "cell_type": "code",
   "execution_count": 16,
   "metadata": {},
   "outputs": [
    {
     "data": {
      "image/png": "[encoded data removed]",
      "text/plain": [
       "<Figure size 432x288 with 1 Axes>"
      ]
     },
     "metadata": {
      "needs_background": "light"
     },
     "output_type": "display_data"
    }
   ],
   "source": [
    "sns.lineplot(data=df, x=\"sepal length (cm)\", y=\"petal length (cm)\")\n",
    "plt.grid()\n",
    "plt.show()"
   ]
  },
  {
   "cell_type": "markdown",
   "metadata": {
    "id": "pAuijXY1HpUY"
   },
   "source": [
    "Затем посмотрите на распределения функций"
   ]
  },
  {
   "cell_type": "code",
   "execution_count": 17,
   "metadata": {},
   "outputs": [
    {
     "data": {
      "image/png": "[encoded data removed]",
      "text/plain": [
       "<Figure size 766.6x720 with 20 Axes>"
      ]
     },
     "metadata": {
      "needs_background": "light"
     },
     "output_type": "display_data"
    }
   ],
   "source": [
    "sns.pairplot(data=df, hue='target')\n",
    "plt.show()"
   ]
  },
  {
   "cell_type": "code",
   "execution_count": 18,
   "metadata": {},
   "outputs": [
    {
     "data": {
      "image/png": "[encoded data removed]",
      "text/plain": [
       "<Figure size 432x288 with 2 Axes>"
      ]
     },
     "metadata": {
      "needs_background": "light"
     },
     "output_type": "display_data"
    }
   ],
   "source": [
    "sns.heatmap(df.corr())\n",
    "plt.show()"
   ]
  },
  {
   "cell_type": "markdown",
   "metadata": {
    "id": "fWfZzocwHpUZ"
   },
   "source": [
    "Обратите внимание, что каждый график выше имеет собственный масштаб"
   ]
  },
  {
   "cell_type": "code",
   "execution_count": 19,
   "metadata": {},
   "outputs": [
    {
     "data": {
      "image/png": "[encoded data removed]",
      "text/plain": [
       "<Figure size 1440x576 with 4 Axes>"
      ]
     },
     "metadata": {
      "needs_background": "light"
     },
     "output_type": "display_data"
    }
   ],
   "source": [
    "plt.figure(figsize=(20 , 8))\n",
    "\n",
    "for i, col in enumerate(X.columns):\n",
    "    plt.subplot(1, len(X.columns), i + 1)\n",
    "    sns.boxplot(y=col, x='target', data=df)\n",
    "    plt.grid()\n",
    "    \n",
    "plt.show()"
   ]
  },
  {
   "cell_type": "markdown",
   "metadata": {
    "id": "XFARK34gHpUZ"
   },
   "source": [
    "# Naive Bayes Classifier"
   ]
  },
  {
   "cell_type": "markdown",
   "metadata": {
    "id": "msEPiYLdHpUZ"
   },
   "source": [
    "Поскольку мы стремимся сначала реализовать алгоритм наивного Байеса, нам нужно определить некоторое предварительное распределение.\n",
    "\n",
    "Наиболее распространенное распределение (конечно) гауссово, и его параметры - среднее значение и стандартное отклонение. Давайте реализуем класс, принимающий список значений признаков, оценивающий параметры распределения и способный дать плотность вероятности любого заданного значения признака."
   ]
  },
  {
   "cell_type": "markdown",
   "metadata": {
    "id": "41qX4kG5HpUa"
   },
   "source": [
    "Обозначим нормальное распределение $\\mathcal{N}(\\mu, \\sigma^2)$ PDF:\n",
    "$$\n",
    "f(x|\\mu, \\sigma^2) = \\frac{1}{\\sigma\\sqrt{2\\pi}}\\exp(-\\frac{(x - \\mu)^2}{2\\sigma^ 2})\n",
    "$$\n",
    "Давайте реализуем класс GaussianDistribution. (Конечно, на практике всегда можно использовать что-то вроде `scipy.stats.norm`).\n",
    "\n",
    "Обратите внимание, что выполнение вычислений с логарифмическими вероятностями более стабильно."
   ]
  },
  {
   "cell_type": "code",
   "execution_count": 26,
   "metadata": {
    "ExecuteTime": {
     "end_time": "2020-02-11T07:09:05.944368Z",
     "start_time": "2020-02-11T07:09:05.938558Z"
    },
    "executionInfo": {
     "elapsed": 337,
     "status": "ok",
     "timestamp": 1631624938232,
     "user": {
      "displayName": "Даниил Русланович Махоткин",
      "photoUrl": "https://lh3.googleusercontent.com/a/default-user=s64",
      "userId": "18336248573599285046"
     },
     "user_tz": -180
    },
    "id": "QniIGOrAHpUa"
   },
   "outputs": [],
   "source": [
    "class GaussianDistribution:\n",
    "    def __init__(self, feature):\n",
    "        '''\n",
    "        Args:\n",
    "            feature: column of design matrix, represents all available values\n",
    "                of feature to model.\n",
    "                axis=0 stays for samples.\n",
    "        '''\n",
    "        self.mean = feature.mean(axis=0)\n",
    "        self.std = feature.std(axis=0)\n",
    "\n",
    "    def logpdf(self, value):\n",
    "        '''Logarithm of probability density at value'''\n",
    "        return -0.5 * np.log(self.std ** 2 * 2 * np.pi) - (value - self.mean) ** 2 / (2 * self.std ** 2)\n",
    "    \n",
    "    def pdf(self, value):\n",
    "        return np.exp(self.logpdf(value))\n",
    "    \n",
    "    def __repr__(self):\n",
    "        return f'GaussianDistribution, mu={self.mean:.4f}, std={self.std:.4f}'"
   ]
  },
  {
   "cell_type": "markdown",
   "metadata": {
    "id": "9EOIdlxNHpUa"
   },
   "source": [
    "Проверяем результат:"
   ]
  },
  {
   "cell_type": "code",
   "execution_count": 27,
   "metadata": {},
   "outputs": [],
   "source": [
    "import scipy"
   ]
  },
  {
   "cell_type": "code",
   "execution_count": 28,
   "metadata": {
    "colab": {
     "base_uri": "https://localhost:8080/"
    },
    "executionInfo": {
     "elapsed": 325,
     "status": "ok",
     "timestamp": 1631624952079,
     "user": {
      "displayName": "Даниил Русланович Махоткин",
      "photoUrl": "https://lh3.googleusercontent.com/a/default-user=s64",
      "userId": "18336248573599285046"
     },
     "user_tz": -180
    },
    "id": "2IHj6eypHpUb",
    "outputId": "c1be7d81-fba1-4562-c1a8-58a41c9f59e5"
   },
   "outputs": [
    {
     "name": "stdout",
     "output_type": "stream",
     "text": [
      "Seems fine!\n"
     ]
    }
   ],
   "source": [
    "_test = scipy.stats.norm(loc=features[:, :2].mean(axis=0), scale=features[:, :2].std(axis=0))\n",
    "\n",
    "assert np.allclose(\n",
    "    GaussianDistribution(features[:, :2]).logpdf(features[:5, :2]),\n",
    "    _test.logpdf(features[:5, :2])\n",
    ")\n",
    "print('Seems fine!')"
   ]
  },
  {
   "cell_type": "markdown",
   "metadata": {
    "ExecuteTime": {
     "end_time": "2020-02-11T00:09:57.874598Z",
     "start_time": "2020-02-11T00:09:57.740553Z"
    },
    "id": "fhuh0JfpHpUb"
   },
   "source": [
    "Давайте теперь сосредоточимся на проблеме классификации. Для класса $K$ пометьте $y_i \\in \\{C_1, \\ldots, C_k\\}$. Задача классификации радужной оболочки имеет 3 класса, поэтому $K=3$. Теорема Байеса принимает следующий вид:\n",
    "\n",
    "$$\n",
    "P(y_i = C_k|\\mathbf{x}_i) = \\frac{P(\\mathbf{x}_i|y_i = C_k) P(y_i = C_k)}{P(\\mathbf{x}_i)}\n",
    "$$\n",
    "\n",
    "Обратите внимание, что здесь мы также предпочитаем работать с логарифмическими вероятностями. Таким образом, приведенное выше уравнение примет следующий вид:\n",
    "$$\n",
    "\\log P(y_i = C_k|\\mathbf{x}_i) = \\log P(\\mathbf{x}_i|y_i = C_k) + \\log P(y_i = C_k) - \\log P(\\mathbf{x} _я)\n",
    "$$\n",
    "\n",
    "Как можно заметить, для нахождения метки класса с наибольшей вероятностью нам даже не нужен последний член $P(\\mathbf{x}_i)$. Однако это необходимо для получения правильной оценки вероятности $P(y_i = C_k|\\mathbf{x}_i)$. Член $P(\\mathbf{x}_i)$ можно вычислить, используя следующее свойство:\n",
    "$$\n",
    "P(\\mathbf{x}_i) = \\sum_{k=1}^K P(\\mathbf{x}_i|y_i=C_k).\n",
    "$$\n",
    "Его можно вычислить из значений $\\log P(\\mathbf{x}_i|y_i=C_k)$ с помощью функции `logsumexp`, расположенной в `scipy.special`.\n",
    "\n",
    "Теперь давайте реализуем сам классификатор Naive Bayes. Приведенный ниже класс унаследован от базовых классов ```sklearn``` и предоставляет все основные методы."
   ]
  },
  {
   "cell_type": "code",
   "execution_count": 29,
   "metadata": {},
   "outputs": [],
   "source": [
    "from sklearn.base import BaseEstimator, ClassifierMixin\n",
    "from scipy.special import logsumexp"
   ]
  },
  {
   "cell_type": "code",
   "execution_count": null,
   "metadata": {
    "ExecuteTime": {
     "end_time": "2020-02-11T07:30:45.357053Z",
     "start_time": "2020-02-11T07:30:45.346489Z"
    },
    "executionInfo": {
     "elapsed": 474,
     "status": "ok",
     "timestamp": 1631625309101,
     "user": {
      "displayName": "Даниил Русланович Махоткин",
      "photoUrl": "https://lh3.googleusercontent.com/a/default-user=s64",
      "userId": "18336248573599285046"
     },
     "user_tz": -180
    },
    "id": "Hu_f04pNHpUc"
   },
   "outputs": [],
   "source": [
    "class NaiveBayes(BaseEstimator, ClassifierMixin):\n",
    "    '''\n",
    "    Обратите внимание, что использование `X` и `y` для матрицы дизайна и меток в целом не является хорошим выбором,\n",
    "    лучше придерживаться более информативных соглашений об именах.\n",
    "    Однако, чтобы сделать код совместимым с реализацией sklearn, мы используем здесь переменные `X` и `y`.\n",
    "    '''\n",
    "    def fit(self, X, y, sample_weight=None, distributions=None):\n",
    "        '''\n",
    "        sample_weight \n",
    "            The argument is ignored. For comatibility only.\n",
    "        '''\n",
    "        self.unique_labels = np.unique(y)\n",
    "        \n",
    "        # If distributions of features are not specified, they a treated Gaussian\n",
    "        if distributions is None:\n",
    "            distributions = [GaussianDistribution] * X.shape[1]\n",
    "        else:\n",
    "            # Check whether distributions are passed for all features\n",
    "            assert len(distributions) == X.shape[1]        \n",
    "\n",
    "        # Здесь мы находим параметры распределения для каждой функции в каждом подмножестве классов\n",
    "        # поэтому P(x^i|y=C_k) будет оцениваться только с использованием информации из i-го признака значений класса C_k\n",
    "        self.conditional_feature_distributions = {} # label: [distribution for feature 1, ...]\n",
    "        for label in self.unique_labels:\n",
    "            feature_distribution = []\n",
    "            for column_index in range(X.shape[1]):\n",
    "                # `column_index` feature values for objects from `label` class\n",
    "                feature_column = X[y == label, column_index]\n",
    "                fitted_distr = distributions[column_index](feature_column)\n",
    "                feature_distribution.append(fitted_distr)\n",
    "            self.conditional_feature_distributions[label] = feature_distribution\n",
    "\n",
    "        # Prior label distributions (unconditional probability of each class)\n",
    "        self.prior_label_distibution = {\n",
    "            # <YOUR CODE HERE>\n",
    "        }\n",
    "\n",
    "    def predict_log_proba(self, X):\n",
    "        # Matrix of shape (n_objects : n_classes)\n",
    "        class_log_probas = np.zeros((X.shape[0], len(self.unique_labels)), dtype=float)\n",
    "        \n",
    "        # Здесь мы вычисляем логарифмические вероятности класса для каждого класса последовательно\n",
    "        for label_idx, label in enumerate(self.unique_labels):\n",
    "            for idx in range(X.shape[1]):\n",
    "                # Вся логарифмическая вероятность для каждого признака -- фиксированная метка\n",
    "                class_log_probas[:, label_idx] += self.conditional_feature_distributions[label][idx].logpdf(X[:, idx]) # <YOUR CODE HERE>\n",
    "\n",
    "            # Add log proba of label prior\n",
    "            class_log_probas[:, label_idx] += np.log(self.prior_label_distibution[label]) # <YOUR CODE HERE>\n",
    "\n",
    "        for idx in range(X.shape[1]):\n",
    "            # Если вы хотите получить вероятности, вам нужно вычесть логарифмическую вероятность для каждой функции\n",
    "            class_log_probas -= logsumexp(class_log_probas, axis=1)[:, None] # <YOUR CODE HERE>\n",
    "        return class_log_probas\n",
    "    \n",
    "    def predict_proba(self, X):\n",
    "        return np.exp(self.predict_log_proba(X))\n",
    "    \n",
    "    def predict(self, X):\n",
    "        log_probas = self.predict_log_proba(X)\n",
    "        # нам нужно привести метки к их первоначальному виду (они могут начинаться с числа, отличного от 0)\n",
    "        return np.array([self.unique_labels[idx] for idx in log_probas.argmax(axis=1)])\n",
    "    "
   ]
  },
  {
   "cell_type": "code",
   "execution_count": null,
   "metadata": {
    "colab": {
     "base_uri": "https://localhost:8080/"
    },
    "executionInfo": {
     "elapsed": 4,
     "status": "ok",
     "timestamp": 1631625309600,
     "user": {
      "displayName": "Даниил Русланович Махоткин",
      "photoUrl": "https://lh3.googleusercontent.com/a/default-user=s64",
      "userId": "18336248573599285046"
     },
     "user_tz": -180
    },
    "id": "xPu6F9ntHpUc",
    "outputId": "ced9da36-c5f2-4677-be24-052dcf012df8"
   },
   "outputs": [],
   "source": [
    "nb = NaiveBayes()\n",
    "nb.fit(features, target)\n",
    "\n",
    "print('log probas:\\n{}'.format(nb.predict_log_proba(features[:2])))\n",
    "print('predicted labels:\\n{}'.format(nb.predict(features[:2])))\n",
    "print('\\nIt`s alive! More tests coming.')"
   ]
  },
  {
   "cell_type": "code",
   "execution_count": null,
   "metadata": {},
   "outputs": [],
   "source": [
    "nb.conditional_feature_distributions"
   ]
  },
  {
   "cell_type": "code",
   "execution_count": null,
   "metadata": {},
   "outputs": [],
   "source": [
    "nb.prior_label_distibution"
   ]
  },
  {
   "cell_type": "markdown",
   "metadata": {
    "id": "jzUcl0wdHpUd"
   },
   "source": [
    "Теперь давайте проверим наш наивный байесовский классификатор на необработанных данных. Для этого мы будем использовать `train_test_split` из `sklearn`."
   ]
  },
  {
   "cell_type": "code",
   "execution_count": null,
   "metadata": {},
   "outputs": [],
   "source": [
    "from sklearn.model_selection import train_test_split"
   ]
  },
  {
   "cell_type": "code",
   "execution_count": null,
   "metadata": {
    "colab": {
     "base_uri": "https://localhost:8080/"
    },
    "executionInfo": {
     "elapsed": 7,
     "status": "ok",
     "timestamp": 1631625313918,
     "user": {
      "displayName": "Даниил Русланович Махоткин",
      "photoUrl": "https://lh3.googleusercontent.com/a/default-user=s64",
      "userId": "18336248573599285046"
     },
     "user_tz": -180
    },
    "id": "eYRQ-WXkHpUd",
    "outputId": "e59364ca-9d8c-4e8e-bef7-1674969a5b78"
   },
   "outputs": [],
   "source": [
    "features_train, features_test, target_train, target_test = train_test_split(features, target, test_size=0.25)\n",
    "\n",
    "print(features_train.shape, features_test.shape)"
   ]
  },
  {
   "cell_type": "code",
   "execution_count": null,
   "metadata": {
    "ExecuteTime": {
     "end_time": "2020-02-11T07:30:45.713112Z",
     "start_time": "2020-02-11T07:30:45.709195Z"
    },
    "executionInfo": {
     "elapsed": 6,
     "status": "ok",
     "timestamp": 1631625314266,
     "user": {
      "displayName": "Даниил Русланович Махоткин",
      "photoUrl": "https://lh3.googleusercontent.com/a/default-user=s64",
      "userId": "18336248573599285046"
     },
     "user_tz": -180
    },
    "id": "7HpAdcIbHpUe"
   },
   "outputs": [],
   "source": [
    "nb = NaiveBayes()\n",
    "nb.fit(features_train, target_train, distributions=[GaussianDistribution]*4)\n",
    "nb_test_log_proba = nb.predict_log_proba(features_test)"
   ]
  },
  {
   "cell_type": "code",
   "execution_count": null,
   "metadata": {
    "colab": {
     "base_uri": "https://localhost:8080/"
    },
    "executionInfo": {
     "elapsed": 5,
     "status": "ok",
     "timestamp": 1631625314266,
     "user": {
      "displayName": "Даниил Русланович Махоткин",
      "photoUrl": "https://lh3.googleusercontent.com/a/default-user=s64",
      "userId": "18336248573599285046"
     },
     "user_tz": -180
    },
    "id": "TSNQTDpSHpUf",
    "outputId": "0fcea23e-4373-4db6-8720-079bf6e5af69"
   },
   "outputs": [],
   "source": [
    "print('Naive Bayes classifier accuracy on the train set: {}'.format(nb.score(features_train, target_train)))"
   ]
  },
  {
   "cell_type": "code",
   "execution_count": null,
   "metadata": {
    "colab": {
     "base_uri": "https://localhost:8080/"
    },
    "executionInfo": {
     "elapsed": 3,
     "status": "ok",
     "timestamp": 1631625314590,
     "user": {
      "displayName": "Даниил Русланович Махоткин",
      "photoUrl": "https://lh3.googleusercontent.com/a/default-user=s64",
      "userId": "18336248573599285046"
     },
     "user_tz": -180
    },
    "id": "mF6fyS6DHpUf",
    "outputId": "2dbd6f7b-129c-40f2-c543-a1c3cf9d0dfb"
   },
   "outputs": [],
   "source": [
    "print('Naive Bayes classifier accuracy on the test set: {}'.format(nb.score(features_test, target_test)))"
   ]
  },
  {
   "cell_type": "markdown",
   "metadata": {
    "id": "kfYLd09xHpUf"
   },
   "source": [
    "Наконец, давайте сравним наивный байесовский классификатор с реализациями ```sklearn```."
   ]
  },
  {
   "cell_type": "code",
   "execution_count": null,
   "metadata": {},
   "outputs": [],
   "source": [
    "from sklearn import naive_bayes"
   ]
  },
  {
   "cell_type": "code",
   "execution_count": null,
   "metadata": {
    "ExecuteTime": {
     "end_time": "2020-02-11T07:30:47.513267Z",
     "start_time": "2020-02-11T07:30:47.498843Z"
    },
    "executionInfo": {
     "elapsed": 4,
     "status": "ok",
     "timestamp": 1631625316212,
     "user": {
      "displayName": "Даниил Русланович Махоткин",
      "photoUrl": "https://lh3.googleusercontent.com/a/default-user=s64",
      "userId": "18336248573599285046"
     },
     "user_tz": -180
    },
    "id": "B9y4LL5LHpUf"
   },
   "outputs": [],
   "source": [
    "sklearn_nb = naive_bayes.GaussianNB()\n",
    "sklearn_nb.fit(features_train, target_train)\n",
    "sklearn_nb_test_log_proba = sklearn_nb.predict_log_proba(features_test)"
   ]
  },
  {
   "cell_type": "code",
   "execution_count": null,
   "metadata": {
    "colab": {
     "base_uri": "https://localhost:8080/"
    },
    "executionInfo": {
     "elapsed": 4,
     "status": "ok",
     "timestamp": 1631625316566,
     "user": {
      "displayName": "Даниил Русланович Махоткин",
      "photoUrl": "https://lh3.googleusercontent.com/a/default-user=s64",
      "userId": "18336248573599285046"
     },
     "user_tz": -180
    },
    "id": "IHLDpK4rHpUf",
    "outputId": "d255f183-510f-4398-ef97-1b7e562b0ba8"
   },
   "outputs": [],
   "source": [
    "print('sklearn implementation accuracy on the train set: {}'.format(sklearn_nb.score(features_train, target_train)))"
   ]
  },
  {
   "cell_type": "code",
   "execution_count": null,
   "metadata": {
    "colab": {
     "base_uri": "https://localhost:8080/"
    },
    "executionInfo": {
     "elapsed": 3,
     "status": "ok",
     "timestamp": 1631625316894,
     "user": {
      "displayName": "Даниил Русланович Махоткин",
      "photoUrl": "https://lh3.googleusercontent.com/a/default-user=s64",
      "userId": "18336248573599285046"
     },
     "user_tz": -180
    },
    "id": "xSBBFkvRHpUg",
    "outputId": "b48e8bac-8300-42a7-8916-d26e909b6d0b"
   },
   "outputs": [],
   "source": [
    "print('sklearn implementation accuracy on the test set: {}'.format(sklearn_nb.score(features_test, target_test)))"
   ]
  },
  {
   "cell_type": "markdown",
   "metadata": {
    "id": "-_BkHw77HpUg"
   },
   "source": [
    "Проверим прогнозы. Если вы использовали распределение Гаусса и все сделали правильно, логарифмические вероятности должны быть одинаковыми."
   ]
  },
  {
   "cell_type": "code",
   "execution_count": null,
   "metadata": {
    "ExecuteTime": {
     "end_time": "2020-02-11T07:30:47.853360Z",
     "start_time": "2020-02-11T07:30:47.841855Z"
    },
    "colab": {
     "base_uri": "https://localhost:8080/"
    },
    "executionInfo": {
     "elapsed": 376,
     "status": "ok",
     "timestamp": 1631625323897,
     "user": {
      "displayName": "Даниил Русланович Махоткин",
      "photoUrl": "https://lh3.googleusercontent.com/a/default-user=s64",
      "userId": "18336248573599285046"
     },
     "user_tz": -180
    },
    "id": "lS41GmHUHpUg",
    "outputId": "a3b9d541-00bb-4bdc-bc48-ea7b327532d2"
   },
   "outputs": [],
   "source": [
    "assert np.allclose(nb_test_log_proba, sklearn_nb_test_log_proba), 'log probabilities do not match'\n",
    "print('Seems alright!')"
   ]
  },
  {
   "cell_type": "markdown",
   "metadata": {
    "id": "ObtsdJSkTXJj"
   },
   "source": [
    "# kNN - метод ближайших соседей"
   ]
  },
  {
   "cell_type": "code",
   "execution_count": 30,
   "metadata": {
    "executionInfo": {
     "elapsed": 318,
     "status": "ok",
     "timestamp": 1631625332911,
     "user": {
      "displayName": "Даниил Русланович Махоткин",
      "photoUrl": "https://lh3.googleusercontent.com/a/default-user=s64",
      "userId": "18336248573599285046"
     },
     "user_tz": -180
    },
    "id": "IryPAcybTXJs"
   },
   "outputs": [],
   "source": [
    "from sklearn.model_selection import train_test_split\n",
    "from sklearn.metrics import accuracy_score\n",
    "from sklearn.neighbors import KNeighborsClassifier"
   ]
  },
  {
   "cell_type": "code",
   "execution_count": 31,
   "metadata": {
    "executionInfo": {
     "elapsed": 5,
     "status": "ok",
     "timestamp": 1631625334214,
     "user": {
      "displayName": "Даниил Русланович Махоткин",
      "photoUrl": "https://lh3.googleusercontent.com/a/default-user=s64",
      "userId": "18336248573599285046"
     },
     "user_tz": -180
    },
    "id": "PfEVdN4nTXJt"
   },
   "outputs": [],
   "source": [
    "X_train, X_test, y_train, y_test = train_test_split(X[['sepal length (cm)', 'petal length (cm)']], y,\n",
    "                                                    train_size=0.8, test_size=0.2,\n",
    "                                                    shuffle=True, random_state=42)"
   ]
  },
  {
   "cell_type": "code",
   "execution_count": 32,
   "metadata": {
    "colab": {
     "base_uri": "https://localhost:8080/"
    },
    "executionInfo": {
     "elapsed": 334,
     "status": "ok",
     "timestamp": 1631625347146,
     "user": {
      "displayName": "Даниил Русланович Махоткин",
      "photoUrl": "https://lh3.googleusercontent.com/a/default-user=s64",
      "userId": "18336248573599285046"
     },
     "user_tz": -180
    },
    "id": "pQeKFT_iTXJv",
    "outputId": "8c030ec3-4423-4ac0-c396-8342f3192e0a"
   },
   "outputs": [
    {
     "data": {
      "text/plain": [
       "((120, 2), (30, 2))"
      ]
     },
     "execution_count": 32,
     "metadata": {},
     "output_type": "execute_result"
    }
   ],
   "source": [
    "X_train.shape, X_test.shape"
   ]
  },
  {
   "cell_type": "code",
   "execution_count": 33,
   "metadata": {
    "executionInfo": {
     "elapsed": 326,
     "status": "ok",
     "timestamp": 1631625349179,
     "user": {
      "displayName": "Даниил Русланович Махоткин",
      "photoUrl": "https://lh3.googleusercontent.com/a/default-user=s64",
      "userId": "18336248573599285046"
     },
     "user_tz": -180
    },
    "id": "dDg2imYwTXJx"
   },
   "outputs": [],
   "source": [
    "knn = KNeighborsClassifier() # По умочанию - 5 соседей и Евклидова метрика"
   ]
  },
  {
   "cell_type": "code",
   "execution_count": 34,
   "metadata": {
    "colab": {
     "base_uri": "https://localhost:8080/"
    },
    "executionInfo": {
     "elapsed": 4,
     "status": "ok",
     "timestamp": 1631625349522,
     "user": {
      "displayName": "Даниил Русланович Махоткин",
      "photoUrl": "https://lh3.googleusercontent.com/a/default-user=s64",
      "userId": "18336248573599285046"
     },
     "user_tz": -180
    },
    "id": "h97CM2OuTXJz",
    "outputId": "de2e2e25-9422-44b3-e474-45a046a0f23f"
   },
   "outputs": [
    {
     "data": {
      "text/html": [
       "<style>#sk-container-id-1 {color: black;background-color: white;}#sk-container-id-1 pre{padding: 0;}#sk-container-id-1 div.sk-toggleable {background-color: white;}#sk-container-id-1 label.sk-toggleable__label {cursor: pointer;display: block;width: 100%;margin-bottom: 0;padding: 0.3em;box-sizing: border-box;text-align: center;}#sk-container-id-1 label.sk-toggleable__label-arrow:before {content: \"▸\";float: left;margin-right: 0.25em;color: #696969;}#sk-container-id-1 label.sk-toggleable__label-arrow:hover:before {color: black;}#sk-container-id-1 div.sk-estimator:hover label.sk-toggleable__label-arrow:before {color: black;}#sk-container-id-1 div.sk-toggleable__content {max-height: 0;max-width: 0;overflow: hidden;text-align: left;background-color: #f0f8ff;}#sk-container-id-1 div.sk-toggleable__content pre {margin: 0.2em;color: black;border-radius: 0.25em;background-color: #f0f8ff;}#sk-container-id-1 input.sk-toggleable__control:checked~div.sk-toggleable__content {max-height: 200px;max-width: 100%;overflow: auto;}#sk-container-id-1 input.sk-toggleable__control:checked~label.sk-toggleable__label-arrow:before {content: \"▾\";}#sk-container-id-1 div.sk-estimator input.sk-toggleable__control:checked~label.sk-toggleable__label {background-color: #d4ebff;}#sk-container-id-1 div.sk-label input.sk-toggleable__control:checked~label.sk-toggleable__label {background-color: #d4ebff;}#sk-container-id-1 input.sk-hidden--visually {border: 0;clip: rect(1px 1px 1px 1px);clip: rect(1px, 1px, 1px, 1px);height: 1px;margin: -1px;overflow: hidden;padding: 0;position: absolute;width: 1px;}#sk-container-id-1 div.sk-estimator {font-family: monospace;background-color: #f0f8ff;border: 1px dotted black;border-radius: 0.25em;box-sizing: border-box;margin-bottom: 0.5em;}#sk-container-id-1 div.sk-estimator:hover {background-color: #d4ebff;}#sk-container-id-1 div.sk-parallel-item::after {content: \"\";width: 100%;border-bottom: 1px solid gray;flex-grow: 1;}#sk-container-id-1 div.sk-label:hover label.sk-toggleable__label {background-color: #d4ebff;}#sk-container-id-1 div.sk-serial::before {content: \"\";position: absolute;border-left: 1px solid gray;box-sizing: border-box;top: 0;bottom: 0;left: 50%;z-index: 0;}#sk-container-id-1 div.sk-serial {display: flex;flex-direction: column;align-items: center;background-color: white;padding-right: 0.2em;padding-left: 0.2em;position: relative;}#sk-container-id-1 div.sk-item {position: relative;z-index: 1;}#sk-container-id-1 div.sk-parallel {display: flex;align-items: stretch;justify-content: center;background-color: white;position: relative;}#sk-container-id-1 div.sk-item::before, #sk-container-id-1 div.sk-parallel-item::before {content: \"\";position: absolute;border-left: 1px solid gray;box-sizing: border-box;top: 0;bottom: 0;left: 50%;z-index: -1;}#sk-container-id-1 div.sk-parallel-item {display: flex;flex-direction: column;z-index: 1;position: relative;background-color: white;}#sk-container-id-1 div.sk-parallel-item:first-child::after {align-self: flex-end;width: 50%;}#sk-container-id-1 div.sk-parallel-item:last-child::after {align-self: flex-start;width: 50%;}#sk-container-id-1 div.sk-parallel-item:only-child::after {width: 0;}#sk-container-id-1 div.sk-dashed-wrapped {border: 1px dashed gray;margin: 0 0.4em 0.5em 0.4em;box-sizing: border-box;padding-bottom: 0.4em;background-color: white;}#sk-container-id-1 div.sk-label label {font-family: monospace;font-weight: bold;display: inline-block;line-height: 1.2em;}#sk-container-id-1 div.sk-label-container {text-align: center;}#sk-container-id-1 div.sk-container {/* jupyter's `normalize.less` sets `[hidden] { display: none; }` but bootstrap.min.css set `[hidden] { display: none !important; }` so we also need the `!important` here to be able to override the default hidden behavior on the sphinx rendered scikit-learn.org. See: https://github.com/scikit-learn/scikit-learn/issues/21755 */display: inline-block !important;position: relative;}#sk-container-id-1 div.sk-text-repr-fallback {display: none;}</style><div id=\"sk-container-id-1\" class=\"sk-top-container\"><div class=\"sk-text-repr-fallback\"><pre>KNeighborsClassifier()</pre><b>In a Jupyter environment, please rerun this cell to show the HTML representation or trust the notebook. <br />On GitHub, the HTML representation is unable to render, please try loading this page with nbviewer.org.</b></div><div class=\"sk-container\" hidden><div class=\"sk-item\"><div class=\"sk-estimator sk-toggleable\"><input class=\"sk-toggleable__control sk-hidden--visually\" id=\"sk-estimator-id-1\" type=\"checkbox\" checked><label for=\"sk-estimator-id-1\" class=\"sk-toggleable__label sk-toggleable__label-arrow\">KNeighborsClassifier</label><div class=\"sk-toggleable__content\"><pre>KNeighborsClassifier()</pre></div></div></div></div></div>"
      ],
      "text/plain": [
       "KNeighborsClassifier()"
      ]
     },
     "execution_count": 34,
     "metadata": {},
     "output_type": "execute_result"
    }
   ],
   "source": [
    "knn.fit(X_train, y_train)"
   ]
  },
  {
   "cell_type": "code",
   "execution_count": 35,
   "metadata": {
    "executionInfo": {
     "elapsed": 2,
     "status": "ok",
     "timestamp": 1631625349931,
     "user": {
      "displayName": "Даниил Русланович Махоткин",
      "photoUrl": "https://lh3.googleusercontent.com/a/default-user=s64",
      "userId": "18336248573599285046"
     },
     "user_tz": -180
    },
    "id": "BSzKS5uCTXJ0"
   },
   "outputs": [],
   "source": [
    "pred = pd.DataFrame(knn.predict(X_test), columns=['predict'])\n",
    "pred['test'] = y_test"
   ]
  },
  {
   "cell_type": "code",
   "execution_count": 36,
   "metadata": {
    "colab": {
     "base_uri": "https://localhost:8080/",
     "height": 979
    },
    "executionInfo": {
     "elapsed": 10,
     "status": "ok",
     "timestamp": 1631625350360,
     "user": {
      "displayName": "Даниил Русланович Махоткин",
      "photoUrl": "https://lh3.googleusercontent.com/a/default-user=s64",
      "userId": "18336248573599285046"
     },
     "user_tz": -180
    },
    "id": "6uf2caHOTXJ2",
    "outputId": "49ec7b9f-a485-48fb-f8de-c0ed95153739"
   },
   "outputs": [
    {
     "data": {
      "text/html": [
       "<div>\n",
       "<style scoped>\n",
       "    .dataframe tbody tr th:only-of-type {\n",
       "        vertical-align: middle;\n",
       "    }\n",
       "\n",
       "    .dataframe tbody tr th {\n",
       "        vertical-align: top;\n",
       "    }\n",
       "\n",
       "    .dataframe thead th {\n",
       "        text-align: right;\n",
       "    }\n",
       "</style>\n",
       "<table border=\"1\" class=\"dataframe\">\n",
       "  <thead>\n",
       "    <tr style=\"text-align: right;\">\n",
       "      <th></th>\n",
       "      <th>predict</th>\n",
       "      <th>test</th>\n",
       "    </tr>\n",
       "  </thead>\n",
       "  <tbody>\n",
       "    <tr>\n",
       "      <th>0</th>\n",
       "      <td>1</td>\n",
       "      <td>1</td>\n",
       "    </tr>\n",
       "    <tr>\n",
       "      <th>1</th>\n",
       "      <td>0</td>\n",
       "      <td>0</td>\n",
       "    </tr>\n",
       "    <tr>\n",
       "      <th>2</th>\n",
       "      <td>2</td>\n",
       "      <td>2</td>\n",
       "    </tr>\n",
       "    <tr>\n",
       "      <th>3</th>\n",
       "      <td>1</td>\n",
       "      <td>1</td>\n",
       "    </tr>\n",
       "    <tr>\n",
       "      <th>4</th>\n",
       "      <td>1</td>\n",
       "      <td>1</td>\n",
       "    </tr>\n",
       "  </tbody>\n",
       "</table>\n",
       "</div>"
      ],
      "text/plain": [
       "   predict  test\n",
       "0        1     1\n",
       "1        0     0\n",
       "2        2     2\n",
       "3        1     1\n",
       "4        1     1"
      ]
     },
     "execution_count": 36,
     "metadata": {},
     "output_type": "execute_result"
    }
   ],
   "source": [
    "pred.head()"
   ]
  },
  {
   "cell_type": "code",
   "execution_count": 37,
   "metadata": {
    "colab": {
     "base_uri": "https://localhost:8080/"
    },
    "executionInfo": {
     "elapsed": 4,
     "status": "ok",
     "timestamp": 1631625352228,
     "user": {
      "displayName": "Даниил Русланович Махоткин",
      "photoUrl": "https://lh3.googleusercontent.com/a/default-user=s64",
      "userId": "18336248573599285046"
     },
     "user_tz": -180
    },
    "id": "EwFHy09XTXJ3",
    "outputId": "50979e3b-c299-459f-956d-638ebe99c9e8"
   },
   "outputs": [
    {
     "data": {
      "text/plain": [
       "0.9666666666666667"
      ]
     },
     "execution_count": 37,
     "metadata": {},
     "output_type": "execute_result"
    }
   ],
   "source": [
    "accuracy_score(knn.predict(X_test), y_test)"
   ]
  },
  {
   "cell_type": "code",
   "execution_count": 38,
   "metadata": {
    "colab": {
     "base_uri": "https://localhost:8080/"
    },
    "executionInfo": {
     "elapsed": 357,
     "status": "ok",
     "timestamp": 1631625355080,
     "user": {
      "displayName": "Даниил Русланович Махоткин",
      "photoUrl": "https://lh3.googleusercontent.com/a/default-user=s64",
      "userId": "18336248573599285046"
     },
     "user_tz": -180
    },
    "id": "9AD93OepTXJ4",
    "outputId": "262d1c9b-db45-4e3b-9391-58c54f26fe6c"
   },
   "outputs": [
    {
     "data": {
      "text/plain": [
       "0.9333333333333333"
      ]
     },
     "execution_count": 38,
     "metadata": {},
     "output_type": "execute_result"
    }
   ],
   "source": [
    "knn = KNeighborsClassifier(1)\n",
    "knn.fit(X_train, y_train)\n",
    "accuracy_score(knn.predict(X_test), y_test)"
   ]
  },
  {
   "cell_type": "code",
   "execution_count": 39,
   "metadata": {
    "colab": {
     "base_uri": "https://localhost:8080/"
    },
    "executionInfo": {
     "elapsed": 3,
     "status": "ok",
     "timestamp": 1631625355080,
     "user": {
      "displayName": "Даниил Русланович Махоткин",
      "photoUrl": "https://lh3.googleusercontent.com/a/default-user=s64",
      "userId": "18336248573599285046"
     },
     "user_tz": -180
    },
    "id": "63okWQcpTXJ6",
    "outputId": "7a944869-3b35-4a93-8edb-cba86c6e7454"
   },
   "outputs": [
    {
     "data": {
      "text/plain": [
       "0.6333333333333333"
      ]
     },
     "execution_count": 39,
     "metadata": {},
     "output_type": "execute_result"
    }
   ],
   "source": [
    "knn = KNeighborsClassifier(80)\n",
    "knn.fit(X_train, y_train)\n",
    "accuracy_score(knn.predict(X_test), y_test)"
   ]
  },
  {
   "cell_type": "markdown",
   "metadata": {
    "id": "Zh9Vml7xTXJ7"
   },
   "source": [
    "#### Ваш ход..."
   ]
  },
  {
   "cell_type": "code",
   "execution_count": null,
   "metadata": {},
   "outputs": [],
   "source": [
    "from sklearn.model_selection import GridSearchCV"
   ]
  },
  {
   "cell_type": "code",
   "execution_count": null,
   "metadata": {
    "id": "6Mo-o5wJTXJ7"
   },
   "outputs": [],
   "source": [
    "# Примените kNN для данных по всем признакам, какую метрику качества на тесте вы достигаете? \n",
    "\n",
    "# <YOUR CODE HERE>"
   ]
  },
  {
   "cell_type": "markdown",
   "metadata": {
    "id": "ysZ79LaHQHHr"
   },
   "source": [
    "## kNN from scratch\n",
    "\n",
    "В первом задании вы реализуете один из простейших алгоритмов машинного обучения - классификатор на основе метода K-ближайших соседей.\n",
    "Мы применим его к задачам\n",
    "- бинарной классификации (то есть, только двум классам)\n",
    "- многоклассовой классификации (то есть, нескольким классам)\n",
    "\n",
    "Так как методу необходим гиперпараметр (hyperparameter) - количество соседей, мы выберем его на основе кросс-валидации (cross-validation)."
   ]
  },
  {
   "cell_type": "code",
   "execution_count": 40,
   "metadata": {
    "executionInfo": {
     "elapsed": 522,
     "status": "ok",
     "timestamp": 1631625716126,
     "user": {
      "displayName": "Даниил Русланович Махоткин",
      "photoUrl": "https://lh3.googleusercontent.com/a/default-user=s64",
      "userId": "18336248573599285046"
     },
     "user_tz": -180
    },
    "id": "fBeacNuiQHHy"
   },
   "outputs": [],
   "source": [
    "from sklearn.datasets import load_digits"
   ]
  },
  {
   "cell_type": "markdown",
   "metadata": {
    "id": "kRjhhZvFQHH1"
   },
   "source": [
    "## Загрузим и визуализируем данные"
   ]
  },
  {
   "cell_type": "code",
   "execution_count": 41,
   "metadata": {
    "colab": {
     "base_uri": "https://localhost:8080/"
    },
    "executionInfo": {
     "elapsed": 325,
     "status": "ok",
     "timestamp": 1631625843895,
     "user": {
      "displayName": "Даниил Русланович Махоткин",
      "photoUrl": "https://lh3.googleusercontent.com/a/default-user=s64",
      "userId": "18336248573599285046"
     },
     "user_tz": -180
    },
    "id": "WhZZPi0DeO0K",
    "outputId": "f33ce89d-974e-493b-9aca-74118e5ff819"
   },
   "outputs": [
    {
     "name": "stdout",
     "output_type": "stream",
     "text": [
      ".. _digits_dataset:\n",
      "\n",
      "Optical recognition of handwritten digits dataset\n",
      "--------------------------------------------------\n",
      "\n",
      "**Data Set Characteristics:**\n",
      "\n",
      "    :Number of Instances: 1797\n",
      "    :Number of Attributes: 64\n",
      "    :Attribute Information: 8x8 image of integer pixels in the range 0..16.\n",
      "    :Missing Attribute Values: None\n",
      "    :Creator: E. Alpaydin (alpaydin '@' boun.edu.tr)\n",
      "    :Date: July; 1998\n",
      "\n",
      "This is a copy of the test set of the UCI ML hand-written digits datasets\n",
      "https://archive.ics.uci.edu/ml/datasets/Optical+Recognition+of+Handwritten+Digits\n",
      "\n",
      "The data set contains images of hand-written digits: 10 classes where\n",
      "each class refers to a digit.\n",
      "\n",
      "Preprocessing programs made available by NIST were used to extract\n",
      "normalized bitmaps of handwritten digits from a preprinted form. From a\n",
      "total of 43 people, 30 contributed to the training set and different 13\n",
      "to the test set. 32x32 bitmaps are divided into nonoverlapping blocks of\n",
      "4x4 and the number of on pixels are counted in each block. This generates\n",
      "an input matrix of 8x8 where each element is an integer in the range\n",
      "0..16. This reduces dimensionality and gives invariance to small\n",
      "distortions.\n",
      "\n",
      "For info on NIST preprocessing routines, see M. D. Garris, J. L. Blue, G.\n",
      "T. Candela, D. L. Dimmick, J. Geist, P. J. Grother, S. A. Janet, and C.\n",
      "L. Wilson, NIST Form-Based Handprint Recognition System, NISTIR 5469,\n",
      "1994.\n",
      "\n",
      ".. topic:: References\n",
      "\n",
      "  - C. Kaynak (1995) Methods of Combining Multiple Classifiers and Their\n",
      "    Applications to Handwritten Digit Recognition, MSc Thesis, Institute of\n",
      "    Graduate Studies in Science and Engineering, Bogazici University.\n",
      "  - E. Alpaydin, C. Kaynak (1998) Cascading Classifiers, Kybernetika.\n",
      "  - Ken Tang and Ponnuthurai N. Suganthan and Xi Yao and A. Kai Qin.\n",
      "    Linear dimensionalityreduction using relevance weighted LDA. School of\n",
      "    Electrical and Electronic Engineering Nanyang Technological University.\n",
      "    2005.\n",
      "  - Claudio Gentile. A New Approximate Maximal Margin Classification\n",
      "    Algorithm. NIPS. 2000.\n",
      "\n"
     ]
    }
   ],
   "source": [
    "dataset = datasets.load_digits()\n",
    "\n",
    "print(dataset.DESCR)"
   ]
  },
  {
   "cell_type": "code",
   "execution_count": 42,
   "metadata": {},
   "outputs": [
    {
     "data": {
      "text/plain": [
       "((1797, 64), (1797,))"
      ]
     },
     "execution_count": 42,
     "metadata": {},
     "output_type": "execute_result"
    }
   ],
   "source": [
    "features = dataset.data\n",
    "target = dataset.target\n",
    "\n",
    "features.shape, target.shape"
   ]
  },
  {
   "cell_type": "code",
   "execution_count": 43,
   "metadata": {
    "colab": {
     "base_uri": "https://localhost:8080/"
    },
    "executionInfo": {
     "elapsed": 347,
     "status": "ok",
     "timestamp": 1631626064203,
     "user": {
      "displayName": "Даниил Русланович Махоткин",
      "photoUrl": "https://lh3.googleusercontent.com/a/default-user=s64",
      "userId": "18336248573599285046"
     },
     "user_tz": -180
    },
    "id": "p3cfBHp9ekXK",
    "outputId": "3e80140e-26bc-47a6-e637-d9d7beb1aa5f"
   },
   "outputs": [
    {
     "name": "stdout",
     "output_type": "stream",
     "text": [
      "(1347, 64) (1347,)\n"
     ]
    }
   ],
   "source": [
    "train_X, test_X, train_y, test_y = train_test_split(features, target, test_size=0.25)\n",
    "\n",
    "print(train_X.shape, train_y.shape)"
   ]
  },
  {
   "cell_type": "code",
   "execution_count": 44,
   "metadata": {
    "colab": {
     "base_uri": "https://localhost:8080/"
    },
    "executionInfo": {
     "elapsed": 331,
     "status": "ok",
     "timestamp": 1631626066229,
     "user": {
      "displayName": "Даниил Русланович Махоткин",
      "photoUrl": "https://lh3.googleusercontent.com/a/default-user=s64",
      "userId": "18336248573599285046"
     },
     "user_tz": -180
    },
    "id": "aSyNNEjofRPC",
    "outputId": "e9dc965a-1f6c-4649-c212-dfb66892bcef"
   },
   "outputs": [
    {
     "data": {
      "text/plain": [
       "array([[ 0.,  0.,  7., ...,  2.,  0.,  0.],\n",
       "       [ 0.,  0.,  2., ..., 16., 16.,  7.],\n",
       "       [ 0.,  0.,  4., ...,  0.,  0.,  0.],\n",
       "       ...,\n",
       "       [ 0.,  0.,  4., ..., 14.,  3.,  0.],\n",
       "       [ 0.,  0.,  3., ...,  0.,  0.,  0.],\n",
       "       [ 0.,  0.,  0., ...,  0.,  0.,  0.]])"
      ]
     },
     "execution_count": 44,
     "metadata": {},
     "output_type": "execute_result"
    }
   ],
   "source": [
    "test_X"
   ]
  },
  {
   "cell_type": "code",
   "execution_count": 45,
   "metadata": {
    "colab": {
     "base_uri": "https://localhost:8080/",
     "height": 239
    },
    "executionInfo": {
     "elapsed": 1553,
     "status": "ok",
     "timestamp": 1631626095383,
     "user": {
      "displayName": "Даниил Русланович Махоткин",
      "photoUrl": "https://lh3.googleusercontent.com/a/default-user=s64",
      "userId": "18336248573599285046"
     },
     "user_tz": -180
    },
    "id": "XbTTwD05QHH5",
    "outputId": "52d6f057-a7b5-4609-8e5a-e812edbbae93"
   },
   "outputs": [
    {
     "data": {
      "image/png": "[encoded data removed]",
      "text/plain": [
       "<Figure size 432x288 with 50 Axes>"
      ]
     },
     "metadata": {
      "needs_background": "light"
     },
     "output_type": "display_data"
    }
   ],
   "source": [
    "samples_per_class = 5  # Number of samples per class to visualize\n",
    "plot_index = 1\n",
    "\n",
    "for example_index in range(samples_per_class):\n",
    "    for class_index in range(10):\n",
    "        plt.subplot(5, 10, plot_index)\n",
    "        image = train_X[train_y == class_index][example_index].reshape((8,8))\n",
    "        plt.imshow(image.astype(np.uint8))\n",
    "        plt.axis('off')\n",
    "        plot_index += 1"
   ]
  },
  {
   "cell_type": "markdown",
   "metadata": {
    "id": "-9rae3PyQHH-"
   },
   "source": [
    "## Сначала реализуем KNN для бинарной классификации\n",
    "\n",
    "В качестве задачи бинарной классификации мы натренируем модель, которая будет отличать цифру 0 от цифры 9."
   ]
  },
  {
   "cell_type": "code",
   "execution_count": 46,
   "metadata": {
    "executionInfo": {
     "elapsed": 322,
     "status": "ok",
     "timestamp": 1631626107032,
     "user": {
      "displayName": "Даниил Русланович Махоткин",
      "photoUrl": "https://lh3.googleusercontent.com/a/default-user=s64",
      "userId": "18336248573599285046"
     },
     "user_tz": -180
    },
    "id": "mjtY3TOBQHH-"
   },
   "outputs": [],
   "source": [
    "# Сначала подготовим метки и исходные данные\n",
    "\n",
    "# Выберите только 0 и 9\n",
    "binary_train_mask = (train_y == 0) | (train_y == 9)\n",
    "binary_train_X = train_X[binary_train_mask]\n",
    "binary_train_y = train_y[binary_train_mask] == 0\n",
    "\n",
    "binary_test_mask = (test_y == 0) | (test_y == 9)\n",
    "binary_test_X = test_X[binary_test_mask]\n",
    "binary_test_y = test_y[binary_test_mask] == 0\n",
    "\n",
    "# Преобразование в одномерный массив [num_samples, 32*32*3]\n",
    "binary_train_X = binary_train_X.reshape(binary_train_X.shape[0], -1)\n",
    "binary_test_X = binary_test_X.reshape(binary_test_X.shape[0], -1)"
   ]
  },
  {
   "cell_type": "code",
   "execution_count": 47,
   "metadata": {},
   "outputs": [
    {
     "data": {
      "text/plain": [
       "((259, 64), (259,))"
      ]
     },
     "execution_count": 47,
     "metadata": {},
     "output_type": "execute_result"
    }
   ],
   "source": [
    "binary_train_X.shape, binary_train_y.shape"
   ]
  },
  {
   "cell_type": "code",
   "execution_count": 48,
   "metadata": {},
   "outputs": [
    {
     "data": {
      "text/plain": [
       "((99, 64), (99,))"
      ]
     },
     "execution_count": 48,
     "metadata": {},
     "output_type": "execute_result"
    }
   ],
   "source": [
    "binary_test_X.shape, binary_test_y.shape"
   ]
  },
  {
   "cell_type": "code",
   "execution_count": 54,
   "metadata": {},
   "outputs": [],
   "source": [
    "import numpy as np\n",
    "from numpy.linalg import norm\n",
    "\n",
    "\n",
    "class KNN:\n",
    "    \"\"\"\n",
    "    K-neariest-neighbor classifier using L1 loss\n",
    "    \"\"\"\n",
    "    def __init__(self, k=5):\n",
    "        self.k = k\n",
    "\n",
    "    def fit(self, X, y):\n",
    "        self.train_X = X\n",
    "        self.train_y = y\n",
    "\n",
    "    def predict(self, X, num_loops=2):\n",
    "        '''\n",
    "        Uses the KNN model to predict clases for the data samples provided\n",
    "        \n",
    "        Arguments:\n",
    "        X, np array (num_samples, num_features) - samples to run\n",
    "           through the model\n",
    "        num_loops, int - which implementation to use\n",
    "\n",
    "        Returns:\n",
    "        predictions, np array of ints (num_samples) - predicted class\n",
    "           for each sample\n",
    "        '''\n",
    "        if num_loops == 0:\n",
    "            dists = self.compute_distances_no_loops(X)\n",
    "        elif num_loops == 1:\n",
    "            dists = self.compute_distances_one_loop(X)\n",
    "        else:\n",
    "            dists = self.compute_distances_two_loops(X)\n",
    "\n",
    "        if self.train_y.dtype == bool:\n",
    "            return self.predict_labels_binary(dists)\n",
    "        else:\n",
    "            return self.predict_labels_multiclass(dists)\n",
    "\n",
    "    def compute_distances_two_loops(self, X):\n",
    "        '''\n",
    "        Computes L1 distance from every sample of X to every training sample\n",
    "        Uses simplest implementation with 2 Python loops\n",
    "\n",
    "        Arguments:\n",
    "        X, np array (num_test_samples, num_features) - samples to run\n",
    "        \n",
    "        Returns:\n",
    "        dists, np array (num_test_samples, num_train_samples) - array\n",
    "           with distances between each test and each train sample\n",
    "        '''\n",
    "        num_train = self.train_X.shape[0]\n",
    "        num_test = X.shape[0]\n",
    "        dists = np.zeros((num_test, num_train), np.float32)\n",
    "        \n",
    "        for i_test in range(num_test):\n",
    "            for i_train in range(num_train):\n",
    "                dists[i_test, i_train] = norm(self.train_X[i_train] - X[i_test])\n",
    "                \n",
    "        return dists\n",
    "    \n",
    "    def compute_distances_one_loop(self, X):\n",
    "        '''\n",
    "        Computes L1 distance from every sample of X to every training sample\n",
    "        Vectorizes some of the calculations, so only 1 loop is used\n",
    "\n",
    "        Arguments:\n",
    "        X, np array (num_test_samples, num_features) - samples to run\n",
    "        \n",
    "        Returns:\n",
    "        dists, np array (num_test_samples, num_train_samples) - array\n",
    "           with distances between each test and each train sample\n",
    "        '''\n",
    "        num_train = self.train_X.shape[0]\n",
    "        num_test = X.shape[0]\n",
    "        dists = np.zeros((num_test, num_train), np.float32)\n",
    "        for i_test in range(num_test):\n",
    "            dists[i_test, :] = norm(self.train_X - X[i], axis=1)\n",
    "            \n",
    "        return dists\n",
    "\n",
    "    def compute_distances_no_loops(self, X):\n",
    "        '''\n",
    "        Computes L1 distance from every sample of X to every training sample\n",
    "        Fully vectorizes the calculations using numpy\n",
    "\n",
    "        Arguments:\n",
    "        X, np array (num_test_samples, num_features) - samples to run\n",
    "        \n",
    "        Returns:\n",
    "        dists, np array (num_test_samples, num_train_samples) - array\n",
    "           with distances between each test and each train sample\n",
    "        '''\n",
    "        num_test = X.shape[0]\n",
    "        num_train = self.X_train.shape[0]\n",
    "        dists = np.zeros((num_test, num_train), dtype=np.float32) \n",
    "\n",
    "        dists = -2 * X @ self.X_train.T\n",
    "        dists += np.array([np.sum(X ** 2, axis=1)]).T\n",
    "        dists += np.array([np.sum(self.X_train ** 2, axis=1)])\n",
    "\n",
    "        return np.sqrt(dists)\n",
    "\n",
    "    def predict_labels_binary(self, dists):\n",
    "        '''\n",
    "        Returns model predictions for binary classification case\n",
    "        \n",
    "        Arguments:\n",
    "        dists, np array (num_test_samples, num_train_samples) - array\n",
    "           with distances between each test and each train sample\n",
    "\n",
    "        Returns:\n",
    "        pred, np array of bool (num_test_samples) - binary predictions \n",
    "           for every test sample\n",
    "        '''\n",
    "        num_test = dists.shape[0]\n",
    "        pred = np.zeros(num_test, bool)\n",
    "        for i in range(num_test):            \n",
    "            ind = np.argsort(dists[i])[:self.k]\n",
    "            closest_y = self.y_train[ind]\n",
    "            \n",
    "            pred[i] = np.argmax(np.bincount(closest_y))\n",
    "            \n",
    "        return pred\n",
    "\n",
    "    def predict_labels_multiclass(self, dists):\n",
    "        '''\n",
    "        Returns model predictions for multi-class classification case\n",
    "        \n",
    "        Arguments:\n",
    "        dists, np array (num_test_samples, num_train_samples) - array\n",
    "           with distances between each test and each train sample\n",
    "\n",
    "        Returns:\n",
    "        pred, np array of int (num_test_samples) - predicted class index \n",
    "           for every test sample\n",
    "        '''\n",
    "        num_test = dists.shape[0]\n",
    "        pred = np.zeros(num_test, int)\n",
    "        for i in range(num_test):            \n",
    "            ind = np.argsort(dists[i])[:self.k]\n",
    "            closest_y = self.y_train[ind]\n",
    "            \n",
    "            pred[i] = np.argmax(np.bincount(closest_y))\n",
    "            \n",
    "        return pred"
   ]
  },
  {
   "cell_type": "code",
   "execution_count": 55,
   "metadata": {
    "executionInfo": {
     "elapsed": 325,
     "status": "ok",
     "timestamp": 1631626108797,
     "user": {
      "displayName": "Даниил Русланович Махоткин",
      "photoUrl": "https://lh3.googleusercontent.com/a/default-user=s64",
      "userId": "18336248573599285046"
     },
     "user_tz": -180
    },
    "id": "Pd0Ak_TrQHIC"
   },
   "outputs": [],
   "source": [
    "# Создайте классификатор и вызовите его для обучения модели\n",
    "# KNN просто запоминает все данные\n",
    "\n",
    "knn_classifier = KNN(k=1)\n",
    "knn_classifier.fit(binary_train_X, binary_train_y)"
   ]
  },
  {
   "cell_type": "markdown",
   "metadata": {
    "id": "HOQbp0_YQHIF"
   },
   "source": [
    "## Пришло время написать код! \n",
    "\n",
    "Последовательно реализуйте функции `compute_distances_two_loops`, `compute_distances_one_loop` и `compute_distances_no_loops`\n",
    "\n",
    "Эти функции строят массив расстояний между всеми векторами в тестовом наборе и в тренировочном наборе.  \n",
    "В результате они должны построить массив размера `(num_test, num_train)`, где координата `[i][j]` соотвествует расстоянию между i-м вектором в test (`test[i]`) и j-м вектором в train (`train[j]`).\n",
    "\n",
    "**Обратите внимание** Для простоты реализации мы будем использовать в качестве расстояния меру L1 (ее еще называют [Manhattan distance](https://ru.wikipedia.org/wiki/%D0%A0%D0%B0%D1%81%D1%81%D1%82%D0%BE%D1%8F%D0%BD%D0%B8%D0%B5_%D0%B3%D0%BE%D1%80%D0%BE%D0%B4%D1%81%D0%BA%D0%B8%D1%85_%D0%BA%D0%B2%D0%B0%D1%80%D1%82%D0%B0%D0%BB%D0%BE%D0%B2))."
   ]
  },
  {
   "cell_type": "code",
   "execution_count": 58,
   "metadata": {
    "executionInfo": {
     "elapsed": 322,
     "status": "ok",
     "timestamp": 1631626110653,
     "user": {
      "displayName": "Даниил Русланович Махоткин",
      "photoUrl": "https://lh3.googleusercontent.com/a/default-user=s64",
      "userId": "18336248573599285046"
     },
     "user_tz": -180
    },
    "id": "LoqhuKVuQHIG"
   },
   "outputs": [
    {
     "ename": "AssertionError",
     "evalue": "",
     "output_type": "error",
     "traceback": [
      "\u001b[1;31m---------------------------------------------------------------------------\u001b[0m",
      "\u001b[1;31mAssertionError\u001b[0m                            Traceback (most recent call last)",
      "Input \u001b[1;32mIn [58]\u001b[0m, in \u001b[0;36m<cell line: 3>\u001b[1;34m()\u001b[0m\n\u001b[0;32m      1\u001b[0m \u001b[38;5;66;03m# TODO: implement compute_distances_two_loops\u001b[39;00m\n\u001b[0;32m      2\u001b[0m dists \u001b[38;5;241m=\u001b[39m knn_classifier\u001b[38;5;241m.\u001b[39mcompute_distances_two_loops(binary_test_X)\n\u001b[1;32m----> 3\u001b[0m \u001b[38;5;28;01massert\u001b[39;00m np\u001b[38;5;241m.\u001b[39misclose(dists[\u001b[38;5;241m0\u001b[39m, \u001b[38;5;241m10\u001b[39m], np\u001b[38;5;241m.\u001b[39msqrt(np\u001b[38;5;241m.\u001b[39msum(np\u001b[38;5;241m.\u001b[39mabs(binary_test_X[\u001b[38;5;241m0\u001b[39m] \u001b[38;5;241m-\u001b[39m binary_train_X[\u001b[38;5;241m10\u001b[39m]))))\n",
      "\u001b[1;31mAssertionError\u001b[0m: "
     ]
    }
   ],
   "source": [
    "# TODO: implement compute_distances_two_loops\n",
    "dists = knn_classifier.compute_distances_two_loops(binary_test_X)\n",
    "assert np.isclose(dists[0, 10], np.sqrt(np.sum(np.abs(binary_test_X[0] - binary_train_X[10]))))"
   ]
  },
  {
   "cell_type": "code",
   "execution_count": null,
   "metadata": {
    "executionInfo": {
     "elapsed": 441,
     "status": "ok",
     "timestamp": 1631626112255,
     "user": {
      "displayName": "Даниил Русланович Махоткин",
      "photoUrl": "https://lh3.googleusercontent.com/a/default-user=s64",
      "userId": "18336248573599285046"
     },
     "user_tz": -180
    },
    "id": "SFH4h9XwQHIK"
   },
   "outputs": [],
   "source": [
    "# TODO: implement compute_distances_one_loop\n",
    "dists = knn_classifier.compute_distances_one_loop(binary_test_X)\n",
    "assert np.isclose(dists[0, 10], np.sum(np.abs(binary_test_X[0] - binary_train_X[10])))"
   ]
  },
  {
   "cell_type": "code",
   "execution_count": null,
   "metadata": {
    "executionInfo": {
     "elapsed": 4,
     "status": "ok",
     "timestamp": 1631626113430,
     "user": {
      "displayName": "Даниил Русланович Махоткин",
      "photoUrl": "https://lh3.googleusercontent.com/a/default-user=s64",
      "userId": "18336248573599285046"
     },
     "user_tz": -180
    },
    "id": "W5bPHkzSQHIN"
   },
   "outputs": [],
   "source": [
    "# TODO: implement compute_distances_no_loops\n",
    "dists = knn_classifier.compute_distances_no_loops(binary_test_X)\n",
    "assert np.isclose(dists[0, 10], np.sum(np.abs(binary_test_X[0] - binary_train_X[10])))"
   ]
  },
  {
   "cell_type": "code",
   "execution_count": null,
   "metadata": {
    "colab": {
     "base_uri": "https://localhost:8080/"
    },
    "executionInfo": {
     "elapsed": 17965,
     "status": "ok",
     "timestamp": 1631626132565,
     "user": {
      "displayName": "Даниил Русланович Махоткин",
      "photoUrl": "https://lh3.googleusercontent.com/a/default-user=s64",
      "userId": "18336248573599285046"
     },
     "user_tz": -180
    },
    "id": "EJiytRt2QHIQ",
    "outputId": "5c6b49f3-95ac-4a25-a68b-a93607d28306"
   },
   "outputs": [],
   "source": [
    "# Lets look at the performance difference\n",
    "%timeit knn_classifier.compute_distances_two_loops(binary_test_X)\n",
    "%timeit knn_classifier.compute_distances_one_loop(binary_test_X)\n",
    "%timeit knn_classifier.compute_distances_no_loops(binary_test_X)"
   ]
  },
  {
   "cell_type": "code",
   "execution_count": null,
   "metadata": {
    "executionInfo": {
     "elapsed": 569,
     "status": "ok",
     "timestamp": 1631626146432,
     "user": {
      "displayName": "Даниил Русланович Махоткин",
      "photoUrl": "https://lh3.googleusercontent.com/a/default-user=s64",
      "userId": "18336248573599285046"
     },
     "user_tz": -180
    },
    "id": "NXRJuPZLQHIU",
    "scrolled": true
   },
   "outputs": [],
   "source": [
    "# TODO: implement predict_labels_binary\n",
    "prediction = knn_classifier.predict(binary_test_X)"
   ]
  },
  {
   "cell_type": "code",
   "execution_count": null,
   "metadata": {
    "colab": {
     "base_uri": "https://localhost:8080/"
    },
    "executionInfo": {
     "elapsed": 321,
     "status": "ok",
     "timestamp": 1631626156007,
     "user": {
      "displayName": "Даниил Русланович Махоткин",
      "photoUrl": "https://lh3.googleusercontent.com/a/default-user=s64",
      "userId": "18336248573599285046"
     },
     "user_tz": -180
    },
    "id": "1n8WdFvOQHIX",
    "outputId": "e8619c5e-b180-46af-f315-39b53d61e7e2"
   },
   "outputs": [],
   "source": [
    "a = np.array([True, False, False, True, True])\n",
    "unique, counts = np.unique(a, return_counts=True)\n",
    "unique[np.argmax(counts)]"
   ]
  },
  {
   "cell_type": "code",
   "execution_count": null,
   "metadata": {
    "executionInfo": {
     "elapsed": 347,
     "status": "ok",
     "timestamp": 1631626678420,
     "user": {
      "displayName": "Даниил Русланович Махоткин",
      "photoUrl": "https://lh3.googleusercontent.com/a/default-user=s64",
      "userId": "18336248573599285046"
     },
     "user_tz": -180
    },
    "id": "Hhqqgp6ShOh9"
   },
   "outputs": [],
   "source": [
    "def binary_classification_metrics(prediction, ground_truth):\n",
    "    '''\n",
    "    Вычисляет метрики для бинарной классификации\n",
    "    Аргументы:\n",
    "     prediction, np массив bool (num_samples) - предсказания модели\n",
    "     ground_truth, np массив bool (num_samples) - истинные метки\n",
    "    Возвращает:\n",
    "     точность, отзыв, f1, точность - показатели классификации\n",
    "    '''\n",
    "    tp = np.sum([(prediction[i] == True and ground_truth[i] == True) for i in range(prediction.shape[0])])\n",
    "    tn = np.sum([(prediction[i] == False and ground_truth[i] == False) for i in range(prediction.shape[0])])\n",
    "    fp = np.sum([(prediction[i] == True and ground_truth[i] == False) for i in range(prediction.shape[0])])\n",
    "    fn = np.sum([(prediction[i] == False and ground_truth[i] == True) for i in range(prediction.shape[0])])\n",
    "            \n",
    "    precision = tp / (tp + fp)\n",
    "    recall = tp / (tp + fn)\n",
    "    accuracy = (tp + tn) / (tp + tn + fn + fp)\n",
    "    f1 = 2 * tp / (2 * tp + fp + fn )\n",
    "    \n",
    "    return precision, recall, f1, accuracy"
   ]
  },
  {
   "cell_type": "code",
   "execution_count": null,
   "metadata": {
    "colab": {
     "base_uri": "https://localhost:8080/"
    },
    "executionInfo": {
     "elapsed": 7,
     "status": "ok",
     "timestamp": 1631626678770,
     "user": {
      "displayName": "Даниил Русланович Махоткин",
      "photoUrl": "https://lh3.googleusercontent.com/a/default-user=s64",
      "userId": "18336248573599285046"
     },
     "user_tz": -180
    },
    "id": "JAUSqPiCQHIa",
    "outputId": "a425543d-6e97-490c-c5d2-77930d926a19"
   },
   "outputs": [],
   "source": [
    "# TODO: implement binary_classification_metrics\n",
    "precision, recall, f1, accuracy = binary_classification_metrics(prediction, binary_test_y)\n",
    "print(\"KNN with k = %s\" % knn_classifier.k)\n",
    "print(\"Accuracy: %4.2f, Precision: %4.2f, Recall: %4.2f, F1: %4.2f\" % (accuracy, precision, recall, f1)) "
   ]
  },
  {
   "cell_type": "code",
   "execution_count": null,
   "metadata": {
    "colab": {
     "base_uri": "https://localhost:8080/"
    },
    "executionInfo": {
     "elapsed": 343,
     "status": "ok",
     "timestamp": 1631626680306,
     "user": {
      "displayName": "Даниил Русланович Махоткин",
      "photoUrl": "https://lh3.googleusercontent.com/a/default-user=s64",
      "userId": "18336248573599285046"
     },
     "user_tz": -180
    },
    "id": "bd0SyMPcQHId",
    "outputId": "f20b1b14-31f5-4320-e52a-16ab7d8211f3"
   },
   "outputs": [],
   "source": [
    "# Давайте соберем все вместе и запустим KNN с k=3 и посмотрим, что у нас получится\n",
    "\n",
    "knn_classifier_3 = KNN(k=3)\n",
    "knn_classifier_3.fit(binary_train_X, binary_train_y)\n",
    "prediction = knn_classifier_3.predict(binary_test_X)\n",
    "\n",
    "precision, recall, f1, accuracy = binary_classification_metrics(prediction, binary_test_y)\n",
    "print(\"KNN with k = %s\" % knn_classifier_3.k)\n",
    "print(\"Accuracy: %4.2f, Precision: %4.2f, Recall: %4.2f, F1: %4.2f\" % (accuracy, precision, recall, f1)) "
   ]
  },
  {
   "cell_type": "markdown",
   "metadata": {
    "id": "acx-ruIkQHIf"
   },
   "source": [
    "# Кросс-валидация (cross-validation)\n",
    "\n",
    "Попробуем найти лучшее значение параметра k для алгоритма KNN! \n",
    "\n",
    "Для этого мы воспользуемся k-fold [cross-validation](https://en.wikipedia.org/wiki/Cross-validation_(statistics)#k-fold_cross-validation). Мы разделим тренировочные данные на 5 фолдов (folds), и по очереди будем использовать каждый из них в качестве проверочных данных (validation data), а остальные -- в качестве тренировочных (training data).\n",
    "\n",
    "В качестве финальной оценки эффективности k мы усредним значения F1 score на всех фолдах.\n",
    "После этого мы просто выберем значение k с лучшим значением метрики.\n",
    "\n",
    "*Бонус*: есть ли другие варианты агрегировать F1 score по всем фолдам? Напишите плюсы и минусы в клетке ниже."
   ]
  },
  {
   "cell_type": "code",
   "execution_count": null,
   "metadata": {
    "colab": {
     "base_uri": "https://localhost:8080/"
    },
    "executionInfo": {
     "elapsed": 340,
     "status": "ok",
     "timestamp": 1631626686962,
     "user": {
      "displayName": "Даниил Русланович Махоткин",
      "photoUrl": "https://lh3.googleusercontent.com/a/default-user=s64",
      "userId": "18336248573599285046"
     },
     "user_tz": -180
    },
    "id": "p-q1IaaTQHIg",
    "outputId": "8147a783-aa49-4a27-895e-2f4dffa02e82"
   },
   "outputs": [],
   "source": [
    "# Найдите лучший k, используя перекрестную проверку на основе оценки F1\n",
    "# TODO: разделить тренировочные данные на 5 частей и сохранить их в train_folds_X/train_folds_y\n",
    "num_folds = 5\n",
    "\n",
    "train_folds_X = # <YOUR CODE>\n",
    "train_folds_y = # <YOUR CODE>\n",
    "\n",
    "k_choices = [1, 2, 3, 4, 5, 6, 7, 8, 9, 10, 15, 20, 25, 50]\n",
    "k_to_f1 = {}  # отображает значения k в F1 (int -> float)"
   ]
  },
  {
   "cell_type": "code",
   "execution_count": null,
   "metadata": {},
   "outputs": [],
   "source": [
    "[x[0].shape for x in train_folds_X]"
   ]
  },
  {
   "cell_type": "code",
   "execution_count": null,
   "metadata": {
    "colab": {
     "base_uri": "https://localhost:8080/"
    },
    "executionInfo": {
     "elapsed": 6267,
     "status": "ok",
     "timestamp": 1631626694628,
     "user": {
      "displayName": "Даниил Русланович Махоткин",
      "photoUrl": "https://lh3.googleusercontent.com/a/default-user=s64",
      "userId": "18336248573599285046"
     },
     "user_tz": -180
    },
    "id": "WeToLg-AQHIi",
    "outputId": "b48f0e55-bad3-4c92-dc0f-ed11c65afa62"
   },
   "outputs": [],
   "source": [
    "for k in k_choices:\n",
    "    _f1 = np.zeros(num_folds)\n",
    "    for fold in range(num_folds):\n",
    "        _train_x = np.concatenate(np.delete(train_folds_X[:], fold, 0))\n",
    "        _test_x = train_folds_X[fold]\n",
    "        _train_y = np.concatenate(np.delete(train_folds_y[:], fold, 0))\n",
    "        _test_y = train_folds_y[fold]\n",
    "        knn = KNN(k)\n",
    "        knn.fit(_train_x, _train_y)\n",
    "        prediction = knn.predict(_test_x)\n",
    "        _, _, f1, _ = binary_classification_metrics(prediction, _test_y)\n",
    "        _f1[fold] = f1\n",
    "    k_to_f1.update({k : sum(_f1) / num_folds})\n",
    "\n",
    "for k in sorted(k_to_f1):\n",
    "    print('k = %d, f1 = %f' % (k, k_to_f1[k]))"
   ]
  },
  {
   "cell_type": "markdown",
   "metadata": {
    "id": "Ov-b6XBfQHIl"
   },
   "source": [
    "### Проверим, как хорошо работает лучшее значение k на тестовых данных (test data)"
   ]
  },
  {
   "cell_type": "code",
   "execution_count": null,
   "metadata": {
    "colab": {
     "base_uri": "https://localhost:8080/"
    },
    "executionInfo": {
     "elapsed": 325,
     "status": "ok",
     "timestamp": 1631626703828,
     "user": {
      "displayName": "Даниил Русланович Махоткин",
      "photoUrl": "https://lh3.googleusercontent.com/a/default-user=s64",
      "userId": "18336248573599285046"
     },
     "user_tz": -180
    },
    "id": "O0mqJ-T1QHIl",
    "outputId": "4de6de7e-3ed2-4dd7-cbdb-2bea902aae22"
   },
   "outputs": [],
   "source": [
    "# TODO: Установите лучший k на лучшее значение, найденное перекрестной проверкой\n",
    "\n",
    "best_k = None # <YOUR CODE HERE>\n",
    "\n",
    "best_knn_classifier = KNN(k=best_k)\n",
    "best_knn_classifier.fit(binary_train_X, binary_train_y)\n",
    "prediction = best_knn_classifier.predict(binary_test_X)\n",
    "\n",
    "precision, recall, f1, accuracy = binary_classification_metrics(prediction, binary_test_y)\n",
    "print(\"Best KNN with k = %s\" % best_k)\n",
    "print(\"Accuracy: %4.2f, Precision: %4.2f, Recall: %4.2f, F1: %4.2f\" % (accuracy, precision, recall, f1)) "
   ]
  },
  {
   "cell_type": "markdown",
   "metadata": {
    "id": "4WrA1l93QHIo"
   },
   "source": [
    "# Многоклассовая классификация (multi-class classification)\n",
    "\n",
    "Переходим к следующему этапу - классификации на каждую цифру."
   ]
  },
  {
   "cell_type": "code",
   "execution_count": null,
   "metadata": {
    "executionInfo": {
     "elapsed": 351,
     "status": "ok",
     "timestamp": 1631626710390,
     "user": {
      "displayName": "Даниил Русланович Махоткин",
      "photoUrl": "https://lh3.googleusercontent.com/a/default-user=s64",
      "userId": "18336248573599285046"
     },
     "user_tz": -180
    },
    "id": "w9xq5C-pQHIo"
   },
   "outputs": [],
   "source": [
    "# Теперь давайте использовать все 10 классов\n",
    "\n",
    "train_X = train_X.reshape(train_X.shape[0], -1)\n",
    "test_X = test_X.reshape(test_X.shape[0], -1)\n",
    "\n",
    "knn_classifier = KNN(k=1)\n",
    "knn_classifier.fit(train_X, train_y)"
   ]
  },
  {
   "cell_type": "code",
   "execution_count": null,
   "metadata": {
    "executionInfo": {
     "elapsed": 4693,
     "status": "ok",
     "timestamp": 1631626718095,
     "user": {
      "displayName": "Даниил Русланович Махоткин",
      "photoUrl": "https://lh3.googleusercontent.com/a/default-user=s64",
      "userId": "18336248573599285046"
     },
     "user_tz": -180
    },
    "id": "m6kGMvwNQHIr"
   },
   "outputs": [],
   "source": [
    "# TODO: Implement predict_labels_multiclass\n",
    "predict = knn_classifier.predict(test_X)"
   ]
  },
  {
   "cell_type": "code",
   "execution_count": null,
   "metadata": {
    "executionInfo": {
     "elapsed": 347,
     "status": "ok",
     "timestamp": 1631626865019,
     "user": {
      "displayName": "Даниил Русланович Махоткин",
      "photoUrl": "https://lh3.googleusercontent.com/a/default-user=s64",
      "userId": "18336248573599285046"
     },
     "user_tz": -180
    },
    "id": "GkzUpBtYhyVY"
   },
   "outputs": [],
   "source": [
    "def multiclass_accuracy(predictions, ground_truth):\n",
    "    accuracy = None # <YOUR CODE HERE>\n",
    "    \n",
    "    return accuracy"
   ]
  },
  {
   "cell_type": "code",
   "execution_count": null,
   "metadata": {
    "colab": {
     "base_uri": "https://localhost:8080/"
    },
    "executionInfo": {
     "elapsed": 7,
     "status": "ok",
     "timestamp": 1631626866459,
     "user": {
      "displayName": "Даниил Русланович Махоткин",
      "photoUrl": "https://lh3.googleusercontent.com/a/default-user=s64",
      "userId": "18336248573599285046"
     },
     "user_tz": -180
    },
    "id": "kEb43X-0QHIu",
    "outputId": "13589116-1727-4a87-a481-414ee7878616"
   },
   "outputs": [],
   "source": [
    "# TODO: Implement multiclass_accuracy\n",
    "\n",
    "accuracy = multiclass_accuracy(predict, test_y)\n",
    "print(\"Accuracy: %4.2f\" % accuracy)"
   ]
  },
  {
   "cell_type": "markdown",
   "metadata": {
    "id": "ASgYGtB1QHIx"
   },
   "source": [
    "Снова кросс-валидация. Теперь нашей основной метрикой стала точность (accuracy), и ее мы тоже будем усреднять по всем фолдам."
   ]
  },
  {
   "cell_type": "code",
   "execution_count": null,
   "metadata": {
    "colab": {
     "base_uri": "https://localhost:8080/"
    },
    "executionInfo": {
     "elapsed": 103936,
     "status": "ok",
     "timestamp": 1631626973500,
     "user": {
      "displayName": "Даниил Русланович Махоткин",
      "photoUrl": "https://lh3.googleusercontent.com/a/default-user=s64",
      "userId": "18336248573599285046"
     },
     "user_tz": -180
    },
    "id": "m3aljKqmQHIx",
    "outputId": "ecd90860-6dc6-48cb-bf0e-3d0cea6e7f1e"
   },
   "outputs": [],
   "source": [
    "%%time\n",
    "# Найдите лучший k, используя перекрестную проверку на основе точности\n",
    "# TODO: разделить тренировочные данные на 5 частей и сохранить их в train_folds_X/train_folds_y\n",
    "\n",
    "num_folds = 5\n",
    "train_folds_X = # <YOUR CODE>\n",
    "train_folds_y = # <YOUR CODE>\n",
    "\n",
    "\n",
    "k_choices = [1, 2, 3, 5, 8, 10, 15, 20, 25, 50]\n",
    "k_to_accuracy = {}\n",
    "\n",
    "for k in k_choices:\n",
    "    _acc = np.zeros(num_folds)\n",
    "    for fold in range(num_folds):\n",
    "        _train_x = np.concatenate(np.delete(train_folds_X[:], fold, 0))\n",
    "        _test_x = train_folds_X[fold]\n",
    "        _train_y = np.concatenate(np.delete(train_folds_y[:], fold, 0))\n",
    "        _test_y = train_folds_y[fold]\n",
    "        knn = KNN(k)\n",
    "        knn.fit(_train_x, _train_y)\n",
    "        prediction = knn.predict(_test_x)\n",
    "        acc = multiclass_accuracy(prediction, _test_y)\n",
    "        _acc[fold] = acc\n",
    "    k_to_accuracy.update({k : sum(_acc)/num_folds})\n",
    "\n",
    "\n",
    "for k in sorted(k_to_accuracy):\n",
    "    print('k = %d, accuracy = %f' % (k, k_to_accuracy[k]))"
   ]
  },
  {
   "cell_type": "markdown",
   "metadata": {
    "id": "lYMa-Ac-QHIz"
   },
   "source": [
    "### Финальный тест - классификация на 10 классов на тестовой выборке (test data)"
   ]
  },
  {
   "cell_type": "code",
   "execution_count": null,
   "metadata": {
    "colab": {
     "base_uri": "https://localhost:8080/"
    },
    "executionInfo": {
     "elapsed": 4573,
     "status": "ok",
     "timestamp": 1631626978064,
     "user": {
      "displayName": "Даниил Русланович Махоткин",
      "photoUrl": "https://lh3.googleusercontent.com/a/default-user=s64",
      "userId": "18336248573599285046"
     },
     "user_tz": -180
    },
    "id": "04JlzB8uQHI0",
    "outputId": "734b444f-c925-4f03-b379-1574345c579d"
   },
   "outputs": [],
   "source": [
    "# TODO: Установите лучший k на лучшее значение, найденное перекрестной проверкой\n",
    "\n",
    "best_k = None # <YOUR CODE HERE>\n",
    "\n",
    "best_knn_classifier = KNN(k=best_k)\n",
    "best_knn_classifier.fit(train_X, train_y)\n",
    "prediction = best_knn_classifier.predict(test_X)\n",
    "\n",
    "accuracy = multiclass_accuracy(prediction, test_y)\n",
    "print(\"Best KNN with k = %s\" % best_k)\n",
    "print(\"Accuracy: %4.2f\" % accuracy)"
   ]
  },
  {
   "cell_type": "code",
   "execution_count": null,
   "metadata": {
    "id": "44AzPecIfoVU"
   },
   "outputs": [],
   "source": []
  }
 ],
 "metadata": {
  "colab": {
   "name": "Seminar_01_Naive_Bayes_kNN_Solved.ipynb",
   "provenance": [
    {
     "file_id": "1fdRLtv6QoGQ962wpCEaCh0ZEopaG_lox",
     "timestamp": 1600752075180
    }
   ],
   "toc_visible": true
  },
  "kernelspec": {
   "display_name": "Python 3 (ipykernel)",
   "language": "python",
   "name": "python3"
  },
  "language_info": {
   "codemirror_mode": {
    "name": "ipython",
    "version": 3
   },
   "file_extension": ".py",
   "mimetype": "text/x-python",
   "name": "python",
   "nbconvert_exporter": "python",
   "pygments_lexer": "ipython3",
   "version": "3.9.12"
  }
 },
 "nbformat": 4,
 "nbformat_minor": 4
}
