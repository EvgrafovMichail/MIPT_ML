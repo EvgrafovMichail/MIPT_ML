{
 "cells": [
  {
   "cell_type": "markdown",
   "id": "06e07755-4668-4e9a-a63c-879356fa751c",
   "metadata": {
    "id": "06e07755-4668-4e9a-a63c-879356fa751c"
   },
   "source": [
    "# Семинар № 6 - VAE (ч1)"
   ]
  },
  {
   "cell_type": "markdown",
   "id": "50bf4f9c-e73a-4039-a7c9-bf3244a20642",
   "metadata": {
    "id": "50bf4f9c-e73a-4039-a7c9-bf3244a20642"
   },
   "source": [
    "# Imports "
   ]
  },
  {
   "cell_type": "code",
   "execution_count": 4,
   "id": "V8fscA5e7IOA",
   "metadata": {
    "colab": {
     "base_uri": "https://localhost:8080/"
    },
    "executionInfo": {
     "elapsed": 6973,
     "status": "ok",
     "timestamp": 1648571970666,
     "user": {
      "displayName": "Никита Гришин",
      "userId": "00970267534020248746"
     },
     "user_tz": -180
    },
    "id": "V8fscA5e7IOA",
    "outputId": "629eac17-af62-42e0-cd14-06fbe118b579"
   },
   "outputs": [
    {
     "name": "stdout",
     "output_type": "stream",
     "text": [
      "\u001b[K     |████████████████████████████████| 117 kB 5.4 MB/s \n",
      "\u001b[K     |████████████████████████████████| 948 kB 38.6 MB/s \n",
      "\u001b[?25h  Building wheel for albumentations (setup.py) ... \u001b[?25l\u001b[?25hdone\n",
      "albumentations==0.4.6 is successfully installed\n"
     ]
    }
   ],
   "source": [
    "# !pip install -q -U albumentations\n",
    "!pip install --upgrade -q albumentations==0.4.6\n",
    "!echo \"$(pip freeze | grep albumentations) is successfully installed\""
   ]
  },
  {
   "cell_type": "code",
   "execution_count": 1,
   "id": "8c31c38e-d5ab-464e-bd7b-fab51fc0a15f",
   "metadata": {
    "executionInfo": {
     "elapsed": 2478,
     "status": "ok",
     "timestamp": 1648571988760,
     "user": {
      "displayName": "Никита Гришин",
      "userId": "00970267534020248746"
     },
     "user_tz": -180
    },
    "id": "8c31c38e-d5ab-464e-bd7b-fab51fc0a15f"
   },
   "outputs": [],
   "source": [
    "import os\n",
    "from pathlib import Path\n",
    "import random\n",
    "import typing as tp\n",
    "from time import gmtime, strftime\n",
    "\n",
    "import yaml\n",
    "from tqdm import tqdm\n",
    "from cv2 import erode\n",
    "import numpy as np\n",
    "import matplotlib.pyplot as plt\n",
    "from skimage.io import imread\n",
    "from skimage.transform import rotate, rescale, resize\n",
    "\n",
    "import torch\n",
    "import torch.nn as nn\n",
    "import torch.optim as optim\n",
    "from torch.utils.data import Dataset, DataLoader\n",
    "from torch.utils.tensorboard import SummaryWriter\n",
    "import torchvision\n",
    "\n",
    "import albumentations as A\n",
    "from albumentations.pytorch.transforms import ToTensorV2"
   ]
  },
  {
   "cell_type": "code",
   "execution_count": 2,
   "id": "64850d89-2e8b-426f-a880-3daab2a87d68",
   "metadata": {
    "executionInfo": {
     "elapsed": 8,
     "status": "ok",
     "timestamp": 1648571988760,
     "user": {
      "displayName": "Никита Гришин",
      "userId": "00970267534020248746"
     },
     "user_tz": -180
    },
    "id": "64850d89-2e8b-426f-a880-3daab2a87d68"
   },
   "outputs": [],
   "source": [
    "def set_seed(seed):\n",
    "    np.random.seed(seed)\n",
    "    random.seed(seed)\n",
    "    torch.manual_seed(seed)\n",
    "    torch.cuda.manual_seed(seed)"
   ]
  },
  {
   "cell_type": "code",
   "execution_count": 3,
   "id": "cd56ec66-93cc-4f96-b31e-b1260519c0f2",
   "metadata": {
    "executionInfo": {
     "elapsed": 225,
     "status": "ok",
     "timestamp": 1648571991913,
     "user": {
      "displayName": "Никита Гришин",
      "userId": "00970267534020248746"
     },
     "user_tz": -180
    },
    "id": "cd56ec66-93cc-4f96-b31e-b1260519c0f2"
   },
   "outputs": [],
   "source": [
    "set_seed(42)\n",
    "\n",
    "DEVICE = torch.device('cuda:0') if torch.cuda.is_available() else torch.device('cpu')\n",
    "# DEVICE = torch.device('cpu')"
   ]
  },
  {
   "cell_type": "code",
   "execution_count": 4,
   "id": "gJF0VkhWjEr8",
   "metadata": {
    "colab": {
     "base_uri": "https://localhost:8080/"
    },
    "executionInfo": {
     "elapsed": 392,
     "status": "ok",
     "timestamp": 1648571996436,
     "user": {
      "displayName": "Никита Гришин",
      "userId": "00970267534020248746"
     },
     "user_tz": -180
    },
    "id": "gJF0VkhWjEr8",
    "outputId": "7766f214-f20b-4c60-bba7-3b3b59aabeb4"
   },
   "outputs": [
    {
     "data": {
      "text/plain": [
       "device(type='cuda', index=0)"
      ]
     },
     "execution_count": 4,
     "metadata": {},
     "output_type": "execute_result"
    }
   ],
   "source": [
    "DEVICE"
   ]
  },
  {
   "cell_type": "markdown",
   "id": "4cc30937-abbe-4c95-b6a8-ed3ab6d47148",
   "metadata": {
    "id": "4cc30937-abbe-4c95-b6a8-ed3ab6d47148",
    "tags": []
   },
   "source": [
    "# Набор данных\n"
   ]
  },
  {
   "cell_type": "code",
   "execution_count": 5,
   "id": "2624665b-b511-4493-96a8-cf9bd14c3e98",
   "metadata": {
    "colab": {
     "base_uri": "https://localhost:8080/",
     "height": 429,
     "referenced_widgets": [
      "6424d768f49147b2ad03c7298346b094",
      "60ef7e7f7776406ebef9166f6f86f559",
      "acf29d3a571844598390660447b6407e",
      "83a250b4393747bba9de0a2a0000983e",
      "123fbdd6b8ac489fbdd3c58399817f80",
      "7c69afc344754bc8959c4dfc9682a073",
      "e78bf932560f456b809135caf6ec96cb",
      "d43f4e055c8e4fa483ce86401badc9e8",
      "d0559c898a1f4ac8803f5e2be13e234c",
      "badf091712454bee854e6ea4454fea35",
      "8e93f1731e3b4b07be98e4849778ba2a",
      "335db9add6b74b79b0f697b184b56b3a",
      "ed1f39bb47a84ebdbdfe1821e6b643d3",
      "8fa4f63d65184e7cb5abad1b9f414524",
      "cd15518c00224e6583aa0eb5260ca205",
      "d99a3aede4e74b4085900e33bc06e211",
      "5f2d16e6fc654efd9fcf9499b5200c0e",
      "e6fa1fe4fa494cdda0422f10e5179d60",
      "f13550b0285f4af4a66477322ba05375",
      "fd7e4db18e3e4f1294f1381df8716e14",
      "bbd3700ba4654137ae0582eea859c536",
      "6071173a0346446c9ae54080b1af96fe",
      "a1da320509344a5baf909783f94b9b37",
      "adaaa9f50fa542b2b6c2c8e5c627905d",
      "f99fa57a947743f9b5150113d115e6f5",
      "df7c0e05663e4d489340ad406c0e6f2c",
      "8b871c9bf52c4ee78c9f8ac231d38446",
      "a8a160d4210d472e92ea98f32e8bbd0c",
      "8ed91559804a49b297c3e0389bed90a1",
      "41b6d00bdae447fcaa1508ab0bd25a00",
      "7316207200894d2ab5210fea24e3be8d",
      "a05cc6bfd73e49439cee5abed24b1169",
      "9f0921cdba444b75b73cd0b9cb09b184",
      "242a464680274dd9a456fee88bbac77f",
      "6cfca3b8565544cf9feba9d67d59c992",
      "45944059c80543499a5e2ea6315f2fb3",
      "471f4853f03e40649ec8eb2b52c2f2fe",
      "418b8472118c4f94b80b30dfedfc3997",
      "407a2d0df06043eab5a016abdeff31db",
      "4419d474993842c1ba624f12c3b0d96b",
      "572382391b0a4d27a199e74d7c248eea",
      "dfd9eb9dffba4fd3a1b1077a1f9bfd79",
      "b2a034479d4d4c328fc56163317c710d",
      "88606bdb72594f6faccb454e444be60a"
     ]
    },
    "executionInfo": {
     "elapsed": 2352,
     "status": "ok",
     "timestamp": 1648572001228,
     "user": {
      "displayName": "Никита Гришин",
      "userId": "00970267534020248746"
     },
     "user_tz": -180
    },
    "id": "2624665b-b511-4493-96a8-cf9bd14c3e98",
    "outputId": "a046111a-4265-4a92-bb37-2daa7777f036"
   },
   "outputs": [
    {
     "name": "stdout",
     "output_type": "stream",
     "text": [
      "Downloading http://yann.lecun.com/exdb/mnist/train-images-idx3-ubyte.gz\n",
      "Downloading http://yann.lecun.com/exdb/mnist/train-images-idx3-ubyte.gz to ./data/MNIST/raw/train-images-idx3-ubyte.gz\n"
     ]
    },
    {
     "data": {
      "application/vnd.jupyter.widget-view+json": {
       "model_id": "6424d768f49147b2ad03c7298346b094",
       "version_major": 2,
       "version_minor": 0
      },
      "text/plain": [
       "  0%|          | 0/9912422 [00:00<?, ?it/s]"
      ]
     },
     "metadata": {},
     "output_type": "display_data"
    },
    {
     "name": "stdout",
     "output_type": "stream",
     "text": [
      "Extracting ./data/MNIST/raw/train-images-idx3-ubyte.gz to ./data/MNIST/raw\n",
      "\n",
      "Downloading http://yann.lecun.com/exdb/mnist/train-labels-idx1-ubyte.gz\n",
      "Downloading http://yann.lecun.com/exdb/mnist/train-labels-idx1-ubyte.gz to ./data/MNIST/raw/train-labels-idx1-ubyte.gz\n"
     ]
    },
    {
     "data": {
      "application/vnd.jupyter.widget-view+json": {
       "model_id": "335db9add6b74b79b0f697b184b56b3a",
       "version_major": 2,
       "version_minor": 0
      },
      "text/plain": [
       "  0%|          | 0/28881 [00:00<?, ?it/s]"
      ]
     },
     "metadata": {},
     "output_type": "display_data"
    },
    {
     "name": "stdout",
     "output_type": "stream",
     "text": [
      "Extracting ./data/MNIST/raw/train-labels-idx1-ubyte.gz to ./data/MNIST/raw\n",
      "\n",
      "Downloading http://yann.lecun.com/exdb/mnist/t10k-images-idx3-ubyte.gz\n",
      "Downloading http://yann.lecun.com/exdb/mnist/t10k-images-idx3-ubyte.gz to ./data/MNIST/raw/t10k-images-idx3-ubyte.gz\n"
     ]
    },
    {
     "data": {
      "application/vnd.jupyter.widget-view+json": {
       "model_id": "a1da320509344a5baf909783f94b9b37",
       "version_major": 2,
       "version_minor": 0
      },
      "text/plain": [
       "  0%|          | 0/1648877 [00:00<?, ?it/s]"
      ]
     },
     "metadata": {},
     "output_type": "display_data"
    },
    {
     "name": "stdout",
     "output_type": "stream",
     "text": [
      "Extracting ./data/MNIST/raw/t10k-images-idx3-ubyte.gz to ./data/MNIST/raw\n",
      "\n",
      "Downloading http://yann.lecun.com/exdb/mnist/t10k-labels-idx1-ubyte.gz\n",
      "Downloading http://yann.lecun.com/exdb/mnist/t10k-labels-idx1-ubyte.gz to ./data/MNIST/raw/t10k-labels-idx1-ubyte.gz\n"
     ]
    },
    {
     "data": {
      "application/vnd.jupyter.widget-view+json": {
       "model_id": "242a464680274dd9a456fee88bbac77f",
       "version_major": 2,
       "version_minor": 0
      },
      "text/plain": [
       "  0%|          | 0/4542 [00:00<?, ?it/s]"
      ]
     },
     "metadata": {},
     "output_type": "display_data"
    },
    {
     "name": "stdout",
     "output_type": "stream",
     "text": [
      "Extracting ./data/MNIST/raw/t10k-labels-idx1-ubyte.gz to ./data/MNIST/raw\n",
      "\n"
     ]
    }
   ],
   "source": [
    "mnist_trainset = torchvision.datasets.MNIST(root='./data', train=True, download=True, transform=None)\n",
    "mnist_validset = torchvision.datasets.MNIST(root='./data', train=False, download=True, transform=None)"
   ]
  },
  {
   "cell_type": "code",
   "execution_count": 6,
   "id": "3ee4e4cc-7a6f-48e4-ac45-60e351a7e44e",
   "metadata": {
    "colab": {
     "base_uri": "https://localhost:8080/"
    },
    "executionInfo": {
     "elapsed": 9,
     "status": "ok",
     "timestamp": 1648572001229,
     "user": {
      "displayName": "Никита Гришин",
      "userId": "00970267534020248746"
     },
     "user_tz": -180
    },
    "id": "3ee4e4cc-7a6f-48e4-ac45-60e351a7e44e",
    "outputId": "ab991285-6b46-4741-80a1-03ad41af8701"
   },
   "outputs": [
    {
     "data": {
      "text/plain": [
       "(60000, 10000)"
      ]
     },
     "execution_count": 6,
     "metadata": {},
     "output_type": "execute_result"
    }
   ],
   "source": [
    "len(mnist_trainset), len(mnist_validset)"
   ]
  },
  {
   "cell_type": "code",
   "execution_count": 7,
   "id": "852d6e97-f358-489f-ab94-f7d0f9b88ab7",
   "metadata": {
    "executionInfo": {
     "elapsed": 8,
     "status": "ok",
     "timestamp": 1648572001229,
     "user": {
      "displayName": "Никита Гришин",
      "userId": "00970267534020248746"
     },
     "user_tz": -180
    },
    "id": "852d6e97-f358-489f-ab94-f7d0f9b88ab7"
   },
   "outputs": [],
   "source": [
    "img, label = mnist_trainset[8]"
   ]
  },
  {
   "cell_type": "code",
   "execution_count": 8,
   "id": "KEmp-MF7V2ph",
   "metadata": {
    "colab": {
     "base_uri": "https://localhost:8080/"
    },
    "executionInfo": {
     "elapsed": 9,
     "status": "ok",
     "timestamp": 1648572001230,
     "user": {
      "displayName": "Никита Гришин",
      "userId": "00970267534020248746"
     },
     "user_tz": -180
    },
    "id": "KEmp-MF7V2ph",
    "outputId": "024574bb-68ce-459b-d727-78347d79fb6a"
   },
   "outputs": [
    {
     "data": {
      "text/plain": [
       "1"
      ]
     },
     "execution_count": 8,
     "metadata": {},
     "output_type": "execute_result"
    }
   ],
   "source": [
    "label"
   ]
  },
  {
   "cell_type": "code",
   "execution_count": 9,
   "id": "0bc5a11e-b4c2-4088-b44f-f35bdcd32735",
   "metadata": {
    "colab": {
     "base_uri": "https://localhost:8080/",
     "height": 283
    },
    "executionInfo": {
     "elapsed": 4,
     "status": "ok",
     "timestamp": 1648572001738,
     "user": {
      "displayName": "Никита Гришин",
      "userId": "00970267534020248746"
     },
     "user_tz": -180
    },
    "id": "0bc5a11e-b4c2-4088-b44f-f35bdcd32735",
    "outputId": "19da5ebc-6ac6-4eda-ab9b-9fe16dd1a15d"
   },
   "outputs": [
    {
     "data": {
      "text/plain": [
       "<matplotlib.image.AxesImage at 0x7fb0bac04f10>"
      ]
     },
     "execution_count": 9,
     "metadata": {},
     "output_type": "execute_result"
    },
    {
     "data": {
      "image/png": "[encoded data removed]",
      "text/plain": [
       "<Figure size 432x288 with 1 Axes>"
      ]
     },
     "metadata": {
      "needs_background": "light"
     },
     "output_type": "display_data"
    }
   ],
   "source": [
    "plt.imshow(np.array(img))"
   ]
  },
  {
   "cell_type": "markdown",
   "id": "f2192dcc-051d-467b-a561-7395bdbc9411",
   "metadata": {
    "id": "f2192dcc-051d-467b-a561-7395bdbc9411"
   },
   "source": [
    "## Create dataset"
   ]
  },
  {
   "cell_type": "code",
   "execution_count": 10,
   "id": "1f7f1b42-e185-4d4e-9fae-c552a79d68cc",
   "metadata": {
    "executionInfo": {
     "elapsed": 3,
     "status": "ok",
     "timestamp": 1648572001739,
     "user": {
      "displayName": "Никита Гришин",
      "userId": "00970267534020248746"
     },
     "user_tz": -180
    },
    "id": "1f7f1b42-e185-4d4e-9fae-c552a79d68cc"
   },
   "outputs": [],
   "source": [
    "class MNISTDataset(Dataset):\n",
    "    def __init__(self, data,\n",
    "                 transforms: tp.Optional[A.BasicTransform] = None):\n",
    "        self.data = data\n",
    "        self.transforms = transforms\n",
    "\n",
    "    def __len__(self) -> int:\n",
    "        return len(self.data)\n",
    "\n",
    "    def __getitem__(self, idx: int) -> dict:\n",
    "        image, label = self.data[idx]\n",
    "        image = np.array(image)\n",
    "        \n",
    "        # check for dimensions            \n",
    "        if image.ndim == 2:\n",
    "            image = image[..., np.newaxis]\n",
    "            \n",
    "        result = {\"image\": image}\n",
    "\n",
    "        if self.transforms is not None:\n",
    "            result = self.transforms(**result)\n",
    "            \n",
    "        image = result['image']\n",
    "        label = torch.tensor(label).long()\n",
    "\n",
    "        return image, label"
   ]
  },
  {
   "cell_type": "markdown",
   "id": "f42b1529-7e1b-4bbf-bbe2-2e9a50ba5c5e",
   "metadata": {
    "id": "f42b1529-7e1b-4bbf-bbe2-2e9a50ba5c5e"
   },
   "source": [
    "## Create augs"
   ]
  },
  {
   "cell_type": "code",
   "execution_count": 11,
   "id": "YEWz8Nb2WEGd",
   "metadata": {
    "colab": {
     "base_uri": "https://localhost:8080/"
    },
    "executionInfo": {
     "elapsed": 2,
     "status": "ok",
     "timestamp": 1648572002044,
     "user": {
      "displayName": "Никита Гришин",
      "userId": "00970267534020248746"
     },
     "user_tz": -180
    },
    "id": "YEWz8Nb2WEGd",
    "outputId": "4094fd03-070d-4652-ee26-d42030bdfd97"
   },
   "outputs": [
    {
     "data": {
      "text/plain": [
       "numpy.ndarray"
      ]
     },
     "execution_count": 11,
     "metadata": {},
     "output_type": "execute_result"
    }
   ],
   "source": [
    "img, _ = mnist_trainset[1]\n",
    "type(np.array(img))"
   ]
  },
  {
   "cell_type": "code",
   "execution_count": 12,
   "id": "9b1ab3ba-d518-44f6-a221-afb50790a285",
   "metadata": {
    "executionInfo": {
     "elapsed": 2,
     "status": "ok",
     "timestamp": 1648572002461,
     "user": {
      "displayName": "Никита Гришин",
      "userId": "00970267534020248746"
     },
     "user_tz": -180
    },
    "id": "9b1ab3ba-d518-44f6-a221-afb50790a285"
   },
   "outputs": [],
   "source": [
    "def pre_transform() -> A.BasicTransform:\n",
    "    result = []\n",
    "    return A.Compose(result)\n",
    "\n",
    "\n",
    "def augmentations() -> A.BasicTransform:\n",
    "    result = [\n",
    "        # A.GaussNoise(),\n",
    "    ]\n",
    "    return A.Compose(result)\n",
    "\n",
    "\n",
    "def post_transform() -> A.BasicTransform:\n",
    "    return A.Compose([\n",
    "        A.Normalize(mean=0, \n",
    "                    std=1,\n",
    "                    max_pixel_value=255),\n",
    "        ToTensorV2()\n",
    "    ])"
   ]
  },
  {
   "cell_type": "code",
   "execution_count": 13,
   "id": "c72a52b3-0fff-424e-aef6-5e45f18aa050",
   "metadata": {
    "executionInfo": {
     "elapsed": 1,
     "status": "ok",
     "timestamp": 1648572002879,
     "user": {
      "displayName": "Никита Гришин",
      "userId": "00970267534020248746"
     },
     "user_tz": -180
    },
    "id": "c72a52b3-0fff-424e-aef6-5e45f18aa050",
    "tags": []
   },
   "outputs": [],
   "source": [
    "# Create train pipeline\n",
    "train_transformation = A.Compose([\n",
    "    pre_transform(), augmentations(), post_transform()\n",
    "])\n",
    "\n",
    "\n",
    "# Create valid pipeline\n",
    "valid_transformation = A.Compose([\n",
    "    pre_transform(), post_transform()\n",
    "])  "
   ]
  },
  {
   "cell_type": "markdown",
   "id": "6534e59e-8918-41a8-bcbd-1d8733735576",
   "metadata": {
    "id": "6534e59e-8918-41a8-bcbd-1d8733735576"
   },
   "source": [
    "### Check augs"
   ]
  },
  {
   "cell_type": "code",
   "execution_count": 14,
   "id": "47d8461c-db9b-4452-bbc2-1930c88fe747",
   "metadata": {
    "colab": {
     "base_uri": "https://localhost:8080/",
     "height": 440
    },
    "executionInfo": {
     "elapsed": 813,
     "status": "ok",
     "timestamp": 1648572003933,
     "user": {
      "displayName": "Никита Гришин",
      "userId": "00970267534020248746"
     },
     "user_tz": -180
    },
    "id": "47d8461c-db9b-4452-bbc2-1930c88fe747",
    "outputId": "cee623f7-71a5-4458-d82a-75bcc0a1a668"
   },
   "outputs": [
    {
     "data": {
      "image/png": "[encoded data removed]",
      "text/plain": [
       "<Figure size 691.2x518.4 with 4 Axes>"
      ]
     },
     "metadata": {
      "needs_background": "light"
     },
     "output_type": "display_data"
    }
   ],
   "source": [
    "_, ax = plt.subplots(2, 2, figsize=(6.4 * 1.5, 4.8 * 1.5))\n",
    "\n",
    "for i in range(4):\n",
    "    sample_idx = np.random.randint(0, len(mnist_trainset), 1)[0]\n",
    "    sample_image, _ = mnist_trainset[sample_idx]\n",
    "    sample_image = np.array(sample_image)[..., np.newaxis]\n",
    "    aug_image = train_transformation(image=sample_image)[\"image\"].numpy()\n",
    "    ax[i % 2][i // 2].imshow(aug_image[0])\n",
    "    \n",
    "plt.show()"
   ]
  },
  {
   "cell_type": "markdown",
   "id": "adfef722-142d-4405-a91a-487772decb82",
   "metadata": {
    "id": "adfef722-142d-4405-a91a-487772decb82"
   },
   "source": [
    "## Make DataLoader "
   ]
  },
  {
   "cell_type": "code",
   "execution_count": 15,
   "id": "44c485f4-e8fc-4045-8d12-742b0c971b45",
   "metadata": {
    "colab": {
     "base_uri": "https://localhost:8080/"
    },
    "executionInfo": {
     "elapsed": 5,
     "status": "ok",
     "timestamp": 1648572003934,
     "user": {
      "displayName": "Никита Гришин",
      "userId": "00970267534020248746"
     },
     "user_tz": -180
    },
    "id": "44c485f4-e8fc-4045-8d12-742b0c971b45",
    "outputId": "57cb9660-b8b3-4590-dff0-a59b5c048e70"
   },
   "outputs": [
    {
     "name": "stderr",
     "output_type": "stream",
     "text": [
      "/usr/local/lib/python3.7/dist-packages/torch/utils/data/dataloader.py:481: UserWarning: This DataLoader will create 4 worker processes in total. Our suggested max number of worker in current system is 2, which is smaller than what this DataLoader is going to create. Please be aware that excessive worker creation might get DataLoader running slow or even freeze, lower the worker number to avoid potential slowness/freeze if necessary.\n",
      "  cpuset_checked))\n"
     ]
    }
   ],
   "source": [
    "batch_size = 128\n",
    "num_workers = 4  # num_workers = 0 for local notebook on win \n",
    "\n",
    "train_dataset = MNISTDataset(mnist_trainset, train_transformation)\n",
    "train_loader = DataLoader(\n",
    "    train_dataset, \n",
    "    shuffle=True,\n",
    "    batch_size=batch_size,\n",
    "    num_workers=num_workers,\n",
    "    drop_last=True,\n",
    ")\n",
    "\n",
    "valid_dataset = MNISTDataset(mnist_validset, valid_transformation) \n",
    "valid_loader = DataLoader(\n",
    "    valid_dataset, \n",
    "    shuffle=False,\n",
    "    batch_size=batch_size,\n",
    "    num_workers=num_workers,\n",
    "    drop_last=True,\n",
    ")"
   ]
  },
  {
   "cell_type": "code",
   "execution_count": 16,
   "id": "005beade-ec6f-45bd-a81e-f45a3b3fbdb6",
   "metadata": {
    "colab": {
     "base_uri": "https://localhost:8080/"
    },
    "executionInfo": {
     "elapsed": 2,
     "status": "ok",
     "timestamp": 1648572004290,
     "user": {
      "displayName": "Никита Гришин",
      "userId": "00970267534020248746"
     },
     "user_tz": -180
    },
    "id": "005beade-ec6f-45bd-a81e-f45a3b3fbdb6",
    "outputId": "f074d1f0-4169-4184-f99a-ca4ba188c6c0"
   },
   "outputs": [
    {
     "name": "stderr",
     "output_type": "stream",
     "text": [
      "/usr/local/lib/python3.7/dist-packages/torch/utils/data/dataloader.py:481: UserWarning: This DataLoader will create 4 worker processes in total. Our suggested max number of worker in current system is 2, which is smaller than what this DataLoader is going to create. Please be aware that excessive worker creation might get DataLoader running slow or even freeze, lower the worker number to avoid potential slowness/freeze if necessary.\n",
      "  cpuset_checked))\n"
     ]
    },
    {
     "name": "stdout",
     "output_type": "stream",
     "text": [
      "Image batch shape: torch.Size([128, 1, 28, 28])\n"
     ]
    }
   ],
   "source": [
    "image, label = next(iter(train_loader))\n",
    "\n",
    "print('Image batch shape:', image.shape)"
   ]
  },
  {
   "cell_type": "markdown",
   "id": "0544d921-2089-4772-840d-eaf54a6b3936",
   "metadata": {
    "id": "0544d921-2089-4772-840d-eaf54a6b3936"
   },
   "source": [
    "# Create model "
   ]
  },
  {
   "cell_type": "code",
   "execution_count": 17,
   "id": "d2531718-f44d-41c9-808b-9bdd1252f30b",
   "metadata": {
    "executionInfo": {
     "elapsed": 2,
     "status": "ok",
     "timestamp": 1648572005054,
     "user": {
      "displayName": "Никита Гришин",
      "userId": "00970267534020248746"
     },
     "user_tz": -180
    },
    "id": "d2531718-f44d-41c9-808b-9bdd1252f30b"
   },
   "outputs": [],
   "source": [
    "class Encoder(nn.Module):\n",
    "    def __init__(self, latent_size: int = 2):\n",
    "        super().__init__()\n",
    "        self.latent_size = latent_size\n",
    "\n",
    "        # Create CNN encoder model\n",
    "        self.feature_extractor = nn.Sequential(\n",
    "            nn.Conv2d(1, 16, kernel_size=(3, 3), padding=1),\n",
    "            nn.ReLU(),\n",
    "            nn.MaxPool2d(2),  # 28 -> 14\n",
    "            nn.Conv2d(16, 32, kernel_size=(3, 3), padding=1),\n",
    "            nn.ReLU(),\n",
    "            nn.MaxPool2d(2),  # 14 -> 7\n",
    "            nn.Conv2d(32, 64, kernel_size=(3, 3), padding=1),\n",
    "            nn.ReLU(),\n",
    "            nn.AdaptiveAvgPool2d((1, 1)),\n",
    "            nn.Flatten()\n",
    "        )\n",
    "        self.fc_mean = nn.Linear(64, latent_size)\n",
    "        self.fc_var = nn.Linear(64, latent_size)\n",
    "        \n",
    "    def forward(self, images: torch.Tensor):\n",
    "        features = self.feature_extractor(images)\n",
    "        mean = self.fc_mean(features)\n",
    "        log_var = self.fc_var(features)\n",
    "\n",
    "        return mean, log_var"
   ]
  },
  {
   "cell_type": "code",
   "execution_count": 18,
   "id": "Gsyts3ruX4lu",
   "metadata": {
    "executionInfo": {
     "elapsed": 2,
     "status": "ok",
     "timestamp": 1648572005404,
     "user": {
      "displayName": "Никита Гришин",
      "userId": "00970267534020248746"
     },
     "user_tz": -180
    },
    "id": "Gsyts3ruX4lu"
   },
   "outputs": [],
   "source": [
    "x = torch.rand(12, 1, 28, 28)\n",
    "encoder = Encoder()"
   ]
  },
  {
   "cell_type": "code",
   "execution_count": 19,
   "id": "b298b759-49ee-488e-b9ba-53096c201ffc",
   "metadata": {
    "executionInfo": {
     "elapsed": 1,
     "status": "ok",
     "timestamp": 1648572006357,
     "user": {
      "displayName": "Никита Гришин",
      "userId": "00970267534020248746"
     },
     "user_tz": -180
    },
    "id": "b298b759-49ee-488e-b9ba-53096c201ffc"
   },
   "outputs": [],
   "source": [
    "class Decoder(nn.Module):\n",
    "    def __init__(self, latent_size: int = 2):\n",
    "        super().__init__()\n",
    "        self.latent_size = latent_size\n",
    "\n",
    "        # Create Decoder model!\n",
    "        self.map_generator = nn.Sequential(\n",
    "            nn.Linear(latent_size, 10 * 49),  # out: 10 x 7 x 7\n",
    "        )\n",
    "        # create up-sample layers\n",
    "        self.deconv = nn.Sequential(\n",
    "            nn.ConvTranspose2d(10, 10, kernel_size=(3, 3), stride=2, padding=1, output_padding=1), # 7 -> 14\n",
    "            nn.ReLU(),\n",
    "            nn.ConvTranspose2d(10, 3, kernel_size=(3, 3), stride=2, padding=1, output_padding=1), # 14 -> 28\n",
    "            nn.ReLU(),\n",
    "        )\n",
    "        # create final conv layer\n",
    "        self.output = nn.Sequential(\n",
    "            nn.Conv2d(3, 1, 3, padding=1),\n",
    "            nn.Tanh()\n",
    "        )\n",
    "            \n",
    "    def forward(self, points: torch.Tensor) -> torch.Tensor:\n",
    "        feature_map = self.map_generator(points)\n",
    "\n",
    "        # bs, ch -> bs, ch, h, w\n",
    "        feature_map = feature_map.reshape(feature_map.size(0), -1, 7, 7) \n",
    "        feature_map = self.deconv(feature_map)\n",
    "        \n",
    "        return self.output(feature_map)"
   ]
  },
  {
   "cell_type": "code",
   "execution_count": 20,
   "id": "xo7Lzbp7a_Qy",
   "metadata": {
    "colab": {
     "base_uri": "https://localhost:8080/"
    },
    "executionInfo": {
     "elapsed": 6,
     "status": "ok",
     "timestamp": 1648572006727,
     "user": {
      "displayName": "Никита Гришин",
      "userId": "00970267534020248746"
     },
     "user_tz": -180
    },
    "id": "xo7Lzbp7a_Qy",
    "outputId": "f4334744-d780-4007-8c55-756c8ff306e1"
   },
   "outputs": [
    {
     "data": {
      "text/plain": [
       "torch.Size([12, 1, 28, 28])"
      ]
     },
     "execution_count": 20,
     "metadata": {},
     "output_type": "execute_result"
    }
   ],
   "source": [
    "x = torch.rand(12, 2)\n",
    "decoder = Decoder(2)\n",
    "\n",
    "out = decoder(x)\n",
    "out.shape"
   ]
  },
  {
   "cell_type": "code",
   "execution_count": 21,
   "id": "9cf054d7-90c9-427f-b56b-7357fcb7fefd",
   "metadata": {
    "executionInfo": {
     "elapsed": 300,
     "status": "ok",
     "timestamp": 1648572008423,
     "user": {
      "displayName": "Никита Гришин",
      "userId": "00970267534020248746"
     },
     "user_tz": -180
    },
    "id": "9cf054d7-90c9-427f-b56b-7357fcb7fefd"
   },
   "outputs": [],
   "source": [
    "LOG_SCALE_MAX = 2\n",
    "LOG_SCALE_MIN = -10\n",
    "\n",
    "def normal_sample(loc: torch.Tensor, log_scale: torch.Tensor) -> torch.Tensor:\n",
    "    scale = torch.exp(0.5 * log_scale)\n",
    "    return loc + scale * torch.randn_like(scale)\n",
    "\n",
    "\n",
    "class VAE(nn.Module):\n",
    "    def __init__(self, latent_size: int = 2):\n",
    "        super().__init__()\n",
    "\n",
    "        self.encoder = Encoder(latent_size)\n",
    "        self.decoder = Decoder(latent_size)\n",
    "        \n",
    "    def forward(self, x: torch.Tensor):\n",
    "        mean, log_var = self.encoder(x)  # get mean and log_var for sampling\n",
    "        log_var = torch.clamp(log_var, LOG_SCALE_MIN, LOG_SCALE_MAX)\n",
    "\n",
    "        z_ = normal_sample(mean, log_var) if self.training else mean\n",
    "        x_ = self.decoder(z_)  # recreate object from z_\n",
    "\n",
    "        return x_, mean, log_var"
   ]
  },
  {
   "cell_type": "code",
   "execution_count": 22,
   "id": "4b557d39-ca26-4a62-b732-7d7be4ce75a2",
   "metadata": {
    "executionInfo": {
     "elapsed": 8071,
     "status": "ok",
     "timestamp": 1648572016844,
     "user": {
      "displayName": "Никита Гришин",
      "userId": "00970267534020248746"
     },
     "user_tz": -180
    },
    "id": "4b557d39-ca26-4a62-b732-7d7be4ce75a2"
   },
   "outputs": [],
   "source": [
    "latent_size = 16\n",
    "model = VAE(latent_size).to(DEVICE)"
   ]
  },
  {
   "cell_type": "code",
   "execution_count": 23,
   "id": "9d80edfa-2071-4cc8-ad33-403550147d2c",
   "metadata": {
    "executionInfo": {
     "elapsed": 6,
     "status": "ok",
     "timestamp": 1648572016844,
     "user": {
      "displayName": "Никита Гришин",
      "userId": "00970267534020248746"
     },
     "user_tz": -180
    },
    "id": "9d80edfa-2071-4cc8-ad33-403550147d2c"
   },
   "outputs": [],
   "source": [
    "x = torch.ones((256, 1, 28, 28)).to(DEVICE)\n",
    "\n",
    "x_hat, mean, log_var = model(x)"
   ]
  },
  {
   "cell_type": "code",
   "execution_count": 24,
   "id": "48b1baa3-424c-4ca5-b39f-a7a7d48131ed",
   "metadata": {
    "colab": {
     "base_uri": "https://localhost:8080/"
    },
    "executionInfo": {
     "elapsed": 6,
     "status": "ok",
     "timestamp": 1648572016844,
     "user": {
      "displayName": "Никита Гришин",
      "userId": "00970267534020248746"
     },
     "user_tz": -180
    },
    "id": "48b1baa3-424c-4ca5-b39f-a7a7d48131ed",
    "outputId": "9fe07ef9-b5f2-46f4-fe77-9af85d50817a"
   },
   "outputs": [
    {
     "data": {
      "text/plain": [
       "(torch.Size([256, 1, 28, 28]), torch.Size([256, 16]), torch.Size([256, 16]))"
      ]
     },
     "execution_count": 24,
     "metadata": {},
     "output_type": "execute_result"
    }
   ],
   "source": [
    "x_hat.shape, mean.shape, log_var.shape"
   ]
  },
  {
   "cell_type": "markdown",
   "id": "e90019ff-a4ae-43e9-9d58-76fc32771741",
   "metadata": {
    "id": "e90019ff-a4ae-43e9-9d58-76fc32771741",
    "tags": []
   },
   "source": [
    "## Define loss"
   ]
  },
  {
   "cell_type": "code",
   "execution_count": 25,
   "id": "5b3bfee2-a83a-47ad-864f-90266c34ce1c",
   "metadata": {
    "executionInfo": {
     "elapsed": 5,
     "status": "ok",
     "timestamp": 1648572016845,
     "user": {
      "displayName": "Никита Гришин",
      "userId": "00970267534020248746"
     },
     "user_tz": -180
    },
    "id": "5b3bfee2-a83a-47ad-864f-90266c34ce1c"
   },
   "outputs": [],
   "source": [
    "BCE_loss = nn.BCELoss()\n",
    "\n",
    "def KLD_loss(mean, log_var):\n",
    "     return (-0.5 * torch.sum(1 + log_var - mean.pow(2) - log_var.exp(), dim=1)).mean()"
   ]
  },
  {
   "cell_type": "code",
   "execution_count": 26,
   "id": "04ed9416-9b6c-4386-b8e6-4c559aa5455a",
   "metadata": {
    "colab": {
     "base_uri": "https://localhost:8080/"
    },
    "executionInfo": {
     "elapsed": 5,
     "status": "ok",
     "timestamp": 1648572016845,
     "user": {
      "displayName": "Никита Гришин",
      "userId": "00970267534020248746"
     },
     "user_tz": -180
    },
    "id": "04ed9416-9b6c-4386-b8e6-4c559aa5455a",
    "outputId": "86cf0e52-6298-4b64-c1e5-0248f972f048"
   },
   "outputs": [
    {
     "data": {
      "text/plain": [
       "tensor(0.0963, device='cuda:0', grad_fn=<MeanBackward0>)"
      ]
     },
     "execution_count": 26,
     "metadata": {},
     "output_type": "execute_result"
    }
   ],
   "source": [
    "KLD_loss(mean, log_var)"
   ]
  },
  {
   "cell_type": "code",
   "execution_count": 27,
   "id": "183626ab-9153-4b2d-9142-f807074988ad",
   "metadata": {
    "colab": {
     "base_uri": "https://localhost:8080/"
    },
    "executionInfo": {
     "elapsed": 337,
     "status": "ok",
     "timestamp": 1648572018612,
     "user": {
      "displayName": "Никита Гришин",
      "userId": "00970267534020248746"
     },
     "user_tz": -180
    },
    "id": "183626ab-9153-4b2d-9142-f807074988ad",
    "outputId": "bc697a76-6718-42c5-97c2-9551f8c67eee"
   },
   "outputs": [
    {
     "data": {
      "text/plain": [
       "tensor(0.7824, device='cuda:0', grad_fn=<BinaryCrossEntropyBackward0>)"
      ]
     },
     "execution_count": 27,
     "metadata": {},
     "output_type": "execute_result"
    }
   ],
   "source": [
    "BCE_loss(x_hat.sigmoid(), x)"
   ]
  },
  {
   "cell_type": "code",
   "execution_count": 47,
   "id": "35be4ae5-d0bd-4ffd-96a5-27625602722c",
   "metadata": {
    "executionInfo": {
     "elapsed": 330,
     "status": "ok",
     "timestamp": 1648572208411,
     "user": {
      "displayName": "Никита Гришин",
      "userId": "00970267534020248746"
     },
     "user_tz": -180
    },
    "id": "35be4ae5-d0bd-4ffd-96a5-27625602722c"
   },
   "outputs": [],
   "source": [
    "lr = 1e-3\n",
    "optimizer = torch.optim.Adam(model.parameters(), lr=lr, weight_decay=1e-3)"
   ]
  },
  {
   "cell_type": "markdown",
   "id": "da0d2ad5-430a-4ea1-93a9-48f7bad0cdf2",
   "metadata": {
    "id": "da0d2ad5-430a-4ea1-93a9-48f7bad0cdf2"
   },
   "source": [
    "## Train loop"
   ]
  },
  {
   "cell_type": "code",
   "execution_count": 48,
   "id": "d7522731-c3b7-4440-9a7f-4a330b98bd3f",
   "metadata": {
    "executionInfo": {
     "elapsed": 1,
     "status": "ok",
     "timestamp": 1648572208628,
     "user": {
      "displayName": "Никита Гришин",
      "userId": "00970267534020248746"
     },
     "user_tz": -180
    },
    "id": "d7522731-c3b7-4440-9a7f-4a330b98bd3f"
   },
   "outputs": [],
   "source": [
    "epochs = 20"
   ]
  },
  {
   "cell_type": "code",
   "execution_count": 49,
   "id": "5b5d11d9-3540-4670-8f58-35b59348063e",
   "metadata": {
    "colab": {
     "base_uri": "https://localhost:8080/"
    },
    "executionInfo": {
     "elapsed": 356489,
     "status": "ok",
     "timestamp": 1648572565722,
     "user": {
      "displayName": "Никита Гришин",
      "userId": "00970267534020248746"
     },
     "user_tz": -180
    },
    "id": "5b5d11d9-3540-4670-8f58-35b59348063e",
    "outputId": "24399e3e-af7a-454e-cf1f-7017539cccf2"
   },
   "outputs": [
    {
     "name": "stdout",
     "output_type": "stream",
     "text": [
      "Start training VAE...\n"
     ]
    },
    {
     "name": "stderr",
     "output_type": "stream",
     "text": [
      "/usr/local/lib/python3.7/dist-packages/torch/utils/data/dataloader.py:481: UserWarning: This DataLoader will create 4 worker processes in total. Our suggested max number of worker in current system is 2, which is smaller than what this DataLoader is going to create. Please be aware that excessive worker creation might get DataLoader running slow or even freeze, lower the worker number to avoid potential slowness/freeze if necessary.\n",
      "  cpuset_checked))\n",
      "Loss: 0.4371: 100%|██████████| 468/468 [00:17<00:00, 27.02it/s]\n"
     ]
    },
    {
     "name": "stdout",
     "output_type": "stream",
     "text": [
      "\tEpoch 1 complete! \tAverage Loss:  0.003405855132996781\n"
     ]
    },
    {
     "name": "stderr",
     "output_type": "stream",
     "text": [
      "Loss: 0.4350: 100%|██████████| 468/468 [00:17<00:00, 26.23it/s]"
     ]
    },
    {
     "name": "stdout",
     "output_type": "stream",
     "text": [
      "\tEpoch 2 complete! \tAverage Loss:  0.003395957260031644\n"
     ]
    },
    {
     "name": "stderr",
     "output_type": "stream",
     "text": [
      "\n",
      "Loss: 0.4307: 100%|██████████| 468/468 [00:17<00:00, 27.01it/s]"
     ]
    },
    {
     "name": "stdout",
     "output_type": "stream",
     "text": [
      "\tEpoch 3 complete! \tAverage Loss:  0.003395366504872158\n"
     ]
    },
    {
     "name": "stderr",
     "output_type": "stream",
     "text": [
      "\n",
      "Loss: 0.4319: 100%|██████████| 468/468 [00:18<00:00, 24.67it/s]"
     ]
    },
    {
     "name": "stdout",
     "output_type": "stream",
     "text": [
      "\tEpoch 4 complete! \tAverage Loss:  0.003395058574131042\n"
     ]
    },
    {
     "name": "stderr",
     "output_type": "stream",
     "text": [
      "\n",
      "Loss: 0.4362: 100%|██████████| 468/468 [00:17<00:00, 26.77it/s]"
     ]
    },
    {
     "name": "stdout",
     "output_type": "stream",
     "text": [
      "\tEpoch 5 complete! \tAverage Loss:  0.0033947908248736403\n"
     ]
    },
    {
     "name": "stderr",
     "output_type": "stream",
     "text": [
      "\n",
      "Loss: 0.4329: 100%|██████████| 468/468 [00:17<00:00, 26.85it/s]"
     ]
    },
    {
     "name": "stdout",
     "output_type": "stream",
     "text": [
      "\tEpoch 6 complete! \tAverage Loss:  0.0033946606087273015\n"
     ]
    },
    {
     "name": "stderr",
     "output_type": "stream",
     "text": [
      "\n",
      "Loss: 0.4350: 100%|██████████| 468/468 [00:17<00:00, 26.68it/s]"
     ]
    },
    {
     "name": "stdout",
     "output_type": "stream",
     "text": [
      "\tEpoch 7 complete! \tAverage Loss:  0.003394648294130089\n"
     ]
    },
    {
     "name": "stderr",
     "output_type": "stream",
     "text": [
      "\n",
      "Loss: 0.4367: 100%|██████████| 468/468 [00:17<00:00, 26.53it/s]\n"
     ]
    },
    {
     "name": "stdout",
     "output_type": "stream",
     "text": [
      "\tEpoch 8 complete! \tAverage Loss:  0.003394400816095686\n"
     ]
    },
    {
     "name": "stderr",
     "output_type": "stream",
     "text": [
      "Loss: 0.4322: 100%|██████████| 468/468 [00:17<00:00, 26.48it/s]"
     ]
    },
    {
     "name": "stdout",
     "output_type": "stream",
     "text": [
      "\tEpoch 9 complete! \tAverage Loss:  0.0033943210229899824\n"
     ]
    },
    {
     "name": "stderr",
     "output_type": "stream",
     "text": [
      "\n",
      "Loss: 0.4361: 100%|██████████| 468/468 [00:17<00:00, 26.76it/s]"
     ]
    },
    {
     "name": "stdout",
     "output_type": "stream",
     "text": [
      "\tEpoch 10 complete! \tAverage Loss:  0.0033942512002209206\n"
     ]
    },
    {
     "name": "stderr",
     "output_type": "stream",
     "text": [
      "\n",
      "Loss: 0.4304: 100%|██████████| 468/468 [00:17<00:00, 26.84it/s]"
     ]
    },
    {
     "name": "stdout",
     "output_type": "stream",
     "text": [
      "\tEpoch 11 complete! \tAverage Loss:  0.003394189670111593\n"
     ]
    },
    {
     "name": "stderr",
     "output_type": "stream",
     "text": [
      "\n",
      "Loss: 0.4311: 100%|██████████| 468/468 [00:17<00:00, 26.50it/s]"
     ]
    },
    {
     "name": "stdout",
     "output_type": "stream",
     "text": [
      "\tEpoch 12 complete! \tAverage Loss:  0.003394158877137195\n"
     ]
    },
    {
     "name": "stderr",
     "output_type": "stream",
     "text": [
      "\n",
      "Loss: 0.4359: 100%|██████████| 468/468 [00:17<00:00, 26.86it/s]"
     ]
    },
    {
     "name": "stdout",
     "output_type": "stream",
     "text": [
      "\tEpoch 13 complete! \tAverage Loss:  0.0033941273682210316\n"
     ]
    },
    {
     "name": "stderr",
     "output_type": "stream",
     "text": [
      "\n",
      "Loss: 0.4280: 100%|██████████| 468/468 [00:17<00:00, 26.82it/s]"
     ]
    },
    {
     "name": "stdout",
     "output_type": "stream",
     "text": [
      "\tEpoch 14 complete! \tAverage Loss:  0.003393957854051151\n"
     ]
    },
    {
     "name": "stderr",
     "output_type": "stream",
     "text": [
      "\n",
      "Loss: 0.4309: 100%|██████████| 468/468 [00:17<00:00, 26.49it/s]"
     ]
    },
    {
     "name": "stdout",
     "output_type": "stream",
     "text": [
      "\tEpoch 15 complete! \tAverage Loss:  0.0033939500454996715\n"
     ]
    },
    {
     "name": "stderr",
     "output_type": "stream",
     "text": [
      "\n",
      "Loss: 0.4347: 100%|██████████| 468/468 [00:17<00:00, 26.57it/s]"
     ]
    },
    {
     "name": "stdout",
     "output_type": "stream",
     "text": [
      "\tEpoch 16 complete! \tAverage Loss:  0.0033938059123627827\n"
     ]
    },
    {
     "name": "stderr",
     "output_type": "stream",
     "text": [
      "\n",
      "Loss: 0.4268: 100%|██████████| 468/468 [00:17<00:00, 26.79it/s]\n"
     ]
    },
    {
     "name": "stdout",
     "output_type": "stream",
     "text": [
      "\tEpoch 17 complete! \tAverage Loss:  0.0033937478737159766\n"
     ]
    },
    {
     "name": "stderr",
     "output_type": "stream",
     "text": [
      "Loss: 0.4335: 100%|██████████| 468/468 [00:17<00:00, 26.55it/s]"
     ]
    },
    {
     "name": "stdout",
     "output_type": "stream",
     "text": [
      "\tEpoch 18 complete! \tAverage Loss:  0.003393869884950318\n"
     ]
    },
    {
     "name": "stderr",
     "output_type": "stream",
     "text": [
      "\n",
      "Loss: 0.4426: 100%|██████████| 468/468 [00:17<00:00, 26.20it/s]"
     ]
    },
    {
     "name": "stdout",
     "output_type": "stream",
     "text": [
      "\tEpoch 19 complete! \tAverage Loss:  0.0033937527018357908\n"
     ]
    },
    {
     "name": "stderr",
     "output_type": "stream",
     "text": [
      "\n",
      "Loss: 0.4311: 100%|██████████| 468/468 [00:17<00:00, 26.12it/s]"
     ]
    },
    {
     "name": "stdout",
     "output_type": "stream",
     "text": [
      "\tEpoch 20 complete! \tAverage Loss:  0.003393761236300369\n",
      "Finish!!\n"
     ]
    },
    {
     "name": "stderr",
     "output_type": "stream",
     "text": [
      "\n"
     ]
    }
   ],
   "source": [
    "print(\"Start training VAE...\")\n",
    "model.train()\n",
    "\n",
    "for epoch in range(epochs):\n",
    "    overall_loss = 0\n",
    "    pbar = tqdm(enumerate(train_loader), total=len(train_loader))\n",
    "    for batch_idx, (x, _) in pbar:\n",
    "        x = x.to(DEVICE)\n",
    "\n",
    "        optimizer.zero_grad()\n",
    "\n",
    "        x_hat, mean, log_var = model(x)\n",
    "        loss_bce = BCE_loss(x_hat.sigmoid(), x)\n",
    "        loss_kld = KLD_loss(mean, log_var)\n",
    "        loss = loss_bce + loss_kld\n",
    "        \n",
    "        overall_loss += loss.item()\n",
    "        \n",
    "        loss.backward()\n",
    "        optimizer.step()\n",
    "\n",
    "        log_line = f'Loss: {loss.detach().cpu().data:.4f}'\n",
    "        pbar.set_description(log_line)\n",
    "\n",
    "        \n",
    "    print(\"\\tEpoch\", epoch + 1, \"complete!\", \"\\tAverage Loss: \", overall_loss / (batch_idx * batch_size))\n",
    "    \n",
    "print(\"Finish!!\")"
   ]
  },
  {
   "cell_type": "code",
   "execution_count": 1,
   "id": "WXizm5hdigUZ",
   "metadata": {
    "colab": {
     "base_uri": "https://localhost:8080/"
    },
    "executionInfo": {
     "elapsed": 244,
     "status": "ok",
     "timestamp": 1648571935586,
     "user": {
      "displayName": "Никита Гришин",
      "userId": "00970267534020248746"
     },
     "user_tz": -180
    },
    "id": "WXizm5hdigUZ",
    "outputId": "16bb0a70-e148-45e3-94e7-a663e3a33642"
   },
   "outputs": [
    {
     "name": "stdout",
     "output_type": "stream",
     "text": [
      "Tue Mar 29 16:38:55 2022       \n",
      "+-----------------------------------------------------------------------------+\n",
      "| NVIDIA-SMI 460.32.03    Driver Version: 460.32.03    CUDA Version: 11.2     |\n",
      "|-------------------------------+----------------------+----------------------+\n",
      "| GPU  Name        Persistence-M| Bus-Id        Disp.A | Volatile Uncorr. ECC |\n",
      "| Fan  Temp  Perf  Pwr:Usage/Cap|         Memory-Usage | GPU-Util  Compute M. |\n",
      "|                               |                      |               MIG M. |\n",
      "|===============================+======================+======================|\n",
      "|   0  Tesla K80           Off  | 00000000:00:04.0 Off |                    0 |\n",
      "| N/A   31C    P8    28W / 149W |      0MiB / 11441MiB |      0%      Default |\n",
      "|                               |                      |                  N/A |\n",
      "+-------------------------------+----------------------+----------------------+\n",
      "                                                                               \n",
      "+-----------------------------------------------------------------------------+\n",
      "| Processes:                                                                  |\n",
      "|  GPU   GI   CI        PID   Type   Process name                  GPU Memory |\n",
      "|        ID   ID                                                   Usage      |\n",
      "|=============================================================================|\n",
      "|  No running processes found                                                 |\n",
      "+-----------------------------------------------------------------------------+\n"
     ]
    }
   ],
   "source": [
    "!nvidia-smi"
   ]
  },
  {
   "cell_type": "markdown",
   "id": "d071e786-904c-46b9-80ef-86f13319dd38",
   "metadata": {
    "id": "d071e786-904c-46b9-80ef-86f13319dd38"
   },
   "source": [
    "## Generate images"
   ]
  },
  {
   "cell_type": "code",
   "execution_count": 31,
   "id": "fed8f3ea-ed23-4c08-a0a9-c8fba367388e",
   "metadata": {
    "colab": {
     "base_uri": "https://localhost:8080/"
    },
    "executionInfo": {
     "elapsed": 346,
     "status": "ok",
     "timestamp": 1648572143744,
     "user": {
      "displayName": "Никита Гришин",
      "userId": "00970267534020248746"
     },
     "user_tz": -180
    },
    "id": "fed8f3ea-ed23-4c08-a0a9-c8fba367388e",
    "outputId": "4a759524-1925-468c-b991-a51cef758216"
   },
   "outputs": [
    {
     "name": "stderr",
     "output_type": "stream",
     "text": [
      "/usr/local/lib/python3.7/dist-packages/torch/utils/data/dataloader.py:481: UserWarning: This DataLoader will create 4 worker processes in total. Our suggested max number of worker in current system is 2, which is smaller than what this DataLoader is going to create. Please be aware that excessive worker creation might get DataLoader running slow or even freeze, lower the worker number to avoid potential slowness/freeze if necessary.\n",
      "  cpuset_checked))\n"
     ]
    }
   ],
   "source": [
    "model.eval()\n",
    "\n",
    "with torch.no_grad():\n",
    "    for batch_idx, (x, _) in enumerate(valid_loader):\n",
    "        x = x.to(DEVICE)\n",
    "        \n",
    "    \n",
    "        x_hat, _, _ = model(x)\n",
    "\n",
    "        break"
   ]
  },
  {
   "cell_type": "code",
   "execution_count": 32,
   "id": "7abb8161-5c34-4b27-a647-71f370bf18f2",
   "metadata": {
    "executionInfo": {
     "elapsed": 2,
     "status": "ok",
     "timestamp": 1648572143744,
     "user": {
      "displayName": "Никита Гришин",
      "userId": "00970267534020248746"
     },
     "user_tz": -180
    },
    "id": "7abb8161-5c34-4b27-a647-71f370bf18f2"
   },
   "outputs": [],
   "source": [
    "def show_image(x, idx):\n",
    "\n",
    "    fig = plt.figure()\n",
    "    plt.imshow(x[idx][0].cpu().numpy())"
   ]
  },
  {
   "cell_type": "code",
   "execution_count": 33,
   "id": "951f8c36-0bc9-4f40-887e-73767c96aa0f",
   "metadata": {
    "colab": {
     "base_uri": "https://localhost:8080/",
     "height": 265
    },
    "executionInfo": {
     "elapsed": 441,
     "status": "ok",
     "timestamp": 1648572144448,
     "user": {
      "displayName": "Никита Гришин",
      "userId": "00970267534020248746"
     },
     "user_tz": -180
    },
    "id": "951f8c36-0bc9-4f40-887e-73767c96aa0f",
    "outputId": "f2f47863-323e-4d6d-951e-78c023fa0a92"
   },
   "outputs": [
    {
     "data": {
      "image/png": "[encoded data removed]",
      "text/plain": [
       "<Figure size 432x288 with 1 Axes>"
      ]
     },
     "metadata": {
      "needs_background": "light"
     },
     "output_type": "display_data"
    }
   ],
   "source": [
    "show_image(x, idx=2)"
   ]
  },
  {
   "cell_type": "code",
   "execution_count": 50,
   "id": "QXyhICrY3F59",
   "metadata": {
    "colab": {
     "base_uri": "https://localhost:8080/"
    },
    "executionInfo": {
     "elapsed": 9,
     "status": "ok",
     "timestamp": 1648572565723,
     "user": {
      "displayName": "Никита Гришин",
      "userId": "00970267534020248746"
     },
     "user_tz": -180
    },
    "id": "QXyhICrY3F59",
    "outputId": "4d5e077b-57be-42ae-df91-3645e64ffc2c"
   },
   "outputs": [
    {
     "data": {
      "text/plain": [
       "torch.Size([1, 28, 28])"
      ]
     },
     "execution_count": 50,
     "metadata": {},
     "output_type": "execute_result"
    }
   ],
   "source": [
    "img, _ = mnist_validset[2]\n",
    "img = np.array(img)[..., np.newaxis]\n",
    "img = train_transformation(image=img)['image'].float()\n",
    "img.shape"
   ]
  },
  {
   "cell_type": "code",
   "execution_count": 51,
   "id": "gGpvPnxQf_TU",
   "metadata": {
    "executionInfo": {
     "elapsed": 6,
     "status": "ok",
     "timestamp": 1648572565723,
     "user": {
      "displayName": "Никита Гришин",
      "userId": "00970267534020248746"
     },
     "user_tz": -180
    },
    "id": "gGpvPnxQf_TU"
   },
   "outputs": [],
   "source": [
    "x_input = img.unsqueeze(0).to(DEVICE)\n",
    "\n",
    "model.eval()\n",
    "mean, log_var = model.encoder(x_input)"
   ]
  },
  {
   "cell_type": "code",
   "execution_count": 52,
   "id": "8Kp0OivTgRXA",
   "metadata": {
    "colab": {
     "base_uri": "https://localhost:8080/"
    },
    "executionInfo": {
     "elapsed": 5,
     "status": "ok",
     "timestamp": 1648572565723,
     "user": {
      "displayName": "Никита Гришин",
      "userId": "00970267534020248746"
     },
     "user_tz": -180
    },
    "id": "8Kp0OivTgRXA",
    "outputId": "63103ef8-3f4c-4384-8123-eb10debecd4d"
   },
   "outputs": [
    {
     "data": {
      "text/plain": [
       "(tensor([[ 3.0801e-05,  1.6762e-04, -1.9751e-04,  1.1621e-04,  6.9054e-05,\n",
       "          -4.6005e-05,  1.4834e-04,  6.1938e-05, -3.0277e-05,  1.8161e-05,\n",
       "          -3.2287e-06, -1.8279e-05, -6.8021e-05,  2.3109e-04,  7.7539e-05,\n",
       "          -8.4551e-05]], device='cuda:0', grad_fn=<AddmmBackward0>),\n",
       " tensor([[ 2.1298e-05, -1.0961e-06,  1.2097e-05,  4.6801e-05, -6.9215e-05,\n",
       "          -1.0380e-04, -1.8579e-04,  3.5553e-05, -7.2796e-05,  1.1321e-04,\n",
       "          -1.9089e-04, -5.9192e-05,  4.4707e-05,  1.1660e-04, -1.7187e-05,\n",
       "          -8.9475e-05]], device='cuda:0', grad_fn=<AddmmBackward0>))"
      ]
     },
     "execution_count": 52,
     "metadata": {},
     "output_type": "execute_result"
    }
   ],
   "source": [
    "mean, log_var"
   ]
  },
  {
   "cell_type": "code",
   "execution_count": 55,
   "id": "F_zo4agegfpn",
   "metadata": {
    "executionInfo": {
     "elapsed": 229,
     "status": "ok",
     "timestamp": 1648572573730,
     "user": {
      "displayName": "Никита Гришин",
      "userId": "00970267534020248746"
     },
     "user_tz": -180
    },
    "id": "F_zo4agegfpn"
   },
   "outputs": [],
   "source": [
    "out = model.decoder(mean)"
   ]
  },
  {
   "cell_type": "code",
   "execution_count": 56,
   "id": "34MDoY49gmMU",
   "metadata": {
    "colab": {
     "base_uri": "https://localhost:8080/",
     "height": 265
    },
    "executionInfo": {
     "elapsed": 894,
     "status": "ok",
     "timestamp": 1648572574939,
     "user": {
      "displayName": "Никита Гришин",
      "userId": "00970267534020248746"
     },
     "user_tz": -180
    },
    "id": "34MDoY49gmMU",
    "outputId": "4627cf5c-ab09-4c4d-a9f5-6fe8c801d929"
   },
   "outputs": [
    {
     "data": {
      "image/png": "[encoded data removed]",
      "text/plain": [
       "<Figure size 432x288 with 1 Axes>"
      ]
     },
     "metadata": {
      "needs_background": "light"
     },
     "output_type": "display_data"
    }
   ],
   "source": [
    "show_image(out.detach(), 0)"
   ]
  },
  {
   "cell_type": "code",
   "execution_count": 59,
   "id": "eVtjwHzNeH3k",
   "metadata": {
    "colab": {
     "base_uri": "https://localhost:8080/"
    },
    "executionInfo": {
     "elapsed": 2,
     "status": "ok",
     "timestamp": 1648572588088,
     "user": {
      "displayName": "Никита Гришин",
      "userId": "00970267534020248746"
     },
     "user_tz": -180
    },
    "id": "eVtjwHzNeH3k",
    "outputId": "559eb74e-b8b1-41f9-e7a6-34ba1ecc70e9"
   },
   "outputs": [
    {
     "data": {
      "text/plain": [
       "torch.Size([12, 1, 28, 28])"
      ]
     },
     "execution_count": 59,
     "metadata": {},
     "output_type": "execute_result"
    }
   ],
   "source": [
    "model.eval()\n",
    "\n",
    "x = torch.rand(12, latent_size) * 1e-6 + 1\n",
    "out = model.decoder(x.to(DEVICE))\n",
    "out.shape"
   ]
  },
  {
   "cell_type": "code",
   "execution_count": 60,
   "id": "OJhvtYyseHtN",
   "metadata": {
    "colab": {
     "base_uri": "https://localhost:8080/",
     "height": 265
    },
    "executionInfo": {
     "elapsed": 751,
     "status": "ok",
     "timestamp": 1648572589241,
     "user": {
      "displayName": "Никита Гришин",
      "userId": "00970267534020248746"
     },
     "user_tz": -180
    },
    "id": "OJhvtYyseHtN",
    "outputId": "44ea2926-d93b-495c-f20a-228fabed9530"
   },
   "outputs": [
    {
     "data": {
      "image/png": "[encoded data removed]",
      "text/plain": [
       "<Figure size 432x288 with 1 Axes>"
      ]
     },
     "metadata": {
      "needs_background": "light"
     },
     "output_type": "display_data"
    }
   ],
   "source": [
    "show_image(out.detach(), 7)"
   ]
  },
  {
   "cell_type": "code",
   "execution_count": 179,
   "id": "qBBqsFqFeHq0",
   "metadata": {
    "executionInfo": {
     "elapsed": 4,
     "status": "ok",
     "timestamp": 1648571799038,
     "user": {
      "displayName": "Никита Гришин",
      "userId": "00970267534020248746"
     },
     "user_tz": -180
    },
    "id": "qBBqsFqFeHq0"
   },
   "outputs": [],
   "source": []
  },
  {
   "cell_type": "code",
   "execution_count": null,
   "id": "gjtPb5lZeHid",
   "metadata": {
    "id": "gjtPb5lZeHid"
   },
   "outputs": [],
   "source": []
  },
  {
   "cell_type": "code",
   "execution_count": null,
   "id": "UYW5JSvdeHf2",
   "metadata": {
    "id": "UYW5JSvdeHf2"
   },
   "outputs": [],
   "source": []
  }
 ],
 "metadata": {
  "accelerator": "GPU",
  "colab": {
   "collapsed_sections": [],
   "name": "seminar_08_unsolved.ipynb",
   "provenance": []
  },
  "kernelspec": {
   "display_name": "Python 3 (ipykernel)",
   "language": "python",
   "name": "python3"
  },
  "language_info": {
   "codemirror_mode": {
    "name": "ipython",
    "version": 3
   },
   "file_extension": ".py",
   "mimetype": "text/x-python",
   "name": "python",
   "nbconvert_exporter": "python",
   "pygments_lexer": "ipython3",
   "version": "3.8.10"
  },
  "widgets": {
   "application/vnd.jupyter.widget-state+json": {
    "123fbdd6b8ac489fbdd3c58399817f80": {
     "model_module": "@jupyter-widgets/base",
     "model_module_version": "1.2.0",
     "model_name": "LayoutModel",
     "state": {
      "_model_module": "@jupyter-widgets/base",
      "_model_module_version": "1.2.0",
      "_model_name": "LayoutModel",
      "_view_count": null,
      "_view_module": "@jupyter-widgets/base",
      "_view_module_version": "1.2.0",
      "_view_name": "LayoutView",
      "align_content": null,
      "align_items": null,
      "align_self": null,
      "border": null,
      "bottom": null,
      "display": null,
      "flex": null,
      "flex_flow": null,
      "grid_area": null,
      "grid_auto_columns": null,
      "grid_auto_flow": null,
      "grid_auto_rows": null,
      "grid_column": null,
      "grid_gap": null,
      "grid_row": null,
      "grid_template_areas": null,
      "grid_template_columns": null,
      "grid_template_rows": null,
      "height": null,
      "justify_content": null,
      "justify_items": null,
      "left": null,
      "margin": null,
      "max_height": null,
      "max_width": null,
      "min_height": null,
      "min_width": null,
      "object_fit": null,
      "object_position": null,
      "order": null,
      "overflow": null,
      "overflow_x": null,
      "overflow_y": null,
      "padding": null,
      "right": null,
      "top": null,
      "visibility": null,
      "width": null
     }
    },
    "242a464680274dd9a456fee88bbac77f": {
     "model_module": "@jupyter-widgets/controls",
     "model_module_version": "1.5.0",
     "model_name": "HBoxModel",
     "state": {
      "_dom_classes": [],
      "_model_module": "@jupyter-widgets/controls",
      "_model_module_version": "1.5.0",
      "_model_name": "HBoxModel",
      "_view_count": null,
      "_view_module": "@jupyter-widgets/controls",
      "_view_module_version": "1.5.0",
      "_view_name": "HBoxView",
      "box_style": "",
      "children": [
       "IPY_MODEL_6cfca3b8565544cf9feba9d67d59c992",
       "IPY_MODEL_45944059c80543499a5e2ea6315f2fb3",
       "IPY_MODEL_471f4853f03e40649ec8eb2b52c2f2fe"
      ],
      "layout": "IPY_MODEL_418b8472118c4f94b80b30dfedfc3997"
     }
    },
    "335db9add6b74b79b0f697b184b56b3a": {
     "model_module": "@jupyter-widgets/controls",
     "model_module_version": "1.5.0",
     "model_name": "HBoxModel",
     "state": {
      "_dom_classes": [],
      "_model_module": "@jupyter-widgets/controls",
      "_model_module_version": "1.5.0",
      "_model_name": "HBoxModel",
      "_view_count": null,
      "_view_module": "@jupyter-widgets/controls",
      "_view_module_version": "1.5.0",
      "_view_name": "HBoxView",
      "box_style": "",
      "children": [
       "IPY_MODEL_ed1f39bb47a84ebdbdfe1821e6b643d3",
       "IPY_MODEL_8fa4f63d65184e7cb5abad1b9f414524",
       "IPY_MODEL_cd15518c00224e6583aa0eb5260ca205"
      ],
      "layout": "IPY_MODEL_d99a3aede4e74b4085900e33bc06e211"
     }
    },
    "407a2d0df06043eab5a016abdeff31db": {
     "model_module": "@jupyter-widgets/base",
     "model_module_version": "1.2.0",
     "model_name": "LayoutModel",
     "state": {
      "_model_module": "@jupyter-widgets/base",
      "_model_module_version": "1.2.0",
      "_model_name": "LayoutModel",
      "_view_count": null,
      "_view_module": "@jupyter-widgets/base",
      "_view_module_version": "1.2.0",
      "_view_name": "LayoutView",
      "align_content": null,
      "align_items": null,
      "align_self": null,
      "border": null,
      "bottom": null,
      "display": null,
      "flex": null,
      "flex_flow": null,
      "grid_area": null,
      "grid_auto_columns": null,
      "grid_auto_flow": null,
      "grid_auto_rows": null,
      "grid_column": null,
      "grid_gap": null,
      "grid_row": null,
      "grid_template_areas": null,
      "grid_template_columns": null,
      "grid_template_rows": null,
      "height": null,
      "justify_content": null,
      "justify_items": null,
      "left": null,
      "margin": null,
      "max_height": null,
      "max_width": null,
      "min_height": null,
      "min_width": null,
      "object_fit": null,
      "object_position": null,
      "order": null,
      "overflow": null,
      "overflow_x": null,
      "overflow_y": null,
      "padding": null,
      "right": null,
      "top": null,
      "visibility": null,
      "width": null
     }
    },
    "418b8472118c4f94b80b30dfedfc3997": {
     "model_module": "@jupyter-widgets/base",
     "model_module_version": "1.2.0",
     "model_name": "LayoutModel",
     "state": {
      "_model_module": "@jupyter-widgets/base",
      "_model_module_version": "1.2.0",
      "_model_name": "LayoutModel",
      "_view_count": null,
      "_view_module": "@jupyter-widgets/base",
      "_view_module_version": "1.2.0",
      "_view_name": "LayoutView",
      "align_content": null,
      "align_items": null,
      "align_self": null,
      "border": null,
      "bottom": null,
      "display": null,
      "flex": null,
      "flex_flow": null,
      "grid_area": null,
      "grid_auto_columns": null,
      "grid_auto_flow": null,
      "grid_auto_rows": null,
      "grid_column": null,
      "grid_gap": null,
      "grid_row": null,
      "grid_template_areas": null,
      "grid_template_columns": null,
      "grid_template_rows": null,
      "height": null,
      "justify_content": null,
      "justify_items": null,
      "left": null,
      "margin": null,
      "max_height": null,
      "max_width": null,
      "min_height": null,
      "min_width": null,
      "object_fit": null,
      "object_position": null,
      "order": null,
      "overflow": null,
      "overflow_x": null,
      "overflow_y": null,
      "padding": null,
      "right": null,
      "top": null,
      "visibility": null,
      "width": null
     }
    },
    "41b6d00bdae447fcaa1508ab0bd25a00": {
     "model_module": "@jupyter-widgets/base",
     "model_module_version": "1.2.0",
     "model_name": "LayoutModel",
     "state": {
      "_model_module": "@jupyter-widgets/base",
      "_model_module_version": "1.2.0",
      "_model_name": "LayoutModel",
      "_view_count": null,
      "_view_module": "@jupyter-widgets/base",
      "_view_module_version": "1.2.0",
      "_view_name": "LayoutView",
      "align_content": null,
      "align_items": null,
      "align_self": null,
      "border": null,
      "bottom": null,
      "display": null,
      "flex": null,
      "flex_flow": null,
      "grid_area": null,
      "grid_auto_columns": null,
      "grid_auto_flow": null,
      "grid_auto_rows": null,
      "grid_column": null,
      "grid_gap": null,
      "grid_row": null,
      "grid_template_areas": null,
      "grid_template_columns": null,
      "grid_template_rows": null,
      "height": null,
      "justify_content": null,
      "justify_items": null,
      "left": null,
      "margin": null,
      "max_height": null,
      "max_width": null,
      "min_height": null,
      "min_width": null,
      "object_fit": null,
      "object_position": null,
      "order": null,
      "overflow": null,
      "overflow_x": null,
      "overflow_y": null,
      "padding": null,
      "right": null,
      "top": null,
      "visibility": null,
      "width": null
     }
    },
    "4419d474993842c1ba624f12c3b0d96b": {
     "model_module": "@jupyter-widgets/controls",
     "model_module_version": "1.5.0",
     "model_name": "DescriptionStyleModel",
     "state": {
      "_model_module": "@jupyter-widgets/controls",
      "_model_module_version": "1.5.0",
      "_model_name": "DescriptionStyleModel",
      "_view_count": null,
      "_view_module": "@jupyter-widgets/base",
      "_view_module_version": "1.2.0",
      "_view_name": "StyleView",
      "description_width": ""
     }
    },
    "45944059c80543499a5e2ea6315f2fb3": {
     "model_module": "@jupyter-widgets/controls",
     "model_module_version": "1.5.0",
     "model_name": "FloatProgressModel",
     "state": {
      "_dom_classes": [],
      "_model_module": "@jupyter-widgets/controls",
      "_model_module_version": "1.5.0",
      "_model_name": "FloatProgressModel",
      "_view_count": null,
      "_view_module": "@jupyter-widgets/controls",
      "_view_module_version": "1.5.0",
      "_view_name": "ProgressView",
      "bar_style": "success",
      "description": "",
      "description_tooltip": null,
      "layout": "IPY_MODEL_572382391b0a4d27a199e74d7c248eea",
      "max": 4542,
      "min": 0,
      "orientation": "horizontal",
      "style": "IPY_MODEL_dfd9eb9dffba4fd3a1b1077a1f9bfd79",
      "value": 4542
     }
    },
    "471f4853f03e40649ec8eb2b52c2f2fe": {
     "model_module": "@jupyter-widgets/controls",
     "model_module_version": "1.5.0",
     "model_name": "HTMLModel",
     "state": {
      "_dom_classes": [],
      "_model_module": "@jupyter-widgets/controls",
      "_model_module_version": "1.5.0",
      "_model_name": "HTMLModel",
      "_view_count": null,
      "_view_module": "@jupyter-widgets/controls",
      "_view_module_version": "1.5.0",
      "_view_name": "HTMLView",
      "description": "",
      "description_tooltip": null,
      "layout": "IPY_MODEL_b2a034479d4d4c328fc56163317c710d",
      "placeholder": "​",
      "style": "IPY_MODEL_88606bdb72594f6faccb454e444be60a",
      "value": " 5120/? [00:00&lt;00:00, 142897.88it/s]"
     }
    },
    "572382391b0a4d27a199e74d7c248eea": {
     "model_module": "@jupyter-widgets/base",
     "model_module_version": "1.2.0",
     "model_name": "LayoutModel",
     "state": {
      "_model_module": "@jupyter-widgets/base",
      "_model_module_version": "1.2.0",
      "_model_name": "LayoutModel",
      "_view_count": null,
      "_view_module": "@jupyter-widgets/base",
      "_view_module_version": "1.2.0",
      "_view_name": "LayoutView",
      "align_content": null,
      "align_items": null,
      "align_self": null,
      "border": null,
      "bottom": null,
      "display": null,
      "flex": null,
      "flex_flow": null,
      "grid_area": null,
      "grid_auto_columns": null,
      "grid_auto_flow": null,
      "grid_auto_rows": null,
      "grid_column": null,
      "grid_gap": null,
      "grid_row": null,
      "grid_template_areas": null,
      "grid_template_columns": null,
      "grid_template_rows": null,
      "height": null,
      "justify_content": null,
      "justify_items": null,
      "left": null,
      "margin": null,
      "max_height": null,
      "max_width": null,
      "min_height": null,
      "min_width": null,
      "object_fit": null,
      "object_position": null,
      "order": null,
      "overflow": null,
      "overflow_x": null,
      "overflow_y": null,
      "padding": null,
      "right": null,
      "top": null,
      "visibility": null,
      "width": null
     }
    },
    "5f2d16e6fc654efd9fcf9499b5200c0e": {
     "model_module": "@jupyter-widgets/base",
     "model_module_version": "1.2.0",
     "model_name": "LayoutModel",
     "state": {
      "_model_module": "@jupyter-widgets/base",
      "_model_module_version": "1.2.0",
      "_model_name": "LayoutModel",
      "_view_count": null,
      "_view_module": "@jupyter-widgets/base",
      "_view_module_version": "1.2.0",
      "_view_name": "LayoutView",
      "align_content": null,
      "align_items": null,
      "align_self": null,
      "border": null,
      "bottom": null,
      "display": null,
      "flex": null,
      "flex_flow": null,
      "grid_area": null,
      "grid_auto_columns": null,
      "grid_auto_flow": null,
      "grid_auto_rows": null,
      "grid_column": null,
      "grid_gap": null,
      "grid_row": null,
      "grid_template_areas": null,
      "grid_template_columns": null,
      "grid_template_rows": null,
      "height": null,
      "justify_content": null,
      "justify_items": null,
      "left": null,
      "margin": null,
      "max_height": null,
      "max_width": null,
      "min_height": null,
      "min_width": null,
      "object_fit": null,
      "object_position": null,
      "order": null,
      "overflow": null,
      "overflow_x": null,
      "overflow_y": null,
      "padding": null,
      "right": null,
      "top": null,
      "visibility": null,
      "width": null
     }
    },
    "6071173a0346446c9ae54080b1af96fe": {
     "model_module": "@jupyter-widgets/controls",
     "model_module_version": "1.5.0",
     "model_name": "DescriptionStyleModel",
     "state": {
      "_model_module": "@jupyter-widgets/controls",
      "_model_module_version": "1.5.0",
      "_model_name": "DescriptionStyleModel",
      "_view_count": null,
      "_view_module": "@jupyter-widgets/base",
      "_view_module_version": "1.2.0",
      "_view_name": "StyleView",
      "description_width": ""
     }
    },
    "60ef7e7f7776406ebef9166f6f86f559": {
     "model_module": "@jupyter-widgets/controls",
     "model_module_version": "1.5.0",
     "model_name": "HTMLModel",
     "state": {
      "_dom_classes": [],
      "_model_module": "@jupyter-widgets/controls",
      "_model_module_version": "1.5.0",
      "_model_name": "HTMLModel",
      "_view_count": null,
      "_view_module": "@jupyter-widgets/controls",
      "_view_module_version": "1.5.0",
      "_view_name": "HTMLView",
      "description": "",
      "description_tooltip": null,
      "layout": "IPY_MODEL_7c69afc344754bc8959c4dfc9682a073",
      "placeholder": "​",
      "style": "IPY_MODEL_e78bf932560f456b809135caf6ec96cb",
      "value": ""
     }
    },
    "6424d768f49147b2ad03c7298346b094": {
     "model_module": "@jupyter-widgets/controls",
     "model_module_version": "1.5.0",
     "model_name": "HBoxModel",
     "state": {
      "_dom_classes": [],
      "_model_module": "@jupyter-widgets/controls",
      "_model_module_version": "1.5.0",
      "_model_name": "HBoxModel",
      "_view_count": null,
      "_view_module": "@jupyter-widgets/controls",
      "_view_module_version": "1.5.0",
      "_view_name": "HBoxView",
      "box_style": "",
      "children": [
       "IPY_MODEL_60ef7e7f7776406ebef9166f6f86f559",
       "IPY_MODEL_acf29d3a571844598390660447b6407e",
       "IPY_MODEL_83a250b4393747bba9de0a2a0000983e"
      ],
      "layout": "IPY_MODEL_123fbdd6b8ac489fbdd3c58399817f80"
     }
    },
    "6cfca3b8565544cf9feba9d67d59c992": {
     "model_module": "@jupyter-widgets/controls",
     "model_module_version": "1.5.0",
     "model_name": "HTMLModel",
     "state": {
      "_dom_classes": [],
      "_model_module": "@jupyter-widgets/controls",
      "_model_module_version": "1.5.0",
      "_model_name": "HTMLModel",
      "_view_count": null,
      "_view_module": "@jupyter-widgets/controls",
      "_view_module_version": "1.5.0",
      "_view_name": "HTMLView",
      "description": "",
      "description_tooltip": null,
      "layout": "IPY_MODEL_407a2d0df06043eab5a016abdeff31db",
      "placeholder": "​",
      "style": "IPY_MODEL_4419d474993842c1ba624f12c3b0d96b",
      "value": ""
     }
    },
    "7316207200894d2ab5210fea24e3be8d": {
     "model_module": "@jupyter-widgets/controls",
     "model_module_version": "1.5.0",
     "model_name": "ProgressStyleModel",
     "state": {
      "_model_module": "@jupyter-widgets/controls",
      "_model_module_version": "1.5.0",
      "_model_name": "ProgressStyleModel",
      "_view_count": null,
      "_view_module": "@jupyter-widgets/base",
      "_view_module_version": "1.2.0",
      "_view_name": "StyleView",
      "bar_color": null,
      "description_width": ""
     }
    },
    "7c69afc344754bc8959c4dfc9682a073": {
     "model_module": "@jupyter-widgets/base",
     "model_module_version": "1.2.0",
     "model_name": "LayoutModel",
     "state": {
      "_model_module": "@jupyter-widgets/base",
      "_model_module_version": "1.2.0",
      "_model_name": "LayoutModel",
      "_view_count": null,
      "_view_module": "@jupyter-widgets/base",
      "_view_module_version": "1.2.0",
      "_view_name": "LayoutView",
      "align_content": null,
      "align_items": null,
      "align_self": null,
      "border": null,
      "bottom": null,
      "display": null,
      "flex": null,
      "flex_flow": null,
      "grid_area": null,
      "grid_auto_columns": null,
      "grid_auto_flow": null,
      "grid_auto_rows": null,
      "grid_column": null,
      "grid_gap": null,
      "grid_row": null,
      "grid_template_areas": null,
      "grid_template_columns": null,
      "grid_template_rows": null,
      "height": null,
      "justify_content": null,
      "justify_items": null,
      "left": null,
      "margin": null,
      "max_height": null,
      "max_width": null,
      "min_height": null,
      "min_width": null,
      "object_fit": null,
      "object_position": null,
      "order": null,
      "overflow": null,
      "overflow_x": null,
      "overflow_y": null,
      "padding": null,
      "right": null,
      "top": null,
      "visibility": null,
      "width": null
     }
    },
    "83a250b4393747bba9de0a2a0000983e": {
     "model_module": "@jupyter-widgets/controls",
     "model_module_version": "1.5.0",
     "model_name": "HTMLModel",
     "state": {
      "_dom_classes": [],
      "_model_module": "@jupyter-widgets/controls",
      "_model_module_version": "1.5.0",
      "_model_name": "HTMLModel",
      "_view_count": null,
      "_view_module": "@jupyter-widgets/controls",
      "_view_module_version": "1.5.0",
      "_view_name": "HTMLView",
      "description": "",
      "description_tooltip": null,
      "layout": "IPY_MODEL_badf091712454bee854e6ea4454fea35",
      "placeholder": "​",
      "style": "IPY_MODEL_8e93f1731e3b4b07be98e4849778ba2a",
      "value": " 9913344/? [00:00&lt;00:00, 18160145.71it/s]"
     }
    },
    "88606bdb72594f6faccb454e444be60a": {
     "model_module": "@jupyter-widgets/controls",
     "model_module_version": "1.5.0",
     "model_name": "DescriptionStyleModel",
     "state": {
      "_model_module": "@jupyter-widgets/controls",
      "_model_module_version": "1.5.0",
      "_model_name": "DescriptionStyleModel",
      "_view_count": null,
      "_view_module": "@jupyter-widgets/base",
      "_view_module_version": "1.2.0",
      "_view_name": "StyleView",
      "description_width": ""
     }
    },
    "8b871c9bf52c4ee78c9f8ac231d38446": {
     "model_module": "@jupyter-widgets/base",
     "model_module_version": "1.2.0",
     "model_name": "LayoutModel",
     "state": {
      "_model_module": "@jupyter-widgets/base",
      "_model_module_version": "1.2.0",
      "_model_name": "LayoutModel",
      "_view_count": null,
      "_view_module": "@jupyter-widgets/base",
      "_view_module_version": "1.2.0",
      "_view_name": "LayoutView",
      "align_content": null,
      "align_items": null,
      "align_self": null,
      "border": null,
      "bottom": null,
      "display": null,
      "flex": null,
      "flex_flow": null,
      "grid_area": null,
      "grid_auto_columns": null,
      "grid_auto_flow": null,
      "grid_auto_rows": null,
      "grid_column": null,
      "grid_gap": null,
      "grid_row": null,
      "grid_template_areas": null,
      "grid_template_columns": null,
      "grid_template_rows": null,
      "height": null,
      "justify_content": null,
      "justify_items": null,
      "left": null,
      "margin": null,
      "max_height": null,
      "max_width": null,
      "min_height": null,
      "min_width": null,
      "object_fit": null,
      "object_position": null,
      "order": null,
      "overflow": null,
      "overflow_x": null,
      "overflow_y": null,
      "padding": null,
      "right": null,
      "top": null,
      "visibility": null,
      "width": null
     }
    },
    "8e93f1731e3b4b07be98e4849778ba2a": {
     "model_module": "@jupyter-widgets/controls",
     "model_module_version": "1.5.0",
     "model_name": "DescriptionStyleModel",
     "state": {
      "_model_module": "@jupyter-widgets/controls",
      "_model_module_version": "1.5.0",
      "_model_name": "DescriptionStyleModel",
      "_view_count": null,
      "_view_module": "@jupyter-widgets/base",
      "_view_module_version": "1.2.0",
      "_view_name": "StyleView",
      "description_width": ""
     }
    },
    "8ed91559804a49b297c3e0389bed90a1": {
     "model_module": "@jupyter-widgets/controls",
     "model_module_version": "1.5.0",
     "model_name": "DescriptionStyleModel",
     "state": {
      "_model_module": "@jupyter-widgets/controls",
      "_model_module_version": "1.5.0",
      "_model_name": "DescriptionStyleModel",
      "_view_count": null,
      "_view_module": "@jupyter-widgets/base",
      "_view_module_version": "1.2.0",
      "_view_name": "StyleView",
      "description_width": ""
     }
    },
    "8fa4f63d65184e7cb5abad1b9f414524": {
     "model_module": "@jupyter-widgets/controls",
     "model_module_version": "1.5.0",
     "model_name": "FloatProgressModel",
     "state": {
      "_dom_classes": [],
      "_model_module": "@jupyter-widgets/controls",
      "_model_module_version": "1.5.0",
      "_model_name": "FloatProgressModel",
      "_view_count": null,
      "_view_module": "@jupyter-widgets/controls",
      "_view_module_version": "1.5.0",
      "_view_name": "ProgressView",
      "bar_style": "success",
      "description": "",
      "description_tooltip": null,
      "layout": "IPY_MODEL_f13550b0285f4af4a66477322ba05375",
      "max": 28881,
      "min": 0,
      "orientation": "horizontal",
      "style": "IPY_MODEL_fd7e4db18e3e4f1294f1381df8716e14",
      "value": 28881
     }
    },
    "9f0921cdba444b75b73cd0b9cb09b184": {
     "model_module": "@jupyter-widgets/controls",
     "model_module_version": "1.5.0",
     "model_name": "DescriptionStyleModel",
     "state": {
      "_model_module": "@jupyter-widgets/controls",
      "_model_module_version": "1.5.0",
      "_model_name": "DescriptionStyleModel",
      "_view_count": null,
      "_view_module": "@jupyter-widgets/base",
      "_view_module_version": "1.2.0",
      "_view_name": "StyleView",
      "description_width": ""
     }
    },
    "a05cc6bfd73e49439cee5abed24b1169": {
     "model_module": "@jupyter-widgets/base",
     "model_module_version": "1.2.0",
     "model_name": "LayoutModel",
     "state": {
      "_model_module": "@jupyter-widgets/base",
      "_model_module_version": "1.2.0",
      "_model_name": "LayoutModel",
      "_view_count": null,
      "_view_module": "@jupyter-widgets/base",
      "_view_module_version": "1.2.0",
      "_view_name": "LayoutView",
      "align_content": null,
      "align_items": null,
      "align_self": null,
      "border": null,
      "bottom": null,
      "display": null,
      "flex": null,
      "flex_flow": null,
      "grid_area": null,
      "grid_auto_columns": null,
      "grid_auto_flow": null,
      "grid_auto_rows": null,
      "grid_column": null,
      "grid_gap": null,
      "grid_row": null,
      "grid_template_areas": null,
      "grid_template_columns": null,
      "grid_template_rows": null,
      "height": null,
      "justify_content": null,
      "justify_items": null,
      "left": null,
      "margin": null,
      "max_height": null,
      "max_width": null,
      "min_height": null,
      "min_width": null,
      "object_fit": null,
      "object_position": null,
      "order": null,
      "overflow": null,
      "overflow_x": null,
      "overflow_y": null,
      "padding": null,
      "right": null,
      "top": null,
      "visibility": null,
      "width": null
     }
    },
    "a1da320509344a5baf909783f94b9b37": {
     "model_module": "@jupyter-widgets/controls",
     "model_module_version": "1.5.0",
     "model_name": "HBoxModel",
     "state": {
      "_dom_classes": [],
      "_model_module": "@jupyter-widgets/controls",
      "_model_module_version": "1.5.0",
      "_model_name": "HBoxModel",
      "_view_count": null,
      "_view_module": "@jupyter-widgets/controls",
      "_view_module_version": "1.5.0",
      "_view_name": "HBoxView",
      "box_style": "",
      "children": [
       "IPY_MODEL_adaaa9f50fa542b2b6c2c8e5c627905d",
       "IPY_MODEL_f99fa57a947743f9b5150113d115e6f5",
       "IPY_MODEL_df7c0e05663e4d489340ad406c0e6f2c"
      ],
      "layout": "IPY_MODEL_8b871c9bf52c4ee78c9f8ac231d38446"
     }
    },
    "a8a160d4210d472e92ea98f32e8bbd0c": {
     "model_module": "@jupyter-widgets/base",
     "model_module_version": "1.2.0",
     "model_name": "LayoutModel",
     "state": {
      "_model_module": "@jupyter-widgets/base",
      "_model_module_version": "1.2.0",
      "_model_name": "LayoutModel",
      "_view_count": null,
      "_view_module": "@jupyter-widgets/base",
      "_view_module_version": "1.2.0",
      "_view_name": "LayoutView",
      "align_content": null,
      "align_items": null,
      "align_self": null,
      "border": null,
      "bottom": null,
      "display": null,
      "flex": null,
      "flex_flow": null,
      "grid_area": null,
      "grid_auto_columns": null,
      "grid_auto_flow": null,
      "grid_auto_rows": null,
      "grid_column": null,
      "grid_gap": null,
      "grid_row": null,
      "grid_template_areas": null,
      "grid_template_columns": null,
      "grid_template_rows": null,
      "height": null,
      "justify_content": null,
      "justify_items": null,
      "left": null,
      "margin": null,
      "max_height": null,
      "max_width": null,
      "min_height": null,
      "min_width": null,
      "object_fit": null,
      "object_position": null,
      "order": null,
      "overflow": null,
      "overflow_x": null,
      "overflow_y": null,
      "padding": null,
      "right": null,
      "top": null,
      "visibility": null,
      "width": null
     }
    },
    "acf29d3a571844598390660447b6407e": {
     "model_module": "@jupyter-widgets/controls",
     "model_module_version": "1.5.0",
     "model_name": "FloatProgressModel",
     "state": {
      "_dom_classes": [],
      "_model_module": "@jupyter-widgets/controls",
      "_model_module_version": "1.5.0",
      "_model_name": "FloatProgressModel",
      "_view_count": null,
      "_view_module": "@jupyter-widgets/controls",
      "_view_module_version": "1.5.0",
      "_view_name": "ProgressView",
      "bar_style": "success",
      "description": "",
      "description_tooltip": null,
      "layout": "IPY_MODEL_d43f4e055c8e4fa483ce86401badc9e8",
      "max": 9912422,
      "min": 0,
      "orientation": "horizontal",
      "style": "IPY_MODEL_d0559c898a1f4ac8803f5e2be13e234c",
      "value": 9912422
     }
    },
    "adaaa9f50fa542b2b6c2c8e5c627905d": {
     "model_module": "@jupyter-widgets/controls",
     "model_module_version": "1.5.0",
     "model_name": "HTMLModel",
     "state": {
      "_dom_classes": [],
      "_model_module": "@jupyter-widgets/controls",
      "_model_module_version": "1.5.0",
      "_model_name": "HTMLModel",
      "_view_count": null,
      "_view_module": "@jupyter-widgets/controls",
      "_view_module_version": "1.5.0",
      "_view_name": "HTMLView",
      "description": "",
      "description_tooltip": null,
      "layout": "IPY_MODEL_a8a160d4210d472e92ea98f32e8bbd0c",
      "placeholder": "​",
      "style": "IPY_MODEL_8ed91559804a49b297c3e0389bed90a1",
      "value": ""
     }
    },
    "b2a034479d4d4c328fc56163317c710d": {
     "model_module": "@jupyter-widgets/base",
     "model_module_version": "1.2.0",
     "model_name": "LayoutModel",
     "state": {
      "_model_module": "@jupyter-widgets/base",
      "_model_module_version": "1.2.0",
      "_model_name": "LayoutModel",
      "_view_count": null,
      "_view_module": "@jupyter-widgets/base",
      "_view_module_version": "1.2.0",
      "_view_name": "LayoutView",
      "align_content": null,
      "align_items": null,
      "align_self": null,
      "border": null,
      "bottom": null,
      "display": null,
      "flex": null,
      "flex_flow": null,
      "grid_area": null,
      "grid_auto_columns": null,
      "grid_auto_flow": null,
      "grid_auto_rows": null,
      "grid_column": null,
      "grid_gap": null,
      "grid_row": null,
      "grid_template_areas": null,
      "grid_template_columns": null,
      "grid_template_rows": null,
      "height": null,
      "justify_content": null,
      "justify_items": null,
      "left": null,
      "margin": null,
      "max_height": null,
      "max_width": null,
      "min_height": null,
      "min_width": null,
      "object_fit": null,
      "object_position": null,
      "order": null,
      "overflow": null,
      "overflow_x": null,
      "overflow_y": null,
      "padding": null,
      "right": null,
      "top": null,
      "visibility": null,
      "width": null
     }
    },
    "badf091712454bee854e6ea4454fea35": {
     "model_module": "@jupyter-widgets/base",
     "model_module_version": "1.2.0",
     "model_name": "LayoutModel",
     "state": {
      "_model_module": "@jupyter-widgets/base",
      "_model_module_version": "1.2.0",
      "_model_name": "LayoutModel",
      "_view_count": null,
      "_view_module": "@jupyter-widgets/base",
      "_view_module_version": "1.2.0",
      "_view_name": "LayoutView",
      "align_content": null,
      "align_items": null,
      "align_self": null,
      "border": null,
      "bottom": null,
      "display": null,
      "flex": null,
      "flex_flow": null,
      "grid_area": null,
      "grid_auto_columns": null,
      "grid_auto_flow": null,
      "grid_auto_rows": null,
      "grid_column": null,
      "grid_gap": null,
      "grid_row": null,
      "grid_template_areas": null,
      "grid_template_columns": null,
      "grid_template_rows": null,
      "height": null,
      "justify_content": null,
      "justify_items": null,
      "left": null,
      "margin": null,
      "max_height": null,
      "max_width": null,
      "min_height": null,
      "min_width": null,
      "object_fit": null,
      "object_position": null,
      "order": null,
      "overflow": null,
      "overflow_x": null,
      "overflow_y": null,
      "padding": null,
      "right": null,
      "top": null,
      "visibility": null,
      "width": null
     }
    },
    "bbd3700ba4654137ae0582eea859c536": {
     "model_module": "@jupyter-widgets/base",
     "model_module_version": "1.2.0",
     "model_name": "LayoutModel",
     "state": {
      "_model_module": "@jupyter-widgets/base",
      "_model_module_version": "1.2.0",
      "_model_name": "LayoutModel",
      "_view_count": null,
      "_view_module": "@jupyter-widgets/base",
      "_view_module_version": "1.2.0",
      "_view_name": "LayoutView",
      "align_content": null,
      "align_items": null,
      "align_self": null,
      "border": null,
      "bottom": null,
      "display": null,
      "flex": null,
      "flex_flow": null,
      "grid_area": null,
      "grid_auto_columns": null,
      "grid_auto_flow": null,
      "grid_auto_rows": null,
      "grid_column": null,
      "grid_gap": null,
      "grid_row": null,
      "grid_template_areas": null,
      "grid_template_columns": null,
      "grid_template_rows": null,
      "height": null,
      "justify_content": null,
      "justify_items": null,
      "left": null,
      "margin": null,
      "max_height": null,
      "max_width": null,
      "min_height": null,
      "min_width": null,
      "object_fit": null,
      "object_position": null,
      "order": null,
      "overflow": null,
      "overflow_x": null,
      "overflow_y": null,
      "padding": null,
      "right": null,
      "top": null,
      "visibility": null,
      "width": null
     }
    },
    "cd15518c00224e6583aa0eb5260ca205": {
     "model_module": "@jupyter-widgets/controls",
     "model_module_version": "1.5.0",
     "model_name": "HTMLModel",
     "state": {
      "_dom_classes": [],
      "_model_module": "@jupyter-widgets/controls",
      "_model_module_version": "1.5.0",
      "_model_name": "HTMLModel",
      "_view_count": null,
      "_view_module": "@jupyter-widgets/controls",
      "_view_module_version": "1.5.0",
      "_view_name": "HTMLView",
      "description": "",
      "description_tooltip": null,
      "layout": "IPY_MODEL_bbd3700ba4654137ae0582eea859c536",
      "placeholder": "​",
      "style": "IPY_MODEL_6071173a0346446c9ae54080b1af96fe",
      "value": " 29696/? [00:00&lt;00:00, 665185.83it/s]"
     }
    },
    "d0559c898a1f4ac8803f5e2be13e234c": {
     "model_module": "@jupyter-widgets/controls",
     "model_module_version": "1.5.0",
     "model_name": "ProgressStyleModel",
     "state": {
      "_model_module": "@jupyter-widgets/controls",
      "_model_module_version": "1.5.0",
      "_model_name": "ProgressStyleModel",
      "_view_count": null,
      "_view_module": "@jupyter-widgets/base",
      "_view_module_version": "1.2.0",
      "_view_name": "StyleView",
      "bar_color": null,
      "description_width": ""
     }
    },
    "d43f4e055c8e4fa483ce86401badc9e8": {
     "model_module": "@jupyter-widgets/base",
     "model_module_version": "1.2.0",
     "model_name": "LayoutModel",
     "state": {
      "_model_module": "@jupyter-widgets/base",
      "_model_module_version": "1.2.0",
      "_model_name": "LayoutModel",
      "_view_count": null,
      "_view_module": "@jupyter-widgets/base",
      "_view_module_version": "1.2.0",
      "_view_name": "LayoutView",
      "align_content": null,
      "align_items": null,
      "align_self": null,
      "border": null,
      "bottom": null,
      "display": null,
      "flex": null,
      "flex_flow": null,
      "grid_area": null,
      "grid_auto_columns": null,
      "grid_auto_flow": null,
      "grid_auto_rows": null,
      "grid_column": null,
      "grid_gap": null,
      "grid_row": null,
      "grid_template_areas": null,
      "grid_template_columns": null,
      "grid_template_rows": null,
      "height": null,
      "justify_content": null,
      "justify_items": null,
      "left": null,
      "margin": null,
      "max_height": null,
      "max_width": null,
      "min_height": null,
      "min_width": null,
      "object_fit": null,
      "object_position": null,
      "order": null,
      "overflow": null,
      "overflow_x": null,
      "overflow_y": null,
      "padding": null,
      "right": null,
      "top": null,
      "visibility": null,
      "width": null
     }
    },
    "d99a3aede4e74b4085900e33bc06e211": {
     "model_module": "@jupyter-widgets/base",
     "model_module_version": "1.2.0",
     "model_name": "LayoutModel",
     "state": {
      "_model_module": "@jupyter-widgets/base",
      "_model_module_version": "1.2.0",
      "_model_name": "LayoutModel",
      "_view_count": null,
      "_view_module": "@jupyter-widgets/base",
      "_view_module_version": "1.2.0",
      "_view_name": "LayoutView",
      "align_content": null,
      "align_items": null,
      "align_self": null,
      "border": null,
      "bottom": null,
      "display": null,
      "flex": null,
      "flex_flow": null,
      "grid_area": null,
      "grid_auto_columns": null,
      "grid_auto_flow": null,
      "grid_auto_rows": null,
      "grid_column": null,
      "grid_gap": null,
      "grid_row": null,
      "grid_template_areas": null,
      "grid_template_columns": null,
      "grid_template_rows": null,
      "height": null,
      "justify_content": null,
      "justify_items": null,
      "left": null,
      "margin": null,
      "max_height": null,
      "max_width": null,
      "min_height": null,
      "min_width": null,
      "object_fit": null,
      "object_position": null,
      "order": null,
      "overflow": null,
      "overflow_x": null,
      "overflow_y": null,
      "padding": null,
      "right": null,
      "top": null,
      "visibility": null,
      "width": null
     }
    },
    "df7c0e05663e4d489340ad406c0e6f2c": {
     "model_module": "@jupyter-widgets/controls",
     "model_module_version": "1.5.0",
     "model_name": "HTMLModel",
     "state": {
      "_dom_classes": [],
      "_model_module": "@jupyter-widgets/controls",
      "_model_module_version": "1.5.0",
      "_model_name": "HTMLModel",
      "_view_count": null,
      "_view_module": "@jupyter-widgets/controls",
      "_view_module_version": "1.5.0",
      "_view_name": "HTMLView",
      "description": "",
      "description_tooltip": null,
      "layout": "IPY_MODEL_a05cc6bfd73e49439cee5abed24b1169",
      "placeholder": "​",
      "style": "IPY_MODEL_9f0921cdba444b75b73cd0b9cb09b184",
      "value": " 1649664/? [00:00&lt;00:00, 11396016.89it/s]"
     }
    },
    "dfd9eb9dffba4fd3a1b1077a1f9bfd79": {
     "model_module": "@jupyter-widgets/controls",
     "model_module_version": "1.5.0",
     "model_name": "ProgressStyleModel",
     "state": {
      "_model_module": "@jupyter-widgets/controls",
      "_model_module_version": "1.5.0",
      "_model_name": "ProgressStyleModel",
      "_view_count": null,
      "_view_module": "@jupyter-widgets/base",
      "_view_module_version": "1.2.0",
      "_view_name": "StyleView",
      "bar_color": null,
      "description_width": ""
     }
    },
    "e6fa1fe4fa494cdda0422f10e5179d60": {
     "model_module": "@jupyter-widgets/controls",
     "model_module_version": "1.5.0",
     "model_name": "DescriptionStyleModel",
     "state": {
      "_model_module": "@jupyter-widgets/controls",
      "_model_module_version": "1.5.0",
      "_model_name": "DescriptionStyleModel",
      "_view_count": null,
      "_view_module": "@jupyter-widgets/base",
      "_view_module_version": "1.2.0",
      "_view_name": "StyleView",
      "description_width": ""
     }
    },
    "e78bf932560f456b809135caf6ec96cb": {
     "model_module": "@jupyter-widgets/controls",
     "model_module_version": "1.5.0",
     "model_name": "DescriptionStyleModel",
     "state": {
      "_model_module": "@jupyter-widgets/controls",
      "_model_module_version": "1.5.0",
      "_model_name": "DescriptionStyleModel",
      "_view_count": null,
      "_view_module": "@jupyter-widgets/base",
      "_view_module_version": "1.2.0",
      "_view_name": "StyleView",
      "description_width": ""
     }
    },
    "ed1f39bb47a84ebdbdfe1821e6b643d3": {
     "model_module": "@jupyter-widgets/controls",
     "model_module_version": "1.5.0",
     "model_name": "HTMLModel",
     "state": {
      "_dom_classes": [],
      "_model_module": "@jupyter-widgets/controls",
      "_model_module_version": "1.5.0",
      "_model_name": "HTMLModel",
      "_view_count": null,
      "_view_module": "@jupyter-widgets/controls",
      "_view_module_version": "1.5.0",
      "_view_name": "HTMLView",
      "description": "",
      "description_tooltip": null,
      "layout": "IPY_MODEL_5f2d16e6fc654efd9fcf9499b5200c0e",
      "placeholder": "​",
      "style": "IPY_MODEL_e6fa1fe4fa494cdda0422f10e5179d60",
      "value": ""
     }
    },
    "f13550b0285f4af4a66477322ba05375": {
     "model_module": "@jupyter-widgets/base",
     "model_module_version": "1.2.0",
     "model_name": "LayoutModel",
     "state": {
      "_model_module": "@jupyter-widgets/base",
      "_model_module_version": "1.2.0",
      "_model_name": "LayoutModel",
      "_view_count": null,
      "_view_module": "@jupyter-widgets/base",
      "_view_module_version": "1.2.0",
      "_view_name": "LayoutView",
      "align_content": null,
      "align_items": null,
      "align_self": null,
      "border": null,
      "bottom": null,
      "display": null,
      "flex": null,
      "flex_flow": null,
      "grid_area": null,
      "grid_auto_columns": null,
      "grid_auto_flow": null,
      "grid_auto_rows": null,
      "grid_column": null,
      "grid_gap": null,
      "grid_row": null,
      "grid_template_areas": null,
      "grid_template_columns": null,
      "grid_template_rows": null,
      "height": null,
      "justify_content": null,
      "justify_items": null,
      "left": null,
      "margin": null,
      "max_height": null,
      "max_width": null,
      "min_height": null,
      "min_width": null,
      "object_fit": null,
      "object_position": null,
      "order": null,
      "overflow": null,
      "overflow_x": null,
      "overflow_y": null,
      "padding": null,
      "right": null,
      "top": null,
      "visibility": null,
      "width": null
     }
    },
    "f99fa57a947743f9b5150113d115e6f5": {
     "model_module": "@jupyter-widgets/controls",
     "model_module_version": "1.5.0",
     "model_name": "FloatProgressModel",
     "state": {
      "_dom_classes": [],
      "_model_module": "@jupyter-widgets/controls",
      "_model_module_version": "1.5.0",
      "_model_name": "FloatProgressModel",
      "_view_count": null,
      "_view_module": "@jupyter-widgets/controls",
      "_view_module_version": "1.5.0",
      "_view_name": "ProgressView",
      "bar_style": "success",
      "description": "",
      "description_tooltip": null,
      "layout": "IPY_MODEL_41b6d00bdae447fcaa1508ab0bd25a00",
      "max": 1648877,
      "min": 0,
      "orientation": "horizontal",
      "style": "IPY_MODEL_7316207200894d2ab5210fea24e3be8d",
      "value": 1648877
     }
    },
    "fd7e4db18e3e4f1294f1381df8716e14": {
     "model_module": "@jupyter-widgets/controls",
     "model_module_version": "1.5.0",
     "model_name": "ProgressStyleModel",
     "state": {
      "_model_module": "@jupyter-widgets/controls",
      "_model_module_version": "1.5.0",
      "_model_name": "ProgressStyleModel",
      "_view_count": null,
      "_view_module": "@jupyter-widgets/base",
      "_view_module_version": "1.2.0",
      "_view_name": "StyleView",
      "bar_color": null,
      "description_width": ""
     }
    }
   }
  }
 },
 "nbformat": 4,
 "nbformat_minor": 5
}
