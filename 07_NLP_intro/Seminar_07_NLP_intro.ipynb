{
  "nbformat": 4,
  "nbformat_minor": 0,
  "metadata": {
    "kernelspec": {
      "display_name": "Python 3",
      "language": "python",
      "name": "python3"
    },
    "language_info": {
      "codemirror_mode": {
        "name": "ipython",
        "version": 3
      },
      "file_extension": ".py",
      "mimetype": "text/x-python",
      "name": "python",
      "nbconvert_exporter": "python",
      "pygments_lexer": "ipython3",
      "version": "3.8.5"
    },
    "colab": {
      "provenance": []
    }
  },
  "cells": [
    {
      "cell_type": "markdown",
      "metadata": {
        "id": "ZvJKUUlNllnv"
      },
      "source": [
        "# Предобработка текста"
      ]
    },
    {
      "cell_type": "code",
      "metadata": {
        "id": "i4DSJfdh0DzL",
        "colab": {
          "base_uri": "https://localhost:8080/"
        },
        "outputId": "c7355c5f-11b5-4e65-8053-d537fcbd0ef2"
      },
      "source": [
        "!pip install nltk"
      ],
      "execution_count": null,
      "outputs": [
        {
          "output_type": "stream",
          "name": "stdout",
          "text": [
            "Looking in indexes: https://pypi.org/simple, https://us-python.pkg.dev/colab-wheels/public/simple/\n",
            "Requirement already satisfied: nltk in /usr/local/lib/python3.9/dist-packages (3.8.1)\n",
            "Requirement already satisfied: joblib in /usr/local/lib/python3.9/dist-packages (from nltk) (1.1.1)\n",
            "Requirement already satisfied: click in /usr/local/lib/python3.9/dist-packages (from nltk) (8.1.3)\n",
            "Requirement already satisfied: regex>=2021.8.3 in /usr/local/lib/python3.9/dist-packages (from nltk) (2022.10.31)\n",
            "Requirement already satisfied: tqdm in /usr/local/lib/python3.9/dist-packages (from nltk) (4.65.0)\n"
          ]
        }
      ]
    },
    {
      "cell_type": "code",
      "metadata": {
        "id": "uD0krM4r0DzN"
      },
      "source": [
        "from __future__ import print_function\n",
        "import numpy as np\n",
        "import random\n",
        "import sys\n",
        "import io\n",
        "import os\n",
        "import re"
      ],
      "execution_count": null,
      "outputs": []
    },
    {
      "cell_type": "markdown",
      "metadata": {
        "id": "ugnQIr010DzO"
      },
      "source": [
        "# 1 Стемминг"
      ]
    },
    {
      "cell_type": "code",
      "metadata": {
        "id": "-bejrQ2l0DzQ",
        "colab": {
          "base_uri": "https://localhost:8080/"
        },
        "outputId": "22b99f7f-d6db-4eda-e627-0b6347d91db6"
      },
      "source": [
        "import nltk\n",
        "from nltk.stem import PorterStemmer\n",
        "from nltk.corpus import wordnet\n",
        "nltk.download('wordnet')\n",
        "nltk.download('punkt')\n",
        "nltk.download('averaged_perceptron_tagger')"
      ],
      "execution_count": null,
      "outputs": [
        {
          "output_type": "stream",
          "name": "stderr",
          "text": [
            "[nltk_data] Downloading package wordnet to /root/nltk_data...\n",
            "[nltk_data] Downloading package punkt to /root/nltk_data...\n",
            "[nltk_data]   Unzipping tokenizers/punkt.zip.\n",
            "[nltk_data] Downloading package averaged_perceptron_tagger to\n",
            "[nltk_data]     /root/nltk_data...\n",
            "[nltk_data]   Unzipping taggers/averaged_perceptron_tagger.zip.\n"
          ]
        },
        {
          "output_type": "execute_result",
          "data": {
            "text/plain": [
              "True"
            ]
          },
          "metadata": {},
          "execution_count": 131
        }
      ]
    },
    {
      "cell_type": "code",
      "metadata": {
        "id": "PeixON-M0DzO",
        "colab": {
          "base_uri": "https://localhost:8080/"
        },
        "outputId": "48fd2088-30d5-428e-f8b2-b8bcbe58d777"
      },
      "source": [
        "words= [\"learn\", \"learning\", \"learned\", \"learns\"]\n",
        "ps =  PorterStemmer()\n",
        "for w in words:\n",
        "    rootWord=ps.stem(w)\n",
        "    print(rootWord)"
      ],
      "execution_count": null,
      "outputs": [
        {
          "output_type": "stream",
          "name": "stdout",
          "text": [
            "learn\n",
            "learn\n",
            "learn\n",
            "learn\n"
          ]
        }
      ]
    },
    {
      "cell_type": "code",
      "metadata": {
        "id": "6NYm1hdI0DzP",
        "colab": {
          "base_uri": "https://localhost:8080/"
        },
        "outputId": "8243a0e1-beb0-484e-fd9a-f3f604c932f7"
      },
      "source": [
        "sentence=\"Dear students, You should try very hard to master machine learning!\"\n",
        "words = nltk.word_tokenize(sentence)\n",
        "ps = PorterStemmer()\n",
        "word_list = []\n",
        "for w in words:\n",
        "    rootWord=ps.stem(w)\n",
        "    word_list.append(rootWord)\n",
        "print(\"Список слов из предложения:\\n\", word_list)"
      ],
      "execution_count": null,
      "outputs": [
        {
          "output_type": "stream",
          "name": "stdout",
          "text": [
            "Список слов из предложения:\n",
            " ['dear', 'student', ',', 'you', 'should', 'tri', 'veri', 'hard', 'to', 'master', 'machin', 'learn', '!']\n"
          ]
        }
      ]
    },
    {
      "cell_type": "markdown",
      "metadata": {
        "id": "M897x-iK0DzP"
      },
      "source": [
        "# 2 Лематтизация"
      ]
    },
    {
      "cell_type": "code",
      "metadata": {
        "id": "9bQc4whinQJC"
      },
      "source": [
        "from nltk.stem import WordNetLemmatizer "
      ],
      "execution_count": null,
      "outputs": []
    },
    {
      "cell_type": "code",
      "metadata": {
        "id": "L5BJFjnQ0DzQ",
        "colab": {
          "base_uri": "https://localhost:8080/"
        },
        "outputId": "080e7ec0-86eb-4e48-d835-1b168c22f11a"
      },
      "source": [
        "# Init the Wordnet Lemmatizer\n",
        "lemmatizer = WordNetLemmatizer()\n",
        "# Lemmatize Single Word\n",
        "print(lemmatizer.lemmatize(\"classes\"))\n",
        "print(lemmatizer.lemmatize(\"women\"))\n",
        "print(lemmatizer.lemmatize(\"crying\"))"
      ],
      "execution_count": null,
      "outputs": [
        {
          "output_type": "stream",
          "name": "stdout",
          "text": [
            "class\n",
            "woman\n",
            "cry\n"
          ]
        }
      ]
    },
    {
      "cell_type": "code",
      "metadata": {
        "id": "UQcV0pBv0DzR",
        "colab": {
          "base_uri": "https://localhost:8080/"
        },
        "outputId": "64ae257e-b3e4-4fc9-aea0-f983c6297225"
      },
      "source": [
        "# Напишем какое-нибудь предложение\n",
        "sentence = \"Bad students were expelled from the institute\"\n",
        "\n",
        "# Сделаем его токенизацию, то есть разобьем на слова\n",
        "word_list = nltk.word_tokenize(sentence)\n",
        "print(\"Список слов из предложения:\\n\", word_list)\n",
        "\n",
        "# Сделаем леммитизацию каждого слова\n",
        "lemmatized_output = ' '.join([lemmatizer.lemmatize(w) for w in word_list]) #Ваш код здесь\n",
        "print(\"Предложение из лемматизированных слов:\\n\", lemmatized_output)"
      ],
      "execution_count": null,
      "outputs": [
        {
          "output_type": "stream",
          "name": "stdout",
          "text": [
            "Список слов из предложения:\n",
            " ['Bad', 'students', 'were', 'expelled', 'from', 'the', 'institute']\n",
            "Предложение из лемматизированных слов:\n",
            " Bad student were expelled from the institute\n"
          ]
        }
      ]
    },
    {
      "cell_type": "code",
      "metadata": {
        "id": "akXmQtSf0DzR",
        "colab": {
          "base_uri": "https://localhost:8080/"
        },
        "outputId": "40eed646-f739-41b3-88c3-67bb4dc1be34"
      },
      "source": [
        "# Иногда одно и то же слово может иметь несколько лемм в зависимости от значения/части речи/контекста\n",
        "print(lemmatizer.lemmatize(\"stripes\", 'v'))  \n",
        "print(lemmatizer.lemmatize(\"stripes\", 'n')) "
      ],
      "execution_count": null,
      "outputs": [
        {
          "output_type": "stream",
          "name": "stdout",
          "text": [
            "strip\n",
            "stripe\n"
          ]
        }
      ]
    },
    {
      "cell_type": "markdown",
      "source": [
        "Можно получить [теги](https://stackoverflow.com/questions/15388831/what-are-all-possible-pos-tags-of-nltk) токена предобученным алгоритмом."
      ],
      "metadata": {
        "id": "b9XXT47b_45h"
      }
    },
    {
      "cell_type": "code",
      "metadata": {
        "id": "OKDQAcqj0DzS",
        "colab": {
          "base_uri": "https://localhost:8080/"
        },
        "outputId": "9f2844d7-715d-48f5-ba3f-87f094477238"
      },
      "source": [
        "print(nltk.pos_tag(['women']))\n",
        "print(nltk.pos_tag(nltk.word_tokenize(sentence)))"
      ],
      "execution_count": null,
      "outputs": [
        {
          "output_type": "stream",
          "name": "stdout",
          "text": [
            "[('women', 'NNS')]\n",
            "[('Bad', 'JJ'), ('students', 'NNS'), ('were', 'VBD'), ('expelled', 'VBN'), ('from', 'IN'), ('the', 'DT'), ('institute', 'NN')]\n"
          ]
        }
      ]
    },
    {
      "cell_type": "code",
      "metadata": {
        "id": "Af-LdxLW0DzS"
      },
      "source": [
        "# Lemmatize with POS Tag\n",
        "def get_wordnet_pos(word):\n",
        "    \"\"\"Map POS tag to first character lemmatize() accepts\"\"\"\n",
        "    tag = nltk.pos_tag([word])[0][1][0].upper()\n",
        "    tag_dict = {\"J\": wordnet.ADJ,\n",
        "                \"N\": wordnet.NOUN,\n",
        "                \"V\": wordnet.VERB,\n",
        "                \"R\": wordnet.ADV}\n",
        "    return tag_dict.get(tag, wordnet.NOUN)\n",
        "\n",
        "# 1. Init Lemmatizer\n",
        "lemmatizer = WordNetLemmatizer()\n",
        "\n",
        "# 2. Lemmatize Single Word with the appropriate POS tag\n",
        "word = 'women'\n",
        "print(lemmatizer.lemmatize(word, get_wordnet_pos(word)))\n",
        "\n",
        "# 3. Lemmatize a Sentence with the appropriate POS tag\n",
        "print([lemmatizer.lemmatize(w, get_wordnet_pos(w)) for w in nltk.word_tokenize(sentence)])"
      ],
      "execution_count": null,
      "outputs": []
    },
    {
      "cell_type": "markdown",
      "metadata": {
        "id": "_zmE1ftq0DzS"
      },
      "source": [
        "# 4 Bag of words"
      ]
    },
    {
      "cell_type": "markdown",
      "metadata": {
        "id": "8yQmvZdMzs8C"
      },
      "source": [
        "## 4.1 Via python"
      ]
    },
    {
      "cell_type": "code",
      "metadata": {
        "id": "vZ0sWCd1oQL5"
      },
      "source": [
        "def vectorize(tokens):\n",
        "    ''' This function takes list of words in a sentence as input \n",
        "    and returns a vector of size of filtered_vocab.It puts 0 if the \n",
        "    word is not present in tokens and count of token if present.'''\n",
        "    vector=[]\n",
        "    for w in filtered_vocab:\n",
        "        vector.append(tokens.count(w)) # Ваш код здесь\n",
        "    return vector"
      ],
      "execution_count": null,
      "outputs": []
    },
    {
      "cell_type": "code",
      "metadata": {
        "id": "re_EYZMfoRps"
      },
      "source": [
        "def unique(sequence):\n",
        "    '''This functions returns a list in which the order remains \n",
        "    same and no item repeats.Using the set() function does not \n",
        "    preserve the original ordering'''\n",
        "    seen = set()\n",
        "    return [x for x in sequence if not (x in seen or seen.add(x))] # Ваш код здесь"
      ],
      "execution_count": null,
      "outputs": []
    },
    {
      "cell_type": "code",
      "metadata": {
        "id": "-_T93Dgl7gVX",
        "colab": {
          "base_uri": "https://localhost:8080/"
        },
        "outputId": "9f68a492-052e-4019-f033-3cff5d412fc1"
      },
      "source": [
        "#create a list of stopwords.You can import stopwords from nltk too\n",
        "stopwords=[\"to\",\"is\",\"a\"]\n",
        "\n",
        "#list of special characters.You can use regular expressions too\n",
        "special_char=[\",\",\":\",\" \",\";\",\".\",\"?\"]\n",
        "\n",
        "#Write the sentences in the corpus,in our case, just two \n",
        "string1=\"Welcome to Great Learning , Now start learning\"\n",
        "string2=\"Learning is a good practice\"\n",
        "\n",
        "#convert them to lower case\n",
        "# Ваш код здесь\n",
        "string1=string1.lower()\n",
        "string2=string2.lower()\n",
        "\n",
        "#split the sentences into tokens\n",
        "# Ваш код здесь\n",
        "tokens1=string1.split()\n",
        "tokens2=string2.split()\n",
        "print(tokens1)\n",
        "print(tokens2)"
      ],
      "execution_count": null,
      "outputs": [
        {
          "output_type": "stream",
          "name": "stdout",
          "text": [
            "['welcome', 'to', 'great', 'learning', ',', 'now', 'start', 'learning']\n",
            "['learning', 'is', 'a', 'good', 'practice']\n"
          ]
        }
      ]
    },
    {
      "cell_type": "code",
      "metadata": {
        "id": "_OjnTYJY7gaj",
        "colab": {
          "base_uri": "https://localhost:8080/"
        },
        "outputId": "f57df3d8-86e6-40fd-8ca2-9a1546b116e1"
      },
      "source": [
        "#create a vocabulary list\n",
        "vocab=unique(tokens1+tokens2) # Ваш код здесь\n",
        "print(vocab)"
      ],
      "execution_count": null,
      "outputs": [
        {
          "output_type": "stream",
          "name": "stdout",
          "text": [
            "['welcome', 'to', 'great', 'learning', ',', 'now', 'start', 'is', 'a', 'good', 'practice']\n"
          ]
        }
      ]
    },
    {
      "cell_type": "code",
      "metadata": {
        "id": "tKpT8ZM47krL",
        "colab": {
          "base_uri": "https://localhost:8080/"
        },
        "outputId": "7f2a9a90-f2f1-4143-f422-408c20a74d2e"
      },
      "source": [
        "#filter the vocabulary list\n",
        "# Ваш код здесь\n",
        "filtered_vocab=[]\n",
        "for w in vocab: \n",
        "    if w not in stopwords and w not in special_char: \n",
        "        filtered_vocab.append(w)\n",
        "print(filtered_vocab)"
      ],
      "execution_count": null,
      "outputs": [
        {
          "output_type": "stream",
          "name": "stdout",
          "text": [
            "['welcome', 'great', 'learning', 'now', 'start', 'good', 'practice']\n"
          ]
        }
      ]
    },
    {
      "cell_type": "code",
      "metadata": {
        "id": "DqxDa5i10DzT",
        "colab": {
          "base_uri": "https://localhost:8080/"
        },
        "outputId": "f2bc04a6-d9a5-4bc9-ab68-f36c135cb398"
      },
      "source": [
        "#convert sentences into vectors\n",
        "vector1=vectorize(tokens1)\n",
        "print(vector1)\n",
        "vector2=vectorize(tokens2)\n",
        "print(vector2)"
      ],
      "execution_count": null,
      "outputs": [
        {
          "output_type": "stream",
          "name": "stdout",
          "text": [
            "[1, 1, 2, 1, 1, 0, 0]\n",
            "[0, 0, 1, 0, 0, 1, 1]\n"
          ]
        }
      ]
    },
    {
      "cell_type": "markdown",
      "metadata": {
        "id": "dJkijEN0zzQa"
      },
      "source": [
        "## 4.2 Via sklearn"
      ]
    },
    {
      "cell_type": "code",
      "metadata": {
        "id": "w8_xs-Wd0DzT",
        "colab": {
          "base_uri": "https://localhost:8080/"
        },
        "outputId": "13f95419-fbe0-49e4-bce5-b36d1a51a023"
      },
      "source": [
        "import pandas as pd\n",
        "from sklearn.feature_extraction.text import CountVectorizer, TfidfVectorizer\n",
        " \n",
        "sentence_1=\"Welcome to Great Learning , Now start learning\"\n",
        "sentence_2=\"Learning is a good practice\"\n",
        " \n",
        " \n",
        " \n",
        "CountVec = CountVectorizer(ngram_range=(1,1), stop_words='english')\n",
        "#transform\n",
        "Count_data = CountVec.fit_transform([sentence_1,sentence_2])\n",
        " \n",
        "#create dataframe\n",
        "cv_dataframe=pd.DataFrame(Count_data.toarray(),columns=CountVec.get_feature_names_out())\n",
        "print(cv_dataframe)"
      ],
      "execution_count": null,
      "outputs": [
        {
          "output_type": "stream",
          "name": "stdout",
          "text": [
            "   good  great  learning  practice  start  welcome\n",
            "0     0      1         2         0      1        1\n",
            "1     1      0         1         1      0        0\n"
          ]
        }
      ]
    },
    {
      "cell_type": "markdown",
      "metadata": {
        "id": "FvIgMKQ_-0gs"
      },
      "source": [
        "# 5 N-grams"
      ]
    },
    {
      "cell_type": "code",
      "metadata": {
        "id": "G5ZpN6wr-x7R",
        "colab": {
          "base_uri": "https://localhost:8080/"
        },
        "outputId": "23627ac2-e53d-490b-c084-62818d9aa3bc"
      },
      "source": [
        "import pandas as pd\n",
        "from sklearn.feature_extraction.text import CountVectorizer, TfidfVectorizer\n",
        " \n",
        "sentence_1=\"This is a good job.I will not miss it for anything\"\n",
        "sentence_2=\"This is not good at all\"\n",
        " \n",
        " \n",
        " \n",
        "CountVec = CountVectorizer(ngram_range=(1,2))\n",
        "#transform\n",
        "Count_data = CountVec.fit_transform([sentence_1,sentence_2])\n",
        " \n",
        "#create dataframe\n",
        "cv_dataframe=pd.DataFrame(Count_data.toarray(),columns=CountVec.get_feature_names_out())\n",
        "print(cv_dataframe)"
      ],
      "execution_count": null,
      "outputs": [
        {
          "output_type": "stream",
          "name": "stdout",
          "text": [
            "   all  anything  at  at all  for  for anything  good  good at  good job  is  \\\n",
            "0    0         1   0       0    1             1     1        0         1   1   \n",
            "1    1         0   1       1    0             0     1        1         0   1   \n",
            "\n",
            "   ...  job will  miss  miss it  not  not good  not miss  this  this is  will  \\\n",
            "0  ...         1     1        1    1         0         1     1        1     1   \n",
            "1  ...         0     0        0    1         1         0     1        1     0   \n",
            "\n",
            "   will not  \n",
            "0         1  \n",
            "1         0  \n",
            "\n",
            "[2 rows x 25 columns]\n"
          ]
        }
      ]
    },
    {
      "cell_type": "markdown",
      "metadata": {
        "id": "0UcGOjhCyySP"
      },
      "source": [
        "# 6 TF-IDF"
      ]
    },
    {
      "cell_type": "markdown",
      "metadata": {
        "id": "1BJ64wQ6_6nR"
      },
      "source": [
        "$TF(i,j)= \\frac{n(i,j)}{\\sum{ n(i,j)}}$\n",
        "\n",
        "$IDF=\\log(N/dN)$\n",
        "\n",
        "$TF-IDF=TF*IDF$"
      ]
    },
    {
      "cell_type": "code",
      "metadata": {
        "id": "4UbtxWD10DzT",
        "colab": {
          "base_uri": "https://localhost:8080/"
        },
        "outputId": "b4020cc7-f961-4217-e8b8-e76ddb8061fc"
      },
      "source": [
        "import pandas as pd\n",
        "from sklearn.feature_extraction.text import CountVectorizer, TfidfVectorizer\n",
        " \n",
        "sentence_1=\"This is a good job.I will not miss it for anything\"\n",
        "sentence_2=\"This is not good at all\"\n",
        " \n",
        "#define tf-idf\n",
        "tf_idf_vec = TfidfVectorizer(use_idf=True, \n",
        "                        smooth_idf=False,  \n",
        "                        ngram_range=(1,1))\n",
        "#transform\n",
        "tf_idf_data = tf_idf_vec.fit_transform([sentence_1,sentence_2])\n",
        " \n",
        "#create dataframe\n",
        "tf_idf_dataframe=pd.DataFrame(tf_idf_data.toarray(),columns=tf_idf_vec.get_feature_names_out())\n",
        "print(tf_idf_dataframe)"
      ],
      "execution_count": null,
      "outputs": [
        {
          "output_type": "stream",
          "name": "stdout",
          "text": [
            "        all  anything        at       for      good        is        it  \\\n",
            "0  0.000000  0.367724  0.000000  0.367724  0.217184  0.217184  0.367724   \n",
            "1  0.542701  0.000000  0.542701  0.000000  0.320528  0.320528  0.000000   \n",
            "\n",
            "        job      miss       not      this      will  \n",
            "0  0.367724  0.367724  0.217184  0.217184  0.367724  \n",
            "1  0.000000  0.000000  0.320528  0.320528  0.000000  \n"
          ]
        }
      ]
    },
    {
      "cell_type": "markdown",
      "metadata": {
        "id": "t_1T5LEgH2lL"
      },
      "source": [
        "# 7 Word2vec"
      ]
    },
    {
      "cell_type": "markdown",
      "metadata": {
        "id": "DikHsCQpH2lL"
      },
      "source": [
        "Установим полезную утилиту Python для парсинга веб-страниц. Она поможет нам достать статью Векипедии, с которой мы будем работать."
      ]
    },
    {
      "cell_type": "code",
      "metadata": {
        "id": "mu5x1nF9H2lM",
        "colab": {
          "base_uri": "https://localhost:8080/"
        },
        "outputId": "e158ecad-2bd7-467c-d0b5-88663ccdfe42"
      },
      "source": [
        "!pip install beautifulsoup4"
      ],
      "execution_count": null,
      "outputs": [
        {
          "output_type": "stream",
          "name": "stdout",
          "text": [
            "Looking in indexes: https://pypi.org/simple, https://us-python.pkg.dev/colab-wheels/public/simple/\n",
            "Requirement already satisfied: beautifulsoup4 in /usr/local/lib/python3.9/dist-packages (4.11.2)\n",
            "Requirement already satisfied: soupsieve>1.2 in /usr/local/lib/python3.9/dist-packages (from beautifulsoup4) (2.4)\n"
          ]
        }
      ]
    },
    {
      "cell_type": "markdown",
      "metadata": {
        "id": "1ZbMOUaRH2lM"
      },
      "source": [
        "И еще установим библиотеку для синтаксического анализа HTML страниц."
      ]
    },
    {
      "cell_type": "code",
      "metadata": {
        "id": "Oooq0-JeH2lM",
        "colab": {
          "base_uri": "https://localhost:8080/"
        },
        "outputId": "be07f0c5-9d34-4a08-ba0a-0f7619daa04f"
      },
      "source": [
        "!pip install lxml"
      ],
      "execution_count": null,
      "outputs": [
        {
          "output_type": "stream",
          "name": "stdout",
          "text": [
            "Looking in indexes: https://pypi.org/simple, https://us-python.pkg.dev/colab-wheels/public/simple/\n",
            "Requirement already satisfied: lxml in /usr/local/lib/python3.9/dist-packages (4.9.2)\n"
          ]
        }
      ]
    },
    {
      "cell_type": "code",
      "metadata": {
        "id": "Erq1W2f-H2lM",
        "colab": {
          "base_uri": "https://localhost:8080/"
        },
        "outputId": "189198fb-2491-4c18-d5d7-bc909eb4a8d0"
      },
      "source": [
        "import bs4 as bs\n",
        "import urllib.request\n",
        "import re\n",
        "import nltk\n",
        "nltk.download('stopwords')"
      ],
      "execution_count": null,
      "outputs": [
        {
          "output_type": "stream",
          "name": "stderr",
          "text": [
            "[nltk_data] Downloading package stopwords to /root/nltk_data...\n",
            "[nltk_data]   Package stopwords is already up-to-date!\n"
          ]
        },
        {
          "output_type": "execute_result",
          "data": {
            "text/plain": [
              "True"
            ]
          },
          "metadata": {},
          "execution_count": 157
        }
      ]
    },
    {
      "cell_type": "markdown",
      "metadata": {
        "id": "hMF6_mmQH2lM"
      },
      "source": [
        "Статья, с которой будем работать, конечно, про искусственный интеллект:) "
      ]
    },
    {
      "cell_type": "code",
      "metadata": {
        "id": "MQGApu7yH2lN"
      },
      "source": [
        "# Загрузим статью по ссылке\n",
        "scraped_data = urllib.request.urlopen('https://en.wikipedia.org/wiki/Artificial_intelligence')\n",
        "\n",
        "# Сдесь статья еще в куче с HTML кодами\n",
        "article = scraped_data.read()\n",
        "\n",
        "# А теперь статья приняла нормальный вид\n",
        "parsed_article = bs.BeautifulSoup(article,'lxml')\n",
        "\n",
        "# Википедия хранит текстовое содержимое статьи внутри p-тегов. Вытащим текст\n",
        "paragraphs = parsed_article.find_all('p')\n",
        "article_text = \"\"\n",
        "for p in paragraphs:\n",
        "    article_text += p.text"
      ],
      "execution_count": null,
      "outputs": []
    },
    {
      "cell_type": "markdown",
      "metadata": {
        "id": "Baae6F3uH2lN"
      },
      "source": [
        "Убедимся, что текст без HTML кодов."
      ]
    },
    {
      "cell_type": "code",
      "metadata": {
        "id": "AztMw8FjH2lN",
        "colab": {
          "base_uri": "https://localhost:8080/",
          "height": 88
        },
        "outputId": "e1ae3021-75e4-4831-aa44-0c247e8227bb"
      },
      "source": [
        "article_text[0:300]"
      ],
      "execution_count": null,
      "outputs": [
        {
          "output_type": "execute_result",
          "data": {
            "text/plain": [
              "'\\nArtificial intelligence (AI) is intelligence—perceiving, synthesizing, and inferring information—demonstrated by machines, as opposed to intelligence displayed by non-human animals and humans. Example tasks in which this is done include speech recognition, computer vision, translation between (natu'"
            ],
            "application/vnd.google.colaboratory.intrinsic+json": {
              "type": "string"
            }
          },
          "metadata": {},
          "execution_count": 159
        }
      ]
    },
    {
      "cell_type": "markdown",
      "metadata": {
        "id": "LazygxJdH2lN"
      },
      "source": [
        "Супер!\n",
        "\n",
        "Дальше сделаем [предобработку текста](https://tproger.ru/translations/regular-expression-python/):"
      ]
    },
    {
      "cell_type": "code",
      "metadata": {
        "id": "X23MFSiFH2lN"
      },
      "source": [
        "# Удаляем прописные буквы\n",
        "processed_article = article_text.lower()\n",
        "\n",
        "# Удаляем все цифры, специальные символы\n",
        "processed_article = re.sub('[^a-zA-Z]', ' ', processed_article)\n",
        "  \n",
        "# Удаляем лишние пробелы из текста\n",
        "processed_article = re.sub(r'\\s+', ' ', processed_article)\n",
        "\n",
        "# Делим статью на предложения\n",
        "# Хоть оно и получается одно, но это нужно, чтобы word_tokenize воспринимал слова как слова, а не буквы как слова\n",
        "all_sentences = nltk.sent_tokenize(processed_article)\n",
        "\n",
        "# Теперь разделим на слова\n",
        "all_words = [nltk.word_tokenize(sent) for sent in all_sentences]\n",
        "\n",
        "# Удаляем слова, не дающие никакой информации (предлоги, артикли и тд)\n",
        "from nltk.corpus import stopwords\n",
        "for i in range(len(all_words)):\n",
        "    all_words[i] = [w for w in all_words[i] if w not in stopwords.words('english')]"
      ],
      "execution_count": null,
      "outputs": []
    },
    {
      "cell_type": "markdown",
      "metadata": {
        "id": "6dww_bmXH2lO"
      },
      "source": [
        "Посмотрим первые несколько слов нашего \"чистого\" списка."
      ]
    },
    {
      "cell_type": "code",
      "metadata": {
        "id": "2TIs0kWyH2lO",
        "colab": {
          "base_uri": "https://localhost:8080/"
        },
        "outputId": "eda6a42c-fb77-4822-a33c-c8418dc384e4"
      },
      "source": [
        "all_words[0][0:5]"
      ],
      "execution_count": null,
      "outputs": [
        {
          "output_type": "execute_result",
          "data": {
            "text/plain": [
              "['artificial', 'intelligence', 'ai', 'intelligence', 'perceiving']"
            ]
          },
          "metadata": {},
          "execution_count": 161
        }
      ]
    },
    {
      "cell_type": "markdown",
      "metadata": {
        "id": "qB1ew-36H2lO"
      },
      "source": [
        "Теперь нужно установить библиотеку обработки естественного языка. С её помощью можно обрабатывать тексты, работать с векторными моделями слов, такими как Word2Vec (в нашем случае)."
      ]
    },
    {
      "cell_type": "code",
      "metadata": {
        "id": "xvoCYYuUH2lO",
        "colab": {
          "base_uri": "https://localhost:8080/"
        },
        "outputId": "319fa2fc-473f-42de-bb3d-ec00156520a3"
      },
      "source": [
        "!pip install gensim"
      ],
      "execution_count": null,
      "outputs": [
        {
          "output_type": "stream",
          "name": "stdout",
          "text": [
            "Looking in indexes: https://pypi.org/simple, https://us-python.pkg.dev/colab-wheels/public/simple/\n",
            "Requirement already satisfied: gensim in /usr/local/lib/python3.9/dist-packages (3.6.0)\n",
            "Requirement already satisfied: scipy>=0.18.1 in /usr/local/lib/python3.9/dist-packages (from gensim) (1.10.1)\n",
            "Requirement already satisfied: smart-open>=1.2.1 in /usr/local/lib/python3.9/dist-packages (from gensim) (6.3.0)\n",
            "Requirement already satisfied: six>=1.5.0 in /usr/local/lib/python3.9/dist-packages (from gensim) (1.15.0)\n",
            "Requirement already satisfied: numpy>=1.11.3 in /usr/local/lib/python3.9/dist-packages (from gensim) (1.22.4)\n"
          ]
        }
      ]
    },
    {
      "cell_type": "code",
      "metadata": {
        "id": "Cu6LBPuCH2lO"
      },
      "source": [
        "from gensim.models import Word2Vec"
      ],
      "execution_count": null,
      "outputs": []
    },
    {
      "cell_type": "markdown",
      "metadata": {
        "id": "dJpLA2RTH2lP"
      },
      "source": [
        "Создадим модель Word2Vec с использованием статьи в Википедии, которую мы скопировали."
      ]
    },
    {
      "cell_type": "markdown",
      "metadata": {
        "id": "v0PiAc6JH2lP"
      },
      "source": [
        "min_count=2 показывает, что в модель Word2Vec будут входить только те слова, которые встречаются в корпусе как минимум 2 раза."
      ]
    },
    {
      "cell_type": "code",
      "metadata": {
        "id": "OtRqlF2aH2lP",
        "colab": {
          "base_uri": "https://localhost:8080/"
        },
        "outputId": "95111d36-0267-41ab-d7bf-c5639b487924"
      },
      "source": [
        "word2vec = Word2Vec(all_words, min_count=2)"
      ],
      "execution_count": null,
      "outputs": [
        {
          "output_type": "stream",
          "name": "stderr",
          "text": [
            "WARNING:gensim.models.base_any2vec:under 10 jobs per worker: consider setting a smaller `batch_words' for smoother alpha decay\n"
          ]
        }
      ]
    },
    {
      "cell_type": "markdown",
      "metadata": {
        "id": "5pCcbkABH2lP"
      },
      "source": [
        "Посмотри уникальные слова, которые в статье встреачются как минимум дважды."
      ]
    },
    {
      "cell_type": "markdown",
      "metadata": {
        "id": "GsBO4V5YH2lP"
      },
      "source": [
        "Небольшое пояснение:\n",
        "\n",
        "Вы можете увидеть радом со словом что-то подобное(<gensim.models.keyedvectors.Vocab object at 0x00000282FDC67100>). Структура KeyedVectors представляет собой отображение между ключами и векторным представлением слова. Каждый вектор идентифицируется своим ключом поиска, чаще всего коротким строковым токеном. Это выглядит как {str => 1D numpy array}."
      ]
    },
    {
      "cell_type": "code",
      "metadata": {
        "scrolled": true,
        "id": "aN6yfSLvH2lP",
        "colab": {
          "base_uri": "https://localhost:8080/"
        },
        "outputId": "45e51991-8f18-493f-9a27-51aac176574b"
      },
      "source": [
        "# model.wv - свойство модели, в котором хранятся отдельные ключевые векторы\n",
        "vocab = word2vec.wv.vocab\n",
        "print(vocab)\n",
        "print(len(vocab))"
      ],
      "execution_count": null,
      "outputs": [
        {
          "output_type": "stream",
          "name": "stdout",
          "text": [
            "{'artificial': <gensim.models.keyedvectors.Vocab object at 0x7f7a67a7cb80>, 'intelligence': <gensim.models.keyedvectors.Vocab object at 0x7f7a67a7c880>, 'ai': <gensim.models.keyedvectors.Vocab object at 0x7f7a67a7c520>, 'inferring': <gensim.models.keyedvectors.Vocab object at 0x7f7a67b459d0>, 'information': <gensim.models.keyedvectors.Vocab object at 0x7f7a72731280>, 'demonstrated': <gensim.models.keyedvectors.Vocab object at 0x7f7a727312e0>, 'machines': <gensim.models.keyedvectors.Vocab object at 0x7f7a72731340>, 'displayed': <gensim.models.keyedvectors.Vocab object at 0x7f7a727313a0>, 'non': <gensim.models.keyedvectors.Vocab object at 0x7f7a72731400>, 'human': <gensim.models.keyedvectors.Vocab object at 0x7f7a72731460>, 'humans': <gensim.models.keyedvectors.Vocab object at 0x7f7a727314c0>, 'example': <gensim.models.keyedvectors.Vocab object at 0x7f7a72731520>, 'tasks': <gensim.models.keyedvectors.Vocab object at 0x7f7a72731580>, 'done': <gensim.models.keyedvectors.Vocab object at 0x7f7a727315e0>, 'include': <gensim.models.keyedvectors.Vocab object at 0x7f7a72731640>, 'speech': <gensim.models.keyedvectors.Vocab object at 0x7f7a727316a0>, 'recognition': <gensim.models.keyedvectors.Vocab object at 0x7f7a72731700>, 'computer': <gensim.models.keyedvectors.Vocab object at 0x7f7a72731760>, 'vision': <gensim.models.keyedvectors.Vocab object at 0x7f7a727317c0>, 'translation': <gensim.models.keyedvectors.Vocab object at 0x7f7a72731820>, 'natural': <gensim.models.keyedvectors.Vocab object at 0x7f7a72731880>, 'languages': <gensim.models.keyedvectors.Vocab object at 0x7f7a727318e0>, 'well': <gensim.models.keyedvectors.Vocab object at 0x7f7a72731940>, 'inputs': <gensim.models.keyedvectors.Vocab object at 0x7f7a727319a0>, 'applications': <gensim.models.keyedvectors.Vocab object at 0x7f7a72731a00>, 'advanced': <gensim.models.keyedvectors.Vocab object at 0x7f7a72731a60>, 'web': <gensim.models.keyedvectors.Vocab object at 0x7f7a72731ac0>, 'search': <gensim.models.keyedvectors.Vocab object at 0x7f7a72731b20>, 'engines': <gensim.models.keyedvectors.Vocab object at 0x7f7a72731b80>, 'e': <gensim.models.keyedvectors.Vocab object at 0x7f7a72731be0>, 'g': <gensim.models.keyedvectors.Vocab object at 0x7f7a72731c40>, 'google': <gensim.models.keyedvectors.Vocab object at 0x7f7a72731ca0>, 'recommendation': <gensim.models.keyedvectors.Vocab object at 0x7f7a72731d00>, 'systems': <gensim.models.keyedvectors.Vocab object at 0x7f7a72731d60>, 'used': <gensim.models.keyedvectors.Vocab object at 0x7f7a72731dc0>, 'youtube': <gensim.models.keyedvectors.Vocab object at 0x7f7a72731e20>, 'amazon': <gensim.models.keyedvectors.Vocab object at 0x7f7a72731e80>, 'netflix': <gensim.models.keyedvectors.Vocab object at 0x7f7a72731ee0>, 'understanding': <gensim.models.keyedvectors.Vocab object at 0x7f7a72731f40>, 'siri': <gensim.models.keyedvectors.Vocab object at 0x7f7a72731fa0>, 'alexa': <gensim.models.keyedvectors.Vocab object at 0x7f7a72735040>, 'self': <gensim.models.keyedvectors.Vocab object at 0x7f7a727350a0>, 'driving': <gensim.models.keyedvectors.Vocab object at 0x7f7a72735100>, 'cars': <gensim.models.keyedvectors.Vocab object at 0x7f7a72735160>, 'tools': <gensim.models.keyedvectors.Vocab object at 0x7f7a727351c0>, 'art': <gensim.models.keyedvectors.Vocab object at 0x7f7a72735220>, 'decision': <gensim.models.keyedvectors.Vocab object at 0x7f7a72735280>, 'making': <gensim.models.keyedvectors.Vocab object at 0x7f7a727352e0>, 'competing': <gensim.models.keyedvectors.Vocab object at 0x7f7a72735340>, 'level': <gensim.models.keyedvectors.Vocab object at 0x7f7a727353a0>, 'game': <gensim.models.keyedvectors.Vocab object at 0x7f7a72735400>, 'chess': <gensim.models.keyedvectors.Vocab object at 0x7f7a72735460>, 'go': <gensim.models.keyedvectors.Vocab object at 0x7f7a727354c0>, 'become': <gensim.models.keyedvectors.Vocab object at 0x7f7a72735520>, 'capable': <gensim.models.keyedvectors.Vocab object at 0x7f7a72735580>, 'considered': <gensim.models.keyedvectors.Vocab object at 0x7f7a727355e0>, 'require': <gensim.models.keyedvectors.Vocab object at 0x7f7a72735640>, 'often': <gensim.models.keyedvectors.Vocab object at 0x7f7a727356a0>, 'definition': <gensim.models.keyedvectors.Vocab object at 0x7f7a72735700>, 'phenomenon': <gensim.models.keyedvectors.Vocab object at 0x7f7a72735760>, 'known': <gensim.models.keyedvectors.Vocab object at 0x7f7a727357c0>, 'effect': <gensim.models.keyedvectors.Vocab object at 0x7f7a72735820>, 'frequently': <gensim.models.keyedvectors.Vocab object at 0x7f7a72735880>, 'things': <gensim.models.keyedvectors.Vocab object at 0x7f7a727358e0>, 'technology': <gensim.models.keyedvectors.Vocab object at 0x7f7a72735940>, 'founded': <gensim.models.keyedvectors.Vocab object at 0x7f7a727359a0>, 'academic': <gensim.models.keyedvectors.Vocab object at 0x7f7a72735a00>, 'years': <gensim.models.keyedvectors.Vocab object at 0x7f7a72735a60>, 'since': <gensim.models.keyedvectors.Vocab object at 0x7f7a72735ac0>, 'experienced': <gensim.models.keyedvectors.Vocab object at 0x7f7a72735b20>, 'several': <gensim.models.keyedvectors.Vocab object at 0x7f7a72735b80>, 'waves': <gensim.models.keyedvectors.Vocab object at 0x7f7a72735be0>, 'followed': <gensim.models.keyedvectors.Vocab object at 0x7f7a72735c40>, 'funding': <gensim.models.keyedvectors.Vocab object at 0x7f7a72735ca0>, 'winter': <gensim.models.keyedvectors.Vocab object at 0x7f7a72735d00>, 'new': <gensim.models.keyedvectors.Vocab object at 0x7f7a72735d60>, 'approaches': <gensim.models.keyedvectors.Vocab object at 0x7f7a72735dc0>, 'success': <gensim.models.keyedvectors.Vocab object at 0x7f7a72735e20>, 'research': <gensim.models.keyedvectors.Vocab object at 0x7f7a72735e80>, 'many': <gensim.models.keyedvectors.Vocab object at 0x7f7a72735ee0>, 'different': <gensim.models.keyedvectors.Vocab object at 0x7f7a72735f40>, 'including': <gensim.models.keyedvectors.Vocab object at 0x7f7a72735fa0>, 'simulating': <gensim.models.keyedvectors.Vocab object at 0x7f7a72737040>, 'brain': <gensim.models.keyedvectors.Vocab object at 0x7f7a727370a0>, 'problem': <gensim.models.keyedvectors.Vocab object at 0x7f7a72737100>, 'solving': <gensim.models.keyedvectors.Vocab object at 0x7f7a72737160>, 'formal': <gensim.models.keyedvectors.Vocab object at 0x7f7a727371c0>, 'logic': <gensim.models.keyedvectors.Vocab object at 0x7f7a72737220>, 'large': <gensim.models.keyedvectors.Vocab object at 0x7f7a72737280>, 'databases': <gensim.models.keyedvectors.Vocab object at 0x7f7a727372e0>, 'knowledge': <gensim.models.keyedvectors.Vocab object at 0x7f7a72737340>, 'animal': <gensim.models.keyedvectors.Vocab object at 0x7f7a727373a0>, 'behavior': <gensim.models.keyedvectors.Vocab object at 0x7f7a72737400>, 'first': <gensim.models.keyedvectors.Vocab object at 0x7f7a72737460>, 'decades': <gensim.models.keyedvectors.Vocab object at 0x7f7a727374c0>, 'st': <gensim.models.keyedvectors.Vocab object at 0x7f7a72737520>, 'century': <gensim.models.keyedvectors.Vocab object at 0x7f7a72737580>, 'highly': <gensim.models.keyedvectors.Vocab object at 0x7f7a727375e0>, 'mathematical': <gensim.models.keyedvectors.Vocab object at 0x7f7a72737640>, 'statistical': <gensim.models.keyedvectors.Vocab object at 0x7f7a727376a0>, 'machine': <gensim.models.keyedvectors.Vocab object at 0x7f7a72737700>, 'learning': <gensim.models.keyedvectors.Vocab object at 0x7f7a72737760>, 'dominated': <gensim.models.keyedvectors.Vocab object at 0x7f7a727377c0>, 'field': <gensim.models.keyedvectors.Vocab object at 0x7f7a72737820>, 'technique': <gensim.models.keyedvectors.Vocab object at 0x7f7a72737880>, 'proved': <gensim.models.keyedvectors.Vocab object at 0x7f7a727378e0>, 'successful': <gensim.models.keyedvectors.Vocab object at 0x7f7a72737940>, 'helping': <gensim.models.keyedvectors.Vocab object at 0x7f7a727379a0>, 'solve': <gensim.models.keyedvectors.Vocab object at 0x7f7a72737a00>, 'problems': <gensim.models.keyedvectors.Vocab object at 0x7f7a72737a60>, 'industry': <gensim.models.keyedvectors.Vocab object at 0x7f7a72737ac0>, 'various': <gensim.models.keyedvectors.Vocab object at 0x7f7a72737b20>, 'sub': <gensim.models.keyedvectors.Vocab object at 0x7f7a72737b80>, 'fields': <gensim.models.keyedvectors.Vocab object at 0x7f7a72737be0>, 'around': <gensim.models.keyedvectors.Vocab object at 0x7f7a72737c40>, 'particular': <gensim.models.keyedvectors.Vocab object at 0x7f7a72737ca0>, 'goals': <gensim.models.keyedvectors.Vocab object at 0x7f7a72737d00>, 'use': <gensim.models.keyedvectors.Vocab object at 0x7f7a72737d60>, 'reasoning': <gensim.models.keyedvectors.Vocab object at 0x7f7a72737dc0>, 'representation': <gensim.models.keyedvectors.Vocab object at 0x7f7a72737e20>, 'planning': <gensim.models.keyedvectors.Vocab object at 0x7f7a72737e80>, 'language': <gensim.models.keyedvectors.Vocab object at 0x7f7a72737ee0>, 'processing': <gensim.models.keyedvectors.Vocab object at 0x7f7a72737f40>, 'perception': <gensim.models.keyedvectors.Vocab object at 0x7f7a72737fa0>, 'ability': <gensim.models.keyedvectors.Vocab object at 0x7f7a72739040>, 'move': <gensim.models.keyedvectors.Vocab object at 0x7f7a727390a0>, 'objects': <gensim.models.keyedvectors.Vocab object at 0x7f7a72739100>, 'general': <gensim.models.keyedvectors.Vocab object at 0x7f7a72739160>, 'among': <gensim.models.keyedvectors.Vocab object at 0x7f7a727391c0>, 'long': <gensim.models.keyedvectors.Vocab object at 0x7f7a72739220>, 'term': <gensim.models.keyedvectors.Vocab object at 0x7f7a72739280>, 'researchers': <gensim.models.keyedvectors.Vocab object at 0x7f7a727392e0>, 'wide': <gensim.models.keyedvectors.Vocab object at 0x7f7a72739340>, 'range': <gensim.models.keyedvectors.Vocab object at 0x7f7a727393a0>, 'techniques': <gensim.models.keyedvectors.Vocab object at 0x7f7a72739400>, 'optimization': <gensim.models.keyedvectors.Vocab object at 0x7f7a72739460>, 'neural': <gensim.models.keyedvectors.Vocab object at 0x7f7a727394c0>, 'networks': <gensim.models.keyedvectors.Vocab object at 0x7f7a72739520>, 'methods': <gensim.models.keyedvectors.Vocab object at 0x7f7a72739580>, 'based': <gensim.models.keyedvectors.Vocab object at 0x7f7a727395e0>, 'statistics': <gensim.models.keyedvectors.Vocab object at 0x7f7a72739640>, 'probability': <gensim.models.keyedvectors.Vocab object at 0x7f7a727396a0>, 'economics': <gensim.models.keyedvectors.Vocab object at 0x7f7a72739700>, 'also': <gensim.models.keyedvectors.Vocab object at 0x7f7a72739760>, 'upon': <gensim.models.keyedvectors.Vocab object at 0x7f7a727397c0>, 'science': <gensim.models.keyedvectors.Vocab object at 0x7f7a72739820>, 'philosophy': <gensim.models.keyedvectors.Vocab object at 0x7f7a72739880>, 'assumption': <gensim.models.keyedvectors.Vocab object at 0x7f7a727398e0>, 'precisely': <gensim.models.keyedvectors.Vocab object at 0x7f7a72739940>, 'described': <gensim.models.keyedvectors.Vocab object at 0x7f7a727399a0>, 'made': <gensim.models.keyedvectors.Vocab object at 0x7f7a72739a00>, 'simulate': <gensim.models.keyedvectors.Vocab object at 0x7f7a72739a60>, 'raised': <gensim.models.keyedvectors.Vocab object at 0x7f7a72739ac0>, 'philosophical': <gensim.models.keyedvectors.Vocab object at 0x7f7a72739b20>, 'arguments': <gensim.models.keyedvectors.Vocab object at 0x7f7a72739b80>, 'mind': <gensim.models.keyedvectors.Vocab object at 0x7f7a72739be0>, 'ethical': <gensim.models.keyedvectors.Vocab object at 0x7f7a72739c40>, 'creating': <gensim.models.keyedvectors.Vocab object at 0x7f7a72739ca0>, 'beings': <gensim.models.keyedvectors.Vocab object at 0x7f7a72739d00>, 'like': <gensim.models.keyedvectors.Vocab object at 0x7f7a72739d60>, 'issues': <gensim.models.keyedvectors.Vocab object at 0x7f7a72739dc0>, 'explored': <gensim.models.keyedvectors.Vocab object at 0x7f7a72739e20>, 'fiction': <gensim.models.keyedvectors.Vocab object at 0x7f7a72739e80>, 'antiquity': <gensim.models.keyedvectors.Vocab object at 0x7f7a72739ee0>, 'scientists': <gensim.models.keyedvectors.Vocab object at 0x7f7a72739f40>, 'philosophers': <gensim.models.keyedvectors.Vocab object at 0x7f7a72739fa0>, 'suggested': <gensim.models.keyedvectors.Vocab object at 0x7f7a7273a040>, 'may': <gensim.models.keyedvectors.Vocab object at 0x7f7a7273a0a0>, 'existential': <gensim.models.keyedvectors.Vocab object at 0x7f7a7273a100>, 'risk': <gensim.models.keyedvectors.Vocab object at 0x7f7a7273a160>, 'humanity': <gensim.models.keyedvectors.Vocab object at 0x7f7a7273a1c0>, 'beneficial': <gensim.models.keyedvectors.Vocab object at 0x7f7a7273a220>, 'c': <gensim.models.keyedvectors.Vocab object at 0x7f7a7273a280>, 'true': <gensim.models.keyedvectors.Vocab object at 0x7f7a7273a2e0>, 'technological': <gensim.models.keyedvectors.Vocab object at 0x7f7a7273a340>, 'capabilities': <gensim.models.keyedvectors.Vocab object at 0x7f7a7273a3a0>, 'appeared': <gensim.models.keyedvectors.Vocab object at 0x7f7a7273a400>, 'storytelling': <gensim.models.keyedvectors.Vocab object at 0x7f7a7273a460>, 'devices': <gensim.models.keyedvectors.Vocab object at 0x7f7a7273a4c0>, 'common': <gensim.models.keyedvectors.Vocab object at 0x7f7a7273a520>, 'mary': <gensim.models.keyedvectors.Vocab object at 0x7f7a7273a580>, 'shelley': <gensim.models.keyedvectors.Vocab object at 0x7f7a7273a5e0>, 'frankenstein': <gensim.models.keyedvectors.Vocab object at 0x7f7a7273a640>, 'karel': <gensim.models.keyedvectors.Vocab object at 0x7f7a7273a6a0>, 'apek': <gensim.models.keyedvectors.Vocab object at 0x7f7a7273a700>, 'r': <gensim.models.keyedvectors.Vocab object at 0x7f7a7273a760>, 'u': <gensim.models.keyedvectors.Vocab object at 0x7f7a7273a7c0>, 'discussed': <gensim.models.keyedvectors.Vocab object at 0x7f7a7273a820>, 'ethics': <gensim.models.keyedvectors.Vocab object at 0x7f7a7273a880>, 'study': <gensim.models.keyedvectors.Vocab object at 0x7f7a7273a8e0>, 'began': <gensim.models.keyedvectors.Vocab object at 0x7f7a7273a940>, 'led': <gensim.models.keyedvectors.Vocab object at 0x7f7a7273a9a0>, 'directly': <gensim.models.keyedvectors.Vocab object at 0x7f7a7273aa00>, 'alan': <gensim.models.keyedvectors.Vocab object at 0x7f7a7273aa60>, 'turing': <gensim.models.keyedvectors.Vocab object at 0x7f7a7273aac0>, 'theory': <gensim.models.keyedvectors.Vocab object at 0x7f7a7273ab20>, 'computation': <gensim.models.keyedvectors.Vocab object at 0x7f7a7273ab80>, 'simple': <gensim.models.keyedvectors.Vocab object at 0x7f7a7273abe0>, 'could': <gensim.models.keyedvectors.Vocab object at 0x7f7a7273ac40>, 'act': <gensim.models.keyedvectors.Vocab object at 0x7f7a7273aca0>, 'deduction': <gensim.models.keyedvectors.Vocab object at 0x7f7a7273ad00>, 'digital': <gensim.models.keyedvectors.Vocab object at 0x7f7a7273ad60>, 'computers': <gensim.models.keyedvectors.Vocab object at 0x7f7a7273adc0>, 'process': <gensim.models.keyedvectors.Vocab object at 0x7f7a7273ae20>, 'cybernetics': <gensim.models.keyedvectors.Vocab object at 0x7f7a7273ae80>, 'consider': <gensim.models.keyedvectors.Vocab object at 0x7f7a7273aee0>, 'work': <gensim.models.keyedvectors.Vocab object at 0x7f7a7273af40>, 'generally': <gensim.models.keyedvectors.Vocab object at 0x7f7a7273afa0>, 'design': <gensim.models.keyedvectors.Vocab object at 0x7f7a7273c040>, 'neurons': <gensim.models.keyedvectors.Vocab object at 0x7f7a7273c0a0>, 'two': <gensim.models.keyedvectors.Vocab object at 0x7f7a7273c100>, 'achieve': <gensim.models.keyedvectors.Vocab object at 0x7f7a7273c160>, 'emerged': <gensim.models.keyedvectors.Vocab object at 0x7f7a7273c1c0>, 'one': <gensim.models.keyedvectors.Vocab object at 0x7f7a7273c220>, 'symbolic': <gensim.models.keyedvectors.Vocab object at 0x7f7a7273c280>, 'gofai': <gensim.models.keyedvectors.Vocab object at 0x7f7a7273c2e0>, 'create': <gensim.models.keyedvectors.Vocab object at 0x7f7a7273c340>, 'world': <gensim.models.keyedvectors.Vocab object at 0x7f7a7273c3a0>, 'reason': <gensim.models.keyedvectors.Vocab object at 0x7f7a7273c400>, 'proponents': <gensim.models.keyedvectors.Vocab object at 0x7f7a7273c460>, 'included': <gensim.models.keyedvectors.Vocab object at 0x7f7a7273c4c0>, 'newell': <gensim.models.keyedvectors.Vocab object at 0x7f7a7273c520>, 'herbert': <gensim.models.keyedvectors.Vocab object at 0x7f7a7273c580>, 'simon': <gensim.models.keyedvectors.Vocab object at 0x7f7a7273c5e0>, 'marvin': <gensim.models.keyedvectors.Vocab object at 0x7f7a7273c640>, 'minsky': <gensim.models.keyedvectors.Vocab object at 0x7f7a7273c6a0>, 'approach': <gensim.models.keyedvectors.Vocab object at 0x7f7a7273c700>, 'space': <gensim.models.keyedvectors.Vocab object at 0x7f7a7273c760>, 'second': <gensim.models.keyedvectors.Vocab object at 0x7f7a7273c7c0>, 'connectionist': <gensim.models.keyedvectors.Vocab object at 0x7f7a7273c820>, 'sought': <gensim.models.keyedvectors.Vocab object at 0x7f7a7273c880>, 'ways': <gensim.models.keyedvectors.Vocab object at 0x7f7a7273c8e0>, 'inspired': <gensim.models.keyedvectors.Vocab object at 0x7f7a7273c940>, 'connections': <gensim.models.keyedvectors.Vocab object at 0x7f7a7273c9a0>, 'james': <gensim.models.keyedvectors.Vocab object at 0x7f7a7273ca00>, 'manyika': <gensim.models.keyedvectors.Vocab object at 0x7f7a7273ca60>, 'others': <gensim.models.keyedvectors.Vocab object at 0x7f7a7273cac0>, 'argues': <gensim.models.keyedvectors.Vocab object at 0x7f7a7273cb20>, 'period': <gensim.models.keyedvectors.Vocab object at 0x7f7a7273cb80>, 'due': <gensim.models.keyedvectors.Vocab object at 0x7f7a7273cbe0>, 'part': <gensim.models.keyedvectors.Vocab object at 0x7f7a7273cc40>, 'intellectual': <gensim.models.keyedvectors.Vocab object at 0x7f7a7273cca0>, 'russell': <gensim.models.keyedvectors.Vocab object at 0x7f7a7273cd00>, 'gained': <gensim.models.keyedvectors.Vocab object at 0x7f7a7273cd60>, 'prominence': <gensim.models.keyedvectors.Vocab object at 0x7f7a7273cdc0>, 'became': <gensim.models.keyedvectors.Vocab object at 0x7f7a7273ce20>, 'produced': <gensim.models.keyedvectors.Vocab object at 0x7f7a7273ce80>, 'programs': <gensim.models.keyedvectors.Vocab object at 0x7f7a7273cee0>, 'strategies': <gensim.models.keyedvectors.Vocab object at 0x7f7a7273cf40>, 'word': <gensim.models.keyedvectors.Vocab object at 0x7f7a7273cfa0>, 'algebra': <gensim.models.keyedvectors.Vocab object at 0x7f7a7273e040>, 'logical': <gensim.models.keyedvectors.Vocab object at 0x7f7a7273e0a0>, 'theorems': <gensim.models.keyedvectors.Vocab object at 0x7f7a7273e100>, 'middle': <gensim.models.keyedvectors.Vocab object at 0x7f7a7273e160>, 'funded': <gensim.models.keyedvectors.Vocab object at 0x7f7a7273e1c0>, 'established': <gensim.models.keyedvectors.Vocab object at 0x7f7a7273e220>, 'would': <gensim.models.keyedvectors.Vocab object at 0x7f7a7273e280>, 'eventually': <gensim.models.keyedvectors.Vocab object at 0x7f7a7273e2e0>, 'goal': <gensim.models.keyedvectors.Vocab object at 0x7f7a7273e340>, 'predicted': <gensim.models.keyedvectors.Vocab object at 0x7f7a7273e3a0>, 'within': <gensim.models.keyedvectors.Vocab object at 0x7f7a7273e400>, 'twenty': <gensim.models.keyedvectors.Vocab object at 0x7f7a7273e460>, 'agreed': <gensim.models.keyedvectors.Vocab object at 0x7f7a7273e4c0>, 'writing': <gensim.models.keyedvectors.Vocab object at 0x7f7a7273e520>, 'generation': <gensim.models.keyedvectors.Vocab object at 0x7f7a7273e580>, 'substantially': <gensim.models.keyedvectors.Vocab object at 0x7f7a7273e5e0>, 'failed': <gensim.models.keyedvectors.Vocab object at 0x7f7a7273e640>, 'recognize': <gensim.models.keyedvectors.Vocab object at 0x7f7a7273e6a0>, 'difficulty': <gensim.models.keyedvectors.Vocab object at 0x7f7a7273e700>, 'remaining': <gensim.models.keyedvectors.Vocab object at 0x7f7a7273e760>, 'us': <gensim.models.keyedvectors.Vocab object at 0x7f7a7273e7c0>, 'projects': <gensim.models.keyedvectors.Vocab object at 0x7f7a7273e820>, 'british': <gensim.models.keyedvectors.Vocab object at 0x7f7a7273e880>, 'governments': <gensim.models.keyedvectors.Vocab object at 0x7f7a7273e8e0>, 'next': <gensim.models.keyedvectors.Vocab object at 0x7f7a7273e940>, 'later': <gensim.models.keyedvectors.Vocab object at 0x7f7a7273e9a0>, 'called': <gensim.models.keyedvectors.Vocab object at 0x7f7a7273ea00>, 'difficult': <gensim.models.keyedvectors.Vocab object at 0x7f7a7273ea60>, 'early': <gensim.models.keyedvectors.Vocab object at 0x7f7a7273eac0>, 'revived': <gensim.models.keyedvectors.Vocab object at 0x7f7a7273eb20>, 'commercial': <gensim.models.keyedvectors.Vocab object at 0x7f7a7273eb80>, 'form': <gensim.models.keyedvectors.Vocab object at 0x7f7a7273ebe0>, 'program': <gensim.models.keyedvectors.Vocab object at 0x7f7a7273ec40>, 'simulated': <gensim.models.keyedvectors.Vocab object at 0x7f7a7273eca0>, 'experts': <gensim.models.keyedvectors.Vocab object at 0x7f7a7273ed00>, 'market': <gensim.models.keyedvectors.Vocab object at 0x7f7a7273ed60>, 'billion': <gensim.models.keyedvectors.Vocab object at 0x7f7a7273edc0>, 'time': <gensim.models.keyedvectors.Vocab object at 0x7f7a7273ee20>, 'japan': <gensim.models.keyedvectors.Vocab object at 0x7f7a7273ee80>, 'fifth': <gensim.models.keyedvectors.Vocab object at 0x7f7a7273eee0>, 'however': <gensim.models.keyedvectors.Vocab object at 0x7f7a7273ef40>, 'beginning': <gensim.models.keyedvectors.Vocab object at 0x7f7a7273efa0>, 'lisp': <gensim.models.keyedvectors.Vocab object at 0x7f7a7273f040>, 'longer': <gensim.models.keyedvectors.Vocab object at 0x7f7a7273f0a0>, 'able': <gensim.models.keyedvectors.Vocab object at 0x7f7a7273f100>, 'processes': <gensim.models.keyedvectors.Vocab object at 0x7f7a7273f160>, 'especially': <gensim.models.keyedvectors.Vocab object at 0x7f7a7273f1c0>, 'robotics': <gensim.models.keyedvectors.Vocab object at 0x7f7a7273f220>, 'pattern': <gensim.models.keyedvectors.Vocab object at 0x7f7a7273f280>, 'number': <gensim.models.keyedvectors.Vocab object at 0x7f7a7273f2e0>, 'specific': <gensim.models.keyedvectors.Vocab object at 0x7f7a7273f340>, 'rodney': <gensim.models.keyedvectors.Vocab object at 0x7f7a7273f3a0>, 'brooks': <gensim.models.keyedvectors.Vocab object at 0x7f7a7273f400>, 'focused': <gensim.models.keyedvectors.Vocab object at 0x7f7a7273f460>, 'engineering': <gensim.models.keyedvectors.Vocab object at 0x7f7a7273f4c0>, 'allow': <gensim.models.keyedvectors.Vocab object at 0x7f7a7273f520>, 'robots': <gensim.models.keyedvectors.Vocab object at 0x7f7a7273f580>, 'survive': <gensim.models.keyedvectors.Vocab object at 0x7f7a7273f5e0>, 'learn': <gensim.models.keyedvectors.Vocab object at 0x7f7a7273f640>, 'interest': <gensim.models.keyedvectors.Vocab object at 0x7f7a7273f6a0>, 'david': <gensim.models.keyedvectors.Vocab object at 0x7f7a7273f700>, 'soft': <gensim.models.keyedvectors.Vocab object at 0x7f7a7273f760>, 'computing': <gensim.models.keyedvectors.Vocab object at 0x7f7a7273f7c0>, 'developed': <gensim.models.keyedvectors.Vocab object at 0x7f7a7273f820>, 'fuzzy': <gensim.models.keyedvectors.Vocab object at 0x7f7a7273f880>, 'system': <gensim.models.keyedvectors.Vocab object at 0x7f7a7273f8e0>, 'evolutionary': <gensim.models.keyedvectors.Vocab object at 0x7f7a7273f940>, 'late': <gensim.models.keyedvectors.Vocab object at 0x7f7a7273f9a0>, 'finding': <gensim.models.keyedvectors.Vocab object at 0x7f7a7273fa00>, 'solutions': <gensim.models.keyedvectors.Vocab object at 0x7f7a7273fa60>, 'narrow': <gensim.models.keyedvectors.Vocab object at 0x7f7a7273fac0>, 'produce': <gensim.models.keyedvectors.Vocab object at 0x7f7a7273fb20>, 'verifiable': <gensim.models.keyedvectors.Vocab object at 0x7f7a7273fb80>, 'mathematics': <gensim.models.keyedvectors.Vocab object at 0x7f7a7273fbe0>, 'widely': <gensim.models.keyedvectors.Vocab object at 0x7f7a7273fc40>, 'although': <gensim.models.keyedvectors.Vocab object at 0x7f7a7273fca0>, 'rarely': <gensim.models.keyedvectors.Vocab object at 0x7f7a7273fd00>, 'algorithmic': <gensim.models.keyedvectors.Vocab object at 0x7f7a7273fd60>, 'access': <gensim.models.keyedvectors.Vocab object at 0x7f7a7273fdc0>, 'data': <gensim.models.keyedvectors.Vocab object at 0x7f7a7273fe20>, 'hungry': <gensim.models.keyedvectors.Vocab object at 0x7f7a7273fe80>, 'deep': <gensim.models.keyedvectors.Vocab object at 0x7f7a7273fee0>, 'started': <gensim.models.keyedvectors.Vocab object at 0x7f7a7273ff40>, 'accuracy': <gensim.models.keyedvectors.Vocab object at 0x7f7a7273ffa0>, 'benchmarks': <gensim.models.keyedvectors.Vocab object at 0x7f7a72742040>, 'according': <gensim.models.keyedvectors.Vocab object at 0x7f7a727420a0>, 'software': <gensim.models.keyedvectors.Vocab object at 0x7f7a72742100>, 'increased': <gensim.models.keyedvectors.Vocab object at 0x7f7a72742160>, 'usage': <gensim.models.keyedvectors.Vocab object at 0x7f7a727421c0>, 'attributed': <gensim.models.keyedvectors.Vocab object at 0x7f7a72742220>, 'increase': <gensim.models.keyedvectors.Vocab object at 0x7f7a72742280>, 'survey': <gensim.models.keyedvectors.Vocab object at 0x7f7a727422e0>, 'companies': <gensim.models.keyedvectors.Vocab object at 0x7f7a72742340>, 'reported': <gensim.models.keyedvectors.Vocab object at 0x7f7a727423a0>, 'incorporated': <gensim.models.keyedvectors.Vocab object at 0x7f7a72742400>, 'total': <gensim.models.keyedvectors.Vocab object at 0x7f7a72742460>, 'numerous': <gensim.models.keyedvectors.Vocab object at 0x7f7a727424c0>, 'concerned': <gensim.models.keyedvectors.Vocab object at 0x7f7a72742520>, 'fully': <gensim.models.keyedvectors.Vocab object at 0x7f7a72742580>, 'intelligent': <gensim.models.keyedvectors.Vocab object at 0x7f7a727425e0>, 'much': <gensim.models.keyedvectors.Vocab object at 0x7f7a72742640>, 'current': <gensim.models.keyedvectors.Vocab object at 0x7f7a727426a0>, 'involves': <gensim.models.keyedvectors.Vocab object at 0x7f7a72742700>, 'even': <gensim.models.keyedvectors.Vocab object at 0x7f7a72742760>, 'concern': <gensim.models.keyedvectors.Vocab object at 0x7f7a727427c0>, 'agi': <gensim.models.keyedvectors.Vocab object at 0x7f7a72742820>, 'institutions': <gensim.models.keyedvectors.Vocab object at 0x7f7a72742880>, 'traits': <gensim.models.keyedvectors.Vocab object at 0x7f7a727428e0>, 'expect': <gensim.models.keyedvectors.Vocab object at 0x7f7a72742940>, 'received': <gensim.models.keyedvectors.Vocab object at 0x7f7a727429a0>, 'algorithms': <gensim.models.keyedvectors.Vocab object at 0x7f7a72742a00>, 'step': <gensim.models.keyedvectors.Vocab object at 0x7f7a72742a60>, 'puzzles': <gensim.models.keyedvectors.Vocab object at 0x7f7a72742ac0>, 'make': <gensim.models.keyedvectors.Vocab object at 0x7f7a72742b20>, 'deductions': <gensim.models.keyedvectors.Vocab object at 0x7f7a72742b80>, 'uncertain': <gensim.models.keyedvectors.Vocab object at 0x7f7a72742be0>, 'incomplete': <gensim.models.keyedvectors.Vocab object at 0x7f7a72742c40>, 'concepts': <gensim.models.keyedvectors.Vocab object at 0x7f7a72742ca0>, 'explosion': <gensim.models.keyedvectors.Vocab object at 0x7f7a72742d00>, 'exponentially': <gensim.models.keyedvectors.Vocab object at 0x7f7a72742d60>, 'model': <gensim.models.keyedvectors.Vocab object at 0x7f7a72742dc0>, 'using': <gensim.models.keyedvectors.Vocab object at 0x7f7a72742e20>, 'fast': <gensim.models.keyedvectors.Vocab object at 0x7f7a72742e80>, 'questions': <gensim.models.keyedvectors.Vocab object at 0x7f7a72742ee0>, 'intelligently': <gensim.models.keyedvectors.Vocab object at 0x7f7a72742f40>, 'real': <gensim.models.keyedvectors.Vocab object at 0x7f7a72742fa0>, 'facts': <gensim.models.keyedvectors.Vocab object at 0x7f7a72744040>, 'exists': <gensim.models.keyedvectors.Vocab object at 0x7f7a727440a0>, 'ontology': <gensim.models.keyedvectors.Vocab object at 0x7f7a72744100>, 'set': <gensim.models.keyedvectors.Vocab object at 0x7f7a72744160>, 'relations': <gensim.models.keyedvectors.Vocab object at 0x7f7a727441c0>, 'properties': <gensim.models.keyedvectors.Vocab object at 0x7f7a72744220>, 'agents': <gensim.models.keyedvectors.Vocab object at 0x7f7a72744280>, 'interpret': <gensim.models.keyedvectors.Vocab object at 0x7f7a727442e0>, 'ontologies': <gensim.models.keyedvectors.Vocab object at 0x7f7a72744340>, 'attempt': <gensim.models.keyedvectors.Vocab object at 0x7f7a727443a0>, 'domain': <gensim.models.keyedvectors.Vocab object at 0x7f7a72744400>, 'area': <gensim.models.keyedvectors.Vocab object at 0x7f7a72744460>, 'need': <gensim.models.keyedvectors.Vocab object at 0x7f7a727444c0>, 'commonsense': <gensim.models.keyedvectors.Vocab object at 0x7f7a72744520>, 'average': <gensim.models.keyedvectors.Vocab object at 0x7f7a72744580>, 'person': <gensim.models.keyedvectors.Vocab object at 0x7f7a727445e0>, 'knows': <gensim.models.keyedvectors.Vocab object at 0x7f7a72744640>, 'typically': <gensim.models.keyedvectors.Vocab object at 0x7f7a727446a0>, 'represented': <gensim.models.keyedvectors.Vocab object at 0x7f7a72744700>, 'description': <gensim.models.keyedvectors.Vocab object at 0x7f7a72744760>, 'represent': <gensim.models.keyedvectors.Vocab object at 0x7f7a727447c0>, 'domains': <gensim.models.keyedvectors.Vocab object at 0x7f7a72744820>, 'categories': <gensim.models.keyedvectors.Vocab object at 0x7f7a72744880>, 'events': <gensim.models.keyedvectors.Vocab object at 0x7f7a727448e0>, 'states': <gensim.models.keyedvectors.Vocab object at 0x7f7a72744940>, 'know': <gensim.models.keyedvectors.Vocab object at 0x7f7a727449a0>, 'people': <gensim.models.keyedvectors.Vocab object at 0x7f7a72744a00>, 'default': <gensim.models.keyedvectors.Vocab object at 0x7f7a72744a60>, 'assume': <gensim.models.keyedvectors.Vocab object at 0x7f7a72744ac0>, 'told': <gensim.models.keyedvectors.Vocab object at 0x7f7a72744b20>, 'changing': <gensim.models.keyedvectors.Vocab object at 0x7f7a72744b80>, 'breadth': <gensim.models.keyedvectors.Vocab object at 0x7f7a72744be0>, 'enormous': <gensim.models.keyedvectors.Vocab object at 0x7f7a72744c40>, 'statements': <gensim.models.keyedvectors.Vocab object at 0x7f7a72744ca0>, 'express': <gensim.models.keyedvectors.Vocab object at 0x7f7a72744d00>, 'content': <gensim.models.keyedvectors.Vocab object at 0x7f7a72744d60>, 'retrieval': <gensim.models.keyedvectors.Vocab object at 0x7f7a72744dc0>, 'support': <gensim.models.keyedvectors.Vocab object at 0x7f7a72744e20>, 'discovery': <gensim.models.keyedvectors.Vocab object at 0x7f7a72744e80>, 'areas': <gensim.models.keyedvectors.Vocab object at 0x7f7a72744ee0>, 'fundamental': <gensim.models.keyedvectors.Vocab object at 0x7f7a72744f40>, 'concept': <gensim.models.keyedvectors.Vocab object at 0x7f7a72744fa0>, 'j': <gensim.models.keyedvectors.Vocab object at 0x7f7a72745040>, 'improve': <gensim.models.keyedvectors.Vocab object at 0x7f7a727450a0>, 'experience': <gensim.models.keyedvectors.Vocab object at 0x7f7a72745100>, 'k': <gensim.models.keyedvectors.Vocab object at 0x7f7a72745160>, 'finds': <gensim.models.keyedvectors.Vocab object at 0x7f7a727451c0>, 'patterns': <gensim.models.keyedvectors.Vocab object at 0x7f7a72745220>, 'input': <gensim.models.keyedvectors.Vocab object at 0x7f7a72745280>, 'supervised': <gensim.models.keyedvectors.Vocab object at 0x7f7a727452e0>, 'requires': <gensim.models.keyedvectors.Vocab object at 0x7f7a72745340>, 'main': <gensim.models.keyedvectors.Vocab object at 0x7f7a727453a0>, 'classification': <gensim.models.keyedvectors.Vocab object at 0x7f7a72745400>, 'regression': <gensim.models.keyedvectors.Vocab object at 0x7f7a72745460>, 'determine': <gensim.models.keyedvectors.Vocab object at 0x7f7a727454c0>, 'something': <gensim.models.keyedvectors.Vocab object at 0x7f7a72745520>, 'belongs': <gensim.models.keyedvectors.Vocab object at 0x7f7a72745580>, 'examples': <gensim.models.keyedvectors.Vocab object at 0x7f7a727455e0>, 'classify': <gensim.models.keyedvectors.Vocab object at 0x7f7a72745640>, 'function': <gensim.models.keyedvectors.Vocab object at 0x7f7a727456a0>, 'relationship': <gensim.models.keyedvectors.Vocab object at 0x7f7a72745700>, 'outputs': <gensim.models.keyedvectors.Vocab object at 0x7f7a72745760>, 'change': <gensim.models.keyedvectors.Vocab object at 0x7f7a727457c0>, 'classifiers': <gensim.models.keyedvectors.Vocab object at 0x7f7a72745820>, 'learners': <gensim.models.keyedvectors.Vocab object at 0x7f7a72745880>, 'viewed': <gensim.models.keyedvectors.Vocab object at 0x7f7a727458e0>, 'spam': <gensim.models.keyedvectors.Vocab object at 0x7f7a72745940>, 'classifier': <gensim.models.keyedvectors.Vocab object at 0x7f7a727459a0>, 'text': <gensim.models.keyedvectors.Vocab object at 0x7f7a72745a00>, 'agent': <gensim.models.keyedvectors.Vocab object at 0x7f7a72745a60>, 'good': <gensim.models.keyedvectors.Vocab object at 0x7f7a72745ac0>, 'responses': <gensim.models.keyedvectors.Vocab object at 0x7f7a72745b20>, 'ones': <gensim.models.keyedvectors.Vocab object at 0x7f7a72745b80>, 'classifies': <gensim.models.keyedvectors.Vocab object at 0x7f7a72745be0>, 'strategy': <gensim.models.keyedvectors.Vocab object at 0x7f7a72745c40>, 'applied': <gensim.models.keyedvectors.Vocab object at 0x7f7a72745ca0>, 'computational': <gensim.models.keyedvectors.Vocab object at 0x7f7a72745d00>, 'assess': <gensim.models.keyedvectors.Vocab object at 0x7f7a72745d60>, 'complexity': <gensim.models.keyedvectors.Vocab object at 0x7f7a72745dc0>, 'sample': <gensim.models.keyedvectors.Vocab object at 0x7f7a72745e20>, 'required': <gensim.models.keyedvectors.Vocab object at 0x7f7a72745e80>, 'nlp': <gensim.models.keyedvectors.Vocab object at 0x7f7a72745ee0>, 'allows': <gensim.models.keyedvectors.Vocab object at 0x7f7a72745f40>, 'understand': <gensim.models.keyedvectors.Vocab object at 0x7f7a72745fa0>, 'sufficiently': <gensim.models.keyedvectors.Vocab object at 0x7f7a726c8040>, 'powerful': <gensim.models.keyedvectors.Vocab object at 0x7f7a726c80a0>, 'sources': <gensim.models.keyedvectors.Vocab object at 0x7f7a726c8100>, 'texts': <gensim.models.keyedvectors.Vocab object at 0x7f7a726c8160>, 'straightforward': <gensim.models.keyedvectors.Vocab object at 0x7f7a726c81c0>, 'question': <gensim.models.keyedvectors.Vocab object at 0x7f7a726c8220>, 'answering': <gensim.models.keyedvectors.Vocab object at 0x7f7a726c8280>, 'translate': <gensim.models.keyedvectors.Vocab object at 0x7f7a726c82e0>, 'structure': <gensim.models.keyedvectors.Vocab object at 0x7f7a726c8340>, 'useful': <gensim.models.keyedvectors.Vocab object at 0x7f7a726c83a0>, 'modern': <gensim.models.keyedvectors.Vocab object at 0x7f7a726c8400>, 'occurrence': <gensim.models.keyedvectors.Vocab object at 0x7f7a726c8460>, 'appears': <gensim.models.keyedvectors.Vocab object at 0x7f7a726c84c0>, 'another': <gensim.models.keyedvectors.Vocab object at 0x7f7a726c8520>, 'searching': <gensim.models.keyedvectors.Vocab object at 0x7f7a726c8580>, 'sensors': <gensim.models.keyedvectors.Vocab object at 0x7f7a726c85e0>, 'signals': <gensim.models.keyedvectors.Vocab object at 0x7f7a726c8640>, 'facial': <gensim.models.keyedvectors.Vocab object at 0x7f7a726c86a0>, 'object': <gensim.models.keyedvectors.Vocab object at 0x7f7a726c8700>, 'analyze': <gensim.models.keyedvectors.Vocab object at 0x7f7a726c8760>, 'visual': <gensim.models.keyedvectors.Vocab object at 0x7f7a726c87c0>, 'affective': <gensim.models.keyedvectors.Vocab object at 0x7f7a726c8820>, 'virtual': <gensim.models.keyedvectors.Vocab object at 0x7f7a726c8880>, 'assistants': <gensim.models.keyedvectors.Vocab object at 0x7f7a726c88e0>, 'programmed': <gensim.models.keyedvectors.Vocab object at 0x7f7a726c8940>, 'makes': <gensim.models.keyedvectors.Vocab object at 0x7f7a726c89a0>, 'interaction': <gensim.models.keyedvectors.Vocab object at 0x7f7a726c8a00>, 'otherwise': <gensim.models.keyedvectors.Vocab object at 0x7f7a726c8a60>, 'users': <gensim.models.keyedvectors.Vocab object at 0x7f7a726c8ac0>, 'existing': <gensim.models.keyedvectors.Vocab object at 0x7f7a726c8b20>, 'actually': <gensim.models.keyedvectors.Vocab object at 0x7f7a726c8b80>, 'successes': <gensim.models.keyedvectors.Vocab object at 0x7f7a726c8be0>, 'related': <gensim.models.keyedvectors.Vocab object at 0x7f7a726c8c40>, 'sentiment': <gensim.models.keyedvectors.Vocab object at 0x7f7a726c8ca0>, 'analysis': <gensim.models.keyedvectors.Vocab object at 0x7f7a726c8d00>, 'similar': <gensim.models.keyedvectors.Vocab object at 0x7f7a726c8d60>, 'hans': <gensim.models.keyedvectors.Vocab object at 0x7f7a726c8dc0>, 'moravec': <gensim.models.keyedvectors.Vocab object at 0x7f7a726c8e20>, 'argue': <gensim.models.keyedvectors.Vocab object at 0x7f7a726c8e80>, 'individual': <gensim.models.keyedvectors.Vocab object at 0x7f7a726c8ee0>, 'multi': <gensim.models.keyedvectors.Vocab object at 0x7f7a726c8f40>, 'cognitive': <gensim.models.keyedvectors.Vocab object at 0x7f7a726c8fa0>, 'architecture': <gensim.models.keyedvectors.Vocab object at 0x7f7a726ca040>, 'hopes': <gensim.models.keyedvectors.Vocab object at 0x7f7a726ca0a0>, 'algorithm': <gensim.models.keyedvectors.Vocab object at 0x7f7a726ca100>, 'lead': <gensim.models.keyedvectors.Vocab object at 0x7f7a726ca160>, 'believe': <gensim.models.keyedvectors.Vocab object at 0x7f7a726ca1c0>, 'features': <gensim.models.keyedvectors.Vocab object at 0x7f7a726ca220>, 'development': <gensim.models.keyedvectors.Vocab object at 0x7f7a726ca280>, 'reach': <gensim.models.keyedvectors.Vocab object at 0x7f7a726ca2e0>, 'critical': <gensim.models.keyedvectors.Vocab object at 0x7f7a726ca340>, 'point': <gensim.models.keyedvectors.Vocab object at 0x7f7a726ca3a0>, 'possible': <gensim.models.keyedvectors.Vocab object at 0x7f7a726ca400>, 'reduced': <gensim.models.keyedvectors.Vocab object at 0x7f7a726ca460>, 'path': <gensim.models.keyedvectors.Vocab object at 0x7f7a726ca4c0>, 'application': <gensim.models.keyedvectors.Vocab object at 0x7f7a726ca520>, 'inference': <gensim.models.keyedvectors.Vocab object at 0x7f7a726ca580>, 'find': <gensim.models.keyedvectors.Vocab object at 0x7f7a726ca5e0>, 'target': <gensim.models.keyedvectors.Vocab object at 0x7f7a726ca640>, 'means': <gensim.models.keyedvectors.Vocab object at 0x7f7a726ca6a0>, 'moving': <gensim.models.keyedvectors.Vocab object at 0x7f7a726ca700>, 'searches': <gensim.models.keyedvectors.Vocab object at 0x7f7a726ca760>, 'sufficient': <gensim.models.keyedvectors.Vocab object at 0x7f7a726ca7c0>, 'result': <gensim.models.keyedvectors.Vocab object at 0x7f7a726ca820>, 'solution': <gensim.models.keyedvectors.Vocab object at 0x7f7a726ca880>, 'heuristics': <gensim.models.keyedvectors.Vocab object at 0x7f7a726ca8e0>, 'choices': <gensim.models.keyedvectors.Vocab object at 0x7f7a726ca940>, 'likely': <gensim.models.keyedvectors.Vocab object at 0x7f7a726ca9a0>, 'steps': <gensim.models.keyedvectors.Vocab object at 0x7f7a726caa00>, 'tree': <gensim.models.keyedvectors.Vocab object at 0x7f7a726caa60>, 'supply': <gensim.models.keyedvectors.Vocab object at 0x7f7a726caac0>, 'guess': <gensim.models.keyedvectors.Vocab object at 0x7f7a726cab20>, 'size': <gensim.models.keyedvectors.Vocab object at 0x7f7a726cab80>, 'came': <gensim.models.keyedvectors.Vocab object at 0x7f7a726cabe0>, 'begin': <gensim.models.keyedvectors.Vocab object at 0x7f7a726cac40>, 'blind': <gensim.models.keyedvectors.Vocab object at 0x7f7a726caca0>, 'random': <gensim.models.keyedvectors.Vocab object at 0x7f7a726cad00>, 'landscape': <gensim.models.keyedvectors.Vocab object at 0x7f7a726cad60>, 'top': <gensim.models.keyedvectors.Vocab object at 0x7f7a726cadc0>, 'uses': <gensim.models.keyedvectors.Vocab object at 0x7f7a726cae20>, 'guesses': <gensim.models.keyedvectors.Vocab object at 0x7f7a726cae80>, 'genetic': <gensim.models.keyedvectors.Vocab object at 0x7f7a726caee0>, 'programming': <gensim.models.keyedvectors.Vocab object at 0x7f7a726caf40>, 'swarm': <gensim.models.keyedvectors.Vocab object at 0x7f7a726cafa0>, 'popular': <gensim.models.keyedvectors.Vocab object at 0x7f7a726cb040>, 'ant': <gensim.models.keyedvectors.Vocab object at 0x7f7a726cb0a0>, 'forms': <gensim.models.keyedvectors.Vocab object at 0x7f7a726cb100>, 'truth': <gensim.models.keyedvectors.Vocab object at 0x7f7a726cb160>, 'functions': <gensim.models.keyedvectors.Vocab object at 0x7f7a726cb1c0>, 'order': <gensim.models.keyedvectors.Vocab object at 0x7f7a726cb220>, 'degree': <gensim.models.keyedvectors.Vocab object at 0x7f7a726cb280>, 'logics': <gensim.models.keyedvectors.Vocab object at 0x7f7a726cb2e0>, 'designed': <gensim.models.keyedvectors.Vocab object at 0x7f7a726cb340>, 'handle': <gensim.models.keyedvectors.Vocab object at 0x7f7a726cb3a0>, 'situation': <gensim.models.keyedvectors.Vocab object at 0x7f7a726cb400>, 'calculus': <gensim.models.keyedvectors.Vocab object at 0x7f7a726cb460>, 'belief': <gensim.models.keyedvectors.Vocab object at 0x7f7a726cb4c0>, 'devised': <gensim.models.keyedvectors.Vocab object at 0x7f7a726cb520>, 'bayesian': <gensim.models.keyedvectors.Vocab object at 0x7f7a726cb580>, 'n': <gensim.models.keyedvectors.Vocab object at 0x7f7a726cb5e0>, 'dynamic': <gensim.models.keyedvectors.Vocab object at 0x7f7a726cb640>, 'filtering': <gensim.models.keyedvectors.Vocab object at 0x7f7a726cb6a0>, 'markov': <gensim.models.keyedvectors.Vocab object at 0x7f7a726cb700>, 'models': <gensim.models.keyedvectors.Vocab object at 0x7f7a726cb760>, 'measure': <gensim.models.keyedvectors.Vocab object at 0x7f7a726cb7c0>, 'valuable': <gensim.models.keyedvectors.Vocab object at 0x7f7a726cb820>, 'simplest': <gensim.models.keyedvectors.Vocab object at 0x7f7a726cb880>, 'divided': <gensim.models.keyedvectors.Vocab object at 0x7f7a726cb8e0>, 'types': <gensim.models.keyedvectors.Vocab object at 0x7f7a726cb940>, 'diamond': <gensim.models.keyedvectors.Vocab object at 0x7f7a726cb9a0>, 'controllers': <gensim.models.keyedvectors.Vocab object at 0x7f7a726cba00>, 'actions': <gensim.models.keyedvectors.Vocab object at 0x7f7a726cba60>, 'therefore': <gensim.models.keyedvectors.Vocab object at 0x7f7a726cbac0>, 'central': <gensim.models.keyedvectors.Vocab object at 0x7f7a726cbb20>, 'matching': <gensim.models.keyedvectors.Vocab object at 0x7f7a726cbb80>, 'match': <gensim.models.keyedvectors.Vocab object at 0x7f7a726cbbe0>, 'observations': <gensim.models.keyedvectors.Vocab object at 0x7f7a726cbc40>, 'certain': <gensim.models.keyedvectors.Vocab object at 0x7f7a726cbca0>, 'class': <gensim.models.keyedvectors.Vocab object at 0x7f7a726cbd00>, 'observation': <gensim.models.keyedvectors.Vocab object at 0x7f7a726cbd60>, 'classified': <gensim.models.keyedvectors.Vocab object at 0x7f7a726cbdc0>, 'previous': <gensim.models.keyedvectors.Vocab object at 0x7f7a726cbe20>, 'trained': <gensim.models.keyedvectors.Vocab object at 0x7f7a726cbe80>, 'nearest': <gensim.models.keyedvectors.Vocab object at 0x7f7a726cbee0>, 'neighbor': <gensim.models.keyedvectors.Vocab object at 0x7f7a726cbf40>, 'svm': <gensim.models.keyedvectors.Vocab object at 0x7f7a726cbfa0>, 'naive': <gensim.models.keyedvectors.Vocab object at 0x7f7a726ce040>, 'bayes': <gensim.models.keyedvectors.Vocab object at 0x7f7a726ce0a0>, 'scalability': <gensim.models.keyedvectors.Vocab object at 0x7f7a726ce100>, 'performance': <gensim.models.keyedvectors.Vocab object at 0x7f7a726ce160>, 'depends': <gensim.models.keyedvectors.Vocab object at 0x7f7a726ce1c0>, 'perform': <gensim.models.keyedvectors.Vocab object at 0x7f7a726ce220>, 'extremely': <gensim.models.keyedvectors.Vocab object at 0x7f7a726ce280>, 'rather': <gensim.models.keyedvectors.Vocab object at 0x7f7a726ce2e0>, 'tend': <gensim.models.keyedvectors.Vocab object at 0x7f7a726ce340>, 'neuron': <gensim.models.keyedvectors.Vocab object at 0x7f7a726ce3a0>, 'weighted': <gensim.models.keyedvectors.Vocab object at 0x7f7a726ce400>, 'whether': <gensim.models.keyedvectors.Vocab object at 0x7f7a726ce460>, 'training': <gensim.models.keyedvectors.Vocab object at 0x7f7a726ce4c0>, 'fire': <gensim.models.keyedvectors.Vocab object at 0x7f7a726ce520>, 'together': <gensim.models.keyedvectors.Vocab object at 0x7f7a726ce580>, 'wire': <gensim.models.keyedvectors.Vocab object at 0x7f7a726ce5e0>, 'activation': <gensim.models.keyedvectors.Vocab object at 0x7f7a726ce640>, 'continuous': <gensim.models.keyedvectors.Vocab object at 0x7f7a726ce6a0>, 'spectrum': <gensim.models.keyedvectors.Vocab object at 0x7f7a726ce700>, 'way': <gensim.models.keyedvectors.Vocab object at 0x7f7a726ce760>, 'gradient': <gensim.models.keyedvectors.Vocab object at 0x7f7a726ce7c0>, 'descent': <gensim.models.keyedvectors.Vocab object at 0x7f7a726ce820>, 'created': <gensim.models.keyedvectors.Vocab object at 0x7f7a726ce880>, 'network': <gensim.models.keyedvectors.Vocab object at 0x7f7a726ce8e0>, 'competitive': <gensim.models.keyedvectors.Vocab object at 0x7f7a726ce940>, 'feedforward': <gensim.models.keyedvectors.Vocab object at 0x7f7a726ce9a0>, 'signal': <gensim.models.keyedvectors.Vocab object at 0x7f7a726cea00>, 'recurrent': <gensim.models.keyedvectors.Vocab object at 0x7f7a726cea60>, 'short': <gensim.models.keyedvectors.Vocab object at 0x7f7a726ceac0>, 'perceptrons': <gensim.models.keyedvectors.Vocab object at 0x7f7a726ceb20>, 'layer': <gensim.models.keyedvectors.Vocab object at 0x7f7a726ceb80>, 'layers': <gensim.models.keyedvectors.Vocab object at 0x7f7a726cebe0>, 'higher': <gensim.models.keyedvectors.Vocab object at 0x7f7a726cec40>, 'image': <gensim.models.keyedvectors.Vocab object at 0x7f7a726ceca0>, 'identify': <gensim.models.keyedvectors.Vocab object at 0x7f7a726ced00>, 'relevant': <gensim.models.keyedvectors.Vocab object at 0x7f7a726ced60>, 'improved': <gensim.models.keyedvectors.Vocab object at 0x7f7a726cedc0>, 'important': <gensim.models.keyedvectors.Vocab object at 0x7f7a726cee20>, 'convolutional': <gensim.models.keyedvectors.Vocab object at 0x7f7a726cee80>, 'reduce': <gensim.models.keyedvectors.Vocab object at 0x7f7a726ceee0>, 'rnn': <gensim.models.keyedvectors.Vocab object at 0x7f7a726cef40>, 'thus': <gensim.models.keyedvectors.Vocab object at 0x7f7a726cefa0>, 'back': <gensim.models.keyedvectors.Vocab object at 0x7f7a726d0040>, 'prevent': <gensim.models.keyedvectors.Vocab object at 0x7f7a726d00a0>, 'cases': <gensim.models.keyedvectors.Vocab object at 0x7f7a726d0100>, 'hardware': <gensim.models.keyedvectors.Vocab object at 0x7f7a726d0160>, 'includes': <gensim.models.keyedvectors.Vocab object at 0x7f7a726d01c0>, 'mainstream': <gensim.models.keyedvectors.Vocab object at 0x7f7a726d0220>, 'life': <gensim.models.keyedvectors.Vocab object at 0x7f7a726d0280>, 'internet': <gensim.models.keyedvectors.Vocab object at 0x7f7a726d02e0>, 'traffic': <gensim.models.keyedvectors.Vocab object at 0x7f7a726d0340>, 'facebook': <gensim.models.keyedvectors.Vocab object at 0x7f7a726d03a0>, 'autonomous': <gensim.models.keyedvectors.Vocab object at 0x7f7a726d0400>, 'microsoft': <gensim.models.keyedvectors.Vocab object at 0x7f7a726d0460>, 'apple': <gensim.models.keyedvectors.Vocab object at 0x7f7a726d04c0>, 'face': <gensim.models.keyedvectors.Vocab object at 0x7f7a726d0520>, 'gpt': <gensim.models.keyedvectors.Vocab object at 0x7f7a726d0580>, 'thousands': <gensim.models.keyedvectors.Vocab object at 0x7f7a726d05e0>, 'deepfakes': <gensim.models.keyedvectors.Vocab object at 0x7f7a726d0640>, 'medical': <gensim.models.keyedvectors.Vocab object at 0x7f7a726d06a0>, 'playing': <gensim.models.keyedvectors.Vocab object at 0x7f7a726d0700>, 'test': <gensim.models.keyedvectors.Vocab object at 0x7f7a726d0760>, 'blue': <gensim.models.keyedvectors.Vocab object at 0x7f7a726d07c0>, 'beat': <gensim.models.keyedvectors.Vocab object at 0x7f7a726d0820>, 'champion': <gensim.models.keyedvectors.Vocab object at 0x7f7a726d0880>, 'jeopardy': <gensim.models.keyedvectors.Vocab object at 0x7f7a726d08e0>, 'show': <gensim.models.keyedvectors.Vocab object at 0x7f7a726d0940>, 'ibm': <gensim.models.keyedvectors.Vocab object at 0x7f7a726d09a0>, 'games': <gensim.models.keyedvectors.Vocab object at 0x7f7a726d0a00>, 'becoming': <gensim.models.keyedvectors.Vocab object at 0x7f7a726d0a60>, 'without': <gensim.models.keyedvectors.Vocab object at 0x7f7a726d0ac0>, 'superhuman': <gensim.models.keyedvectors.Vocab object at 0x7f7a726d0b20>, 'deepmind': <gensim.models.keyedvectors.Vocab object at 0x7f7a726d0b80>, 'far': <gensim.models.keyedvectors.Vocab object at 0x7f7a726d0be0>, 'largest': <gensim.models.keyedvectors.Vocab object at 0x7f7a726d0c40>, 'hours': <gensim.models.keyedvectors.Vocab object at 0x7f7a726d0ca0>, 'decisions': <gensim.models.keyedvectors.Vocab object at 0x7f7a726d0d00>, 'detector': <gensim.models.keyedvectors.Vocab object at 0x7f7a726d0d60>, 'images': <gensim.models.keyedvectors.Vocab object at 0x7f7a726d0dc0>, 'inappropriate': <gensim.models.keyedvectors.Vocab object at 0x7f7a726d0e20>, 'security': <gensim.models.keyedvectors.Vocab object at 0x7f7a726d0e80>, 'legal': <gensim.models.keyedvectors.Vocab object at 0x7f7a726d0ee0>, 'risks': <gensim.models.keyedvectors.Vocab object at 0x7f7a726d0f40>, 'smart': <gensim.models.keyedvectors.Vocab object at 0x7f7a726d0fa0>, 'professor': <gensim.models.keyedvectors.Vocab object at 0x7f7a726d1040>, 'stephen': <gensim.models.keyedvectors.Vocab object at 0x7f7a726d10a0>, 'installed': <gensim.models.keyedvectors.Vocab object at 0x7f7a726d1100>, 'control': <gensim.models.keyedvectors.Vocab object at 0x7f7a726d1160>, 'cities': <gensim.models.keyedvectors.Vocab object at 0x7f7a726d11c0>, 'emerging': <gensim.models.keyedvectors.Vocab object at 0x7f7a726d1220>, 'terms': <gensim.models.keyedvectors.Vocab object at 0x7f7a726d1280>, 'patent': <gensim.models.keyedvectors.Vocab object at 0x7f7a726d12e0>, 'patents': <gensim.models.keyedvectors.Vocab object at 0x7f7a726d1340>, 'technologies': <gensim.models.keyedvectors.Vocab object at 0x7f7a726d13a0>, 'services': <gensim.models.keyedvectors.Vocab object at 0x7f7a726d1400>, 'filed': <gensim.models.keyedvectors.Vocab object at 0x7f7a726d1460>, 'scientific': <gensim.models.keyedvectors.Vocab object at 0x7f7a726d14c0>, 'papers': <gensim.models.keyedvectors.Vocab object at 0x7f7a726d1520>, 'published': <gensim.models.keyedvectors.Vocab object at 0x7f7a726d1580>, 'public': <gensim.models.keyedvectors.Vocab object at 0x7f7a726d15e0>, 'four': <gensim.models.keyedvectors.Vocab object at 0x7f7a726d1640>, 'inventions': <gensim.models.keyedvectors.Vocab object at 0x7f7a726d16a0>, 'identified': <gensim.models.keyedvectors.Vocab object at 0x7f7a726d1700>, 'refer': <gensim.models.keyedvectors.Vocab object at 0x7f7a726d1760>, 'percent': <gensim.models.keyedvectors.Vocab object at 0x7f7a726d17c0>, 'personal': <gensim.models.keyedvectors.Vocab object at 0x7f7a726d1820>, 'wrote': <gensim.models.keyedvectors.Vocab object at 0x7f7a726d1880>, 'thinks': <gensim.models.keyedvectors.Vocab object at 0x7f7a726d18e0>, 'machinery': <gensim.models.keyedvectors.Vocab object at 0x7f7a726d1940>, 'measures': <gensim.models.keyedvectors.Vocab object at 0x7f7a726d19a0>, 'observe': <gensim.models.keyedvectors.Vocab object at 0x7f7a726d1a00>, 'matter': <gensim.models.keyedvectors.Vocab object at 0x7f7a726d1a60>, 'thinking': <gensim.models.keyedvectors.Vocab object at 0x7f7a726d1ac0>, 'norvig': <gensim.models.keyedvectors.Vocab object at 0x7f7a726d1b20>, 'agree': <gensim.models.keyedvectors.Vocab object at 0x7f7a726d1b80>, 'must': <gensim.models.keyedvectors.Vocab object at 0x7f7a726d1be0>, 'defined': <gensim.models.keyedvectors.Vocab object at 0x7f7a726d1c40>, 'define': <gensim.models.keyedvectors.Vocab object at 0x7f7a726d1ca0>, 'exactly': <gensim.models.keyedvectors.Vocab object at 0x7f7a726d1d00>, 'pigeons': <gensim.models.keyedvectors.Vocab object at 0x7f7a726d1d60>, 'founder': <gensim.models.keyedvectors.Vocab object at 0x7f7a726d1dc0>, 'john': <gensim.models.keyedvectors.Vocab object at 0x7f7a726d1e20>, 'mccarthy': <gensim.models.keyedvectors.Vocab object at 0x7f7a726d1e80>, 'simulation': <gensim.models.keyedvectors.Vocab object at 0x7f7a726d1ee0>, 'defines': <gensim.models.keyedvectors.Vocab object at 0x7f7a726d1f40>, 'hard': <gensim.models.keyedvectors.Vocab object at 0x7f7a726d1fa0>, 'view': <gensim.models.keyedvectors.Vocab object at 0x7f7a726d4040>, 'discussion': <gensim.models.keyedvectors.Vocab object at 0x7f7a726d40a0>, 'adopted': <gensim.models.keyedvectors.Vocab object at 0x7f7a726d4100>, 'better': <gensim.models.keyedvectors.Vocab object at 0x7f7a726d4160>, 'history': <gensim.models.keyedvectors.Vocab object at 0x7f7a726d41c0>, 'critics': <gensim.models.keyedvectors.Vocab object at 0x7f7a726d4220>, 'future': <gensim.models.keyedvectors.Vocab object at 0x7f7a726d4280>, 'high': <gensim.models.keyedvectors.Vocab object at 0x7f7a726d42e0>, 'conscious': <gensim.models.keyedvectors.Vocab object at 0x7f7a726d4340>, 'proposed': <gensim.models.keyedvectors.Vocab object at 0x7f7a726d43a0>, 'physical': <gensim.models.keyedvectors.Vocab object at 0x7f7a726d4400>, 'symbol': <gensim.models.keyedvectors.Vocab object at 0x7f7a726d4460>, 'necessary': <gensim.models.keyedvectors.Vocab object at 0x7f7a726d44c0>, 'easy': <gensim.models.keyedvectors.Vocab object at 0x7f7a726d4520>, 'philosopher': <gensim.models.keyedvectors.Vocab object at 0x7f7a726d4580>, 'feel': <gensim.models.keyedvectors.Vocab object at 0x7f7a726d45e0>, 'presented': <gensim.models.keyedvectors.Vocab object at 0x7f7a726d4640>, 'issue': <gensim.models.keyedvectors.Vocab object at 0x7f7a726d46a0>, 'mistakes': <gensim.models.keyedvectors.Vocab object at 0x7f7a726d4700>, 'bias': <gensim.models.keyedvectors.Vocab object at 0x7f7a726d4760>, 'still': <gensim.models.keyedvectors.Vocab object at 0x7f7a726d47c0>, 'away': <gensim.models.keyedvectors.Vocab object at 0x7f7a726d4820>, 'impossible': <gensim.models.keyedvectors.Vocab object at 0x7f7a726d4880>, 'attempts': <gensim.models.keyedvectors.Vocab object at 0x7f7a726d48e0>, 'neats': <gensim.models.keyedvectors.Vocab object at 0x7f7a726d4940>, 'principles': <gensim.models.keyedvectors.Vocab object at 0x7f7a726d49a0>, 'sense': <gensim.models.keyedvectors.Vocab object at 0x7f7a726d4a00>, 'provably': <gensim.models.keyedvectors.Vocab object at 0x7f7a726d4a60>, 'introduced': <gensim.models.keyedvectors.Vocab object at 0x7f7a726d4ac0>, 'superintelligence': <gensim.models.keyedvectors.Vocab object at 0x7f7a726d4b20>, 'consciousness': <gensim.models.keyedvectors.Vocab object at 0x7f7a726d4b80>, 'considers': <gensim.models.keyedvectors.Vocab object at 0x7f7a726d4be0>, 'stuart': <gensim.models.keyedvectors.Vocab object at 0x7f7a726d4c40>, 'peter': <gensim.models.keyedvectors.Vocab object at 0x7f7a726d4ca0>, 'care': <gensim.models.keyedvectors.Vocab object at 0x7f7a726d4d00>, 'works': <gensim.models.keyedvectors.Vocab object at 0x7f7a726d4d60>, 'named': <gensim.models.keyedvectors.Vocab object at 0x7f7a726d4dc0>, 'explain': <gensim.models.keyedvectors.Vocab object at 0x7f7a726d4e20>, 'subjective': <gensim.models.keyedvectors.Vocab object at 0x7f7a726d4e80>, 'learned': <gensim.models.keyedvectors.Vocab object at 0x7f7a726d4ee0>, 'red': <gensim.models.keyedvectors.Vocab object at 0x7f7a726d4f40>, 'computationalism': <gensim.models.keyedvectors.Vocab object at 0x7f7a726d4fa0>, 'position': <gensim.models.keyedvectors.Vocab object at 0x7f7a726d6040>, 'body': <gensim.models.keyedvectors.Vocab object at 0x7f7a726d60a0>, 'searle': <gensim.models.keyedvectors.Vocab object at 0x7f7a726d6100>, 'suffer': <gensim.models.keyedvectors.Vocab object at 0x7f7a726d6160>, 'rights': <gensim.models.keyedvectors.Vocab object at 0x7f7a726d61c0>, 'hypothetical': <gensim.models.keyedvectors.Vocab object at 0x7f7a726d6220>, 'robot': <gensim.models.keyedvectors.Vocab object at 0x7f7a726d6280>, 'centuries': <gensim.models.keyedvectors.Vocab object at 0x7f7a726d62e0>, 'institute': <gensim.models.keyedvectors.Vocab object at 0x7f7a726d6340>, 'might': <gensim.models.keyedvectors.Vocab object at 0x7f7a726d63a0>, 'singularity': <gensim.models.keyedvectors.Vocab object at 0x7f7a726d6400>, 'superintelligent': <gensim.models.keyedvectors.Vocab object at 0x7f7a726d6460>, 'idea': <gensim.models.keyedvectors.Vocab object at 0x7f7a726d64c0>, 'transhumanism': <gensim.models.keyedvectors.Vocab object at 0x7f7a726d6520>, 'name': <gensim.models.keyedvectors.Vocab object at 0x7f7a726d6580>, 'economists': <gensim.models.keyedvectors.Vocab object at 0x7f7a726d65e0>, 'benefit': <gensim.models.keyedvectors.Vocab object at 0x7f7a726d6640>, 'jobs': <gensim.models.keyedvectors.Vocab object at 0x7f7a726d66a0>, 'potential': <gensim.models.keyedvectors.Vocab object at 0x7f7a726d6700>, 'automation': <gensim.models.keyedvectors.Vocab object at 0x7f7a726d6760>, 'white': <gensim.models.keyedvectors.Vocab object at 0x7f7a726d67c0>, 'collar': <gensim.models.keyedvectors.Vocab object at 0x7f7a726d6820>, 'worth': <gensim.models.keyedvectors.Vocab object at 0x7f7a726d6880>, 'taking': <gensim.models.keyedvectors.Vocab object at 0x7f7a726d68e0>, 'provides': <gensim.models.keyedvectors.Vocab object at 0x7f7a726d6940>, 'surveillance': <gensim.models.keyedvectors.Vocab object at 0x7f7a726d69a0>, 'misinformation': <gensim.models.keyedvectors.Vocab object at 0x7f7a726d6a00>, 'countries': <gensim.models.keyedvectors.Vocab object at 0x7f7a726d6a60>, 'researching': <gensim.models.keyedvectors.Vocab object at 0x7f7a726d6ac0>, 'unfair': <gensim.models.keyedvectors.Vocab object at 0x7f7a726d6b20>, 'compas': <gensim.models.keyedvectors.Vocab object at 0x7f7a726d6b80>, 'defendants': <gensim.models.keyedvectors.Vocab object at 0x7f7a726d6be0>, 'equity': <gensim.models.keyedvectors.Vocab object at 0x7f7a726d6c40>, 'ensure': <gensim.models.keyedvectors.Vocab object at 0x7f7a726d6ca0>, 'hawking': <gensim.models.keyedvectors.Vocab object at 0x7f7a726d6d00>, 'resources': <gensim.models.keyedvectors.Vocab object at 0x7f7a726d6d60>, 'shut': <gensim.models.keyedvectors.Vocab object at 0x7f7a726d6dc0>, 'friendly': <gensim.models.keyedvectors.Vocab object at 0x7f7a726d6e20>, 'morality': <gensim.models.keyedvectors.Vocab object at 0x7f7a726d6e80>, 'musk': <gensim.models.keyedvectors.Vocab object at 0x7f7a726d6ee0>, 'prominent': <gensim.models.keyedvectors.Vocab object at 0x7f7a726d6f40>, 'said': <gensim.models.keyedvectors.Vocab object at 0x7f7a726d6fa0>, 'jurisdictions': <gensim.models.keyedvectors.Vocab object at 0x7f7a726d7040>, 'developing': <gensim.models.keyedvectors.Vocab object at 0x7f7a726d70a0>, 'becomes': <gensim.models.keyedvectors.Vocab object at 0x7f7a726d7100>, 'three': <gensim.models.keyedvectors.Vocab object at 0x7f7a726d7160>, 'regulation': <gensim.models.keyedvectors.Vocab object at 0x7f7a726d71c0>, 'laws': <gensim.models.keyedvectors.Vocab object at 0x7f7a726d7220>, 'culture': <gensim.models.keyedvectors.Vocab object at 0x7f7a726d7280>, 'asimov': <gensim.models.keyedvectors.Vocab object at 0x7f7a726d72e0>, 'series': <gensim.models.keyedvectors.Vocab object at 0x7f7a726d7340>, 'dick': <gensim.models.keyedvectors.Vocab object at 0x7f7a726d73a0>, 'textbooks': <gensim.models.keyedvectors.Vocab object at 0x7f7a726d7400>}\n",
            "807\n"
          ]
        }
      ]
    },
    {
      "cell_type": "markdown",
      "metadata": {
        "id": "Lo_g9-9CH2lQ"
      },
      "source": [
        "Посмотрим векторное представление какого-нибудь слова"
      ]
    },
    {
      "cell_type": "code",
      "metadata": {
        "id": "Loc9wqlyH2lQ",
        "colab": {
          "base_uri": "https://localhost:8080/"
        },
        "outputId": "aeb0fbd9-6af4-4ae4-d7ad-b61415bca823"
      },
      "source": [
        "v1 = word2vec.wv['artificial']\n",
        "print(v1)\n",
        "print(len(v1))"
      ],
      "execution_count": null,
      "outputs": [
        {
          "output_type": "stream",
          "name": "stdout",
          "text": [
            "[-0.00127061  0.00391928  0.00260979 -0.00226705 -0.00655883  0.00167293\n",
            " -0.00179178  0.00187041 -0.0018538  -0.00559112 -0.00338695  0.00370871\n",
            " -0.0043751   0.00205897 -0.00078524 -0.00019658  0.00281066 -0.0036659\n",
            "  0.00122854  0.00126454 -0.00274061  0.00282936  0.00451001  0.00231109\n",
            " -0.00143916 -0.00358173 -0.00091683 -0.00313363 -0.00096833  0.00685154\n",
            "  0.00505011  0.0014541  -0.00561344  0.00083294  0.00658775  0.00112949\n",
            " -0.00083542  0.00249885 -0.00298281  0.00097355  0.00465556  0.0042497\n",
            "  0.00600116  0.00088228  0.00396256  0.00406945  0.00504912  0.00500488\n",
            " -0.00259289 -0.00036783  0.00596993  0.00358329 -0.00173795  0.00273071\n",
            " -0.00016877 -0.00380678 -0.00027344  0.00190332  0.00522052 -0.00342142\n",
            " -0.0044152  -0.00064577 -0.00198505 -0.00350446  0.00276139 -0.00430836\n",
            "  0.00034945  0.00493928  0.00134138  0.00241355 -0.00731503 -0.00024653\n",
            "  0.00355664  0.00074065 -0.00098417 -0.00502845  0.00013254  0.00040826\n",
            "  0.00282404  0.00285917 -0.0034858  -0.00032966  0.00081475  0.00410249\n",
            "  0.00391715 -0.00050212 -0.00412592 -0.00233677 -0.00225469  0.00064991\n",
            " -0.00040284 -0.00215307  0.00735471  0.0042042  -0.00365664  0.00363171\n",
            "  0.00336048 -0.00346697  0.00047118  0.00388609]\n",
            "100\n"
          ]
        }
      ]
    },
    {
      "cell_type": "markdown",
      "metadata": {
        "id": "5Ny2VOsoH2lQ"
      },
      "source": [
        "И найдем все похожие слова. Так же увидим их индексы подобия"
      ]
    },
    {
      "cell_type": "code",
      "metadata": {
        "id": "3hKnX-ASH2lQ",
        "colab": {
          "base_uri": "https://localhost:8080/"
        },
        "outputId": "d2d180e1-4626-4f66-ef44-0b2cef1357eb"
      },
      "source": [
        "sim_words = word2vec.wv.most_similar('intelligence')\n",
        "sim_words"
      ],
      "execution_count": null,
      "outputs": [
        {
          "output_type": "execute_result",
          "data": {
            "text/plain": [
              "[('many', 0.4657021164894104),\n",
              " ('artificial', 0.4557076692581177),\n",
              " ('simulated', 0.417771577835083),\n",
              " ('input', 0.3955671191215515),\n",
              " ('defined', 0.3902028203010559),\n",
              " ('human', 0.388611376285553),\n",
              " ('ai', 0.3771279454231262),\n",
              " ('intelligent', 0.363665372133255),\n",
              " ('used', 0.35614627599716187),\n",
              " ('inputs', 0.3519206941127777)]"
            ]
          },
          "metadata": {},
          "execution_count": 167
        }
      ]
    },
    {
      "cell_type": "markdown",
      "source": [
        "# 8 [Word2vec with PyTorch](https://towardsdatascience.com/word2vec-with-pytorch-implementing-original-paper-2cd7040120b0)\n",
        "[paper](https://arxiv.org/abs/1301.3781)"
      ],
      "metadata": {
        "id": "T2slvxCuyZd_"
      }
    },
    {
      "cell_type": "markdown",
      "source": [
        "## prepare model"
      ],
      "metadata": {
        "id": "F7lA0P8lpW8f"
      }
    },
    {
      "cell_type": "code",
      "source": [
        "import torch.nn as nn\n",
        "import torch \n",
        "CBOW_N_WORDS = 4 \n",
        "MAX_SEQUENCE_LENGTH = 256 \n",
        "EMBED_DIMENSION = 300 \n",
        "EMBED_MAX_NORM = 1 "
      ],
      "metadata": {
        "id": "0BdsVnTy0MbH"
      },
      "execution_count": null,
      "outputs": []
    },
    {
      "cell_type": "code",
      "source": [
        "class CBOW_Model(nn.Module):\n",
        "  def __init__(self, vocab_size: int):\n",
        "    super(CBOW_Model, self).__init__()\n",
        "    self.embeddings = nn.Embedding(\n",
        "      num_embeddings=vocab_size,\n",
        "      embedding_dim=EMBED_DIMENSION,\n",
        "      max_norm=EMBED_MAX_NORM)\n",
        "\n",
        "    self.linear = nn.Linear(\n",
        "      in_features=EMBED_DIMENSION,\n",
        "      out_features=vocab_size)\n",
        "    \n",
        "  def forward(self, inputs_):\n",
        "    x = self.embeddings(inputs_)\n",
        "    x = x.mean(axis=1)\n",
        "    x = self.linear(x)\n",
        "    return x\n",
        "CBOW_model = CBOW_Model(len(vocab.get_stoi()))"
      ],
      "metadata": {
        "id": "Lf4v3vgBzGH-"
      },
      "execution_count": null,
      "outputs": []
    },
    {
      "cell_type": "markdown",
      "source": [
        "## prepare corpus"
      ],
      "metadata": {
        "id": "0MEMJvM5paln"
      }
    },
    {
      "cell_type": "code",
      "source": [
        "from torchtext.data.utils import get_tokenizer"
      ],
      "metadata": {
        "id": "k5OlUlij55DQ"
      },
      "execution_count": null,
      "outputs": []
    },
    {
      "cell_type": "code",
      "source": [
        "def get_english_tokenizer():\n",
        "    \"\"\"\n",
        "    Documentation:\n",
        "    https://pytorch.org/text/stable/_modules/torchtext/data/utils.html#get_tokenizer\n",
        "    \"\"\"\n",
        "    tokenizer = get_tokenizer(\"basic_english\", language=\"en\")\n",
        "    return tokenizer"
      ],
      "metadata": {
        "id": "dEC_Us7p52iZ"
      },
      "execution_count": null,
      "outputs": []
    },
    {
      "cell_type": "code",
      "source": [
        "tokenizer = get_english_tokenizer()"
      ],
      "metadata": {
        "id": "bJR-DUZGhkdN"
      },
      "execution_count": null,
      "outputs": []
    },
    {
      "cell_type": "code",
      "source": [
        "!pip install torchdata"
      ],
      "metadata": {
        "id": "5iQvmSvBrpBZ"
      },
      "execution_count": null,
      "outputs": []
    },
    {
      "cell_type": "code",
      "source": [
        "from torchtext.datasets import WikiText2\n",
        "import torchdata"
      ],
      "metadata": {
        "id": "yt52tKSQ8TR7"
      },
      "execution_count": null,
      "outputs": []
    },
    {
      "cell_type": "code",
      "source": [
        "def get_data_iterator(ds_type):\n",
        "    data_iter = WikiText2(root=\"./gdrive/My Drive/Colab Notebooks/Seminar2_07_NLP_intro\", split=(ds_type))\n",
        "    data_iter = to_map_style_dataset(data_iter)\n",
        "    return data_iter"
      ],
      "metadata": {
        "id": "Kln6u-Kv2fCA"
      },
      "execution_count": null,
      "outputs": []
    },
    {
      "cell_type": "code",
      "source": [
        "data_iterator = get_data_iterator('train')"
      ],
      "metadata": {
        "id": "Lw6HdCusrPDR"
      },
      "execution_count": null,
      "outputs": []
    },
    {
      "cell_type": "code",
      "source": [
        "from torchtext.vocab import build_vocab_from_iterator \n",
        "MIN_WORD_FREQUENCY = 50"
      ],
      "metadata": {
        "id": "UT2OLqL70qPg"
      },
      "execution_count": null,
      "outputs": []
    },
    {
      "cell_type": "code",
      "source": [
        "def build_vocab(data_iter, tokenizer):\n",
        "  vocab = build_vocab_from_iterator(\n",
        "    map(tokenizer, data_iter),\n",
        "    specials=[\"<unk>\"],\n",
        "    min_freq=MIN_WORD_FREQUENCY)\n",
        "  vocab.set_default_index(vocab[\"<unk>\"])\n",
        "  return vocab"
      ],
      "metadata": {
        "id": "VfadqcIszsof"
      },
      "execution_count": null,
      "outputs": []
    },
    {
      "cell_type": "code",
      "source": [
        "vocab = build_vocab()"
      ],
      "metadata": {
        "id": "s45eCAJcqYox"
      },
      "execution_count": null,
      "outputs": []
    },
    {
      "cell_type": "code",
      "source": [
        "def collate_cbow(batch, text_pipeline):\n",
        "  batch_input, batch_output = [], []\n",
        "  for text in batch:\n",
        "    text_tokens_ids = text_pipeline(text)\n",
        "    if len(text_tokens_ids) < CBOW_N_WORDS * 2 + 1:\n",
        "      continue\n",
        "    if MAX_SEQUENCE_LENGTH:\n",
        "      text_tokens_ids = text_tokens_ids[:MAX_SEQUENCE_LENGTH]\n",
        "      for idx in range(len(text_tokens_ids) - CBOW_N_WORDS * 2):\n",
        "        token_id_sequence = text_tokens_ids[idx : (idx + CBOW_N_WORDS * 2 + 1)]\n",
        "        output = token_id_sequence.pop(CBOW_N_WORDS)\n",
        "        input_ = token_id_sequence\n",
        "        batch_input.append(input_)\n",
        "        batch_output.append(output)\n",
        "     \n",
        "  batch_input = torch.tensor(batch_input, dtype=torch.long)\n",
        "  batch_output = torch.tensor(batch_output, dtype=torch.long)\n",
        "  return batch_input, batch_output"
      ],
      "metadata": {
        "id": "5C-dUvqUzsre"
      },
      "execution_count": null,
      "outputs": []
    },
    {
      "cell_type": "code",
      "source": [
        "def get_dataloader_and_vocab(\n",
        "    model_name, ds_name, ds_type, data_dir, batch_size, shuffle, vocab=None):\n",
        "\n",
        "    data_iter = get_data_iterator(ds_name, ds_type, data_dir)\n",
        "    tokenizer = get_english_tokenizer()\n",
        "\n",
        "    if not vocab:\n",
        "        vocab = build_vocab(data_iter, tokenizer)\n",
        "        \n",
        "    text_pipeline = lambda x: vocab(tokenizer(x))\n",
        "\n",
        "    if model_name == \"cbow\":\n",
        "        collate_fn = collate_cbow\n",
        "    elif model_name == \"skipgram\":\n",
        "        collate_fn = collate_skipgram\n",
        "    else:\n",
        "        raise ValueError(\"Choose model from: cbow, skipgram\")\n",
        "\n",
        "    dataloader = DataLoader(\n",
        "        data_iter,\n",
        "        batch_size=batch_size,\n",
        "        shuffle=shuffle,\n",
        "        collate_fn=partial(collate_fn, text_pipeline=text_pipeline))\n",
        "    \n",
        "    return dataloader, vocab"
      ],
      "metadata": {
        "id": "BbNGAHwzzsue"
      },
      "execution_count": null,
      "outputs": []
    },
    {
      "cell_type": "markdown",
      "source": [
        "## train model"
      ],
      "metadata": {
        "id": "4d_VIoPrpz1y"
      }
    },
    {
      "cell_type": "code",
      "source": [
        "import os\n",
        "import numpy as np\n",
        "import json\n",
        "import torch\n",
        "\n",
        "\n",
        "class Trainer:\n",
        "    \"\"\"Main class for model training\"\"\"\n",
        "    \n",
        "    def __init__(\n",
        "        self,\n",
        "        model,\n",
        "        epochs,\n",
        "        train_dataloader,\n",
        "        train_steps,\n",
        "        val_dataloader,\n",
        "        val_steps,\n",
        "        checkpoint_frequency,\n",
        "        criterion,\n",
        "        optimizer,\n",
        "        lr_scheduler,\n",
        "        device,\n",
        "        model_dir,\n",
        "        model_name,\n",
        "    ):  \n",
        "        self.model = model\n",
        "        self.epochs = epochs\n",
        "        self.train_dataloader = train_dataloader\n",
        "        self.train_steps = train_steps\n",
        "        self.val_dataloader = val_dataloader\n",
        "        self.val_steps = val_steps\n",
        "        self.criterion = criterion\n",
        "        self.optimizer = optimizer\n",
        "        self.checkpoint_frequency = checkpoint_frequency\n",
        "        self.lr_scheduler = lr_scheduler\n",
        "        self.device = device\n",
        "        self.model_dir = model_dir\n",
        "        self.model_name = model_name\n",
        "\n",
        "        self.loss = {\"train\": [], \"val\": []}\n",
        "        self.model.to(self.device)\n",
        "\n",
        "    def train(self):\n",
        "        for epoch in range(self.epochs):\n",
        "            self._train_epoch()\n",
        "            self._validate_epoch()\n",
        "            print(\n",
        "                \"Epoch: {}/{}, Train Loss={:.5f}, Val Loss={:.5f}\".format(\n",
        "                    epoch + 1,\n",
        "                    self.epochs,\n",
        "                    self.loss[\"train\"][-1],\n",
        "                    self.loss[\"val\"][-1],\n",
        "                )\n",
        "            )\n",
        "\n",
        "            self.lr_scheduler.step()\n",
        "\n",
        "            if self.checkpoint_frequency:\n",
        "                self._save_checkpoint(epoch)\n",
        "\n",
        "    def _train_epoch(self):\n",
        "        self.model.train()\n",
        "        running_loss = []\n",
        "\n",
        "        for i, batch_data in enumerate(self.train_dataloader, 1):\n",
        "            inputs = batch_data[0].to(self.device)\n",
        "            labels = batch_data[1].to(self.device)\n",
        "\n",
        "            self.optimizer.zero_grad()\n",
        "            outputs = self.model(inputs)\n",
        "            loss = self.criterion(outputs, labels)\n",
        "            loss.backward()\n",
        "            self.optimizer.step()\n",
        "\n",
        "            running_loss.append(loss.item())\n",
        "\n",
        "            if i == self.train_steps:\n",
        "                break\n",
        "\n",
        "        epoch_loss = np.mean(running_loss)\n",
        "        self.loss[\"train\"].append(epoch_loss)\n",
        "\n",
        "    def _validate_epoch(self):\n",
        "        self.model.eval()\n",
        "        running_loss = []\n",
        "\n",
        "        with torch.no_grad():\n",
        "            for i, batch_data in enumerate(self.val_dataloader, 1):\n",
        "                inputs = batch_data[0].to(self.device)\n",
        "                labels = batch_data[1].to(self.device)\n",
        "\n",
        "                outputs = self.model(inputs)\n",
        "                loss = self.criterion(outputs, labels)\n",
        "\n",
        "                running_loss.append(loss.item())\n",
        "\n",
        "                if i == self.val_steps:\n",
        "                    break\n",
        "\n",
        "        epoch_loss = np.mean(running_loss)\n",
        "        self.loss[\"val\"].append(epoch_loss)\n",
        "\n",
        "    def _save_checkpoint(self, epoch):\n",
        "        \"\"\"Save model checkpoint to `self.model_dir` directory\"\"\"\n",
        "        epoch_num = epoch + 1\n",
        "        if epoch_num % self.checkpoint_frequency == 0:\n",
        "            model_path = \"checkpoint_{}.pt\".format(str(epoch_num).zfill(3))\n",
        "            model_path = os.path.join(self.model_dir, model_path)\n",
        "            torch.save(self.model, model_path)\n",
        "\n",
        "    def save_model(self):\n",
        "        \"\"\"Save final model to `self.model_dir` directory\"\"\"\n",
        "        model_path = os.path.join(self.model_dir, \"model.pt\")\n",
        "        torch.save(self.model, model_path)\n",
        "\n",
        "    def save_loss(self):\n",
        "        \"\"\"Save train/val loss as json file to `self.model_dir` directory\"\"\"\n",
        "        loss_path = os.path.join(self.model_dir, \"loss.json\")\n",
        "        with open(loss_path, \"w\") as fp:\n",
        "            json.dump(self.loss, fp)"
      ],
      "metadata": {
        "id": "-lMwLKzH1_4g"
      },
      "execution_count": null,
      "outputs": []
    },
    {
      "cell_type": "code",
      "source": [
        "import torch.optim as optim\n",
        "from torch.optim.lr_scheduler import LambdaLR\n",
        "\n",
        "def get_optimizer_class():\n",
        "    return optim.Adam\n",
        "    \n",
        "def get_lr_scheduler(optimizer, total_epochs: int, verbose: bool = True):\n",
        "    \"\"\"\n",
        "    Scheduler to linearly decrease learning rate, \n",
        "    so thatlearning rate after the last epoch is 0.\n",
        "    \"\"\"\n",
        "    lr_lambda = lambda epoch: (total_epochs - epoch) / total_epochs\n",
        "    lr_scheduler = LambdaLR(optimizer, lr_lambda=lr_lambda, verbose=verbose)\n",
        "    return lr_scheduler"
      ],
      "metadata": {
        "id": "29tytMYWiAxd"
      },
      "execution_count": null,
      "outputs": []
    },
    {
      "cell_type": "markdown",
      "source": [
        "## test model"
      ],
      "metadata": {
        "id": "a0GrgZ2xpR-I"
      }
    },
    {
      "cell_type": "code",
      "source": [
        "from google.colab import drive\n",
        "drive.mount('/content/gdrive/')"
      ],
      "metadata": {
        "id": "p478IoEacHRU",
        "colab": {
          "base_uri": "https://localhost:8080/"
        },
        "outputId": "1c9e2130-8d69-45d4-e1dc-d2d95ff0be0b"
      },
      "execution_count": null,
      "outputs": [
        {
          "output_type": "stream",
          "name": "stdout",
          "text": [
            "Drive already mounted at /content/gdrive/; to attempt to forcibly remount, call drive.mount(\"/content/gdrive/\", force_remount=True).\n"
          ]
        }
      ]
    },
    {
      "cell_type": "code",
      "source": [
        "import numpy as np\n",
        "import pandas as pd\n",
        "import torch\n",
        "import sys\n",
        "sys.path.append(\"./gdrive/My Drive/Colab Notebooks/Seminar2_07_NLP_intro\")\n",
        "sys.path.append(\"./gdrive/My Drive/Colab Notebooks/Seminar2_07_NLP_intro/utils\")\n",
        "\n",
        "import utils\n",
        "import constants\n",
        "\n",
        "from sklearn.manifold import TSNE\n",
        "import plotly.graph_objects as go"
      ],
      "metadata": {
        "id": "1UxoKFhYzsxu"
      },
      "execution_count": null,
      "outputs": []
    },
    {
      "cell_type": "code",
      "source": [
        "folder = \"./gdrive/My Drive/Colab Notebooks/Seminar2_07_NLP_intro\"\n",
        "device = torch.device(\"cuda\" if torch.cuda.is_available() else \"cpu\")\n",
        "\n",
        "vocab = torch.load(f\"{folder}/vocab.pt\")\n",
        "model = torch.load(f\"{folder}/model.pt\", map_location=device)"
      ],
      "metadata": {
        "id": "zDOi6Ul_cOky"
      },
      "execution_count": null,
      "outputs": []
    },
    {
      "cell_type": "code",
      "source": [
        "vocab.get_stoi()"
      ],
      "metadata": {
        "id": "xC00fYfGcOoJ"
      },
      "execution_count": null,
      "outputs": []
    },
    {
      "cell_type": "code",
      "source": [
        "# embedding from first model layer\n",
        "embeddings = list(model.parameters())[0]\n",
        "embeddings = embeddings.cpu().detach().numpy()\n",
        "\n",
        "# normalization\n",
        "norms = (embeddings ** 2).sum(axis=1) ** (1 / 2)\n",
        "norms = np.reshape(norms, (len(norms), 1))\n",
        "embeddings_norm = embeddings / norms\n",
        "embeddings_norm.shape"
      ],
      "metadata": {
        "id": "lB09YaFSnTAe",
        "colab": {
          "base_uri": "https://localhost:8080/"
        },
        "outputId": "3ca7651f-ee79-455d-92d2-c56683146ea7"
      },
      "execution_count": null,
      "outputs": [
        {
          "output_type": "execute_result",
          "data": {
            "text/plain": [
              "(4099, 300)"
            ]
          },
          "metadata": {},
          "execution_count": 175
        }
      ]
    },
    {
      "cell_type": "code",
      "source": [
        "embeddings"
      ],
      "metadata": {
        "id": "lf2EwbrLnTDP"
      },
      "execution_count": null,
      "outputs": []
    },
    {
      "cell_type": "code",
      "source": [
        "def get_top_similar(word: str, topN: int = 10):\n",
        "    word_id = vocab[word]\n",
        "    if word_id == 0:\n",
        "        print(\"Out of vocabulary word\")\n",
        "        return\n",
        "\n",
        "    word_vec = embeddings_norm[word_id]\n",
        "    word_vec = np.reshape(word_vec, (len(word_vec), 1))\n",
        "    dists = np.matmul(embeddings_norm, word_vec).flatten()\n",
        "    topN_ids = np.argsort(-dists)[1 : topN + 1]\n",
        "\n",
        "    topN_dict = {}\n",
        "    for sim_word_id in topN_ids:\n",
        "        sim_word = vocab.lookup_token(sim_word_id)\n",
        "        topN_dict[sim_word] = dists[sim_word_id]\n",
        "    return topN_dict"
      ],
      "metadata": {
        "id": "yrg8XB8Bnc32"
      },
      "execution_count": null,
      "outputs": []
    },
    {
      "cell_type": "code",
      "source": [
        "for word, sim in get_top_similar(\"mother\").items():\n",
        "    print(\"{}: {:.3f}\".format(word, sim))"
      ],
      "metadata": {
        "id": "9VsUtueAnc61",
        "colab": {
          "base_uri": "https://localhost:8080/"
        },
        "outputId": "dd2b2b56-9223-4a96-ca9e-2031d021ebe3"
      },
      "execution_count": null,
      "outputs": [
        {
          "output_type": "stream",
          "name": "stdout",
          "text": [
            "father: 0.842\n",
            "husband: 0.802\n",
            "daughter: 0.780\n",
            "wife: 0.771\n",
            "brother: 0.759\n",
            "son: 0.743\n",
            "friend: 0.725\n",
            "parents: 0.703\n",
            "followers: 0.646\n",
            "isabella: 0.633\n"
          ]
        }
      ]
    },
    {
      "cell_type": "markdown",
      "metadata": {
        "id": "zgfZ1yMV-FUX"
      },
      "source": [
        "# Ссылки\n",
        "- [Тэги](https://medium.com/@muddaprince456/categorizing-and-pos-tagging-with-nltk-python-28f2bc9312c3)\n",
        "- [Больше про ленгвистическую предобработку текстов](https://www.mygreatlearning.com/blog/natural-language-processing-tutorial/)\n",
        "- [Статья про TF-IDF](https://m.habr.com/ru/company/Voximplant/blog/446738/)"
      ]
    }
  ]
}